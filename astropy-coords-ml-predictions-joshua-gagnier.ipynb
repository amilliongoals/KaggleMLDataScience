{
 "cells": [
  {
   "cell_type": "markdown",
   "id": "f734d6b8",
   "metadata": {
    "_cell_guid": "b1076dfc-b9ad-4769-8c92-a6c4dae69d19",
    "_uuid": "8f2839f25d086af736a60e9eeb907d3b93b6e0e5",
    "papermill": {
     "duration": 0.010858,
     "end_time": "2023-11-27T03:44:12.129614",
     "exception": false,
     "start_time": "2023-11-27T03:44:12.118756",
     "status": "completed"
    },
    "tags": []
   },
   "source": [
    "# Astropy Coords\n",
    "Astropy Coords:\n",
    "\n",
    "https://docs.astropy.org/en/stable/coordinates/index.html\n",
    "\n",
    "Coords More Info: To use/have the coordinates of the sky in 'code form'\n",
    "\n",
    "https://skyandtelescope.org/astronomy-resources/right-ascension-declination-celestial-coordinates/ \n",
    "\n",
    "Astropy Coords are: Location/where things are in space \n",
    " \n",
    "explanation of what RA is:  Right Ascension - like the equator of space (longitude) As we go around \n",
    "\n",
    "explanation of what DEC is: Declination - like the the latitude of space (pole to pole)  \n",
    "\n",
    "90 Dec is = the north pole of space, which sits at 90 degree or top of the celecestial sphere \n",
    "\n",
    "0 Dec is:  The celestial equator is 0° DEC,  \n",
    "\n",
    "Ra = is a mess "
   ]
  },
  {
   "cell_type": "code",
   "execution_count": 1,
   "id": "30785471",
   "metadata": {
    "execution": {
     "iopub.execute_input": "2023-11-27T03:44:12.154073Z",
     "iopub.status.busy": "2023-11-27T03:44:12.153454Z",
     "iopub.status.idle": "2023-11-27T03:44:29.926143Z",
     "shell.execute_reply": "2023-11-27T03:44:29.924135Z"
    },
    "papermill": {
     "duration": 17.788396,
     "end_time": "2023-11-27T03:44:29.929181",
     "exception": false,
     "start_time": "2023-11-27T03:44:12.140785",
     "status": "completed"
    },
    "tags": []
   },
   "outputs": [
    {
     "name": "stdout",
     "output_type": "stream",
     "text": [
      "Collecting regions\r\n",
      "  Downloading regions-0.8-cp310-cp310-manylinux_2_5_x86_64.manylinux1_x86_64.manylinux_2_17_x86_64.manylinux2014_x86_64.whl (933 kB)\r\n",
      "\u001b[2K     \u001b[90m━━━━━━━━━━━━━━━━━━━━━━━━━━━━━━━━━━━━━━\u001b[0m \u001b[32m933.2/933.2 kB\u001b[0m \u001b[31m16.0 MB/s\u001b[0m eta \u001b[36m0:00:00\u001b[0m\r\n",
      "\u001b[?25hRequirement already satisfied: numpy>=1.22 in /opt/conda/lib/python3.10/site-packages (from regions) (1.23.5)\r\n",
      "Requirement already satisfied: astropy>=5.0 in /opt/conda/lib/python3.10/site-packages (from regions) (5.3.2)\r\n",
      "Requirement already satisfied: pyerfa>=2.0 in /opt/conda/lib/python3.10/site-packages (from astropy>=5.0->regions) (2.0.0.3)\r\n",
      "Requirement already satisfied: PyYAML>=3.13 in /opt/conda/lib/python3.10/site-packages (from astropy>=5.0->regions) (6.0)\r\n",
      "Requirement already satisfied: packaging>=19.0 in /opt/conda/lib/python3.10/site-packages (from astropy>=5.0->regions) (21.3)\r\n",
      "Requirement already satisfied: pyparsing!=3.0.5,>=2.0.2 in /opt/conda/lib/python3.10/site-packages (from packaging>=19.0->astropy>=5.0->regions) (3.0.9)\r\n",
      "Installing collected packages: regions\r\n",
      "Successfully installed regions-0.8\r\n",
      "Note: you may need to restart the kernel to use updated packages.\n"
     ]
    }
   ],
   "source": [
    "pip install regions\n"
   ]
  },
  {
   "cell_type": "code",
   "execution_count": 2,
   "id": "b3db2905",
   "metadata": {
    "execution": {
     "iopub.execute_input": "2023-11-27T03:44:29.955168Z",
     "iopub.status.busy": "2023-11-27T03:44:29.954681Z",
     "iopub.status.idle": "2023-11-27T03:44:59.560106Z",
     "shell.execute_reply": "2023-11-27T03:44:59.558812Z"
    },
    "papermill": {
     "duration": 29.621957,
     "end_time": "2023-11-27T03:44:59.562801",
     "exception": false,
     "start_time": "2023-11-27T03:44:29.940844",
     "status": "completed"
    },
    "tags": []
   },
   "outputs": [
    {
     "name": "stdout",
     "output_type": "stream",
     "text": [
      "Collecting lens\r\n",
      "  Downloading lens-0.4.5-py2.py3-none-any.whl (34 kB)\r\n",
      "Requirement already satisfied: dask[dataframe,delayed]>=0.18.0 in /opt/conda/lib/python3.10/site-packages (from lens) (2023.9.0)\r\n",
      "Requirement already satisfied: ipywidgets>=6.0.0 in /opt/conda/lib/python3.10/site-packages (from lens) (7.7.1)\r\n",
      "Requirement already satisfied: matplotlib in /opt/conda/lib/python3.10/site-packages (from lens) (3.7.2)\r\n",
      "Requirement already satisfied: numpy>=1.11 in /opt/conda/lib/python3.10/site-packages (from lens) (1.23.5)\r\n",
      "Requirement already satisfied: pandas in /opt/conda/lib/python3.10/site-packages (from lens) (2.0.3)\r\n",
      "Requirement already satisfied: plotly>=3.0.0 in /opt/conda/lib/python3.10/site-packages (from lens) (5.15.0)\r\n",
      "Requirement already satisfied: scipy in /opt/conda/lib/python3.10/site-packages (from lens) (1.11.2)\r\n",
      "Collecting tdigest>=0.5.0 (from lens)\r\n",
      "  Downloading tdigest-0.5.2.2-py3-none-any.whl (9.4 kB)\r\n",
      "Requirement already satisfied: seaborn in /opt/conda/lib/python3.10/site-packages (from lens) (0.12.2)\r\n",
      "Requirement already satisfied: click>=8.0 in /opt/conda/lib/python3.10/site-packages (from dask[dataframe,delayed]>=0.18.0->lens) (8.1.7)\r\n",
      "Requirement already satisfied: cloudpickle>=1.5.0 in /opt/conda/lib/python3.10/site-packages (from dask[dataframe,delayed]>=0.18.0->lens) (2.2.1)\r\n",
      "Requirement already satisfied: fsspec>=2021.09.0 in /opt/conda/lib/python3.10/site-packages (from dask[dataframe,delayed]>=0.18.0->lens) (2023.9.0)\r\n",
      "Requirement already satisfied: packaging>=20.0 in /opt/conda/lib/python3.10/site-packages (from dask[dataframe,delayed]>=0.18.0->lens) (21.3)\r\n",
      "Requirement already satisfied: partd>=1.2.0 in /opt/conda/lib/python3.10/site-packages (from dask[dataframe,delayed]>=0.18.0->lens) (1.4.0)\r\n",
      "Requirement already satisfied: pyyaml>=5.3.1 in /opt/conda/lib/python3.10/site-packages (from dask[dataframe,delayed]>=0.18.0->lens) (6.0)\r\n",
      "Requirement already satisfied: toolz>=0.10.0 in /opt/conda/lib/python3.10/site-packages (from dask[dataframe,delayed]>=0.18.0->lens) (0.12.0)\r\n",
      "Requirement already satisfied: importlib-metadata>=4.13.0 in /opt/conda/lib/python3.10/site-packages (from dask[dataframe,delayed]>=0.18.0->lens) (6.7.0)\r\n",
      "Requirement already satisfied: ipykernel>=4.5.1 in /opt/conda/lib/python3.10/site-packages (from ipywidgets>=6.0.0->lens) (6.23.3)\r\n",
      "Requirement already satisfied: ipython-genutils~=0.2.0 in /opt/conda/lib/python3.10/site-packages (from ipywidgets>=6.0.0->lens) (0.2.0)\r\n",
      "Requirement already satisfied: traitlets>=4.3.1 in /opt/conda/lib/python3.10/site-packages (from ipywidgets>=6.0.0->lens) (5.9.0)\r\n",
      "Requirement already satisfied: widgetsnbextension~=3.6.0 in /opt/conda/lib/python3.10/site-packages (from ipywidgets>=6.0.0->lens) (3.6.5)\r\n",
      "Requirement already satisfied: ipython>=4.0.0 in /opt/conda/lib/python3.10/site-packages (from ipywidgets>=6.0.0->lens) (8.14.0)\r\n",
      "Requirement already satisfied: jupyterlab-widgets>=1.0.0 in /opt/conda/lib/python3.10/site-packages (from ipywidgets>=6.0.0->lens) (3.0.7)\r\n",
      "Requirement already satisfied: python-dateutil>=2.8.2 in /opt/conda/lib/python3.10/site-packages (from pandas->lens) (2.8.2)\r\n",
      "Requirement already satisfied: pytz>=2020.1 in /opt/conda/lib/python3.10/site-packages (from pandas->lens) (2023.3)\r\n",
      "Requirement already satisfied: tzdata>=2022.1 in /opt/conda/lib/python3.10/site-packages (from pandas->lens) (2023.3)\r\n",
      "Requirement already satisfied: tenacity>=6.2.0 in /opt/conda/lib/python3.10/site-packages (from plotly>=3.0.0->lens) (8.2.2)\r\n",
      "Collecting accumulation-tree (from tdigest>=0.5.0->lens)\r\n",
      "  Downloading accumulation_tree-0.6.2.tar.gz (12 kB)\r\n",
      "  Preparing metadata (setup.py) ... \u001b[?25l-\b \bdone\r\n",
      "\u001b[?25hCollecting pyudorandom (from tdigest>=0.5.0->lens)\r\n",
      "  Downloading pyudorandom-1.0.0.tar.gz (1.6 kB)\r\n",
      "  Preparing metadata (setup.py) ... \u001b[?25ldone\r\n",
      "\u001b[?25hRequirement already satisfied: contourpy>=1.0.1 in /opt/conda/lib/python3.10/site-packages (from matplotlib->lens) (1.1.0)\r\n",
      "Requirement already satisfied: cycler>=0.10 in /opt/conda/lib/python3.10/site-packages (from matplotlib->lens) (0.11.0)\r\n",
      "Requirement already satisfied: fonttools>=4.22.0 in /opt/conda/lib/python3.10/site-packages (from matplotlib->lens) (4.40.0)\r\n",
      "Requirement already satisfied: kiwisolver>=1.0.1 in /opt/conda/lib/python3.10/site-packages (from matplotlib->lens) (1.4.4)\r\n",
      "Requirement already satisfied: pillow>=6.2.0 in /opt/conda/lib/python3.10/site-packages (from matplotlib->lens) (9.5.0)\r\n",
      "Requirement already satisfied: pyparsing<3.1,>=2.3.1 in /opt/conda/lib/python3.10/site-packages (from matplotlib->lens) (3.0.9)\r\n",
      "Requirement already satisfied: zipp>=0.5 in /opt/conda/lib/python3.10/site-packages (from importlib-metadata>=4.13.0->dask[dataframe,delayed]>=0.18.0->lens) (3.15.0)\r\n",
      "Requirement already satisfied: comm>=0.1.1 in /opt/conda/lib/python3.10/site-packages (from ipykernel>=4.5.1->ipywidgets>=6.0.0->lens) (0.1.3)\r\n",
      "Requirement already satisfied: debugpy>=1.6.5 in /opt/conda/lib/python3.10/site-packages (from ipykernel>=4.5.1->ipywidgets>=6.0.0->lens) (1.6.7)\r\n",
      "Requirement already satisfied: jupyter-client>=6.1.12 in /opt/conda/lib/python3.10/site-packages (from ipykernel>=4.5.1->ipywidgets>=6.0.0->lens) (7.4.9)\r\n",
      "Requirement already satisfied: jupyter-core!=5.0.*,>=4.12 in /opt/conda/lib/python3.10/site-packages (from ipykernel>=4.5.1->ipywidgets>=6.0.0->lens) (5.3.1)\r\n",
      "Requirement already satisfied: matplotlib-inline>=0.1 in /opt/conda/lib/python3.10/site-packages (from ipykernel>=4.5.1->ipywidgets>=6.0.0->lens) (0.1.6)\r\n",
      "Requirement already satisfied: nest-asyncio in /opt/conda/lib/python3.10/site-packages (from ipykernel>=4.5.1->ipywidgets>=6.0.0->lens) (1.5.6)\r\n",
      "Requirement already satisfied: psutil in /opt/conda/lib/python3.10/site-packages (from ipykernel>=4.5.1->ipywidgets>=6.0.0->lens) (5.9.3)\r\n",
      "Requirement already satisfied: pyzmq>=20 in /opt/conda/lib/python3.10/site-packages (from ipykernel>=4.5.1->ipywidgets>=6.0.0->lens) (25.1.0)\r\n",
      "Requirement already satisfied: tornado>=6.1 in /opt/conda/lib/python3.10/site-packages (from ipykernel>=4.5.1->ipywidgets>=6.0.0->lens) (6.3.2)\r\n",
      "Requirement already satisfied: backcall in /opt/conda/lib/python3.10/site-packages (from ipython>=4.0.0->ipywidgets>=6.0.0->lens) (0.2.0)\r\n",
      "Requirement already satisfied: decorator in /opt/conda/lib/python3.10/site-packages (from ipython>=4.0.0->ipywidgets>=6.0.0->lens) (5.1.1)\r\n",
      "Requirement already satisfied: jedi>=0.16 in /opt/conda/lib/python3.10/site-packages (from ipython>=4.0.0->ipywidgets>=6.0.0->lens) (0.18.2)\r\n",
      "Requirement already satisfied: pickleshare in /opt/conda/lib/python3.10/site-packages (from ipython>=4.0.0->ipywidgets>=6.0.0->lens) (0.7.5)\r\n",
      "Requirement already satisfied: prompt-toolkit!=3.0.37,<3.1.0,>=3.0.30 in /opt/conda/lib/python3.10/site-packages (from ipython>=4.0.0->ipywidgets>=6.0.0->lens) (3.0.38)\r\n",
      "Requirement already satisfied: pygments>=2.4.0 in /opt/conda/lib/python3.10/site-packages (from ipython>=4.0.0->ipywidgets>=6.0.0->lens) (2.15.1)\r\n",
      "Requirement already satisfied: stack-data in /opt/conda/lib/python3.10/site-packages (from ipython>=4.0.0->ipywidgets>=6.0.0->lens) (0.6.2)\r\n",
      "Requirement already satisfied: pexpect>4.3 in /opt/conda/lib/python3.10/site-packages (from ipython>=4.0.0->ipywidgets>=6.0.0->lens) (4.8.0)\r\n",
      "Requirement already satisfied: locket in /opt/conda/lib/python3.10/site-packages (from partd>=1.2.0->dask[dataframe,delayed]>=0.18.0->lens) (1.0.0)\r\n",
      "Requirement already satisfied: six>=1.5 in /opt/conda/lib/python3.10/site-packages (from python-dateutil>=2.8.2->pandas->lens) (1.16.0)\r\n",
      "Requirement already satisfied: notebook>=4.4.1 in /opt/conda/lib/python3.10/site-packages (from widgetsnbextension~=3.6.0->ipywidgets>=6.0.0->lens) (6.5.4)\r\n",
      "Requirement already satisfied: parso<0.9.0,>=0.8.0 in /opt/conda/lib/python3.10/site-packages (from jedi>=0.16->ipython>=4.0.0->ipywidgets>=6.0.0->lens) (0.8.3)\r\n",
      "Requirement already satisfied: entrypoints in /opt/conda/lib/python3.10/site-packages (from jupyter-client>=6.1.12->ipykernel>=4.5.1->ipywidgets>=6.0.0->lens) (0.4)\r\n",
      "Requirement already satisfied: platformdirs>=2.5 in /opt/conda/lib/python3.10/site-packages (from jupyter-core!=5.0.*,>=4.12->ipykernel>=4.5.1->ipywidgets>=6.0.0->lens) (3.10.0)\r\n",
      "Requirement already satisfied: jinja2 in /opt/conda/lib/python3.10/site-packages (from notebook>=4.4.1->widgetsnbextension~=3.6.0->ipywidgets>=6.0.0->lens) (3.1.2)\r\n",
      "Requirement already satisfied: argon2-cffi in /opt/conda/lib/python3.10/site-packages (from notebook>=4.4.1->widgetsnbextension~=3.6.0->ipywidgets>=6.0.0->lens) (21.3.0)\r\n",
      "Requirement already satisfied: nbformat in /opt/conda/lib/python3.10/site-packages (from notebook>=4.4.1->widgetsnbextension~=3.6.0->ipywidgets>=6.0.0->lens) (5.9.0)\r\n",
      "Requirement already satisfied: nbconvert>=5 in /opt/conda/lib/python3.10/site-packages (from notebook>=4.4.1->widgetsnbextension~=3.6.0->ipywidgets>=6.0.0->lens) (6.4.5)\r\n",
      "Requirement already satisfied: Send2Trash>=1.8.0 in /opt/conda/lib/python3.10/site-packages (from notebook>=4.4.1->widgetsnbextension~=3.6.0->ipywidgets>=6.0.0->lens) (1.8.2)\r\n",
      "Requirement already satisfied: terminado>=0.8.3 in /opt/conda/lib/python3.10/site-packages (from notebook>=4.4.1->widgetsnbextension~=3.6.0->ipywidgets>=6.0.0->lens) (0.17.1)\r\n",
      "Requirement already satisfied: prometheus-client in /opt/conda/lib/python3.10/site-packages (from notebook>=4.4.1->widgetsnbextension~=3.6.0->ipywidgets>=6.0.0->lens) (0.17.0)\r\n",
      "Requirement already satisfied: nbclassic>=0.4.7 in /opt/conda/lib/python3.10/site-packages (from notebook>=4.4.1->widgetsnbextension~=3.6.0->ipywidgets>=6.0.0->lens) (1.0.0)\r\n",
      "Requirement already satisfied: ptyprocess>=0.5 in /opt/conda/lib/python3.10/site-packages (from pexpect>4.3->ipython>=4.0.0->ipywidgets>=6.0.0->lens) (0.7.0)\r\n",
      "Requirement already satisfied: wcwidth in /opt/conda/lib/python3.10/site-packages (from prompt-toolkit!=3.0.37,<3.1.0,>=3.0.30->ipython>=4.0.0->ipywidgets>=6.0.0->lens) (0.2.6)\r\n",
      "Requirement already satisfied: executing>=1.2.0 in /opt/conda/lib/python3.10/site-packages (from stack-data->ipython>=4.0.0->ipywidgets>=6.0.0->lens) (1.2.0)\r\n",
      "Requirement already satisfied: asttokens>=2.1.0 in /opt/conda/lib/python3.10/site-packages (from stack-data->ipython>=4.0.0->ipywidgets>=6.0.0->lens) (2.2.1)\r\n",
      "Requirement already satisfied: pure-eval in /opt/conda/lib/python3.10/site-packages (from stack-data->ipython>=4.0.0->ipywidgets>=6.0.0->lens) (0.2.2)\r\n",
      "Requirement already satisfied: jupyter-server>=1.8 in /opt/conda/lib/python3.10/site-packages (from nbclassic>=0.4.7->notebook>=4.4.1->widgetsnbextension~=3.6.0->ipywidgets>=6.0.0->lens) (2.6.0)\r\n",
      "Requirement already satisfied: notebook-shim>=0.2.3 in /opt/conda/lib/python3.10/site-packages (from nbclassic>=0.4.7->notebook>=4.4.1->widgetsnbextension~=3.6.0->ipywidgets>=6.0.0->lens) (0.2.3)\r\n",
      "Requirement already satisfied: mistune<2,>=0.8.1 in /opt/conda/lib/python3.10/site-packages (from nbconvert>=5->notebook>=4.4.1->widgetsnbextension~=3.6.0->ipywidgets>=6.0.0->lens) (0.8.4)\r\n",
      "Requirement already satisfied: jupyterlab-pygments in /opt/conda/lib/python3.10/site-packages (from nbconvert>=5->notebook>=4.4.1->widgetsnbextension~=3.6.0->ipywidgets>=6.0.0->lens) (0.2.2)\r\n",
      "Requirement already satisfied: bleach in /opt/conda/lib/python3.10/site-packages (from nbconvert>=5->notebook>=4.4.1->widgetsnbextension~=3.6.0->ipywidgets>=6.0.0->lens) (6.0.0)\r\n",
      "Requirement already satisfied: pandocfilters>=1.4.1 in /opt/conda/lib/python3.10/site-packages (from nbconvert>=5->notebook>=4.4.1->widgetsnbextension~=3.6.0->ipywidgets>=6.0.0->lens) (1.5.0)\r\n",
      "Requirement already satisfied: testpath in /opt/conda/lib/python3.10/site-packages (from nbconvert>=5->notebook>=4.4.1->widgetsnbextension~=3.6.0->ipywidgets>=6.0.0->lens) (0.6.0)\r\n",
      "Requirement already satisfied: defusedxml in /opt/conda/lib/python3.10/site-packages (from nbconvert>=5->notebook>=4.4.1->widgetsnbextension~=3.6.0->ipywidgets>=6.0.0->lens) (0.7.1)\r\n",
      "Requirement already satisfied: beautifulsoup4 in /opt/conda/lib/python3.10/site-packages (from nbconvert>=5->notebook>=4.4.1->widgetsnbextension~=3.6.0->ipywidgets>=6.0.0->lens) (4.12.2)\r\n",
      "Requirement already satisfied: nbclient<0.6.0,>=0.5.0 in /opt/conda/lib/python3.10/site-packages (from nbconvert>=5->notebook>=4.4.1->widgetsnbextension~=3.6.0->ipywidgets>=6.0.0->lens) (0.5.13)\r\n",
      "Requirement already satisfied: MarkupSafe>=2.0 in /opt/conda/lib/python3.10/site-packages (from nbconvert>=5->notebook>=4.4.1->widgetsnbextension~=3.6.0->ipywidgets>=6.0.0->lens) (2.1.3)\r\n",
      "Requirement already satisfied: fastjsonschema in /opt/conda/lib/python3.10/site-packages (from nbformat->notebook>=4.4.1->widgetsnbextension~=3.6.0->ipywidgets>=6.0.0->lens) (2.17.1)\r\n",
      "Requirement already satisfied: jsonschema>=2.6 in /opt/conda/lib/python3.10/site-packages (from nbformat->notebook>=4.4.1->widgetsnbextension~=3.6.0->ipywidgets>=6.0.0->lens) (4.17.3)\r\n",
      "Requirement already satisfied: argon2-cffi-bindings in /opt/conda/lib/python3.10/site-packages (from argon2-cffi->notebook>=4.4.1->widgetsnbextension~=3.6.0->ipywidgets>=6.0.0->lens) (21.2.0)\r\n",
      "Requirement already satisfied: attrs>=17.4.0 in /opt/conda/lib/python3.10/site-packages (from jsonschema>=2.6->nbformat->notebook>=4.4.1->widgetsnbextension~=3.6.0->ipywidgets>=6.0.0->lens) (23.1.0)\r\n",
      "Requirement already satisfied: pyrsistent!=0.17.0,!=0.17.1,!=0.17.2,>=0.14.0 in /opt/conda/lib/python3.10/site-packages (from jsonschema>=2.6->nbformat->notebook>=4.4.1->widgetsnbextension~=3.6.0->ipywidgets>=6.0.0->lens) (0.19.3)\r\n",
      "Requirement already satisfied: anyio>=3.1.0 in /opt/conda/lib/python3.10/site-packages (from jupyter-server>=1.8->nbclassic>=0.4.7->notebook>=4.4.1->widgetsnbextension~=3.6.0->ipywidgets>=6.0.0->lens) (3.7.0)\r\n",
      "Requirement already satisfied: jupyter-events>=0.6.0 in /opt/conda/lib/python3.10/site-packages (from jupyter-server>=1.8->nbclassic>=0.4.7->notebook>=4.4.1->widgetsnbextension~=3.6.0->ipywidgets>=6.0.0->lens) (0.6.3)\r\n",
      "Requirement already satisfied: jupyter-server-terminals in /opt/conda/lib/python3.10/site-packages (from jupyter-server>=1.8->nbclassic>=0.4.7->notebook>=4.4.1->widgetsnbextension~=3.6.0->ipywidgets>=6.0.0->lens) (0.4.4)\r\n",
      "Requirement already satisfied: overrides in /opt/conda/lib/python3.10/site-packages (from jupyter-server>=1.8->nbclassic>=0.4.7->notebook>=4.4.1->widgetsnbextension~=3.6.0->ipywidgets>=6.0.0->lens) (6.5.0)\r\n",
      "Requirement already satisfied: websocket-client in /opt/conda/lib/python3.10/site-packages (from jupyter-server>=1.8->nbclassic>=0.4.7->notebook>=4.4.1->widgetsnbextension~=3.6.0->ipywidgets>=6.0.0->lens) (1.6.0)\r\n",
      "Requirement already satisfied: cffi>=1.0.1 in /opt/conda/lib/python3.10/site-packages (from argon2-cffi-bindings->argon2-cffi->notebook>=4.4.1->widgetsnbextension~=3.6.0->ipywidgets>=6.0.0->lens) (1.15.1)\r\n",
      "Requirement already satisfied: soupsieve>1.2 in /opt/conda/lib/python3.10/site-packages (from beautifulsoup4->nbconvert>=5->notebook>=4.4.1->widgetsnbextension~=3.6.0->ipywidgets>=6.0.0->lens) (2.3.2.post1)\r\n",
      "Requirement already satisfied: webencodings in /opt/conda/lib/python3.10/site-packages (from bleach->nbconvert>=5->notebook>=4.4.1->widgetsnbextension~=3.6.0->ipywidgets>=6.0.0->lens) (0.5.1)\r\n",
      "Requirement already satisfied: idna>=2.8 in /opt/conda/lib/python3.10/site-packages (from anyio>=3.1.0->jupyter-server>=1.8->nbclassic>=0.4.7->notebook>=4.4.1->widgetsnbextension~=3.6.0->ipywidgets>=6.0.0->lens) (3.4)\r\n",
      "Requirement already satisfied: sniffio>=1.1 in /opt/conda/lib/python3.10/site-packages (from anyio>=3.1.0->jupyter-server>=1.8->nbclassic>=0.4.7->notebook>=4.4.1->widgetsnbextension~=3.6.0->ipywidgets>=6.0.0->lens) (1.3.0)\r\n",
      "Requirement already satisfied: exceptiongroup in /opt/conda/lib/python3.10/site-packages (from anyio>=3.1.0->jupyter-server>=1.8->nbclassic>=0.4.7->notebook>=4.4.1->widgetsnbextension~=3.6.0->ipywidgets>=6.0.0->lens) (1.1.1)\r\n",
      "Requirement already satisfied: pycparser in /opt/conda/lib/python3.10/site-packages (from cffi>=1.0.1->argon2-cffi-bindings->argon2-cffi->notebook>=4.4.1->widgetsnbextension~=3.6.0->ipywidgets>=6.0.0->lens) (2.21)\r\n",
      "Requirement already satisfied: python-json-logger>=2.0.4 in /opt/conda/lib/python3.10/site-packages (from jupyter-events>=0.6.0->jupyter-server>=1.8->nbclassic>=0.4.7->notebook>=4.4.1->widgetsnbextension~=3.6.0->ipywidgets>=6.0.0->lens) (2.0.7)\r\n",
      "Requirement already satisfied: rfc3339-validator in /opt/conda/lib/python3.10/site-packages (from jupyter-events>=0.6.0->jupyter-server>=1.8->nbclassic>=0.4.7->notebook>=4.4.1->widgetsnbextension~=3.6.0->ipywidgets>=6.0.0->lens) (0.1.4)\r\n",
      "Requirement already satisfied: rfc3986-validator>=0.1.1 in /opt/conda/lib/python3.10/site-packages (from jupyter-events>=0.6.0->jupyter-server>=1.8->nbclassic>=0.4.7->notebook>=4.4.1->widgetsnbextension~=3.6.0->ipywidgets>=6.0.0->lens) (0.1.1)\r\n",
      "Requirement already satisfied: fqdn in /opt/conda/lib/python3.10/site-packages (from jsonschema>=2.6->nbformat->notebook>=4.4.1->widgetsnbextension~=3.6.0->ipywidgets>=6.0.0->lens) (1.5.1)\r\n",
      "Requirement already satisfied: isoduration in /opt/conda/lib/python3.10/site-packages (from jsonschema>=2.6->nbformat->notebook>=4.4.1->widgetsnbextension~=3.6.0->ipywidgets>=6.0.0->lens) (20.11.0)\r\n",
      "Requirement already satisfied: jsonpointer>1.13 in /opt/conda/lib/python3.10/site-packages (from jsonschema>=2.6->nbformat->notebook>=4.4.1->widgetsnbextension~=3.6.0->ipywidgets>=6.0.0->lens) (2.0)\r\n",
      "Requirement already satisfied: uri-template in /opt/conda/lib/python3.10/site-packages (from jsonschema>=2.6->nbformat->notebook>=4.4.1->widgetsnbextension~=3.6.0->ipywidgets>=6.0.0->lens) (1.3.0)\r\n",
      "Requirement already satisfied: webcolors>=1.11 in /opt/conda/lib/python3.10/site-packages (from jsonschema>=2.6->nbformat->notebook>=4.4.1->widgetsnbextension~=3.6.0->ipywidgets>=6.0.0->lens) (1.13)\r\n",
      "Requirement already satisfied: arrow>=0.15.0 in /opt/conda/lib/python3.10/site-packages (from isoduration->jsonschema>=2.6->nbformat->notebook>=4.4.1->widgetsnbextension~=3.6.0->ipywidgets>=6.0.0->lens) (1.2.3)\r\n",
      "Building wheels for collected packages: accumulation-tree, pyudorandom\r\n",
      "  Building wheel for accumulation-tree (setup.py) ... \u001b[?25l-\b \b\\\b \b|\b \bdone\r\n",
      "\u001b[?25h  Created wheel for accumulation-tree: filename=accumulation_tree-0.6.2-cp310-cp310-linux_x86_64.whl size=75363 sha256=6ecb89b1033e4df3f27f835c57a8a83c9af806fd5d52fe77893ffcce73078f34\r\n",
      "  Stored in directory: /root/.cache/pip/wheels/78/86/37/6b08c6765cc44d4482b5f7c088de741a24951e46ffc3731f80\r\n",
      "  Building wheel for pyudorandom (setup.py) ... \u001b[?25l-\b \bdone\r\n",
      "\u001b[?25h  Created wheel for pyudorandom: filename=pyudorandom-1.0.0-py3-none-any.whl size=2191 sha256=b2218a12400aee88961d68b66d329f93c10430c0307fca8371a967ab5201e3c4\r\n",
      "  Stored in directory: /root/.cache/pip/wheels/fc/38/93/20b648196ea752c07f107de4d07748b927989bef8e6effc1ef\r\n",
      "Successfully built accumulation-tree pyudorandom\r\n",
      "Installing collected packages: pyudorandom, accumulation-tree, tdigest, lens\r\n",
      "Successfully installed accumulation-tree-0.6.2 lens-0.4.5 pyudorandom-1.0.0 tdigest-0.5.2.2\r\n",
      "Note: you may need to restart the kernel to use updated packages.\n"
     ]
    }
   ],
   "source": [
    "pip install lens"
   ]
  },
  {
   "cell_type": "code",
   "execution_count": 3,
   "id": "238d2d2e",
   "metadata": {
    "execution": {
     "iopub.execute_input": "2023-11-27T03:44:59.599131Z",
     "iopub.status.busy": "2023-11-27T03:44:59.598600Z",
     "iopub.status.idle": "2023-11-27T03:45:03.309554Z",
     "shell.execute_reply": "2023-11-27T03:45:03.307542Z"
    },
    "papermill": {
     "duration": 3.734265,
     "end_time": "2023-11-27T03:45:03.313752",
     "exception": false,
     "start_time": "2023-11-27T03:44:59.579487",
     "status": "completed"
    },
    "tags": []
   },
   "outputs": [
    {
     "name": "stdout",
     "output_type": "stream",
     "text": [
      "<SkyCoord (ICRS): (ra, dec) in deg\n",
      "    (10.625, 41.2)>\n",
      "<SkyCoord (ICRS): (ra, dec) in deg\n",
      "    (10.625, 41.2)>\n"
     ]
    }
   ],
   "source": [
    "# Required python moduldes for opening FITS files and plotting\n",
    "import numpy as np\n",
    "import pandas as pd\n",
    "import os\n",
    "import os.path as op\n",
    "import glob\n",
    "import matplotlib.pyplot as plt\n",
    "from matplotlib import gridspec\n",
    "from astropy.io import fits\n",
    "from astropy.table import Table, hstack\n",
    "from astropy.coordinates import SkyCoord\n",
    "from astropy.wcs import WCS\n",
    "from astropy.visualization import make_lupton_rgb, ZScaleInterval\n",
    "from astropy.coordinates import SkyCoord  # High-level coordinates\n",
    "from astropy.coordinates import ICRS, Galactic, FK4, FK5  # Low-level frames\n",
    "from astropy.coordinates import Angle, Latitude, Longitude  # Angles\n",
    "from regions import Regions\n",
    "from astropy.coordinates import Angle, SkyCoord\n",
    "from regions import PixCoord, LineSkyRegion, LinePixelRegion\n",
    "from regions import CircleSkyRegion, PixCoord, CirclePixelRegion\n",
    "from astropy import units as u\n",
    "from astropy.coordinates import SkyCoord\n",
    "from astropy.cosmology import WMAP9 as cosmo\n",
    "\n",
    "\n",
    "%matplotlib inline\n",
    "\n",
    "coords = SkyCoord(ra=10.625*u.degree, dec=41.2*u.degree, frame='icrs')\n",
    "\n",
    "\n",
    "#defining coords as a coordinate with a ra of 10.625 degrees, and dec of 41.2 degrees\n",
    "#frame icrs - international celestial reference system - this explains our ra being used\n",
    "\n",
    "print(coords)\n",
    "\n",
    "coords2=SkyCoord('00h42m30s','+41d12m00s', frame='icrs')\n",
    "#it is standard for:\n",
    "# ra to be in the units hours minute seconds\n",
    "# dec to be in the units days minute seconds \n",
    "\n",
    "print(coords2)"
   ]
  },
  {
   "cell_type": "code",
   "execution_count": 4,
   "id": "584cf3d9",
   "metadata": {
    "execution": {
     "iopub.execute_input": "2023-11-27T03:45:03.350528Z",
     "iopub.status.busy": "2023-11-27T03:45:03.349216Z",
     "iopub.status.idle": "2023-11-27T03:45:03.358575Z",
     "shell.execute_reply": "2023-11-27T03:45:03.357138Z"
    },
    "papermill": {
     "duration": 0.030667,
     "end_time": "2023-11-27T03:45:03.361331",
     "exception": false,
     "start_time": "2023-11-27T03:45:03.330664",
     "status": "completed"
    },
    "tags": []
   },
   "outputs": [],
   "source": [
    "\n",
    "skycoordarray = SkyCoord(ra=[10, 11, 12, 13]*u.degree, dec=[41, -5, 42, 0]*u.degree)\n",
    "#we would replace 10, 11, 12, 13 with our ra array of data\n",
    "\n",
    "#how we take a series of data ra and dec and combine them to a list of coordinates. \n",
    "#you can take arrays of ra, and arrays of dec and turn them into usable coords \n",
    "\n",
    "\n"
   ]
  },
  {
   "cell_type": "code",
   "execution_count": 5,
   "id": "8116f9e0",
   "metadata": {
    "execution": {
     "iopub.execute_input": "2023-11-27T03:45:03.397394Z",
     "iopub.status.busy": "2023-11-27T03:45:03.396071Z",
     "iopub.status.idle": "2023-11-27T03:45:03.416431Z",
     "shell.execute_reply": "2023-11-27T03:45:03.415176Z"
    },
    "papermill": {
     "duration": 0.041638,
     "end_time": "2023-11-27T03:45:03.419787",
     "exception": false,
     "start_time": "2023-11-27T03:45:03.378149",
     "status": "completed"
    },
    "tags": []
   },
   "outputs": [
    {
     "data": {
      "text/latex": [
       "$28^\\circ21{}^\\prime38.555082{}^{\\prime\\prime}$"
      ],
      "text/plain": [
       "<Angle 28.36070975 deg>"
      ]
     },
     "execution_count": 5,
     "metadata": {},
     "output_type": "execute_result"
    }
   ],
   "source": [
    "coords = SkyCoord(ra=10.625*u.degree, dec=41.2*u.degree, frame='icrs')\n",
    "coords2=SkyCoord('00h59m30s','+13d5m00s', frame='icrs')\n",
    "\n",
    "coords.separation(coords2)\n",
    "#coord1. separation(#secondcoords)\n",
    "#the distance between those two coords \n",
    "\n"
   ]
  },
  {
   "cell_type": "markdown",
   "id": "9d196a5d",
   "metadata": {
    "papermill": {
     "duration": 0.015908,
     "end_time": "2023-11-27T03:45:03.451932",
     "exception": false,
     "start_time": "2023-11-27T03:45:03.436024",
     "status": "completed"
    },
    "tags": []
   },
   "source": [
    "https://astropy-regions.readthedocs.io/en/stable/contains.html\n",
    "https://astropy-regions.readthedocs.io/en/stable/shapes.html\n",
    "\n",
    "checking for coords in a region :)"
   ]
  },
  {
   "cell_type": "code",
   "execution_count": 6,
   "id": "0723cfca",
   "metadata": {
    "execution": {
     "iopub.execute_input": "2023-11-27T03:45:03.487820Z",
     "iopub.status.busy": "2023-11-27T03:45:03.486992Z",
     "iopub.status.idle": "2023-11-27T03:45:05.072437Z",
     "shell.execute_reply": "2023-11-27T03:45:05.070521Z"
    },
    "papermill": {
     "duration": 1.606591,
     "end_time": "2023-11-27T03:45:05.075566",
     "exception": false,
     "start_time": "2023-11-27T03:45:03.468975",
     "status": "completed"
    },
    "tags": []
   },
   "outputs": [
    {
     "name": "stdout",
     "output_type": "stream",
     "text": [
      "Empty DataFrame\n",
      "Columns: [rowid, kepid, kepoi_name, kepler_name, koi_disposition, koi_pdisposition, koi_score, koi_fpflag_nt, koi_fpflag_ss, koi_fpflag_co, koi_fpflag_ec, koi_period, koi_period_err1, koi_period_err2, koi_time0bk, koi_time0bk_err1, koi_time0bk_err2, koi_impact, koi_impact_err1, koi_impact_err2, koi_duration, koi_duration_err1, koi_duration_err2, koi_depth, koi_depth_err1, koi_depth_err2, koi_prad, koi_prad_err1, koi_prad_err2, koi_teq, koi_teq_err1, koi_teq_err2, koi_insol, koi_insol_err1, koi_insol_err2, koi_model_snr, koi_tce_plnt_num, koi_tce_delivname, koi_steff, koi_steff_err1, koi_steff_err2, koi_slogg, koi_slogg_err1, koi_slogg_err2, koi_srad, koi_srad_err1, koi_srad_err2, ra, dec, koi_kepmag]\n",
      "Index: []\n",
      "\n",
      "[0 rows x 50 columns]\n"
     ]
    }
   ],
   "source": [
    "keplerdf = pd.read_csv('/kaggle/input/kepler-exoplanet-search-results/cumulative.csv')\n",
    "#print(keplerdf.head())\n",
    "\n",
    "ra=keplerdf.ra*u.deg\n",
    "dec=keplerdf.dec*u.deg\n",
    "\n",
    "allcoords=SkyCoord(ra, dec, frame='icrs', unit='deg')\n",
    "allcoords\n",
    "\n",
    "#COMAP overview Looking at +/-1.5 degrees around each of these three points \n",
    "COMAP_point_one = SkyCoord(ra='01h41m44.4s', dec='00d00m00s')\n",
    "COMAP_point_two = SkyCoord(ra='11h20m00s', dec='52d30m00s')\n",
    "COMAP_point_three = SkyCoord(ra='15h04m00s', dec='55d00m00s')\n",
    "\n",
    "#region_radius= Angle(1.5, unit='deg')\n",
    "#COMAP_region_one=CircleSkyRegion(COMAP_point_one,region_radius )\n",
    "#COMAP_region_two=CircleSkyRegion(COMAP_point_two ,region_radius )\n",
    "#COMAP_region_three=CircleSkyRegion(COMAP_point_three,region_radius )\n",
    "\n",
    "#print(COMAP_region_one,COMAP_region_two,COMAP_region_three)\n",
    "\n",
    "#COMAP_region_one.contains(allcoords, wcs)#will say if each coord in order is within the array\n",
    "\n",
    "#alternatively, and what we will do is set a degree of tolerance for what we look around\n",
    "\n",
    "tol=1.5*u.deg\n",
    "\n",
    "#this is going to create a array with the distances from the point for 'allcoords'\n",
    "sep_point_one=allcoords.separation(COMAP_point_one)\n",
    "\n",
    "#find the indicies of values (what rows) have data that are within the tolerance\n",
    "fieldone_index=np.where(sep_point_one < tol)[0]\n",
    "\n",
    "\n",
    "#this will take the specific rows that we know have data from\n",
    "# the main data set and make a new dataframe with those points only\n",
    "field_one_df=keplerdf.iloc[fieldone_index]\n",
    "\n",
    "print(field_one_df)\n",
    "#this result tells us nothing from our data is near field one :) \n",
    "#we can repeat with the other fields. and create data sets for data around each of our points of interest (mini fields)\n",
    "\n",
    "#combine all df\n",
    "#allfields_df = pd.concat((field_one_df, field_two_df, field_three_df))\n",
    "\n",
    "#how many data points are there\n",
    "#len(allfields_df)\n",
    "\n",
    "\n",
    "\n"
   ]
  },
  {
   "cell_type": "code",
   "execution_count": 7,
   "id": "8c4c0bb1",
   "metadata": {
    "execution": {
     "iopub.execute_input": "2023-11-27T03:45:05.112450Z",
     "iopub.status.busy": "2023-11-27T03:45:05.111918Z",
     "iopub.status.idle": "2023-11-27T03:45:05.116894Z",
     "shell.execute_reply": "2023-11-27T03:45:05.115862Z"
    },
    "papermill": {
     "duration": 0.026341,
     "end_time": "2023-11-27T03:45:05.119635",
     "exception": false,
     "start_time": "2023-11-27T03:45:05.093294",
     "status": "completed"
    },
    "tags": []
   },
   "outputs": [],
   "source": [
    "#SDSS 'Stripe 82' +/- 1.26 Degrees \n",
    "#stripe=SkyCoord(ra=20h )\n",
    "\n",
    "#This unlike our other data sets is not a point, but a stripe! \n",
    "#It takes a great deal of space and is a very large area that we hopefully can find data on.\n",
    "\n",
    "\n",
    "\n"
   ]
  },
  {
   "cell_type": "markdown",
   "id": "5bc9a148",
   "metadata": {
    "papermill": {
     "duration": 0.016582,
     "end_time": "2023-11-27T03:45:05.152442",
     "exception": false,
     "start_time": "2023-11-27T03:45:05.135860",
     "status": "completed"
    },
    "tags": []
   },
   "source": [
    "https://astropy-regions.readthedocs.io/en/stable/contains.html\n",
    "\n",
    "\n",
    "\n",
    "https://astropy-regions.readthedocs.io/en/stable/shapes.html\n",
    "\n",
    "checking for coords in a region \n",
    "\n",
    " "
   ]
  },
  {
   "cell_type": "code",
   "execution_count": 8,
   "id": "e97b734f",
   "metadata": {
    "execution": {
     "iopub.execute_input": "2023-11-27T03:45:05.189768Z",
     "iopub.status.busy": "2023-11-27T03:45:05.188961Z",
     "iopub.status.idle": "2023-11-27T03:45:20.413911Z",
     "shell.execute_reply": "2023-11-27T03:45:20.412021Z"
    },
    "papermill": {
     "duration": 15.248822,
     "end_time": "2023-11-27T03:45:20.417565",
     "exception": false,
     "start_time": "2023-11-27T03:45:05.168743",
     "status": "completed"
    },
    "tags": []
   },
   "outputs": [
    {
     "name": "stdout",
     "output_type": "stream",
     "text": [
      "Requirement already satisfied: regions in /opt/conda/lib/python3.10/site-packages (0.8)\r\n",
      "Requirement already satisfied: numpy>=1.22 in /opt/conda/lib/python3.10/site-packages (from regions) (1.23.5)\r\n",
      "Requirement already satisfied: astropy>=5.0 in /opt/conda/lib/python3.10/site-packages (from regions) (5.3.2)\r\n",
      "Requirement already satisfied: pyerfa>=2.0 in /opt/conda/lib/python3.10/site-packages (from astropy>=5.0->regions) (2.0.0.3)\r\n",
      "Requirement already satisfied: PyYAML>=3.13 in /opt/conda/lib/python3.10/site-packages (from astropy>=5.0->regions) (6.0)\r\n",
      "Requirement already satisfied: packaging>=19.0 in /opt/conda/lib/python3.10/site-packages (from astropy>=5.0->regions) (21.3)\r\n",
      "Requirement already satisfied: pyparsing!=3.0.5,>=2.0.2 in /opt/conda/lib/python3.10/site-packages (from packaging>=19.0->astropy>=5.0->regions) (3.0.9)\r\n",
      "Note: you may need to restart the kernel to use updated packages.\n"
     ]
    }
   ],
   "source": [
    "pip install regions"
   ]
  },
  {
   "cell_type": "code",
   "execution_count": 9,
   "id": "8271d783",
   "metadata": {
    "execution": {
     "iopub.execute_input": "2023-11-27T03:45:20.456317Z",
     "iopub.status.busy": "2023-11-27T03:45:20.455728Z",
     "iopub.status.idle": "2023-11-27T03:45:20.474514Z",
     "shell.execute_reply": "2023-11-27T03:45:20.472639Z"
    },
    "papermill": {
     "duration": 0.042372,
     "end_time": "2023-11-27T03:45:20.477562",
     "exception": false,
     "start_time": "2023-11-27T03:45:20.435190",
     "status": "completed"
    },
    "tags": []
   },
   "outputs": [],
   "source": [
    "# Required python moduldes for opening FITS files and plotting\n",
    "import numpy as np\n",
    "import pandas as pd\n",
    "import os\n",
    "import os.path as op\n",
    "import glob\n",
    "import matplotlib.pyplot as plt\n",
    "from matplotlib import gridspec\n",
    "from astropy.io import fits\n",
    "from astropy.table import Table, hstack\n",
    "from astropy.coordinates import SkyCoord\n",
    "from astropy.wcs import WCS\n",
    "from astropy.visualization import make_lupton_rgb, ZScaleInterval\n",
    "from astropy.coordinates import SkyCoord  # High-level coordinates\n",
    "from astropy.coordinates import ICRS, Galactic, FK4, FK5  # Low-level frames\n",
    "from astropy.coordinates import Angle, Latitude, Longitude  # Angles\n",
    "from regions import Regions\n",
    "from astropy.coordinates import Angle, SkyCoord\n",
    "from regions import PixCoord, LineSkyRegion, LinePixelRegion\n",
    "from regions import CircleSkyRegion, PixCoord, CirclePixelRegion\n",
    "from astropy import units as u\n",
    "from astropy.coordinates import SkyCoord\n",
    "from astropy.cosmology import WMAP9 as cosmo\n",
    "\n",
    "\n",
    "%matplotlib inline\n",
    "\n",
    " "
   ]
  },
  {
   "cell_type": "markdown",
   "id": "232e0a1a",
   "metadata": {
    "papermill": {
     "duration": 0.017136,
     "end_time": "2023-11-27T03:45:20.512745",
     "exception": false,
     "start_time": "2023-11-27T03:45:20.495609",
     "status": "completed"
    },
    "tags": []
   },
   "source": [
    "Import data (csv) for space that includes ra and dec data"
   ]
  },
  {
   "cell_type": "code",
   "execution_count": 10,
   "id": "7d26cc3c",
   "metadata": {
    "execution": {
     "iopub.execute_input": "2023-11-27T03:45:20.549001Z",
     "iopub.status.busy": "2023-11-27T03:45:20.548480Z",
     "iopub.status.idle": "2023-11-27T03:45:24.820448Z",
     "shell.execute_reply": "2023-11-27T03:45:24.818969Z"
    },
    "papermill": {
     "duration": 4.29472,
     "end_time": "2023-11-27T03:45:24.824736",
     "exception": false,
     "start_time": "2023-11-27T03:45:20.530016",
     "status": "completed"
    },
    "tags": []
   },
   "outputs": [
    {
     "name": "stdout",
     "output_type": "stream",
     "text": [
      "<class 'pandas.core.frame.DataFrame'>\n",
      "RangeIndex: 253040 entries, 0 to 253039\n",
      "Data columns (total 36 columns):\n",
      " #   Column            Non-Null Count   Dtype  \n",
      "---  ------            --------------   -----  \n",
      " 0   source_id         253040 non-null  int64  \n",
      " 1   ra                253040 non-null  float64\n",
      " 2   dec               253040 non-null  float64\n",
      " 3   pmra              253040 non-null  float64\n",
      " 4   pmdec             253040 non-null  float64\n",
      " 5   l                 253040 non-null  float64\n",
      " 6   b                 253040 non-null  float64\n",
      " 7   parallax          253040 non-null  float64\n",
      " 8   parallax_error    253040 non-null  float64\n",
      " 9   phot_g_mean_mag   253040 non-null  float64\n",
      " 10  phot_bp_mean_mag  253040 non-null  float64\n",
      " 11  phot_rp_mean_mag  253040 non-null  float64\n",
      " 12  r_hrv             253040 non-null  float64\n",
      " 13  r_metallicity     253040 non-null  float64\n",
      " 14  r_distance        253040 non-null  float64\n",
      " 15  r_parallax        253040 non-null  float64\n",
      " 16  r_jmag_2mass      253040 non-null  float64\n",
      " 17  r_hmag_2mass      253040 non-null  float64\n",
      " 18  r_kmag_2mass      253040 non-null  float64\n",
      " 19  r_mg              253040 non-null  float64\n",
      " 20  r_si              253040 non-null  float64\n",
      " 21  r_fe              253040 non-null  float64\n",
      " 22  r_quality         253040 non-null  float64\n",
      " 23  r_ra              253040 non-null  float64\n",
      " 24  r_de              253040 non-null  float64\n",
      " 25  r_w1mag_allwise   253040 non-null  float64\n",
      " 26  r_w2mag_allwise   253040 non-null  float64\n",
      " 27  r_w3mag_allwise   253040 non-null  float64\n",
      " 28  r_w4mag_allwise   253040 non-null  float64\n",
      " 29  r_bmag_apassdr9   253040 non-null  float64\n",
      " 30  r_vmag_apassdr9   253040 non-null  float64\n",
      " 31  r_rpmag_apassdr9  253040 non-null  float64\n",
      " 32  r_ipmag_apassdr9  253040 non-null  float64\n",
      " 33  r_imag_denis      253040 non-null  float64\n",
      " 34  r_jmag_denis      253040 non-null  float64\n",
      " 35  r_kmag_denis      253040 non-null  float64\n",
      "dtypes: float64(35), int64(1)\n",
      "memory usage: 69.5 MB\n"
     ]
    }
   ],
   "source": [
    "spacedf=pd.read_csv('/kaggle/input/rave-dr5-gaia-dr2-consolidated/gaia-dr2-rave-35.csv')\n",
    "spacedf.info()\n",
    "\n",
    "#we are looking at the column names to understand what data we have\n",
    "#to work with, \n",
    "#we need ra and dec for location\n",
    "#the other data will be important for analysis "
   ]
  },
  {
   "cell_type": "code",
   "execution_count": 11,
   "id": "4f2ee008",
   "metadata": {
    "execution": {
     "iopub.execute_input": "2023-11-27T03:45:24.862193Z",
     "iopub.status.busy": "2023-11-27T03:45:24.861700Z",
     "iopub.status.idle": "2023-11-27T03:45:58.201678Z",
     "shell.execute_reply": "2023-11-27T03:45:58.199956Z"
    },
    "papermill": {
     "duration": 33.363157,
     "end_time": "2023-11-27T03:45:58.205043",
     "exception": false,
     "start_time": "2023-11-27T03:45:24.841886",
     "status": "completed"
    },
    "tags": []
   },
   "outputs": [],
   "source": [
    "ra=spacedf.ra*u.deg\n",
    "dec=spacedf.dec*u.deg\n",
    "\n",
    "spacecoord=SkyCoord(ra, dec, frame='icrs',unit='deg')  \n",
    "#coordarray = skyscoord(ra column, dec column, icrs frame, in degrees)\n",
    "#Skycoord is the library&command to make coords\n",
    "\n",
    "spacecoord\n",
    "\n",
    "#We are going to type in the 3 points of interest\n",
    "#COMAP overview Looking at +/-1.5 degrees around each of these three points \n",
    "COMAP_point_one = SkyCoord(ra='01h41m44.4s', dec='00d00m00s')\n",
    "COMAP_point_two = SkyCoord(ra='11h20m00s', dec='52d30m00s')\n",
    "COMAP_point_three = SkyCoord(ra='15h04m00s', dec='55d00m00s')\n",
    "\n",
    "tolerance=1.5*u.deg\n",
    "#this is how far away from the point we are willing to look\n",
    "\n",
    "\n",
    "#new array = coordinate list.seperation(how far from this point)\n",
    "sep_point_one=spacecoord.separation(COMAP_point_one)\n",
    "#create a array, of the distance each of our coords is from\n",
    "#the point in space we care about\n",
    "\n",
    "#we are going index (cut out) the data that is within our\n",
    "#tolerance, so we ONLY have data within 1.5 degrees of the point\n",
    "good_idx_one=np.where(sep_point_one<tol)[0]\n",
    "#specifically, its cutting out the 'locations' of the data hence,np.where\n",
    "#this new data set says rows #1, 7, 15, 22 all have good data\n",
    "\n",
    "field_one_df=spacedf.iloc[good_idx_one]\n",
    "#create a new dataframe from our space dataframe with the rows cut out (iloc)\n",
    "#of the [good rows of data] only (data in range) \n",
    "\n",
    "#field_one_df \n",
    "#this is a dataframe with only data from ra & dec within 1.5 degrees\n",
    "#of point one \n",
    "\n",
    "#repeat this process with point 2, point 3 and then use the code below to\n",
    "#to merge data near all 3 points together \n",
    "#name the 2nd field field_two_df \n",
    "#name the 3rd field field_three_df\n",
    "#then check how many points of you have near any of your points using\n",
    "#lens(combined_df)\n",
    "\n",
    "\n",
    "\n"
   ]
  },
  {
   "cell_type": "code",
   "execution_count": null,
   "id": "d573aeae",
   "metadata": {
    "papermill": {
     "duration": 0.018145,
     "end_time": "2023-11-27T03:45:58.242529",
     "exception": false,
     "start_time": "2023-11-27T03:45:58.224384",
     "status": "completed"
    },
    "tags": []
   },
   "outputs": [],
   "source": []
  },
  {
   "cell_type": "code",
   "execution_count": 12,
   "id": "d2d4a27e",
   "metadata": {
    "execution": {
     "iopub.execute_input": "2023-11-27T03:45:58.279880Z",
     "iopub.status.busy": "2023-11-27T03:45:58.279340Z",
     "iopub.status.idle": "2023-11-27T03:45:58.384098Z",
     "shell.execute_reply": "2023-11-27T03:45:58.382773Z"
    },
    "papermill": {
     "duration": 0.127083,
     "end_time": "2023-11-27T03:45:58.387239",
     "exception": false,
     "start_time": "2023-11-27T03:45:58.260156",
     "status": "completed"
    },
    "tags": []
   },
   "outputs": [],
   "source": [
    "sep_point_two=spacecoord.separation(COMAP_point_two)\n",
    "good_idx_two=np.where(sep_point_two<tol)[0]\n",
    "field_two_df=spacedf.iloc[good_idx_two]\n",
    "\n",
    "sep_point_three=spacecoord.separation(COMAP_point_three)\n",
    "good_idx_three=np.where(sep_point_three<tol)[0]\n",
    "field_three_df=spacedf.iloc[good_idx_three]\n",
    "\n",
    "\n",
    "#pd.concat (df1,df2,df3) combines several dataframes together) \n",
    "combined_df=pd.concat((field_one_df,field_two_df,field_three_df))\n"
   ]
  },
  {
   "cell_type": "code",
   "execution_count": 13,
   "id": "c5c1f1b7",
   "metadata": {
    "execution": {
     "iopub.execute_input": "2023-11-27T03:45:58.423027Z",
     "iopub.status.busy": "2023-11-27T03:45:58.422581Z",
     "iopub.status.idle": "2023-11-27T03:45:58.428762Z",
     "shell.execute_reply": "2023-11-27T03:45:58.427521Z"
    },
    "papermill": {
     "duration": 0.027355,
     "end_time": "2023-11-27T03:45:58.431467",
     "exception": false,
     "start_time": "2023-11-27T03:45:58.404112",
     "status": "completed"
    },
    "tags": []
   },
   "outputs": [],
   "source": [
    "from astropy.coordinates import SkyCoord\n",
    "from astropy import units as u\n",
    "from regions import PixCoord\n",
    "from regions import RectangleSkyRegion, RectanglePixelRegion\n",
    "#SDSS 'Stripe 82' +/- 1.26 Degrees \n",
    "#stripe=SkyCoord(ra=20h )\n",
    "\n",
    "#This unlike our other data sets is not a point, but a stripe/rectangle! \n",
    "#It takes a great deal of space and is a very large area that we hopefully can find data on.\n",
    "#ra 4h -> ra 20h\n",
    "#dec -1.26-> 1.26deg\n",
    "\n"
   ]
  },
  {
   "cell_type": "markdown",
   "id": "48185457",
   "metadata": {
    "papermill": {
     "duration": 0.016675,
     "end_time": "2023-11-27T03:45:58.464900",
     "exception": false,
     "start_time": "2023-11-27T03:45:58.448225",
     "status": "completed"
    },
    "tags": []
   },
   "source": [
    "https://astropy-regions.readthedocs.io/en/stable/contains.html\n",
    "\n",
    "Documentation found via googling\"how to check if coordinatres are in the region astropy?\"  \n",
    "\n",
    "https://docs.astropy.org/en/stable/coordinates/matchsep.html\n"
   ]
  },
  {
   "cell_type": "code",
   "execution_count": 14,
   "id": "d400ae10",
   "metadata": {
    "execution": {
     "iopub.execute_input": "2023-11-27T03:45:58.500954Z",
     "iopub.status.busy": "2023-11-27T03:45:58.500477Z",
     "iopub.status.idle": "2023-11-27T03:45:58.514950Z",
     "shell.execute_reply": "2023-11-27T03:45:58.513313Z"
    },
    "papermill": {
     "duration": 0.03576,
     "end_time": "2023-11-27T03:45:58.517800",
     "exception": false,
     "start_time": "2023-11-27T03:45:58.482040",
     "status": "completed"
    },
    "tags": []
   },
   "outputs": [
    {
     "data": {
      "text/plain": [
       "<SkyCoord (ICRS): (ra, dec) in deg\n",
       "    (8., 1.26)>"
      ]
     },
     "execution_count": 14,
     "metadata": {},
     "output_type": "execute_result"
    }
   ],
   "source": [
    "from astropy.coordinates import SkyOffsetFrame, ICRS\n",
    "\n",
    "center=ICRS(12*u.deg,0*u.deg)\n",
    "\n",
    "other=SkyCoord(8*u.deg, 1.26*u.deg, frame='icrs')\n",
    "\n",
    "other.transform_to(center)"
   ]
  },
  {
   "cell_type": "code",
   "execution_count": 15,
   "id": "22891ec6",
   "metadata": {
    "execution": {
     "iopub.execute_input": "2023-11-27T03:45:58.643144Z",
     "iopub.status.busy": "2023-11-27T03:45:58.642687Z",
     "iopub.status.idle": "2023-11-27T03:45:58.653039Z",
     "shell.execute_reply": "2023-11-27T03:45:58.651938Z"
    },
    "papermill": {
     "duration": 0.031518,
     "end_time": "2023-11-27T03:45:58.655593",
     "exception": false,
     "start_time": "2023-11-27T03:45:58.624075",
     "status": "completed"
    },
    "tags": []
   },
   "outputs": [
    {
     "name": "stdout",
     "output_type": "stream",
     "text": [
      "Region: PolygonSkyRegion\n",
      "vertices: <SkyCoord (ICRS): (ra, dec) in deg\n",
      "    [( 60., -1.26), ( 60.,  1.26), (300.,  1.26), (300., -1.26)]>\n"
     ]
    }
   ],
   "source": [
    "from astropy.coordinates import SkyCoord\n",
    "from regions import PixCoord, PolygonSkyRegion, PolygonPixelRegion\n",
    "from regions import RegularPolygonPixelRegion\n",
    "\n",
    "vertices = SkyCoord([60, 60, 300, 300], [-1.26, 1.26, 1.26, -1.26], unit='deg', frame='icrs')\n",
    "region_sky = PolygonSkyRegion(vertices=vertices)\n",
    "\n",
    "print(region_sky)\n"
   ]
  },
  {
   "cell_type": "code",
   "execution_count": 16,
   "id": "10948ce0",
   "metadata": {
    "execution": {
     "iopub.execute_input": "2023-11-27T03:45:58.693760Z",
     "iopub.status.busy": "2023-11-27T03:45:58.692517Z",
     "iopub.status.idle": "2023-11-27T03:45:58.708814Z",
     "shell.execute_reply": "2023-11-27T03:45:58.707645Z"
    },
    "papermill": {
     "duration": 0.037719,
     "end_time": "2023-11-27T03:45:58.711541",
     "exception": false,
     "start_time": "2023-11-27T03:45:58.673822",
     "status": "completed"
    },
    "tags": []
   },
   "outputs": [
    {
     "data": {
      "text/html": [
       "<div><i>QTable length=253040</i>\n",
       "<table id=\"table139312459633696\" class=\"table-striped table-bordered table-condensed\">\n",
       "<thead><tr><th>ra</th><th>dec</th></tr></thead>\n",
       "<thead><tr><th>deg</th><th>deg</th></tr></thead>\n",
       "<thead><tr><th>float64</th><th>float64</th></tr></thead>\n",
       "<tr><td>5.00667631339939</td><td>-11.301197749949</td></tr>\n",
       "<tr><td>117.088561185539</td><td>-56.5805990526164</td></tr>\n",
       "<tr><td>333.777191149677</td><td>-15.9956334216894</td></tr>\n",
       "<tr><td>64.9176080686644</td><td>-15.024918489166</td></tr>\n",
       "<tr><td>153.276630582129</td><td>-74.8212812276904</td></tr>\n",
       "<tr><td>10.8827486408958</td><td>-22.5284785547324</td></tr>\n",
       "<tr><td>138.684884943359</td><td>-8.09757350636811</td></tr>\n",
       "<tr><td>330.760008810246</td><td>-20.1846703036383</td></tr>\n",
       "<tr><td>232.191291035304</td><td>-24.0670037125394</td></tr>\n",
       "<tr><td>...</td><td>...</td></tr>\n",
       "<tr><td>95.249558949028</td><td>-57.3919484072301</td></tr>\n",
       "<tr><td>154.534335899987</td><td>-42.9313127790735</td></tr>\n",
       "<tr><td>299.752964648999</td><td>-58.9832800156898</td></tr>\n",
       "<tr><td>150.467721144903</td><td>-43.027551498852</td></tr>\n",
       "<tr><td>206.453397430748</td><td>-67.508893829364</td></tr>\n",
       "<tr><td>326.064915319516</td><td>-40.9329216112522</td></tr>\n",
       "<tr><td>14.2859642676176</td><td>-48.25975981932</td></tr>\n",
       "<tr><td>205.034963871767</td><td>-55.5293241287449</td></tr>\n",
       "<tr><td>85.06631368402</td><td>-21.7597294937059</td></tr>\n",
       "<tr><td>28.3343296098626</td><td>-44.5885522866212</td></tr>\n",
       "</table></div>"
      ],
      "text/plain": [
       "<QTable length=253040>\n",
       "       ra               dec       \n",
       "      deg               deg       \n",
       "    float64           float64     \n",
       "---------------- -----------------\n",
       "5.00667631339939  -11.301197749949\n",
       "117.088561185539 -56.5805990526164\n",
       "333.777191149677 -15.9956334216894\n",
       "64.9176080686644  -15.024918489166\n",
       "153.276630582129 -74.8212812276904\n",
       "10.8827486408958 -22.5284785547324\n",
       "138.684884943359 -8.09757350636811\n",
       "330.760008810246 -20.1846703036383\n",
       "232.191291035304 -24.0670037125394\n",
       "             ...               ...\n",
       " 95.249558949028 -57.3919484072301\n",
       "154.534335899987 -42.9313127790735\n",
       "299.752964648999 -58.9832800156898\n",
       "150.467721144903  -43.027551498852\n",
       "206.453397430748  -67.508893829364\n",
       "326.064915319516 -40.9329216112522\n",
       "14.2859642676176   -48.25975981932\n",
       "205.034963871767 -55.5293241287449\n",
       "  85.06631368402 -21.7597294937059\n",
       "28.3343296098626 -44.5885522866212"
      ]
     },
     "execution_count": 16,
     "metadata": {},
     "output_type": "execute_result"
    }
   ],
   "source": [
    "spacecoord\n",
    "\n",
    "t=spacecoord.to_table()\n",
    "t\n",
    "\n"
   ]
  },
  {
   "cell_type": "code",
   "execution_count": 17,
   "id": "c1d72aa0",
   "metadata": {
    "execution": {
     "iopub.execute_input": "2023-11-27T03:45:58.748769Z",
     "iopub.status.busy": "2023-11-27T03:45:58.748319Z",
     "iopub.status.idle": "2023-11-27T03:45:59.072556Z",
     "shell.execute_reply": "2023-11-27T03:45:59.071273Z"
    },
    "papermill": {
     "duration": 0.34623,
     "end_time": "2023-11-27T03:45:59.075263",
     "exception": false,
     "start_time": "2023-11-27T03:45:58.729033",
     "status": "completed"
    },
    "tags": []
   },
   "outputs": [
    {
     "name": "stdout",
     "output_type": "stream",
     "text": [
      "[False False False ... False False False]\n",
      "max ra 357.82271101112\n",
      "min ra 0.535999278612013\n",
      "max dec -1.00346467446338\n",
      "min dec -85.4372434011005\n"
     ]
    }
   ],
   "source": [
    "from regions import make_example_dataset\n",
    "dataset = make_example_dataset(data='simulated')\n",
    "wcs = dataset.wcs\n",
    "\n",
    "center_stripe82=SkyCoord(180, 0, unit='deg', frame='icrs') #center of stripe82 \n",
    "stripe82=RectangleSkyRegion(center=center_stripe82, width=240*u.deg, height=1.26*u.deg, angle=0*u.deg)\n",
    "#shape of stripe 82 region assuming the shape of a rectangle\n",
    "#stripe82  \n",
    "\n",
    "#spacecoord in stripe82\n",
    "truecoord=region_sky.contains(spacecoord, wcs)\n",
    "#truecoord is the output true or false for our coords if they are in stripe 82 or not\n",
    "#True == in stripe 82 region made\n",
    "#False == not ins stripe 82 region made \n",
    "\n",
    "print(truecoord)\n",
    "stripe_idx=np.where(truecoord==True)[0] #get np.where coords in array that are in stripe 82 in the array\n",
    "stripe_df=spacedf.iloc[stripe_idx] #cut out the positions that are in stripe 82 into stripe_df\n",
    "#stripe_df\n",
    "\n",
    "print('max ra', stripe_df['ra'].max())\n",
    "print('min ra',stripe_df['ra'].min())\n",
    "print('max dec', stripe_df['dec'].max())\n",
    "print('min dec',stripe_df['dec'].min())\n",
    "\n",
    "#ra 4h (60deg) -> ra 20h (300deg)\n",
    "#dec -1.26-> 1.26deg"
   ]
  },
  {
   "cell_type": "code",
   "execution_count": 18,
   "id": "bcd09d71",
   "metadata": {
    "execution": {
     "iopub.execute_input": "2023-11-27T03:45:59.114107Z",
     "iopub.status.busy": "2023-11-27T03:45:59.113003Z",
     "iopub.status.idle": "2023-11-27T03:45:59.130985Z",
     "shell.execute_reply": "2023-11-27T03:45:59.129345Z"
    },
    "papermill": {
     "duration": 0.040613,
     "end_time": "2023-11-27T03:45:59.133947",
     "exception": false,
     "start_time": "2023-11-27T03:45:59.093334",
     "status": "completed"
    },
    "tags": []
   },
   "outputs": [
    {
     "name": "stdout",
     "output_type": "stream",
     "text": [
      "max ra 265.989530739561\n",
      "min ra 60.9121165463319\n",
      "max dec 1.25970991583863\n",
      "min dec -1.25940749787879\n"
     ]
    }
   ],
   "source": [
    "#works :) \n",
    " \n",
    "from astropy.coordinates import SkyCoord\n",
    "from astropy.table import Table\n",
    "import astropy.units as u\n",
    "import numpy as np\n",
    "\n",
    "\n",
    "#RA above 60 \n",
    "Stripedf=spacedf[(spacedf['ra']>60*u.degree) & (spacedf['ra']<300*u.degree) &(spacedf['dec']>-1.26*u.degree) & (spacedf['dec']<1.26*u.degree) ]\n",
    "\n",
    "#print(StripeDf)\n",
    "\n",
    "print('max ra', Stripedf['ra'].max())\n",
    "print('min ra',Stripedf['ra'].min())\n",
    "print('max dec', Stripedf['dec'].max())\n",
    "print('min dec',Stripedf['dec'].min())\n",
    "\n",
    "\n",
    "#AllCOmap #the three comap data points\n",
    "#Stripedf #the Stripe data\n"
   ]
  },
  {
   "cell_type": "code",
   "execution_count": 19,
   "id": "c8331c33",
   "metadata": {
    "execution": {
     "iopub.execute_input": "2023-11-27T03:45:59.172979Z",
     "iopub.status.busy": "2023-11-27T03:45:59.171851Z",
     "iopub.status.idle": "2023-11-27T03:45:59.415271Z",
     "shell.execute_reply": "2023-11-27T03:45:59.413816Z"
    },
    "papermill": {
     "duration": 0.26607,
     "end_time": "2023-11-27T03:45:59.418219",
     "exception": false,
     "start_time": "2023-11-27T03:45:59.152149",
     "status": "completed"
    },
    "tags": []
   },
   "outputs": [
    {
     "data": {
      "text/html": [
       "<div>\n",
       "<style scoped>\n",
       "    .dataframe tbody tr th:only-of-type {\n",
       "        vertical-align: middle;\n",
       "    }\n",
       "\n",
       "    .dataframe tbody tr th {\n",
       "        vertical-align: top;\n",
       "    }\n",
       "\n",
       "    .dataframe thead th {\n",
       "        text-align: right;\n",
       "    }\n",
       "</style>\n",
       "<table border=\"1\" class=\"dataframe\">\n",
       "  <thead>\n",
       "    <tr style=\"text-align: right;\">\n",
       "      <th></th>\n",
       "      <th>ra</th>\n",
       "      <th>dec</th>\n",
       "      <th>r_metallicity</th>\n",
       "      <th>r_distance</th>\n",
       "      <th>r_mg</th>\n",
       "      <th>r_si</th>\n",
       "      <th>r_fe</th>\n",
       "    </tr>\n",
       "  </thead>\n",
       "  <tbody>\n",
       "    <tr>\n",
       "      <th>count</th>\n",
       "      <td>253040.000000</td>\n",
       "      <td>253040.000000</td>\n",
       "      <td>253040.000000</td>\n",
       "      <td>253040.000000</td>\n",
       "      <td>253040.000000</td>\n",
       "      <td>253040.000000</td>\n",
       "      <td>253040.000000</td>\n",
       "    </tr>\n",
       "    <tr>\n",
       "      <th>mean</th>\n",
       "      <td>184.984186</td>\n",
       "      <td>-38.158563</td>\n",
       "      <td>-0.453054</td>\n",
       "      <td>1103.404862</td>\n",
       "      <td>-0.138442</td>\n",
       "      <td>-0.000908</td>\n",
       "      <td>-0.179048</td>\n",
       "    </tr>\n",
       "    <tr>\n",
       "      <th>std</th>\n",
       "      <td>103.434885</td>\n",
       "      <td>21.762412</td>\n",
       "      <td>0.391510</td>\n",
       "      <td>1030.217722</td>\n",
       "      <td>0.298803</td>\n",
       "      <td>0.324646</td>\n",
       "      <td>0.336012</td>\n",
       "    </tr>\n",
       "    <tr>\n",
       "      <th>min</th>\n",
       "      <td>0.005682</td>\n",
       "      <td>-87.399399</td>\n",
       "      <td>-2.620000</td>\n",
       "      <td>20.046200</td>\n",
       "      <td>-2.150000</td>\n",
       "      <td>-2.150000</td>\n",
       "      <td>-2.240000</td>\n",
       "    </tr>\n",
       "    <tr>\n",
       "      <th>25%</th>\n",
       "      <td>98.622291</td>\n",
       "      <td>-55.013231</td>\n",
       "      <td>-0.730000</td>\n",
       "      <td>354.787000</td>\n",
       "      <td>-0.320000</td>\n",
       "      <td>-0.200000</td>\n",
       "      <td>-0.390000</td>\n",
       "    </tr>\n",
       "    <tr>\n",
       "      <th>50%</th>\n",
       "      <td>185.732355</td>\n",
       "      <td>-37.546742</td>\n",
       "      <td>-0.440000</td>\n",
       "      <td>819.606250</td>\n",
       "      <td>-0.130000</td>\n",
       "      <td>0.020000</td>\n",
       "      <td>-0.160000</td>\n",
       "    </tr>\n",
       "    <tr>\n",
       "      <th>75%</th>\n",
       "      <td>286.903808</td>\n",
       "      <td>-20.017911</td>\n",
       "      <td>-0.195000</td>\n",
       "      <td>1481.875000</td>\n",
       "      <td>0.050000</td>\n",
       "      <td>0.220000</td>\n",
       "      <td>0.050000</td>\n",
       "    </tr>\n",
       "    <tr>\n",
       "      <th>max</th>\n",
       "      <td>359.981672</td>\n",
       "      <td>2.097815</td>\n",
       "      <td>1.000000</td>\n",
       "      <td>14267.600000</td>\n",
       "      <td>1.070000</td>\n",
       "      <td>1.090000</td>\n",
       "      <td>1.090000</td>\n",
       "    </tr>\n",
       "  </tbody>\n",
       "</table>\n",
       "</div>"
      ],
      "text/plain": [
       "                  ra            dec  r_metallicity     r_distance  \\\n",
       "count  253040.000000  253040.000000  253040.000000  253040.000000   \n",
       "mean      184.984186     -38.158563      -0.453054    1103.404862   \n",
       "std       103.434885      21.762412       0.391510    1030.217722   \n",
       "min         0.005682     -87.399399      -2.620000      20.046200   \n",
       "25%        98.622291     -55.013231      -0.730000     354.787000   \n",
       "50%       185.732355     -37.546742      -0.440000     819.606250   \n",
       "75%       286.903808     -20.017911      -0.195000    1481.875000   \n",
       "max       359.981672       2.097815       1.000000   14267.600000   \n",
       "\n",
       "                r_mg           r_si           r_fe  \n",
       "count  253040.000000  253040.000000  253040.000000  \n",
       "mean       -0.138442      -0.000908      -0.179048  \n",
       "std         0.298803       0.324646       0.336012  \n",
       "min        -2.150000      -2.150000      -2.240000  \n",
       "25%        -0.320000      -0.200000      -0.390000  \n",
       "50%        -0.130000       0.020000      -0.160000  \n",
       "75%         0.050000       0.220000       0.050000  \n",
       "max         1.070000       1.090000       1.090000  "
      ]
     },
     "execution_count": 19,
     "metadata": {},
     "output_type": "execute_result"
    }
   ],
   "source": [
    "spacedf.columns\n",
    "# dropna drops missing values (think of na as \"not available\")\n",
    "spacedf_data = spacedf.dropna(axis=0)\n",
    "\n",
    "\n",
    "y = spacedf_data.phot_g_mean_mag\n",
    "space_features = ['ra', 'dec', 'r_metallicity', 'r_distance','r_mg' ,'r_si', 'r_fe']\n",
    "\n",
    "\n",
    "x= spacedf_data[space_features]\n",
    "\n",
    "x.describe()"
   ]
  },
  {
   "cell_type": "code",
   "execution_count": 20,
   "id": "3bdcfb47",
   "metadata": {
    "execution": {
     "iopub.execute_input": "2023-11-27T03:45:59.457262Z",
     "iopub.status.busy": "2023-11-27T03:45:59.456794Z",
     "iopub.status.idle": "2023-11-27T03:45:59.476733Z",
     "shell.execute_reply": "2023-11-27T03:45:59.475222Z"
    },
    "papermill": {
     "duration": 0.042412,
     "end_time": "2023-11-27T03:45:59.479612",
     "exception": false,
     "start_time": "2023-11-27T03:45:59.437200",
     "status": "completed"
    },
    "tags": []
   },
   "outputs": [
    {
     "data": {
      "text/html": [
       "<div>\n",
       "<style scoped>\n",
       "    .dataframe tbody tr th:only-of-type {\n",
       "        vertical-align: middle;\n",
       "    }\n",
       "\n",
       "    .dataframe tbody tr th {\n",
       "        vertical-align: top;\n",
       "    }\n",
       "\n",
       "    .dataframe thead th {\n",
       "        text-align: right;\n",
       "    }\n",
       "</style>\n",
       "<table border=\"1\" class=\"dataframe\">\n",
       "  <thead>\n",
       "    <tr style=\"text-align: right;\">\n",
       "      <th></th>\n",
       "      <th>ra</th>\n",
       "      <th>dec</th>\n",
       "      <th>r_metallicity</th>\n",
       "      <th>r_distance</th>\n",
       "      <th>r_mg</th>\n",
       "      <th>r_si</th>\n",
       "      <th>r_fe</th>\n",
       "    </tr>\n",
       "  </thead>\n",
       "  <tbody>\n",
       "    <tr>\n",
       "      <th>0</th>\n",
       "      <td>5.006676</td>\n",
       "      <td>-11.301198</td>\n",
       "      <td>-1.17</td>\n",
       "      <td>1727.640</td>\n",
       "      <td>-0.59</td>\n",
       "      <td>-0.51</td>\n",
       "      <td>-0.85</td>\n",
       "    </tr>\n",
       "    <tr>\n",
       "      <th>1</th>\n",
       "      <td>117.088561</td>\n",
       "      <td>-56.580599</td>\n",
       "      <td>-0.42</td>\n",
       "      <td>2119.690</td>\n",
       "      <td>-0.15</td>\n",
       "      <td>0.20</td>\n",
       "      <td>0.04</td>\n",
       "    </tr>\n",
       "    <tr>\n",
       "      <th>2</th>\n",
       "      <td>333.777191</td>\n",
       "      <td>-15.995633</td>\n",
       "      <td>-0.02</td>\n",
       "      <td>187.871</td>\n",
       "      <td>0.13</td>\n",
       "      <td>0.27</td>\n",
       "      <td>0.09</td>\n",
       "    </tr>\n",
       "    <tr>\n",
       "      <th>3</th>\n",
       "      <td>64.917608</td>\n",
       "      <td>-15.024918</td>\n",
       "      <td>-1.11</td>\n",
       "      <td>1565.860</td>\n",
       "      <td>-0.53</td>\n",
       "      <td>-0.53</td>\n",
       "      <td>-0.93</td>\n",
       "    </tr>\n",
       "    <tr>\n",
       "      <th>4</th>\n",
       "      <td>153.276631</td>\n",
       "      <td>-74.821281</td>\n",
       "      <td>-1.25</td>\n",
       "      <td>2291.910</td>\n",
       "      <td>-0.58</td>\n",
       "      <td>-0.32</td>\n",
       "      <td>-0.78</td>\n",
       "    </tr>\n",
       "  </tbody>\n",
       "</table>\n",
       "</div>"
      ],
      "text/plain": [
       "           ra        dec  r_metallicity  r_distance  r_mg  r_si  r_fe\n",
       "0    5.006676 -11.301198          -1.17    1727.640 -0.59 -0.51 -0.85\n",
       "1  117.088561 -56.580599          -0.42    2119.690 -0.15  0.20  0.04\n",
       "2  333.777191 -15.995633          -0.02     187.871  0.13  0.27  0.09\n",
       "3   64.917608 -15.024918          -1.11    1565.860 -0.53 -0.53 -0.93\n",
       "4  153.276631 -74.821281          -1.25    2291.910 -0.58 -0.32 -0.78"
      ]
     },
     "execution_count": 20,
     "metadata": {},
     "output_type": "execute_result"
    }
   ],
   "source": [
    "x.head()"
   ]
  },
  {
   "cell_type": "markdown",
   "id": "5174e670",
   "metadata": {
    "papermill": {
     "duration": 0.017743,
     "end_time": "2023-11-27T03:45:59.515720",
     "exception": false,
     "start_time": "2023-11-27T03:45:59.497977",
     "status": "completed"
    },
    "tags": []
   },
   "source": [
    "Using Scikit-learn (common usage for df learning)\n",
    "\n",
    "Decision tree:\n",
    "Define\n",
    "Fit\n",
    "Predict\n",
    "Evaluate"
   ]
  },
  {
   "cell_type": "code",
   "execution_count": 21,
   "id": "2be797b0",
   "metadata": {
    "execution": {
     "iopub.execute_input": "2023-11-27T03:45:59.557668Z",
     "iopub.status.busy": "2023-11-27T03:45:59.556207Z",
     "iopub.status.idle": "2023-11-27T03:46:04.099864Z",
     "shell.execute_reply": "2023-11-27T03:46:04.098618Z"
    },
    "papermill": {
     "duration": 4.567062,
     "end_time": "2023-11-27T03:46:04.102824",
     "exception": false,
     "start_time": "2023-11-27T03:45:59.535762",
     "status": "completed"
    },
    "tags": []
   },
   "outputs": [
    {
     "data": {
      "text/html": [
       "<style>#sk-container-id-1 {color: black;background-color: white;}#sk-container-id-1 pre{padding: 0;}#sk-container-id-1 div.sk-toggleable {background-color: white;}#sk-container-id-1 label.sk-toggleable__label {cursor: pointer;display: block;width: 100%;margin-bottom: 0;padding: 0.3em;box-sizing: border-box;text-align: center;}#sk-container-id-1 label.sk-toggleable__label-arrow:before {content: \"▸\";float: left;margin-right: 0.25em;color: #696969;}#sk-container-id-1 label.sk-toggleable__label-arrow:hover:before {color: black;}#sk-container-id-1 div.sk-estimator:hover label.sk-toggleable__label-arrow:before {color: black;}#sk-container-id-1 div.sk-toggleable__content {max-height: 0;max-width: 0;overflow: hidden;text-align: left;background-color: #f0f8ff;}#sk-container-id-1 div.sk-toggleable__content pre {margin: 0.2em;color: black;border-radius: 0.25em;background-color: #f0f8ff;}#sk-container-id-1 input.sk-toggleable__control:checked~div.sk-toggleable__content {max-height: 200px;max-width: 100%;overflow: auto;}#sk-container-id-1 input.sk-toggleable__control:checked~label.sk-toggleable__label-arrow:before {content: \"▾\";}#sk-container-id-1 div.sk-estimator input.sk-toggleable__control:checked~label.sk-toggleable__label {background-color: #d4ebff;}#sk-container-id-1 div.sk-label input.sk-toggleable__control:checked~label.sk-toggleable__label {background-color: #d4ebff;}#sk-container-id-1 input.sk-hidden--visually {border: 0;clip: rect(1px 1px 1px 1px);clip: rect(1px, 1px, 1px, 1px);height: 1px;margin: -1px;overflow: hidden;padding: 0;position: absolute;width: 1px;}#sk-container-id-1 div.sk-estimator {font-family: monospace;background-color: #f0f8ff;border: 1px dotted black;border-radius: 0.25em;box-sizing: border-box;margin-bottom: 0.5em;}#sk-container-id-1 div.sk-estimator:hover {background-color: #d4ebff;}#sk-container-id-1 div.sk-parallel-item::after {content: \"\";width: 100%;border-bottom: 1px solid gray;flex-grow: 1;}#sk-container-id-1 div.sk-label:hover label.sk-toggleable__label {background-color: #d4ebff;}#sk-container-id-1 div.sk-serial::before {content: \"\";position: absolute;border-left: 1px solid gray;box-sizing: border-box;top: 0;bottom: 0;left: 50%;z-index: 0;}#sk-container-id-1 div.sk-serial {display: flex;flex-direction: column;align-items: center;background-color: white;padding-right: 0.2em;padding-left: 0.2em;position: relative;}#sk-container-id-1 div.sk-item {position: relative;z-index: 1;}#sk-container-id-1 div.sk-parallel {display: flex;align-items: stretch;justify-content: center;background-color: white;position: relative;}#sk-container-id-1 div.sk-item::before, #sk-container-id-1 div.sk-parallel-item::before {content: \"\";position: absolute;border-left: 1px solid gray;box-sizing: border-box;top: 0;bottom: 0;left: 50%;z-index: -1;}#sk-container-id-1 div.sk-parallel-item {display: flex;flex-direction: column;z-index: 1;position: relative;background-color: white;}#sk-container-id-1 div.sk-parallel-item:first-child::after {align-self: flex-end;width: 50%;}#sk-container-id-1 div.sk-parallel-item:last-child::after {align-self: flex-start;width: 50%;}#sk-container-id-1 div.sk-parallel-item:only-child::after {width: 0;}#sk-container-id-1 div.sk-dashed-wrapped {border: 1px dashed gray;margin: 0 0.4em 0.5em 0.4em;box-sizing: border-box;padding-bottom: 0.4em;background-color: white;}#sk-container-id-1 div.sk-label label {font-family: monospace;font-weight: bold;display: inline-block;line-height: 1.2em;}#sk-container-id-1 div.sk-label-container {text-align: center;}#sk-container-id-1 div.sk-container {/* jupyter's `normalize.less` sets `[hidden] { display: none; }` but bootstrap.min.css set `[hidden] { display: none !important; }` so we also need the `!important` here to be able to override the default hidden behavior on the sphinx rendered scikit-learn.org. See: https://github.com/scikit-learn/scikit-learn/issues/21755 */display: inline-block !important;position: relative;}#sk-container-id-1 div.sk-text-repr-fallback {display: none;}</style><div id=\"sk-container-id-1\" class=\"sk-top-container\"><div class=\"sk-text-repr-fallback\"><pre>DecisionTreeRegressor(random_state=1)</pre><b>In a Jupyter environment, please rerun this cell to show the HTML representation or trust the notebook. <br />On GitHub, the HTML representation is unable to render, please try loading this page with nbviewer.org.</b></div><div class=\"sk-container\" hidden><div class=\"sk-item\"><div class=\"sk-estimator sk-toggleable\"><input class=\"sk-toggleable__control sk-hidden--visually\" id=\"sk-estimator-id-1\" type=\"checkbox\" checked><label for=\"sk-estimator-id-1\" class=\"sk-toggleable__label sk-toggleable__label-arrow\">DecisionTreeRegressor</label><div class=\"sk-toggleable__content\"><pre>DecisionTreeRegressor(random_state=1)</pre></div></div></div></div></div>"
      ],
      "text/plain": [
       "DecisionTreeRegressor(random_state=1)"
      ]
     },
     "execution_count": 21,
     "metadata": {},
     "output_type": "execute_result"
    }
   ],
   "source": [
    "from sklearn.tree import DecisionTreeRegressor\n",
    "\n",
    "#defining modelw/ random state number assigned for same results each run\n",
    "spacedata_model= DecisionTreeRegressor(random_state=1)\n",
    "\n",
    "#fitmodel\n",
    "spacedata_model.fit(x,y)"
   ]
  },
  {
   "cell_type": "code",
   "execution_count": 22,
   "id": "6eca3d84",
   "metadata": {
    "execution": {
     "iopub.execute_input": "2023-11-27T03:46:04.146283Z",
     "iopub.status.busy": "2023-11-27T03:46:04.145085Z",
     "iopub.status.idle": "2023-11-27T03:46:04.163418Z",
     "shell.execute_reply": "2023-11-27T03:46:04.161795Z"
    },
    "papermill": {
     "duration": 0.044357,
     "end_time": "2023-11-27T03:46:04.166850",
     "exception": false,
     "start_time": "2023-11-27T03:46:04.122493",
     "status": "completed"
    },
    "tags": []
   },
   "outputs": [
    {
     "name": "stdout",
     "output_type": "stream",
     "text": [
      "Making Predictions for Astral Coordinates\n",
      "           ra        dec  r_metallicity  r_distance  r_mg  r_si  r_fe\n",
      "0    5.006676 -11.301198          -1.17    1727.640 -0.59 -0.51 -0.85\n",
      "1  117.088561 -56.580599          -0.42    2119.690 -0.15  0.20  0.04\n",
      "2  333.777191 -15.995633          -0.02     187.871  0.13  0.27  0.09\n",
      "3   64.917608 -15.024918          -1.11    1565.860 -0.53 -0.53 -0.93\n",
      "4  153.276631 -74.821281          -1.25    2291.910 -0.58 -0.32 -0.78\n",
      "The predictions are\n",
      "[11.8148 12.1001 10.4326 11.7316 10.2488]\n"
     ]
    }
   ],
   "source": [
    "print (\"Making Predictions for Astral Coordinates\")\n",
    "print(x.head())\n",
    "print(\"The predictions are\")\n",
    "print(spacedata_model.predict(x.head()))\n",
    " \n",
    "#we just predicted what the magnitude (brightness) should be for a variety of scenarios. "
   ]
  },
  {
   "cell_type": "code",
   "execution_count": null,
   "id": "8abcd7f7",
   "metadata": {
    "papermill": {
     "duration": 0.019299,
     "end_time": "2023-11-27T03:46:04.207121",
     "exception": false,
     "start_time": "2023-11-27T03:46:04.187822",
     "status": "completed"
    },
    "tags": []
   },
   "outputs": [],
   "source": []
  }
 ],
 "metadata": {
  "kaggle": {
   "accelerator": "none",
   "dataSources": [
    {
     "datasetId": 1127,
     "sourceId": 2029,
     "sourceType": "datasetVersion"
    },
    {
     "datasetId": 2894,
     "sourceId": 4877,
     "sourceType": "datasetVersion"
    },
    {
     "datasetId": 34522,
     "sourceId": 800205,
     "sourceType": "datasetVersion"
    },
    {
     "datasetId": 972430,
     "sourceId": 1644579,
     "sourceType": "datasetVersion"
    },
    {
     "datasetId": 991741,
     "sourceId": 1674235,
     "sourceType": "datasetVersion"
    },
    {
     "datasetId": 1483741,
     "sourceId": 2451390,
     "sourceType": "datasetVersion"
    },
    {
     "datasetId": 2307134,
     "sourceId": 3882663,
     "sourceType": "datasetVersion"
    },
    {
     "datasetId": 3849762,
     "sourceId": 6672584,
     "sourceType": "datasetVersion"
    },
    {
     "datasetId": 689444,
     "sourceId": 6884659,
     "sourceType": "datasetVersion"
    }
   ],
   "dockerImageVersionId": 30558,
   "isGpuEnabled": false,
   "isInternetEnabled": true,
   "language": "python",
   "sourceType": "notebook"
  },
  "kernelspec": {
   "display_name": "Python 3",
   "language": "python",
   "name": "python3"
  },
  "language_info": {
   "codemirror_mode": {
    "name": "ipython",
    "version": 3
   },
   "file_extension": ".py",
   "mimetype": "text/x-python",
   "name": "python",
   "nbconvert_exporter": "python",
   "pygments_lexer": "ipython3",
   "version": "3.10.12"
  },
  "papermill": {
   "default_parameters": {},
   "duration": 118.063349,
   "end_time": "2023-11-27T03:46:05.352522",
   "environment_variables": {},
   "exception": null,
   "input_path": "__notebook__.ipynb",
   "output_path": "__notebook__.ipynb",
   "parameters": {},
   "start_time": "2023-11-27T03:44:07.289173",
   "version": "2.4.0"
  }
 },
 "nbformat": 4,
 "nbformat_minor": 5
}
