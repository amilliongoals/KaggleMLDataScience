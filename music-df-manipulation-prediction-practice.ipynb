{
 "cells": [
  {
   "cell_type": "code",
   "execution_count": 1,
   "id": "51b34b35",
   "metadata": {
    "_cell_guid": "b1076dfc-b9ad-4769-8c92-a6c4dae69d19",
    "_uuid": "8f2839f25d086af736a60e9eeb907d3b93b6e0e5",
    "execution": {
     "iopub.execute_input": "2023-11-27T03:54:51.757200Z",
     "iopub.status.busy": "2023-11-27T03:54:51.756762Z",
     "iopub.status.idle": "2023-11-27T03:54:53.212023Z",
     "shell.execute_reply": "2023-11-27T03:54:53.210863Z"
    },
    "papermill": {
     "duration": 1.47164,
     "end_time": "2023-11-27T03:54:53.215270",
     "exception": false,
     "start_time": "2023-11-27T03:54:51.743630",
     "status": "completed"
    },
    "tags": []
   },
   "outputs": [
    {
     "data": {
      "text/html": [
       "<div>\n",
       "<style scoped>\n",
       "    .dataframe tbody tr th:only-of-type {\n",
       "        vertical-align: middle;\n",
       "    }\n",
       "\n",
       "    .dataframe tbody tr th {\n",
       "        vertical-align: top;\n",
       "    }\n",
       "\n",
       "    .dataframe thead th {\n",
       "        text-align: right;\n",
       "    }\n",
       "</style>\n",
       "<table border=\"1\" class=\"dataframe\">\n",
       "  <thead>\n",
       "    <tr style=\"text-align: right;\">\n",
       "      <th></th>\n",
       "      <th>track_id</th>\n",
       "      <th>track_name</th>\n",
       "      <th>track_artist</th>\n",
       "      <th>track_popularity</th>\n",
       "      <th>track_album_id</th>\n",
       "      <th>track_album_name</th>\n",
       "      <th>track_album_release_date</th>\n",
       "      <th>playlist_name</th>\n",
       "      <th>playlist_id</th>\n",
       "      <th>playlist_genre</th>\n",
       "      <th>...</th>\n",
       "      <th>key</th>\n",
       "      <th>loudness</th>\n",
       "      <th>mode</th>\n",
       "      <th>speechiness</th>\n",
       "      <th>acousticness</th>\n",
       "      <th>instrumentalness</th>\n",
       "      <th>liveness</th>\n",
       "      <th>valence</th>\n",
       "      <th>tempo</th>\n",
       "      <th>duration_ms</th>\n",
       "    </tr>\n",
       "  </thead>\n",
       "  <tbody>\n",
       "    <tr>\n",
       "      <th>0</th>\n",
       "      <td>6f807x0ima9a1j3VPbc7VN</td>\n",
       "      <td>I Don't Care (with Justin Bieber) - Loud Luxur...</td>\n",
       "      <td>Ed Sheeran</td>\n",
       "      <td>66</td>\n",
       "      <td>2oCs0DGTsRO98Gh5ZSl2Cx</td>\n",
       "      <td>I Don't Care (with Justin Bieber) [Loud Luxury...</td>\n",
       "      <td>2019-06-14</td>\n",
       "      <td>Pop Remix</td>\n",
       "      <td>37i9dQZF1DXcZDD7cfEKhW</td>\n",
       "      <td>pop</td>\n",
       "      <td>...</td>\n",
       "      <td>6</td>\n",
       "      <td>-2.634</td>\n",
       "      <td>1</td>\n",
       "      <td>0.0583</td>\n",
       "      <td>0.102000</td>\n",
       "      <td>0.000000</td>\n",
       "      <td>0.0653</td>\n",
       "      <td>0.5180</td>\n",
       "      <td>122.036</td>\n",
       "      <td>194754</td>\n",
       "    </tr>\n",
       "    <tr>\n",
       "      <th>1</th>\n",
       "      <td>0r7CVbZTWZgbTCYdfa2P31</td>\n",
       "      <td>Memories - Dillon Francis Remix</td>\n",
       "      <td>Maroon 5</td>\n",
       "      <td>67</td>\n",
       "      <td>63rPSO264uRjW1X5E6cWv6</td>\n",
       "      <td>Memories (Dillon Francis Remix)</td>\n",
       "      <td>2019-12-13</td>\n",
       "      <td>Pop Remix</td>\n",
       "      <td>37i9dQZF1DXcZDD7cfEKhW</td>\n",
       "      <td>pop</td>\n",
       "      <td>...</td>\n",
       "      <td>11</td>\n",
       "      <td>-4.969</td>\n",
       "      <td>1</td>\n",
       "      <td>0.0373</td>\n",
       "      <td>0.072400</td>\n",
       "      <td>0.004210</td>\n",
       "      <td>0.3570</td>\n",
       "      <td>0.6930</td>\n",
       "      <td>99.972</td>\n",
       "      <td>162600</td>\n",
       "    </tr>\n",
       "    <tr>\n",
       "      <th>2</th>\n",
       "      <td>1z1Hg7Vb0AhHDiEmnDE79l</td>\n",
       "      <td>All the Time - Don Diablo Remix</td>\n",
       "      <td>Zara Larsson</td>\n",
       "      <td>70</td>\n",
       "      <td>1HoSmj2eLcsrR0vE9gThr4</td>\n",
       "      <td>All the Time (Don Diablo Remix)</td>\n",
       "      <td>2019-07-05</td>\n",
       "      <td>Pop Remix</td>\n",
       "      <td>37i9dQZF1DXcZDD7cfEKhW</td>\n",
       "      <td>pop</td>\n",
       "      <td>...</td>\n",
       "      <td>1</td>\n",
       "      <td>-3.432</td>\n",
       "      <td>0</td>\n",
       "      <td>0.0742</td>\n",
       "      <td>0.079400</td>\n",
       "      <td>0.000023</td>\n",
       "      <td>0.1100</td>\n",
       "      <td>0.6130</td>\n",
       "      <td>124.008</td>\n",
       "      <td>176616</td>\n",
       "    </tr>\n",
       "    <tr>\n",
       "      <th>3</th>\n",
       "      <td>75FpbthrwQmzHlBJLuGdC7</td>\n",
       "      <td>Call You Mine - Keanu Silva Remix</td>\n",
       "      <td>The Chainsmokers</td>\n",
       "      <td>60</td>\n",
       "      <td>1nqYsOef1yKKuGOVchbsk6</td>\n",
       "      <td>Call You Mine - The Remixes</td>\n",
       "      <td>2019-07-19</td>\n",
       "      <td>Pop Remix</td>\n",
       "      <td>37i9dQZF1DXcZDD7cfEKhW</td>\n",
       "      <td>pop</td>\n",
       "      <td>...</td>\n",
       "      <td>7</td>\n",
       "      <td>-3.778</td>\n",
       "      <td>1</td>\n",
       "      <td>0.1020</td>\n",
       "      <td>0.028700</td>\n",
       "      <td>0.000009</td>\n",
       "      <td>0.2040</td>\n",
       "      <td>0.2770</td>\n",
       "      <td>121.956</td>\n",
       "      <td>169093</td>\n",
       "    </tr>\n",
       "    <tr>\n",
       "      <th>4</th>\n",
       "      <td>1e8PAfcKUYoKkxPhrHqw4x</td>\n",
       "      <td>Someone You Loved - Future Humans Remix</td>\n",
       "      <td>Lewis Capaldi</td>\n",
       "      <td>69</td>\n",
       "      <td>7m7vv9wlQ4i0LFuJiE2zsQ</td>\n",
       "      <td>Someone You Loved (Future Humans Remix)</td>\n",
       "      <td>2019-03-05</td>\n",
       "      <td>Pop Remix</td>\n",
       "      <td>37i9dQZF1DXcZDD7cfEKhW</td>\n",
       "      <td>pop</td>\n",
       "      <td>...</td>\n",
       "      <td>1</td>\n",
       "      <td>-4.672</td>\n",
       "      <td>1</td>\n",
       "      <td>0.0359</td>\n",
       "      <td>0.080300</td>\n",
       "      <td>0.000000</td>\n",
       "      <td>0.0833</td>\n",
       "      <td>0.7250</td>\n",
       "      <td>123.976</td>\n",
       "      <td>189052</td>\n",
       "    </tr>\n",
       "    <tr>\n",
       "      <th>...</th>\n",
       "      <td>...</td>\n",
       "      <td>...</td>\n",
       "      <td>...</td>\n",
       "      <td>...</td>\n",
       "      <td>...</td>\n",
       "      <td>...</td>\n",
       "      <td>...</td>\n",
       "      <td>...</td>\n",
       "      <td>...</td>\n",
       "      <td>...</td>\n",
       "      <td>...</td>\n",
       "      <td>...</td>\n",
       "      <td>...</td>\n",
       "      <td>...</td>\n",
       "      <td>...</td>\n",
       "      <td>...</td>\n",
       "      <td>...</td>\n",
       "      <td>...</td>\n",
       "      <td>...</td>\n",
       "      <td>...</td>\n",
       "      <td>...</td>\n",
       "    </tr>\n",
       "    <tr>\n",
       "      <th>32828</th>\n",
       "      <td>7bxnKAamR3snQ1VGLuVfC1</td>\n",
       "      <td>City Of Lights - Official Radio Edit</td>\n",
       "      <td>Lush &amp; Simon</td>\n",
       "      <td>42</td>\n",
       "      <td>2azRoBBWEEEYhqV6sb7JrT</td>\n",
       "      <td>City Of Lights (Vocal Mix)</td>\n",
       "      <td>2014-04-28</td>\n",
       "      <td>♥ EDM LOVE 2020</td>\n",
       "      <td>6jI1gFr6ANFtT8MmTvA2Ux</td>\n",
       "      <td>edm</td>\n",
       "      <td>...</td>\n",
       "      <td>2</td>\n",
       "      <td>-1.814</td>\n",
       "      <td>1</td>\n",
       "      <td>0.0936</td>\n",
       "      <td>0.076600</td>\n",
       "      <td>0.000000</td>\n",
       "      <td>0.0668</td>\n",
       "      <td>0.2100</td>\n",
       "      <td>128.170</td>\n",
       "      <td>204375</td>\n",
       "    </tr>\n",
       "    <tr>\n",
       "      <th>32829</th>\n",
       "      <td>5Aevni09Em4575077nkWHz</td>\n",
       "      <td>Closer - Sultan &amp; Ned Shepard Remix</td>\n",
       "      <td>Tegan and Sara</td>\n",
       "      <td>20</td>\n",
       "      <td>6kD6KLxj7s8eCE3ABvAyf5</td>\n",
       "      <td>Closer Remixed</td>\n",
       "      <td>2013-03-08</td>\n",
       "      <td>♥ EDM LOVE 2020</td>\n",
       "      <td>6jI1gFr6ANFtT8MmTvA2Ux</td>\n",
       "      <td>edm</td>\n",
       "      <td>...</td>\n",
       "      <td>0</td>\n",
       "      <td>-4.462</td>\n",
       "      <td>1</td>\n",
       "      <td>0.0420</td>\n",
       "      <td>0.001710</td>\n",
       "      <td>0.004270</td>\n",
       "      <td>0.3750</td>\n",
       "      <td>0.4000</td>\n",
       "      <td>128.041</td>\n",
       "      <td>353120</td>\n",
       "    </tr>\n",
       "    <tr>\n",
       "      <th>32830</th>\n",
       "      <td>7ImMqPP3Q1yfUHvsdn7wEo</td>\n",
       "      <td>Sweet Surrender - Radio Edit</td>\n",
       "      <td>Starkillers</td>\n",
       "      <td>14</td>\n",
       "      <td>0ltWNSY9JgxoIZO4VzuCa6</td>\n",
       "      <td>Sweet Surrender (Radio Edit)</td>\n",
       "      <td>2014-04-21</td>\n",
       "      <td>♥ EDM LOVE 2020</td>\n",
       "      <td>6jI1gFr6ANFtT8MmTvA2Ux</td>\n",
       "      <td>edm</td>\n",
       "      <td>...</td>\n",
       "      <td>6</td>\n",
       "      <td>-4.899</td>\n",
       "      <td>0</td>\n",
       "      <td>0.0481</td>\n",
       "      <td>0.108000</td>\n",
       "      <td>0.000001</td>\n",
       "      <td>0.1500</td>\n",
       "      <td>0.4360</td>\n",
       "      <td>127.989</td>\n",
       "      <td>210112</td>\n",
       "    </tr>\n",
       "    <tr>\n",
       "      <th>32831</th>\n",
       "      <td>2m69mhnfQ1Oq6lGtXuYhgX</td>\n",
       "      <td>Only For You - Maor Levi Remix</td>\n",
       "      <td>Mat Zo</td>\n",
       "      <td>15</td>\n",
       "      <td>1fGrOkHnHJcStl14zNx8Jy</td>\n",
       "      <td>Only For You (Remixes)</td>\n",
       "      <td>2014-01-01</td>\n",
       "      <td>♥ EDM LOVE 2020</td>\n",
       "      <td>6jI1gFr6ANFtT8MmTvA2Ux</td>\n",
       "      <td>edm</td>\n",
       "      <td>...</td>\n",
       "      <td>2</td>\n",
       "      <td>-3.361</td>\n",
       "      <td>1</td>\n",
       "      <td>0.1090</td>\n",
       "      <td>0.007920</td>\n",
       "      <td>0.127000</td>\n",
       "      <td>0.3430</td>\n",
       "      <td>0.3080</td>\n",
       "      <td>128.008</td>\n",
       "      <td>367432</td>\n",
       "    </tr>\n",
       "    <tr>\n",
       "      <th>32832</th>\n",
       "      <td>29zWqhca3zt5NsckZqDf6c</td>\n",
       "      <td>Typhoon - Original Mix</td>\n",
       "      <td>Julian Calor</td>\n",
       "      <td>27</td>\n",
       "      <td>0X3mUOm6MhxR7PzxG95rAo</td>\n",
       "      <td>Typhoon/Storm</td>\n",
       "      <td>2014-03-03</td>\n",
       "      <td>♥ EDM LOVE 2020</td>\n",
       "      <td>6jI1gFr6ANFtT8MmTvA2Ux</td>\n",
       "      <td>edm</td>\n",
       "      <td>...</td>\n",
       "      <td>5</td>\n",
       "      <td>-4.571</td>\n",
       "      <td>0</td>\n",
       "      <td>0.0385</td>\n",
       "      <td>0.000133</td>\n",
       "      <td>0.341000</td>\n",
       "      <td>0.7420</td>\n",
       "      <td>0.0894</td>\n",
       "      <td>127.984</td>\n",
       "      <td>337500</td>\n",
       "    </tr>\n",
       "  </tbody>\n",
       "</table>\n",
       "<p>32833 rows × 23 columns</p>\n",
       "</div>"
      ],
      "text/plain": [
       "                     track_id  \\\n",
       "0      6f807x0ima9a1j3VPbc7VN   \n",
       "1      0r7CVbZTWZgbTCYdfa2P31   \n",
       "2      1z1Hg7Vb0AhHDiEmnDE79l   \n",
       "3      75FpbthrwQmzHlBJLuGdC7   \n",
       "4      1e8PAfcKUYoKkxPhrHqw4x   \n",
       "...                       ...   \n",
       "32828  7bxnKAamR3snQ1VGLuVfC1   \n",
       "32829  5Aevni09Em4575077nkWHz   \n",
       "32830  7ImMqPP3Q1yfUHvsdn7wEo   \n",
       "32831  2m69mhnfQ1Oq6lGtXuYhgX   \n",
       "32832  29zWqhca3zt5NsckZqDf6c   \n",
       "\n",
       "                                              track_name      track_artist  \\\n",
       "0      I Don't Care (with Justin Bieber) - Loud Luxur...        Ed Sheeran   \n",
       "1                        Memories - Dillon Francis Remix          Maroon 5   \n",
       "2                        All the Time - Don Diablo Remix      Zara Larsson   \n",
       "3                      Call You Mine - Keanu Silva Remix  The Chainsmokers   \n",
       "4                Someone You Loved - Future Humans Remix     Lewis Capaldi   \n",
       "...                                                  ...               ...   \n",
       "32828               City Of Lights - Official Radio Edit      Lush & Simon   \n",
       "32829                Closer - Sultan & Ned Shepard Remix    Tegan and Sara   \n",
       "32830                       Sweet Surrender - Radio Edit       Starkillers   \n",
       "32831                     Only For You - Maor Levi Remix            Mat Zo   \n",
       "32832                             Typhoon - Original Mix      Julian Calor   \n",
       "\n",
       "       track_popularity          track_album_id  \\\n",
       "0                    66  2oCs0DGTsRO98Gh5ZSl2Cx   \n",
       "1                    67  63rPSO264uRjW1X5E6cWv6   \n",
       "2                    70  1HoSmj2eLcsrR0vE9gThr4   \n",
       "3                    60  1nqYsOef1yKKuGOVchbsk6   \n",
       "4                    69  7m7vv9wlQ4i0LFuJiE2zsQ   \n",
       "...                 ...                     ...   \n",
       "32828                42  2azRoBBWEEEYhqV6sb7JrT   \n",
       "32829                20  6kD6KLxj7s8eCE3ABvAyf5   \n",
       "32830                14  0ltWNSY9JgxoIZO4VzuCa6   \n",
       "32831                15  1fGrOkHnHJcStl14zNx8Jy   \n",
       "32832                27  0X3mUOm6MhxR7PzxG95rAo   \n",
       "\n",
       "                                        track_album_name  \\\n",
       "0      I Don't Care (with Justin Bieber) [Loud Luxury...   \n",
       "1                        Memories (Dillon Francis Remix)   \n",
       "2                        All the Time (Don Diablo Remix)   \n",
       "3                            Call You Mine - The Remixes   \n",
       "4                Someone You Loved (Future Humans Remix)   \n",
       "...                                                  ...   \n",
       "32828                         City Of Lights (Vocal Mix)   \n",
       "32829                                     Closer Remixed   \n",
       "32830                       Sweet Surrender (Radio Edit)   \n",
       "32831                             Only For You (Remixes)   \n",
       "32832                                      Typhoon/Storm   \n",
       "\n",
       "      track_album_release_date    playlist_name             playlist_id  \\\n",
       "0                   2019-06-14        Pop Remix  37i9dQZF1DXcZDD7cfEKhW   \n",
       "1                   2019-12-13        Pop Remix  37i9dQZF1DXcZDD7cfEKhW   \n",
       "2                   2019-07-05        Pop Remix  37i9dQZF1DXcZDD7cfEKhW   \n",
       "3                   2019-07-19        Pop Remix  37i9dQZF1DXcZDD7cfEKhW   \n",
       "4                   2019-03-05        Pop Remix  37i9dQZF1DXcZDD7cfEKhW   \n",
       "...                        ...              ...                     ...   \n",
       "32828               2014-04-28  ♥ EDM LOVE 2020  6jI1gFr6ANFtT8MmTvA2Ux   \n",
       "32829               2013-03-08  ♥ EDM LOVE 2020  6jI1gFr6ANFtT8MmTvA2Ux   \n",
       "32830               2014-04-21  ♥ EDM LOVE 2020  6jI1gFr6ANFtT8MmTvA2Ux   \n",
       "32831               2014-01-01  ♥ EDM LOVE 2020  6jI1gFr6ANFtT8MmTvA2Ux   \n",
       "32832               2014-03-03  ♥ EDM LOVE 2020  6jI1gFr6ANFtT8MmTvA2Ux   \n",
       "\n",
       "      playlist_genre  ... key  loudness  mode  speechiness  acousticness  \\\n",
       "0                pop  ...   6    -2.634     1       0.0583      0.102000   \n",
       "1                pop  ...  11    -4.969     1       0.0373      0.072400   \n",
       "2                pop  ...   1    -3.432     0       0.0742      0.079400   \n",
       "3                pop  ...   7    -3.778     1       0.1020      0.028700   \n",
       "4                pop  ...   1    -4.672     1       0.0359      0.080300   \n",
       "...              ...  ...  ..       ...   ...          ...           ...   \n",
       "32828            edm  ...   2    -1.814     1       0.0936      0.076600   \n",
       "32829            edm  ...   0    -4.462     1       0.0420      0.001710   \n",
       "32830            edm  ...   6    -4.899     0       0.0481      0.108000   \n",
       "32831            edm  ...   2    -3.361     1       0.1090      0.007920   \n",
       "32832            edm  ...   5    -4.571     0       0.0385      0.000133   \n",
       "\n",
       "       instrumentalness  liveness  valence    tempo  duration_ms  \n",
       "0              0.000000    0.0653   0.5180  122.036       194754  \n",
       "1              0.004210    0.3570   0.6930   99.972       162600  \n",
       "2              0.000023    0.1100   0.6130  124.008       176616  \n",
       "3              0.000009    0.2040   0.2770  121.956       169093  \n",
       "4              0.000000    0.0833   0.7250  123.976       189052  \n",
       "...                 ...       ...      ...      ...          ...  \n",
       "32828          0.000000    0.0668   0.2100  128.170       204375  \n",
       "32829          0.004270    0.3750   0.4000  128.041       353120  \n",
       "32830          0.000001    0.1500   0.4360  127.989       210112  \n",
       "32831          0.127000    0.3430   0.3080  128.008       367432  \n",
       "32832          0.341000    0.7420   0.0894  127.984       337500  \n",
       "\n",
       "[32833 rows x 23 columns]"
      ]
     },
     "execution_count": 1,
     "metadata": {},
     "output_type": "execute_result"
    }
   ],
   "source": [
    "import pandas as pd\n",
    "\n",
    "musicdf=pd.read_csv('/kaggle/input/30000-spotify-songs/spotify_songs.csv')\n",
    "musicdf"
   ]
  },
  {
   "cell_type": "markdown",
   "id": "d51c5d46",
   "metadata": {
    "papermill": {
     "duration": 0.011689,
     "end_time": "2023-11-27T03:54:53.238876",
     "exception": false,
     "start_time": "2023-11-27T03:54:53.227187",
     "status": "completed"
    },
    "tags": []
   },
   "source": [
    "Table output of every song name "
   ]
  },
  {
   "cell_type": "code",
   "execution_count": 2,
   "id": "55e52ffd",
   "metadata": {
    "execution": {
     "iopub.execute_input": "2023-11-27T03:54:53.264034Z",
     "iopub.status.busy": "2023-11-27T03:54:53.263608Z",
     "iopub.status.idle": "2023-11-27T03:54:53.273368Z",
     "shell.execute_reply": "2023-11-27T03:54:53.272201Z"
    },
    "papermill": {
     "duration": 0.025159,
     "end_time": "2023-11-27T03:54:53.275800",
     "exception": false,
     "start_time": "2023-11-27T03:54:53.250641",
     "status": "completed"
    },
    "tags": []
   },
   "outputs": [
    {
     "data": {
      "text/plain": [
       "0        I Don't Care (with Justin Bieber) - Loud Luxur...\n",
       "1                          Memories - Dillon Francis Remix\n",
       "2                          All the Time - Don Diablo Remix\n",
       "3                        Call You Mine - Keanu Silva Remix\n",
       "4                  Someone You Loved - Future Humans Remix\n",
       "                               ...                        \n",
       "32828                 City Of Lights - Official Radio Edit\n",
       "32829                  Closer - Sultan & Ned Shepard Remix\n",
       "32830                         Sweet Surrender - Radio Edit\n",
       "32831                       Only For You - Maor Levi Remix\n",
       "32832                               Typhoon - Original Mix\n",
       "Name: track_name, Length: 32833, dtype: object"
      ]
     },
     "execution_count": 2,
     "metadata": {},
     "output_type": "execute_result"
    }
   ],
   "source": [
    "songname= musicdf['track_name']\n",
    "songname"
   ]
  },
  {
   "cell_type": "markdown",
   "id": "bb24d3ed",
   "metadata": {
    "papermill": {
     "duration": 0.011395,
     "end_time": "2023-11-27T03:54:53.299058",
     "exception": false,
     "start_time": "2023-11-27T03:54:53.287663",
     "status": "completed"
    },
    "tags": []
   },
   "source": [
    "Randomly output a name of a song "
   ]
  },
  {
   "cell_type": "code",
   "execution_count": 3,
   "id": "8998a8a3",
   "metadata": {
    "execution": {
     "iopub.execute_input": "2023-11-27T03:54:53.324557Z",
     "iopub.status.busy": "2023-11-27T03:54:53.324136Z",
     "iopub.status.idle": "2023-11-27T03:54:53.335134Z",
     "shell.execute_reply": "2023-11-27T03:54:53.334026Z"
    },
    "papermill": {
     "duration": 0.026543,
     "end_time": "2023-11-27T03:54:53.337512",
     "exception": false,
     "start_time": "2023-11-27T03:54:53.310969",
     "status": "completed"
    },
    "tags": []
   },
   "outputs": [
    {
     "data": {
      "text/plain": [
       "22916    The Wire\n",
       "Name: track_name, dtype: object"
      ]
     },
     "execution_count": 3,
     "metadata": {},
     "output_type": "execute_result"
    }
   ],
   "source": [
    "songname.sample()  \n",
    "#.sample() selects one random row no parameters"
   ]
  },
  {
   "cell_type": "markdown",
   "id": "493084eb",
   "metadata": {
    "papermill": {
     "duration": 0.011569,
     "end_time": "2023-11-27T03:54:53.361060",
     "exception": false,
     "start_time": "2023-11-27T03:54:53.349491",
     "status": "completed"
    },
    "tags": []
   },
   "source": [
    "3 random songs & then organize them alphebetically"
   ]
  },
  {
   "cell_type": "code",
   "execution_count": 4,
   "id": "8ab23f09",
   "metadata": {
    "execution": {
     "iopub.execute_input": "2023-11-27T03:54:53.387200Z",
     "iopub.status.busy": "2023-11-27T03:54:53.386456Z",
     "iopub.status.idle": "2023-11-27T03:54:53.396214Z",
     "shell.execute_reply": "2023-11-27T03:54:53.395029Z"
    },
    "papermill": {
     "duration": 0.025355,
     "end_time": "2023-11-27T03:54:53.398525",
     "exception": false,
     "start_time": "2023-11-27T03:54:53.373170",
     "status": "completed"
    },
    "tags": []
   },
   "outputs": [
    {
     "data": {
      "text/plain": [
       "12605                                          Ligaya\n",
       "18174    Ooh La - Acoustic / Live At Abbey Road, 2005\n",
       "7278                                    Tho Dem Wraps\n",
       "Name: track_name, dtype: object"
      ]
     },
     "execution_count": 4,
     "metadata": {},
     "output_type": "execute_result"
    }
   ],
   "source": [
    "#print(threesongs.sort_values()) #sorts alphabetically\n",
    "#n=3 choose 3 songs\n",
    "threesongs=songname.sample(n=3).sort_values()\n",
    "threesongs"
   ]
  },
  {
   "cell_type": "markdown",
   "id": "fcdbc017",
   "metadata": {
    "papermill": {
     "duration": 0.011725,
     "end_time": "2023-11-27T03:54:53.422489",
     "exception": false,
     "start_time": "2023-11-27T03:54:53.410764",
     "status": "completed"
    },
    "tags": []
   },
   "source": [
    "The longest 5 songs (descending order)"
   ]
  },
  {
   "cell_type": "code",
   "execution_count": 5,
   "id": "ffaa02de",
   "metadata": {
    "execution": {
     "iopub.execute_input": "2023-11-27T03:54:53.449811Z",
     "iopub.status.busy": "2023-11-27T03:54:53.449370Z",
     "iopub.status.idle": "2023-11-27T03:54:53.492845Z",
     "shell.execute_reply": "2023-11-27T03:54:53.491523Z"
    },
    "papermill": {
     "duration": 0.061036,
     "end_time": "2023-11-27T03:54:53.495677",
     "exception": false,
     "start_time": "2023-11-27T03:54:53.434641",
     "status": "completed"
    },
    "tags": []
   },
   "outputs": [
    {
     "data": {
      "text/html": [
       "<div>\n",
       "<style scoped>\n",
       "    .dataframe tbody tr th:only-of-type {\n",
       "        vertical-align: middle;\n",
       "    }\n",
       "\n",
       "    .dataframe tbody tr th {\n",
       "        vertical-align: top;\n",
       "    }\n",
       "\n",
       "    .dataframe thead th {\n",
       "        text-align: right;\n",
       "    }\n",
       "</style>\n",
       "<table border=\"1\" class=\"dataframe\">\n",
       "  <thead>\n",
       "    <tr style=\"text-align: right;\">\n",
       "      <th></th>\n",
       "      <th>track_id</th>\n",
       "      <th>track_name</th>\n",
       "      <th>track_artist</th>\n",
       "      <th>track_popularity</th>\n",
       "      <th>track_album_id</th>\n",
       "      <th>track_album_name</th>\n",
       "      <th>track_album_release_date</th>\n",
       "      <th>playlist_name</th>\n",
       "      <th>playlist_id</th>\n",
       "      <th>playlist_genre</th>\n",
       "      <th>...</th>\n",
       "      <th>key</th>\n",
       "      <th>loudness</th>\n",
       "      <th>mode</th>\n",
       "      <th>speechiness</th>\n",
       "      <th>acousticness</th>\n",
       "      <th>instrumentalness</th>\n",
       "      <th>liveness</th>\n",
       "      <th>valence</th>\n",
       "      <th>tempo</th>\n",
       "      <th>duration_ms</th>\n",
       "    </tr>\n",
       "  </thead>\n",
       "  <tbody>\n",
       "    <tr>\n",
       "      <th>11770</th>\n",
       "      <td>6Vjk8MNXpQpi0F4BefdTyq</td>\n",
       "      <td>Kashmir - 2012 Remaster</td>\n",
       "      <td>Led Zeppelin</td>\n",
       "      <td>63</td>\n",
       "      <td>26tH0kjUhkxBEd3ipGkx3Y</td>\n",
       "      <td>Physical Graffiti (Deluxe Edition)</td>\n",
       "      <td>1975-02-24</td>\n",
       "      <td>House Of The Rising Sun</td>\n",
       "      <td>1bMYfBHYBCRHY5LGkjlpSy</td>\n",
       "      <td>rock</td>\n",
       "      <td>...</td>\n",
       "      <td>2</td>\n",
       "      <td>-8.538</td>\n",
       "      <td>1</td>\n",
       "      <td>0.0497</td>\n",
       "      <td>0.452</td>\n",
       "      <td>0.000414</td>\n",
       "      <td>0.0512</td>\n",
       "      <td>0.594</td>\n",
       "      <td>80.576</td>\n",
       "      <td>517125</td>\n",
       "    </tr>\n",
       "    <tr>\n",
       "      <th>12391</th>\n",
       "      <td>6Vjk8MNXpQpi0F4BefdTyq</td>\n",
       "      <td>Kashmir - 2012 Remaster</td>\n",
       "      <td>Led Zeppelin</td>\n",
       "      <td>63</td>\n",
       "      <td>26tH0kjUhkxBEd3ipGkx3Y</td>\n",
       "      <td>Physical Graffiti (Deluxe Edition)</td>\n",
       "      <td>1975-02-24</td>\n",
       "      <td>Rock Classics</td>\n",
       "      <td>37i9dQZF1DWXRqgorJj26U</td>\n",
       "      <td>rock</td>\n",
       "      <td>...</td>\n",
       "      <td>2</td>\n",
       "      <td>-8.538</td>\n",
       "      <td>1</td>\n",
       "      <td>0.0497</td>\n",
       "      <td>0.452</td>\n",
       "      <td>0.000414</td>\n",
       "      <td>0.0512</td>\n",
       "      <td>0.594</td>\n",
       "      <td>80.576</td>\n",
       "      <td>517125</td>\n",
       "    </tr>\n",
       "    <tr>\n",
       "      <th>21327</th>\n",
       "      <td>6IoKSUyNOOheJRjiuGb1ew</td>\n",
       "      <td>47 - Remix</td>\n",
       "      <td>Anuel AA</td>\n",
       "      <td>64</td>\n",
       "      <td>0uwIB5LyXa2riRyWUwKiJA</td>\n",
       "      <td>47 (Remix)</td>\n",
       "      <td>2017-03-31</td>\n",
       "      <td>Los Cangri</td>\n",
       "      <td>2hTs6GuPwhmg4ApNqxWXLE</td>\n",
       "      <td>latin</td>\n",
       "      <td>...</td>\n",
       "      <td>6</td>\n",
       "      <td>-4.891</td>\n",
       "      <td>1</td>\n",
       "      <td>0.1930</td>\n",
       "      <td>0.248</td>\n",
       "      <td>0.000000</td>\n",
       "      <td>0.2540</td>\n",
       "      <td>0.376</td>\n",
       "      <td>146.016</td>\n",
       "      <td>517810</td>\n",
       "    </tr>\n",
       "  </tbody>\n",
       "</table>\n",
       "<p>3 rows × 23 columns</p>\n",
       "</div>"
      ],
      "text/plain": [
       "                     track_id               track_name  track_artist  \\\n",
       "11770  6Vjk8MNXpQpi0F4BefdTyq  Kashmir - 2012 Remaster  Led Zeppelin   \n",
       "12391  6Vjk8MNXpQpi0F4BefdTyq  Kashmir - 2012 Remaster  Led Zeppelin   \n",
       "21327  6IoKSUyNOOheJRjiuGb1ew               47 - Remix      Anuel AA   \n",
       "\n",
       "       track_popularity          track_album_id  \\\n",
       "11770                63  26tH0kjUhkxBEd3ipGkx3Y   \n",
       "12391                63  26tH0kjUhkxBEd3ipGkx3Y   \n",
       "21327                64  0uwIB5LyXa2riRyWUwKiJA   \n",
       "\n",
       "                         track_album_name track_album_release_date  \\\n",
       "11770  Physical Graffiti (Deluxe Edition)               1975-02-24   \n",
       "12391  Physical Graffiti (Deluxe Edition)               1975-02-24   \n",
       "21327                          47 (Remix)               2017-03-31   \n",
       "\n",
       "                 playlist_name             playlist_id playlist_genre  ...  \\\n",
       "11770  House Of The Rising Sun  1bMYfBHYBCRHY5LGkjlpSy           rock  ...   \n",
       "12391            Rock Classics  37i9dQZF1DWXRqgorJj26U           rock  ...   \n",
       "21327               Los Cangri  2hTs6GuPwhmg4ApNqxWXLE          latin  ...   \n",
       "\n",
       "      key  loudness  mode  speechiness  acousticness  instrumentalness  \\\n",
       "11770   2    -8.538     1       0.0497         0.452          0.000414   \n",
       "12391   2    -8.538     1       0.0497         0.452          0.000414   \n",
       "21327   6    -4.891     1       0.1930         0.248          0.000000   \n",
       "\n",
       "       liveness  valence    tempo  duration_ms  \n",
       "11770    0.0512    0.594   80.576       517125  \n",
       "12391    0.0512    0.594   80.576       517125  \n",
       "21327    0.2540    0.376  146.016       517810  \n",
       "\n",
       "[3 rows x 23 columns]"
      ]
     },
     "execution_count": 5,
     "metadata": {},
     "output_type": "execute_result"
    }
   ],
   "source": [
    "longest=musicdf.sort_values('duration_ms', ascending=True)\n",
    "longest.tail(3) #also longest.iloc[-3:] would do the same"
   ]
  },
  {
   "cell_type": "markdown",
   "id": "9a682a28",
   "metadata": {
    "papermill": {
     "duration": 0.012694,
     "end_time": "2023-11-27T03:54:53.521254",
     "exception": false,
     "start_time": "2023-11-27T03:54:53.508560",
     "status": "completed"
    },
    "tags": []
   },
   "source": [
    "average energy of each song\n",
    "\n"
   ]
  },
  {
   "cell_type": "code",
   "execution_count": 6,
   "id": "d7890dca",
   "metadata": {
    "execution": {
     "iopub.execute_input": "2023-11-27T03:54:53.549403Z",
     "iopub.status.busy": "2023-11-27T03:54:53.548972Z",
     "iopub.status.idle": "2023-11-27T03:54:53.570805Z",
     "shell.execute_reply": "2023-11-27T03:54:53.569531Z"
    },
    "papermill": {
     "duration": 0.039522,
     "end_time": "2023-11-27T03:54:53.573643",
     "exception": false,
     "start_time": "2023-11-27T03:54:53.534121",
     "status": "completed"
    },
    "tags": []
   },
   "outputs": [
    {
     "name": "stdout",
     "output_type": "stream",
     "text": [
      "mean of energy:  0.6986192707032558\n"
     ]
    },
    {
     "data": {
      "text/plain": [
       "count    32833.000000\n",
       "mean         0.698619\n",
       "std          0.180910\n",
       "min          0.000175\n",
       "25%          0.581000\n",
       "50%          0.721000\n",
       "75%          0.840000\n",
       "max          1.000000\n",
       "Name: energy, dtype: float64"
      ]
     },
     "execution_count": 6,
     "metadata": {},
     "output_type": "execute_result"
    }
   ],
   "source": [
    "print(\"mean of energy: \",musicdf['energy'].mean())\n",
    "musicdf['energy'].describe()\n"
   ]
  },
  {
   "cell_type": "markdown",
   "id": "5326567d",
   "metadata": {
    "papermill": {
     "duration": 0.012973,
     "end_time": "2023-11-27T03:54:53.599720",
     "exception": false,
     "start_time": "2023-11-27T03:54:53.586747",
     "status": "completed"
    },
    "tags": []
   },
   "source": [
    "Predict a song's artist name of a song based on the data received. \n",
    "\n",
    "Personal challenge: do not search using identifiable variables, but use ML to accomplish this. \n",
    "\n",
    "\n",
    "To feed into ML need to convert my strings to floats & at end feed ids into a key to get strings back out \n",
    "\n",
    "\n",
    "Problem I'm facing: for this method (sklearn), categorical data (strings or even static ints) is what I am trying to match data to. This is different than me trying to predict average volume level based on other variables, but rather trying to associate variables with an identity/'category'. \n",
    "\n",
    "I can convert my strings into float/integers, but this doesn't resolve the problem unless I can put artists onto a numerical scale that makes sense based on a solved for value, which really doesn't make sense due to the great variation artist to artist. This is what is done in cases with categories like colors: red blue green. Which can be be 'hot encoded' or quite frankly associated directly with a wavelength gradient which would make a lot more sense. \n",
    "\n",
    "Solution:\n",
    "A) Either find a ML libary that encodes categories to data to fit my use case\n",
    "B) Find how to make sklearn work with categorical data\n",
    "\n"
   ]
  },
  {
   "cell_type": "code",
   "execution_count": 7,
   "id": "fe2ab8f3",
   "metadata": {
    "execution": {
     "iopub.execute_input": "2023-11-27T03:54:53.627151Z",
     "iopub.status.busy": "2023-11-27T03:54:53.626745Z",
     "iopub.status.idle": "2023-11-27T03:54:55.001218Z",
     "shell.execute_reply": "2023-11-27T03:54:55.000192Z"
    },
    "papermill": {
     "duration": 1.391548,
     "end_time": "2023-11-27T03:54:55.004140",
     "exception": false,
     "start_time": "2023-11-27T03:54:53.612592",
     "status": "completed"
    },
    "tags": []
   },
   "outputs": [
    {
     "name": "stdout",
     "output_type": "stream",
     "text": [
      "           track_artist  track_popularity  danceability  energy  key  \\\n",
      "0            Ed Sheeran                66         0.748   0.916    6   \n",
      "1              Maroon 5                67         0.726   0.815   11   \n",
      "2          Zara Larsson                70         0.675   0.931    1   \n",
      "3      The Chainsmokers                60         0.718   0.930    7   \n",
      "4         Lewis Capaldi                69         0.650   0.833    1   \n",
      "...                 ...               ...           ...     ...  ...   \n",
      "32828      Lush & Simon                42         0.428   0.922    2   \n",
      "32829    Tegan and Sara                20         0.522   0.786    0   \n",
      "32830       Starkillers                14         0.529   0.821    6   \n",
      "32831            Mat Zo                15         0.626   0.888    2   \n",
      "32832      Julian Calor                27         0.603   0.884    5   \n",
      "\n",
      "       loudness  mode  speechiness  acousticness  instrumentalness  liveness  \\\n",
      "0        -2.634     1       0.0583      0.102000          0.000000    0.0653   \n",
      "1        -4.969     1       0.0373      0.072400          0.004210    0.3570   \n",
      "2        -3.432     0       0.0742      0.079400          0.000023    0.1100   \n",
      "3        -3.778     1       0.1020      0.028700          0.000009    0.2040   \n",
      "4        -4.672     1       0.0359      0.080300          0.000000    0.0833   \n",
      "...         ...   ...          ...           ...               ...       ...   \n",
      "32828    -1.814     1       0.0936      0.076600          0.000000    0.0668   \n",
      "32829    -4.462     1       0.0420      0.001710          0.004270    0.3750   \n",
      "32830    -4.899     0       0.0481      0.108000          0.000001    0.1500   \n",
      "32831    -3.361     1       0.1090      0.007920          0.127000    0.3430   \n",
      "32832    -4.571     0       0.0385      0.000133          0.341000    0.7420   \n",
      "\n",
      "       valence    tempo  duration_ms  \n",
      "0       0.5180  122.036       194754  \n",
      "1       0.6930   99.972       162600  \n",
      "2       0.6130  124.008       176616  \n",
      "3       0.2770  121.956       169093  \n",
      "4       0.7250  123.976       189052  \n",
      "...        ...      ...          ...  \n",
      "32828   0.2100  128.170       204375  \n",
      "32829   0.4000  128.041       353120  \n",
      "32830   0.4360  127.989       210112  \n",
      "32831   0.3080  128.008       367432  \n",
      "32832   0.0894  127.984       337500  \n",
      "\n",
      "[32828 rows x 14 columns]\n"
     ]
    }
   ],
   "source": [
    "from sklearn.compose import make_column_selector as selector\n",
    "import pandas as pd\n",
    "\n",
    "music_cleared = musicdf.dropna(axis=0)\n",
    "\n",
    "#here i removed non-features & non- target from my dataset\n",
    "music_features=music_cleared.drop(columns=[\"track_id\",\"playlist_subgenre\",\"playlist_name\",\"playlist_genre\",\"track_album_name\",\"playlist_id\",\"track_album_release_date\", \"track_name\" , \"track_album_id\"])\n",
    "print(music_features)\n",
    "\n"
   ]
  },
  {
   "cell_type": "code",
   "execution_count": 8,
   "id": "17882605",
   "metadata": {
    "execution": {
     "iopub.execute_input": "2023-11-27T03:54:55.033107Z",
     "iopub.status.busy": "2023-11-27T03:54:55.032032Z",
     "iopub.status.idle": "2023-11-27T03:54:55.053252Z",
     "shell.execute_reply": "2023-11-27T03:54:55.050990Z"
    },
    "papermill": {
     "duration": 0.038967,
     "end_time": "2023-11-27T03:54:55.056601",
     "exception": false,
     "start_time": "2023-11-27T03:54:55.017634",
     "status": "completed"
    },
    "tags": []
   },
   "outputs": [
    {
     "name": "stdout",
     "output_type": "stream",
     "text": [
      "           track_artist\n",
      "0            Ed Sheeran\n",
      "1              Maroon 5\n",
      "2          Zara Larsson\n",
      "3      The Chainsmokers\n",
      "4         Lewis Capaldi\n",
      "...                 ...\n",
      "32828      Lush & Simon\n",
      "32829    Tegan and Sara\n",
      "32830       Starkillers\n",
      "32831            Mat Zo\n",
      "32832      Julian Calor\n",
      "\n",
      "[32828 rows x 1 columns]\n"
     ]
    },
    {
     "data": {
      "text/plain": [
       "track_popularity      int64\n",
       "danceability        float64\n",
       "energy              float64\n",
       "key                   int64\n",
       "loudness            float64\n",
       "mode                  int64\n",
       "speechiness         float64\n",
       "acousticness        float64\n",
       "instrumentalness    float64\n",
       "liveness            float64\n",
       "valence             float64\n",
       "tempo               float64\n",
       "duration_ms           int64\n",
       "dtype: object"
      ]
     },
     "execution_count": 8,
     "metadata": {},
     "output_type": "execute_result"
    }
   ],
   "source": [
    "target_name=\"track_artist\" #this is what we are trying to match\n",
    "target=music_features[target_name] \n",
    "\n",
    "artist_column=music_features[[\"track_artist\"]]\n",
    "print(artist_column)\n",
    "\n",
    "data=music_features.drop(columns=[target_name])\n",
    "#my data is everything but track artist\n",
    "#so... before I set my features through typing them out, this is the exact opposite method\n",
    "\n",
    "\n",
    "data.dtypes\n",
    "#we have removed all objects / strings from our data types we are using\n",
    "\n"
   ]
  },
  {
   "cell_type": "markdown",
   "id": "971a21e0",
   "metadata": {
    "papermill": {
     "duration": 0.013345,
     "end_time": "2023-11-27T03:54:55.083251",
     "exception": false,
     "start_time": "2023-11-27T03:54:55.069906",
     "status": "completed"
    },
    "tags": []
   },
   "source": [
    "Now we have a target data of artist_name\n",
    "and we have our data we are observing \n",
    "\n",
    "What we need to do now is encode our target_data that of artist_name\n",
    "\n",
    "\n",
    "We can do OrdinalEnccoder and encode each category with a different number, this ASSUMES order (like colors -> wavelengths  or dress size )\n",
    "\n",
    "\n"
   ]
  },
  {
   "cell_type": "markdown",
   "id": "d8863c7d",
   "metadata": {
    "papermill": {
     "duration": 0.013323,
     "end_time": "2023-11-27T03:54:55.110549",
     "exception": false,
     "start_time": "2023-11-27T03:54:55.097226",
     "status": "completed"
    },
    "tags": []
   },
   "source": [
    "our categories (artist_name) however do no thave an order, hence we can encode it using OneHotEncoder that prevents false assumptions. We can do this for a single feature, in this case we will do artist_name\n"
   ]
  },
  {
   "cell_type": "code",
   "execution_count": 9,
   "id": "da1c9a0b",
   "metadata": {
    "execution": {
     "iopub.execute_input": "2023-11-27T03:54:55.139743Z",
     "iopub.status.busy": "2023-11-27T03:54:55.138616Z",
     "iopub.status.idle": "2023-11-27T03:54:55.143991Z",
     "shell.execute_reply": "2023-11-27T03:54:55.143197Z"
    },
    "papermill": {
     "duration": 0.022298,
     "end_time": "2023-11-27T03:54:55.146324",
     "exception": false,
     "start_time": "2023-11-27T03:54:55.124026",
     "status": "completed"
    },
    "tags": []
   },
   "outputs": [],
   "source": [
    "#from sklearn.preprocessing import OneHotEncoder\n",
    "\n",
    "#encoder= OneHotEncoder(sparse_output=False).set_output(transform=\"pandas\")\n",
    "#target_encoded =encoder.fit_transform(artist_column)\n",
    "#target_encoded"
   ]
  },
  {
   "cell_type": "markdown",
   "id": "d296e82d",
   "metadata": {
    "papermill": {
     "duration": 0.013019,
     "end_time": "2023-11-27T03:54:55.173961",
     "exception": false,
     "start_time": "2023-11-27T03:54:55.160942",
     "status": "completed"
    },
    "tags": []
   },
   "source": [
    "Now we get a df with 1 & 0 to define specific categories in the new matrix being produced. \n",
    "\n",
    "\"One-hot encoding categorical variables with high cardinality can cause computational inefficiency in tree-based models. Because of this, it is not recommended to use OneHotEncoder in such cases even if the original categories do not have a given order.\"\n",
    "\n",
    "The issue is with scikit-learn I really can't use this library effectively for what I want to do. I will continue to use scikit-learn for float/int data set predictions. \n",
    "\n",
    "\n",
    "Let's pivot and try using tensor flow. \n",
    "\n",
    "https://www.tensorflow.org/decision_forests/tutorials/predict_colab\n"
   ]
  },
  {
   "cell_type": "code",
   "execution_count": 10,
   "id": "45462775",
   "metadata": {
    "execution": {
     "iopub.execute_input": "2023-11-27T03:54:55.203265Z",
     "iopub.status.busy": "2023-11-27T03:54:55.202519Z",
     "iopub.status.idle": "2023-11-27T03:54:55.207392Z",
     "shell.execute_reply": "2023-11-27T03:54:55.206501Z"
    },
    "papermill": {
     "duration": 0.022749,
     "end_time": "2023-11-27T03:54:55.209879",
     "exception": false,
     "start_time": "2023-11-27T03:54:55.187130",
     "status": "completed"
    },
    "tags": []
   },
   "outputs": [],
   "source": [
    "#pip install tensorflow_decision_forests"
   ]
  },
  {
   "cell_type": "markdown",
   "id": "17b5b372",
   "metadata": {
    "papermill": {
     "duration": 0.015249,
     "end_time": "2023-11-27T03:54:55.238258",
     "exception": false,
     "start_time": "2023-11-27T03:54:55.223009",
     "status": "completed"
    },
    "tags": []
   },
   "source": [
    "Backtracking...\n",
    "\n",
    "First- let's do this with binary data:\n",
    "Mode is a great piece of data to do this with and predict \n",
    "\n",
    "Thenon, after we do it with Mode let's expand to other data and eventually to identity. \n",
    "\n",
    "For mode: Major is represented by 1 and minor is 0."
   ]
  },
  {
   "cell_type": "code",
   "execution_count": 11,
   "id": "f824502b",
   "metadata": {
    "execution": {
     "iopub.execute_input": "2023-11-27T03:54:55.268078Z",
     "iopub.status.busy": "2023-11-27T03:54:55.266917Z",
     "iopub.status.idle": "2023-11-27T03:55:10.904481Z",
     "shell.execute_reply": "2023-11-27T03:55:10.903255Z"
    },
    "papermill": {
     "duration": 15.656302,
     "end_time": "2023-11-27T03:55:10.907961",
     "exception": false,
     "start_time": "2023-11-27T03:54:55.251659",
     "status": "completed"
    },
    "tags": []
   },
   "outputs": [
    {
     "name": "stdout",
     "output_type": "stream",
     "text": [
      "<class 'pandas.core.frame.DataFrame'>\n",
      "RangeIndex: 32833 entries, 0 to 32832\n",
      "Data columns (total 23 columns):\n",
      " #   Column                    Non-Null Count  Dtype  \n",
      "---  ------                    --------------  -----  \n",
      " 0   track_id                  32833 non-null  object \n",
      " 1   track_name                32828 non-null  object \n",
      " 2   track_artist              32828 non-null  object \n",
      " 3   track_popularity          32833 non-null  int64  \n",
      " 4   track_album_id            32833 non-null  object \n",
      " 5   track_album_name          32828 non-null  object \n",
      " 6   track_album_release_date  32833 non-null  object \n",
      " 7   playlist_name             32833 non-null  object \n",
      " 8   playlist_id               32833 non-null  object \n",
      " 9   playlist_genre            32833 non-null  object \n",
      " 10  playlist_subgenre         32833 non-null  object \n",
      " 11  danceability              32833 non-null  float64\n",
      " 12  energy                    32833 non-null  float64\n",
      " 13  key                       32833 non-null  int64  \n",
      " 14  loudness                  32833 non-null  float64\n",
      " 15  mode                      32833 non-null  int64  \n",
      " 16  speechiness               32833 non-null  float64\n",
      " 17  acousticness              32833 non-null  float64\n",
      " 18  instrumentalness          32833 non-null  float64\n",
      " 19  liveness                  32833 non-null  float64\n",
      " 20  valence                   32833 non-null  float64\n",
      " 21  tempo                     32833 non-null  float64\n",
      " 22  duration_ms               32833 non-null  int64  \n",
      "dtypes: float64(9), int64(4), object(10)\n",
      "memory usage: 5.8+ MB\n",
      "<class 'pandas.core.frame.DataFrame'>\n",
      "RangeIndex: 32833 entries, 0 to 32832\n",
      "Data columns (total 23 columns):\n",
      " #   Column                    Non-Null Count  Dtype  \n",
      "---  ------                    --------------  -----  \n",
      " 0   track_id                  32833 non-null  object \n",
      " 1   track_name                32828 non-null  object \n",
      " 2   track_artist              32828 non-null  object \n",
      " 3   track_popularity          32833 non-null  float64\n",
      " 4   track_album_id            32833 non-null  object \n",
      " 5   track_album_name          32828 non-null  object \n",
      " 6   track_album_release_date  32833 non-null  object \n",
      " 7   playlist_name             32833 non-null  object \n",
      " 8   playlist_id               32833 non-null  object \n",
      " 9   playlist_genre            32833 non-null  object \n",
      " 10  playlist_subgenre         32833 non-null  object \n",
      " 11  danceability              32833 non-null  float64\n",
      " 12  energy                    32833 non-null  float64\n",
      " 13  key                       32833 non-null  float64\n",
      " 14  loudness                  32833 non-null  float64\n",
      " 15  mode                      32833 non-null  float64\n",
      " 16  speechiness               32833 non-null  float64\n",
      " 17  acousticness              32833 non-null  float64\n",
      " 18  instrumentalness          32833 non-null  float64\n",
      " 19  liveness                  32833 non-null  float64\n",
      " 20  valence                   32833 non-null  float64\n",
      " 21  tempo                     32833 non-null  float64\n",
      " 22  duration_ms               32833 non-null  float64\n",
      "dtypes: float64(13), object(10)\n",
      "memory usage: 5.8+ MB\n"
     ]
    }
   ],
   "source": [
    "import tensorflow_decision_forests as tfdf\n",
    "from sklearn.model_selection import train_test_split\n",
    "\n",
    "import os\n",
    "import numpy as np\n",
    "import pandas as pd\n",
    "import tensorflow as tf\n",
    "import math\n",
    "\n",
    "#let's start from scratch with musicdf and re-establish our features \n",
    "\n",
    "musicdf2=pd.read_csv('/kaggle/input/30000-spotify-songs/spotify_songs.csv')\n",
    "\n",
    "\n",
    "\n",
    "musicdf2.info() #I am cleaning up my data converting ints to floats as ints cannot be used\n",
    "#using .info to view the data and again at the end to see the change  \n",
    "\n",
    "musicdf2['track_popularity']=musicdf2['track_popularity'].astype(float)\n",
    "musicdf2['key']=musicdf2['key'].astype(float)\n",
    "musicdf2['mode']=musicdf2['mode'].astype(float)\n",
    "musicdf2['duration_ms']=musicdf2['duration_ms'].astype(float)    \n",
    "#this actually didn't solve my problem :) though it partially did, the reality is for this\n",
    "#model i have to put everything into float32, float64 won't work and .astype(float) just puts it to 32 \n",
    "musicdf2.info()"
   ]
  },
  {
   "cell_type": "code",
   "execution_count": 12,
   "id": "3c877e31",
   "metadata": {
    "execution": {
     "iopub.execute_input": "2023-11-27T03:55:10.936981Z",
     "iopub.status.busy": "2023-11-27T03:55:10.936571Z",
     "iopub.status.idle": "2023-11-27T03:55:10.978527Z",
     "shell.execute_reply": "2023-11-27T03:55:10.977313Z"
    },
    "papermill": {
     "duration": 0.059899,
     "end_time": "2023-11-27T03:55:10.981400",
     "exception": false,
     "start_time": "2023-11-27T03:55:10.921501",
     "status": "completed"
    },
    "tags": []
   },
   "outputs": [],
   "source": [
    "#let's drop the columns with string data we won't be using. \n",
    "#all I want to use is numerical data, and I want my X to be my artist_name\n",
    "\n",
    "#features=pd.get_dummies(musicdf2.drop(columns=[\"track_artist\",\"track_id\",\"playlist_subgenre\",\"playlist_name\",\"playlist_genre\",\"track_album_name\",\"playlist_id\",\"track_album_release_date\", \"track_name\" , \"track_album_id\"]))\n",
    "\n",
    "x=pd.get_dummies(musicdf2.drop(columns=[\"track_artist\",\"mode\",\"track_id\",\"playlist_name\",\"playlist_subgenre\",\"playlist_genre\",\"track_album_name\",\"playlist_id\",\"track_album_release_date\", \"track_name\" , \"track_album_id\"]))\n",
    "y=musicdf2['mode'].apply(lambda x:1 if x==1 else 0)"
   ]
  },
  {
   "cell_type": "markdown",
   "id": "b341849b",
   "metadata": {
    "papermill": {
     "duration": 0.01302,
     "end_time": "2023-11-27T03:55:11.008291",
     "exception": false,
     "start_time": "2023-11-27T03:55:10.995271",
     "status": "completed"
    },
    "tags": []
   },
   "source": [
    "https://keras.io/guides/training_with_built_in_methods/ \n",
    "Used in helping with data types, it seems with the methodlogy I'm doing float 32 is needed over float 64/int as datatypes "
   ]
  },
  {
   "cell_type": "code",
   "execution_count": 13,
   "id": "16af3f61",
   "metadata": {
    "execution": {
     "iopub.execute_input": "2023-11-27T03:55:11.103216Z",
     "iopub.status.busy": "2023-11-27T03:55:11.102818Z",
     "iopub.status.idle": "2023-11-27T03:55:11.123966Z",
     "shell.execute_reply": "2023-11-27T03:55:11.122327Z"
    },
    "papermill": {
     "duration": 0.03939,
     "end_time": "2023-11-27T03:55:11.126790",
     "exception": false,
     "start_time": "2023-11-27T03:55:11.087400",
     "status": "completed"
    },
    "tags": []
   },
   "outputs": [
    {
     "name": "stdout",
     "output_type": "stream",
     "text": [
      "<class 'pandas.core.frame.DataFrame'>\n",
      "Index: 26266 entries, 17451 to 6552\n",
      "Data columns (total 12 columns):\n",
      " #   Column            Non-Null Count  Dtype  \n",
      "---  ------            --------------  -----  \n",
      " 0   track_popularity  26266 non-null  float32\n",
      " 1   danceability      26266 non-null  float32\n",
      " 2   energy            26266 non-null  float32\n",
      " 3   key               26266 non-null  float32\n",
      " 4   loudness          26266 non-null  float32\n",
      " 5   speechiness       26266 non-null  float32\n",
      " 6   acousticness      26266 non-null  float32\n",
      " 7   instrumentalness  26266 non-null  float32\n",
      " 8   liveness          26266 non-null  float32\n",
      " 9   valence           26266 non-null  float32\n",
      " 10  tempo             26266 non-null  float32\n",
      " 11  duration_ms       26266 non-null  float32\n",
      "dtypes: float32(12)\n",
      "memory usage: 1.4 MB\n"
     ]
    }
   ],
   "source": [
    "X_train, X_test, y_train, y_test=train_test_split(x,y,test_size=.2)\n",
    "\n",
    "y_train=y_train.astype(\"float32\")\n",
    "y_test=y_test.astype(\"float32\")\n",
    "\n",
    "X_train=X_train.astype(\"float32\")\n",
    "X_test=X_test.astype(\"float32\") \n",
    "                       \n",
    "\n",
    "X_train.info()"
   ]
  },
  {
   "cell_type": "code",
   "execution_count": 14,
   "id": "300b9ffb",
   "metadata": {
    "execution": {
     "iopub.execute_input": "2023-11-27T03:55:11.156781Z",
     "iopub.status.busy": "2023-11-27T03:55:11.156390Z",
     "iopub.status.idle": "2023-11-27T03:55:11.166846Z",
     "shell.execute_reply": "2023-11-27T03:55:11.165440Z"
    },
    "papermill": {
     "duration": 0.028843,
     "end_time": "2023-11-27T03:55:11.169869",
     "exception": false,
     "start_time": "2023-11-27T03:55:11.141026",
     "status": "completed"
    },
    "tags": []
   },
   "outputs": [
    {
     "data": {
      "text/plain": [
       "17451    0.0\n",
       "12973    0.0\n",
       "11767    0.0\n",
       "9224     0.0\n",
       "20127    1.0\n",
       "        ... \n",
       "22694    1.0\n",
       "13963    0.0\n",
       "24493    1.0\n",
       "30514    0.0\n",
       "6552     0.0\n",
       "Name: mode, Length: 26266, dtype: float32"
      ]
     },
     "execution_count": 14,
     "metadata": {},
     "output_type": "execute_result"
    }
   ],
   "source": [
    "y_train"
   ]
  },
  {
   "cell_type": "markdown",
   "id": "8b5a5c8e",
   "metadata": {
    "papermill": {
     "duration": 0.013751,
     "end_time": "2023-11-27T03:55:11.198039",
     "exception": false,
     "start_time": "2023-11-27T03:55:11.184288",
     "status": "completed"
    },
    "tags": []
   },
   "source": [
    "Dependencies we are using "
   ]
  },
  {
   "cell_type": "code",
   "execution_count": 15,
   "id": "8a9fad96",
   "metadata": {
    "execution": {
     "iopub.execute_input": "2023-11-27T03:55:11.229597Z",
     "iopub.status.busy": "2023-11-27T03:55:11.228828Z",
     "iopub.status.idle": "2023-11-27T03:55:11.236823Z",
     "shell.execute_reply": "2023-11-27T03:55:11.235504Z"
    },
    "papermill": {
     "duration": 0.027272,
     "end_time": "2023-11-27T03:55:11.239307",
     "exception": false,
     "start_time": "2023-11-27T03:55:11.212035",
     "status": "completed"
    },
    "tags": []
   },
   "outputs": [],
   "source": [
    "from sklearn.metrics import accuracy_score\n",
    "from tensorflow.keras.layers import Dense\n",
    "from tensorflow.keras.models import Sequential, load_model"
   ]
  },
  {
   "cell_type": "markdown",
   "id": "c0974c1d",
   "metadata": {
    "papermill": {
     "duration": 0.013826,
     "end_time": "2023-11-27T03:55:11.270117",
     "exception": false,
     "start_time": "2023-11-27T03:55:11.256291",
     "status": "completed"
    },
    "tags": []
   },
   "source": [
    "Build & Compile"
   ]
  },
  {
   "cell_type": "code",
   "execution_count": 16,
   "id": "7deb0ba7",
   "metadata": {
    "execution": {
     "iopub.execute_input": "2023-11-27T03:55:11.301588Z",
     "iopub.status.busy": "2023-11-27T03:55:11.301113Z",
     "iopub.status.idle": "2023-11-27T03:55:11.499905Z",
     "shell.execute_reply": "2023-11-27T03:55:11.498712Z"
    },
    "papermill": {
     "duration": 0.218144,
     "end_time": "2023-11-27T03:55:11.502826",
     "exception": false,
     "start_time": "2023-11-27T03:55:11.284682",
     "status": "completed"
    },
    "tags": []
   },
   "outputs": [],
   "source": [
    "model = Sequential() #more layers = more accurate = more time \n",
    "model.add(Dense(units=32, activation='relu', input_dim=len(X_train.columns)))\n",
    "#32 neurons in this layer, relu = converts data \n",
    "model.add(Dense(units=64, activation='relu'))   #mid layer\n",
    "model.add(Dense(units=1, activation='sigmoid'))\n",
    "#final layer units only 1 or 0 (1), sigmoid meaning all other layers needed\n",
    "\n",
    "#sigmoid = output from previous layer and this layer and make it b/w 1 & 0"
   ]
  },
  {
   "cell_type": "code",
   "execution_count": 17,
   "id": "2a03eb73",
   "metadata": {
    "execution": {
     "iopub.execute_input": "2023-11-27T03:55:11.532460Z",
     "iopub.status.busy": "2023-11-27T03:55:11.531992Z",
     "iopub.status.idle": "2023-11-27T03:55:11.553682Z",
     "shell.execute_reply": "2023-11-27T03:55:11.552357Z"
    },
    "papermill": {
     "duration": 0.039917,
     "end_time": "2023-11-27T03:55:11.556639",
     "exception": false,
     "start_time": "2023-11-27T03:55:11.516722",
     "status": "completed"
    },
    "tags": []
   },
   "outputs": [],
   "source": [
    "model.compile(loss='binary_crossentropy', optimizer='sgd', metrics='accuracy')\n",
    "#metrics to run through compiler\n",
    "#loss is how sum of how far your estimatiztions are\n",
    "#optimizer is how to optimize 'sgd' is a method to reduce loss\n",
    "#metrics how well model performs"
   ]
  },
  {
   "cell_type": "markdown",
   "id": "abbda46c",
   "metadata": {
    "papermill": {
     "duration": 0.013748,
     "end_time": "2023-11-27T03:55:11.584708",
     "exception": false,
     "start_time": "2023-11-27T03:55:11.570960",
     "status": "completed"
    },
    "tags": []
   },
   "source": [
    "Types of loss systems\n",
    "https://keras.io/api/losses/probabilistic_losses/#binarycrossentropy-class\n",
    "\n",
    "binarycrossentropy loss is good for either 0 or 1 ytrue label\n",
    "y_true is 0 or 1\n",
    "Y_pred is a single flaoting point 0 or 1 true or false \n",
    "\n",
    "\n",
    "categoricalcrossentropy loss is for between labels and rpedictions \n",
    "where ther are two or more label classes (one_hot) representation\n",
    "labels are one_hot (categorical) not integer \n",
    "y_true [Batch_size , num_classes] shape \n",
    "Y_pred  [Batch_size , num_classes] shape \n",
    "\n",
    "\n",
    "sparsecategoricalcrossentropy <- labels are intergers not categorical/one-hot \n",
    "y_true  a  #classes floating point value per feature \n",
    "y_pred  single floating point feature \n",
    "\n",
    "Types of optomizers \n",
    "https://keras.io/api/optimizers/\n",
    "\n",
    "\n"
   ]
  },
  {
   "cell_type": "markdown",
   "id": "d88ec744",
   "metadata": {
    "papermill": {
     "duration": 0.013755,
     "end_time": "2023-11-27T03:55:11.612402",
     "exception": false,
     "start_time": "2023-11-27T03:55:11.598647",
     "status": "completed"
    },
    "tags": []
   },
   "source": [
    "Fit & predict and evaluate data"
   ]
  },
  {
   "cell_type": "code",
   "execution_count": 18,
   "id": "0850a6b8",
   "metadata": {
    "execution": {
     "iopub.execute_input": "2023-11-27T03:55:11.642919Z",
     "iopub.status.busy": "2023-11-27T03:55:11.642485Z",
     "iopub.status.idle": "2023-11-27T03:56:31.180871Z",
     "shell.execute_reply": "2023-11-27T03:56:31.179430Z"
    },
    "papermill": {
     "duration": 79.55733,
     "end_time": "2023-11-27T03:56:31.183467",
     "exception": false,
     "start_time": "2023-11-27T03:55:11.626137",
     "status": "completed"
    },
    "tags": []
   },
   "outputs": [
    {
     "name": "stdout",
     "output_type": "stream",
     "text": [
      "Epoch 1/50\n",
      "821/821 [==============================] - 2s 2ms/step - loss: 483320160.0000 - accuracy: 0.5642\n",
      "Epoch 2/50\n",
      "821/821 [==============================] - 2s 2ms/step - loss: 0.6847 - accuracy: 0.5651\n",
      "Epoch 3/50\n",
      "821/821 [==============================] - 2s 2ms/step - loss: 0.6847 - accuracy: 0.5651\n",
      "Epoch 4/50\n",
      "821/821 [==============================] - 2s 2ms/step - loss: 0.6847 - accuracy: 0.5651\n",
      "Epoch 5/50\n",
      "821/821 [==============================] - 2s 2ms/step - loss: 0.6847 - accuracy: 0.5651\n",
      "Epoch 6/50\n",
      "821/821 [==============================] - 2s 2ms/step - loss: 0.6847 - accuracy: 0.5651\n",
      "Epoch 7/50\n",
      "821/821 [==============================] - 2s 2ms/step - loss: 0.6847 - accuracy: 0.5651\n",
      "Epoch 8/50\n",
      "821/821 [==============================] - 1s 2ms/step - loss: 0.6847 - accuracy: 0.5651\n",
      "Epoch 9/50\n",
      "821/821 [==============================] - 2s 2ms/step - loss: 0.6847 - accuracy: 0.5651\n",
      "Epoch 10/50\n",
      "821/821 [==============================] - 1s 2ms/step - loss: 0.6847 - accuracy: 0.5651\n",
      "Epoch 11/50\n",
      "821/821 [==============================] - 2s 2ms/step - loss: 0.6847 - accuracy: 0.5651\n",
      "Epoch 12/50\n",
      "821/821 [==============================] - 2s 2ms/step - loss: 0.6847 - accuracy: 0.5651\n",
      "Epoch 13/50\n",
      "821/821 [==============================] - 2s 2ms/step - loss: 0.6847 - accuracy: 0.5651\n",
      "Epoch 14/50\n",
      "821/821 [==============================] - 2s 2ms/step - loss: 0.6847 - accuracy: 0.5651\n",
      "Epoch 15/50\n",
      "821/821 [==============================] - 2s 2ms/step - loss: 0.6847 - accuracy: 0.5651\n",
      "Epoch 16/50\n",
      "821/821 [==============================] - 2s 2ms/step - loss: 0.6847 - accuracy: 0.5651\n",
      "Epoch 17/50\n",
      "821/821 [==============================] - 1s 2ms/step - loss: 0.6847 - accuracy: 0.5651\n",
      "Epoch 18/50\n",
      "821/821 [==============================] - 2s 2ms/step - loss: 0.6847 - accuracy: 0.5651\n",
      "Epoch 19/50\n",
      "821/821 [==============================] - 2s 2ms/step - loss: 0.6847 - accuracy: 0.5651\n",
      "Epoch 20/50\n",
      "821/821 [==============================] - 2s 2ms/step - loss: 0.6847 - accuracy: 0.5651\n",
      "Epoch 21/50\n",
      "821/821 [==============================] - 2s 2ms/step - loss: 0.6847 - accuracy: 0.5651\n",
      "Epoch 22/50\n",
      "821/821 [==============================] - 2s 2ms/step - loss: 0.6847 - accuracy: 0.5651\n",
      "Epoch 23/50\n",
      "821/821 [==============================] - 2s 2ms/step - loss: 0.6847 - accuracy: 0.5651\n",
      "Epoch 24/50\n",
      "821/821 [==============================] - 2s 2ms/step - loss: 0.6847 - accuracy: 0.5651\n",
      "Epoch 25/50\n",
      "821/821 [==============================] - 2s 2ms/step - loss: 0.6847 - accuracy: 0.5651\n",
      "Epoch 26/50\n",
      "821/821 [==============================] - 2s 2ms/step - loss: 0.6847 - accuracy: 0.5651\n",
      "Epoch 27/50\n",
      "821/821 [==============================] - 2s 2ms/step - loss: 0.6847 - accuracy: 0.5651\n",
      "Epoch 28/50\n",
      "821/821 [==============================] - 2s 2ms/step - loss: 0.6847 - accuracy: 0.5651\n",
      "Epoch 29/50\n",
      "821/821 [==============================] - 2s 2ms/step - loss: 0.6847 - accuracy: 0.5651\n",
      "Epoch 30/50\n",
      "821/821 [==============================] - 2s 2ms/step - loss: 0.6847 - accuracy: 0.5651\n",
      "Epoch 31/50\n",
      "821/821 [==============================] - 2s 2ms/step - loss: 0.6847 - accuracy: 0.5651\n",
      "Epoch 32/50\n",
      "821/821 [==============================] - 2s 2ms/step - loss: 0.6847 - accuracy: 0.5651\n",
      "Epoch 33/50\n",
      "821/821 [==============================] - 2s 2ms/step - loss: 0.6847 - accuracy: 0.5651\n",
      "Epoch 34/50\n",
      "821/821 [==============================] - 2s 2ms/step - loss: 0.6846 - accuracy: 0.5651\n",
      "Epoch 35/50\n",
      "821/821 [==============================] - 2s 2ms/step - loss: 0.6847 - accuracy: 0.5651\n",
      "Epoch 36/50\n",
      "821/821 [==============================] - 2s 2ms/step - loss: 0.6847 - accuracy: 0.5651\n",
      "Epoch 37/50\n",
      "821/821 [==============================] - 2s 2ms/step - loss: 0.6847 - accuracy: 0.5651\n",
      "Epoch 38/50\n",
      "821/821 [==============================] - 2s 2ms/step - loss: 0.6847 - accuracy: 0.5651\n",
      "Epoch 39/50\n",
      "821/821 [==============================] - 2s 2ms/step - loss: 0.6847 - accuracy: 0.5651\n",
      "Epoch 40/50\n",
      "821/821 [==============================] - 2s 2ms/step - loss: 0.6847 - accuracy: 0.5651\n",
      "Epoch 41/50\n",
      "821/821 [==============================] - 2s 2ms/step - loss: 0.6847 - accuracy: 0.5651\n",
      "Epoch 42/50\n",
      "821/821 [==============================] - 2s 2ms/step - loss: 0.6847 - accuracy: 0.5651\n",
      "Epoch 43/50\n",
      "821/821 [==============================] - 2s 2ms/step - loss: 0.6847 - accuracy: 0.5651\n",
      "Epoch 44/50\n",
      "821/821 [==============================] - 2s 2ms/step - loss: 0.6847 - accuracy: 0.5651\n",
      "Epoch 45/50\n",
      "821/821 [==============================] - 2s 2ms/step - loss: 0.6847 - accuracy: 0.5651\n",
      "Epoch 46/50\n",
      "821/821 [==============================] - 2s 2ms/step - loss: 0.6847 - accuracy: 0.5651\n",
      "Epoch 47/50\n",
      "821/821 [==============================] - 2s 2ms/step - loss: 0.6847 - accuracy: 0.5651\n",
      "Epoch 48/50\n",
      "821/821 [==============================] - 2s 2ms/step - loss: 0.6847 - accuracy: 0.5651\n",
      "Epoch 49/50\n",
      "821/821 [==============================] - 2s 2ms/step - loss: 0.6847 - accuracy: 0.5651\n",
      "Epoch 50/50\n",
      "821/821 [==============================] - 2s 2ms/step - loss: 0.6847 - accuracy: 0.5651\n"
     ]
    },
    {
     "data": {
      "text/plain": [
       "<keras.src.callbacks.History at 0x79718d291180>"
      ]
     },
     "execution_count": 18,
     "metadata": {},
     "output_type": "execute_result"
    }
   ],
   "source": [
    "model.fit(X_train, y_train, epochs=50, batch_size=32)\n",
    "#epochs how long\n",
    "#batch how much data put through\n",
    "#want to see loss go down and accuracy go up\n",
    "#can add more time \n"
   ]
  },
  {
   "cell_type": "markdown",
   "id": "28073a8c",
   "metadata": {
    "papermill": {
     "duration": 0.173156,
     "end_time": "2023-11-27T03:56:31.526824",
     "exception": false,
     "start_time": "2023-11-27T03:56:31.353668",
     "status": "completed"
    },
    "tags": []
   },
   "source": [
    "Fitting Predicting & Evalutating "
   ]
  },
  {
   "cell_type": "code",
   "execution_count": 19,
   "id": "e5c76977",
   "metadata": {
    "execution": {
     "iopub.execute_input": "2023-11-27T03:56:31.876897Z",
     "iopub.status.busy": "2023-11-27T03:56:31.876170Z",
     "iopub.status.idle": "2023-11-27T03:56:32.468083Z",
     "shell.execute_reply": "2023-11-27T03:56:32.466876Z"
    },
    "papermill": {
     "duration": 0.768621,
     "end_time": "2023-11-27T03:56:32.470628",
     "exception": false,
     "start_time": "2023-11-27T03:56:31.702007",
     "status": "completed"
    },
    "tags": []
   },
   "outputs": [
    {
     "name": "stdout",
     "output_type": "stream",
     "text": [
      "206/206 [==============================] - 0s 1ms/step\n"
     ]
    },
    {
     "data": {
      "text/plain": [
       "0.5679914725140855"
      ]
     },
     "execution_count": 19,
     "metadata": {},
     "output_type": "execute_result"
    }
   ],
   "source": [
    "#now a prediction\n",
    "y_hat=model.predict(X_test)\n",
    "\n",
    "y_hat=[0 if val < 0.5 else 1 for val in y_hat]\n",
    "\n",
    "y_hat\n",
    "\n",
    "accuracy_score(y_test, y_hat)  #accuracy score method\n",
    "\n",
    "\n",
    "#so.. we have a 56% chance of guessing mode correctly we need more data! "
   ]
  },
  {
   "cell_type": "markdown",
   "id": "da22e2df",
   "metadata": {
    "papermill": {
     "duration": 0.177722,
     "end_time": "2023-11-27T03:56:32.825726",
     "exception": false,
     "start_time": "2023-11-27T03:56:32.648004",
     "status": "completed"
    },
    "tags": []
   },
   "source": [
    "save model"
   ]
  },
  {
   "cell_type": "code",
   "execution_count": 20,
   "id": "721c985a",
   "metadata": {
    "execution": {
     "iopub.execute_input": "2023-11-27T03:56:33.184081Z",
     "iopub.status.busy": "2023-11-27T03:56:33.183640Z",
     "iopub.status.idle": "2023-11-27T03:56:33.188927Z",
     "shell.execute_reply": "2023-11-27T03:56:33.187629Z"
    },
    "papermill": {
     "duration": 0.190273,
     "end_time": "2023-11-27T03:56:33.191498",
     "exception": false,
     "start_time": "2023-11-27T03:56:33.001225",
     "status": "completed"
    },
    "tags": []
   },
   "outputs": [],
   "source": [
    "#model.save('tfmodel')\n",
    "\n",
    "# now to load it, just type\n",
    "#model=load_model('tfmodel') "
   ]
  },
  {
   "cell_type": "markdown",
   "id": "29c6f22f",
   "metadata": {
    "papermill": {
     "duration": 0.178108,
     "end_time": "2023-11-27T03:56:33.546972",
     "exception": false,
     "start_time": "2023-11-27T03:56:33.368864",
     "status": "completed"
    },
    "tags": []
   },
   "source": [
    "\n",
    "\n",
    "#operating on big datasets is much faster with SQL rather than CSV\n",
    "\n"
   ]
  }
 ],
 "metadata": {
  "kaggle": {
   "accelerator": "none",
   "dataSources": [
    {
     "datasetId": 3938173,
     "sourceId": 6851382,
     "sourceType": "datasetVersion"
    }
   ],
   "dockerImageVersionId": 30579,
   "isGpuEnabled": false,
   "isInternetEnabled": true,
   "language": "python",
   "sourceType": "notebook"
  },
  "kernelspec": {
   "display_name": "Python 3",
   "language": "python",
   "name": "python3"
  },
  "language_info": {
   "codemirror_mode": {
    "name": "ipython",
    "version": 3
   },
   "file_extension": ".py",
   "mimetype": "text/x-python",
   "name": "python",
   "nbconvert_exporter": "python",
   "pygments_lexer": "ipython3",
   "version": "3.10.12"
  },
  "papermill": {
   "default_parameters": {},
   "duration": 107.563895,
   "end_time": "2023-11-27T03:56:35.455210",
   "environment_variables": {},
   "exception": null,
   "input_path": "__notebook__.ipynb",
   "output_path": "__notebook__.ipynb",
   "parameters": {},
   "start_time": "2023-11-27T03:54:47.891315",
   "version": "2.4.0"
  }
 },
 "nbformat": 4,
 "nbformat_minor": 5
}
