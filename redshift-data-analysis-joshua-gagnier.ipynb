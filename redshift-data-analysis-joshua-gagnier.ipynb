{
 "cells": [
  {
   "cell_type": "code",
   "execution_count": 1,
   "id": "a9fb58ec",
   "metadata": {
    "execution": {
     "iopub.execute_input": "2023-11-29T16:14:22.669127Z",
     "iopub.status.busy": "2023-11-29T16:14:22.668276Z",
     "iopub.status.idle": "2023-11-29T16:14:24.473639Z",
     "shell.execute_reply": "2023-11-29T16:14:24.471861Z"
    },
    "papermill": {
     "duration": 1.820669,
     "end_time": "2023-11-29T16:14:24.476727",
     "exception": false,
     "start_time": "2023-11-29T16:14:22.656058",
     "status": "completed"
    },
    "tags": []
   },
   "outputs": [],
   "source": [
    "# Required python moduldes for opening FITS files and plotting\n",
    "import numpy as np\n",
    "import os\n",
    "import os.path as op\n",
    "import glob\n",
    "import pandas as pd\n",
    "import matplotlib.pyplot as plt\n",
    "from matplotlib import gridspec\n",
    "from astropy.io import fits\n",
    "from astropy.table import Table, hstack\n",
    "import astropy\n",
    "import astropy.units as u\n",
    "from astropy.coordinates import SkyCoord\n",
    "from astropy.wcs import WCS\n",
    "from astropy.visualization import make_lupton_rgb, ZScaleInterval\n",
    "from astropy.coordinates import SkyCoord  # High-level coordinates\n",
    "from astropy.coordinates import ICRS, Galactic, FK4, FK5  # Low-level frames\n",
    "from astropy.coordinates import Angle, Latitude, Longitude  # Angles"
   ]
  },
  {
   "cell_type": "code",
   "execution_count": 2,
   "id": "ddb4d83b",
   "metadata": {
    "_cell_guid": "b1076dfc-b9ad-4769-8c92-a6c4dae69d19",
    "_uuid": "8f2839f25d086af736a60e9eeb907d3b93b6e0e5",
    "execution": {
     "iopub.execute_input": "2023-11-29T16:14:24.498377Z",
     "iopub.status.busy": "2023-11-29T16:14:24.497840Z",
     "iopub.status.idle": "2023-11-29T16:14:37.776038Z",
     "shell.execute_reply": "2023-11-29T16:14:37.774481Z"
    },
    "papermill": {
     "duration": 13.294204,
     "end_time": "2023-11-29T16:14:37.780698",
     "exception": false,
     "start_time": "2023-11-29T16:14:24.486494",
     "status": "completed"
    },
    "tags": []
   },
   "outputs": [],
   "source": [
    "version = 'v3.2' # Change to latest version.\n",
    "source_table = Table.read(op.join('/kaggle/input/hetdexescv/hetdex_sc1_v3.2.ecsv'.format(version) ) )                      "
   ]
  },
  {
   "cell_type": "code",
   "execution_count": 3,
   "id": "8c302322",
   "metadata": {
    "execution": {
     "iopub.execute_input": "2023-11-29T16:14:37.813569Z",
     "iopub.status.busy": "2023-11-29T16:14:37.812541Z",
     "iopub.status.idle": "2023-11-29T16:14:37.848335Z",
     "shell.execute_reply": "2023-11-29T16:14:37.846987Z"
    },
    "papermill": {
     "duration": 0.054381,
     "end_time": "2023-11-29T16:14:37.851464",
     "exception": false,
     "start_time": "2023-11-29T16:14:37.797083",
     "status": "completed"
    },
    "tags": []
   },
   "outputs": [
    {
     "data": {
      "text/plain": [
       "<Table length=232650>\n",
       "     name      dtype          unit                                       description                                 n_bad \n",
       "------------- ------- ------------------- -------------------------------------------------------------------------- ------\n",
       "  source_name   str26                                                                         HETDEX IAU designation      0\n",
       "    source_id   int64                                                                       HETDEX Source Identifier      0\n",
       "       shotid   int64                                             integer represent observation ID: int( date+obsid)      0\n",
       "           RA float32                 deg                                       source_id right ascension (ICRS deg)      0\n",
       "          DEC float32                 deg                                           source_id declination (ICRS deg)      0\n",
       "         gmag float32                                                   sdss-g magnitude measured in HETDEX spectrum      0\n",
       "           Av float32                                                              applied dust correction in V band      0\n",
       "     z_hetdex float32                                                                  HETDEX spectroscopic redshift      0\n",
       " z_hetdex_src    str8                                                           HETDEX spectroscopic redshift source      0\n",
       "z_hetdex_conf float32                                         0 to 1 confidence HETDEX spectroscopic redshift source      0\n",
       "  source_type    str4                                         options are 'star', 'lae', 'agn', 'lzg', 'oii', 'none'      0\n",
       "    n_members   int64                                                       number of detections in the source group      0\n",
       "     detectid   int64                                                                  emission line or detection ID      0\n",
       "        field   str10                                                field ID: cosmos, goods-n, dex-fall, dex-spring      0\n",
       "    flux_aper float32 1e-17 erg / (s cm2)      Dust corrected, OII line flux measured in elliptical galaxy aperture  115942\n",
       "flux_aper_err float32 1e-17 erg / (s cm2)                                                         error in flux_aper 121558\n",
       "    flag_aper   int64                     1 = OII aperture line flux used, -1= PSF-line flux used from \"flux\" column      0\n",
       "        major float32              arcsec   Major axis of aperture ellipse of resolved OII galaxy defined by imaging 108572\n",
       "        minor float32              arcsec   Minor axis of aperture ellipse of resolved OII galaxy defined by imaging 108572\n",
       "        theta float32                                                                      angle in aperture ellipse 108572\n",
       "      lum_lya float64             erg / s                                                   Lya luminosity in ergs/s 179976\n",
       "  lum_lya_err float64             erg / s                                                           error in lum_lya 179976\n",
       "      lum_oii float64             erg / s                                                   best OII line luminosity 105242\n",
       "  lum_oii_err float64             erg / s                                                           error in lum_oii 110840\n",
       "     flux_lya float32 1e-17 erg / (s cm2)                                    dust corrected Lya line flux) in ergs/s 179976\n",
       " flux_lya_err float32 1e-17 erg / (s cm2)                                                          error in flux_lya 179976\n",
       "     flux_oii float32 1e-17 erg / (s cm2)                                                         best OII line flux 105241\n",
       " flux_oii_err float32 1e-17 erg / (s cm2)                                                          error in flux_oii 110839\n",
       "           sn float32                                                              signal-to-noise for line emission  52486\n",
       "        apcor float32                                             aperture correction applied to spectrum at 4500\\AA      0"
      ]
     },
     "execution_count": 3,
     "metadata": {},
     "output_type": "execute_result"
    }
   ],
   "source": [
    "# Column Info\n",
    "source_table.info"
   ]
  },
  {
   "cell_type": "markdown",
   "id": "930b2f1f",
   "metadata": {
    "papermill": {
     "duration": 0.009655,
     "end_time": "2023-11-29T16:14:37.871107",
     "exception": false,
     "start_time": "2023-11-29T16:14:37.861452",
     "status": "completed"
    },
    "tags": []
   },
   "source": [
    "I see in this data set, that there is ra and dec, and they are in the degrees.\n",
    "\n",
    "The main focus for this dataset will be z_hetdex which is the 'spectroscopic redshift' data that \n",
    "says how relatively 'old' or far something is. The more redshift, the older the wave. "
   ]
  },
  {
   "cell_type": "markdown",
   "id": "d8c27a8b",
   "metadata": {
    "papermill": {
     "duration": 0.009807,
     "end_time": "2023-11-29T16:14:37.890604",
     "exception": false,
     "start_time": "2023-11-29T16:14:37.880797",
     "status": "completed"
    },
    "tags": []
   },
   "source": [
    "Convert data table into pandas "
   ]
  },
  {
   "cell_type": "code",
   "execution_count": 4,
   "id": "f4333c26",
   "metadata": {
    "execution": {
     "iopub.execute_input": "2023-11-29T16:14:37.912293Z",
     "iopub.status.busy": "2023-11-29T16:14:37.911799Z",
     "iopub.status.idle": "2023-11-29T16:14:38.653742Z",
     "shell.execute_reply": "2023-11-29T16:14:38.650333Z"
    },
    "papermill": {
     "duration": 0.756263,
     "end_time": "2023-11-29T16:14:38.656441",
     "exception": false,
     "start_time": "2023-11-29T16:14:37.900178",
     "status": "completed"
    },
    "tags": []
   },
   "outputs": [
    {
     "data": {
      "text/html": [
       "<div>\n",
       "<style scoped>\n",
       "    .dataframe tbody tr th:only-of-type {\n",
       "        vertical-align: middle;\n",
       "    }\n",
       "\n",
       "    .dataframe tbody tr th {\n",
       "        vertical-align: top;\n",
       "    }\n",
       "\n",
       "    .dataframe thead th {\n",
       "        text-align: right;\n",
       "    }\n",
       "</style>\n",
       "<table border=\"1\" class=\"dataframe\">\n",
       "  <thead>\n",
       "    <tr style=\"text-align: right;\">\n",
       "      <th></th>\n",
       "      <th>source_name</th>\n",
       "      <th>source_id</th>\n",
       "      <th>shotid</th>\n",
       "      <th>RA</th>\n",
       "      <th>DEC</th>\n",
       "      <th>gmag</th>\n",
       "      <th>Av</th>\n",
       "      <th>z_hetdex</th>\n",
       "      <th>z_hetdex_src</th>\n",
       "      <th>z_hetdex_conf</th>\n",
       "      <th>...</th>\n",
       "      <th>lum_lya</th>\n",
       "      <th>lum_lya_err</th>\n",
       "      <th>lum_oii</th>\n",
       "      <th>lum_oii_err</th>\n",
       "      <th>flux_lya</th>\n",
       "      <th>flux_lya_err</th>\n",
       "      <th>flux_oii</th>\n",
       "      <th>flux_oii_err</th>\n",
       "      <th>sn</th>\n",
       "      <th>apcor</th>\n",
       "    </tr>\n",
       "  </thead>\n",
       "  <tbody>\n",
       "    <tr>\n",
       "      <th>0</th>\n",
       "      <td>HETDEX J005604.29+000032.4</td>\n",
       "      <td>2140300000011</td>\n",
       "      <td>20181014010</td>\n",
       "      <td>14.017778</td>\n",
       "      <td>0.009023</td>\n",
       "      <td>22.096148</td>\n",
       "      <td>0.057882</td>\n",
       "      <td>-2.000</td>\n",
       "      <td>elixer</td>\n",
       "      <td>-1.0</td>\n",
       "      <td>...</td>\n",
       "      <td>NaN</td>\n",
       "      <td>NaN</td>\n",
       "      <td>9.728675e+39</td>\n",
       "      <td>1.481777e+39</td>\n",
       "      <td>NaN</td>\n",
       "      <td>NaN</td>\n",
       "      <td>9.714771</td>\n",
       "      <td>1.479659</td>\n",
       "      <td>NaN</td>\n",
       "      <td>0.921000</td>\n",
       "    </tr>\n",
       "    <tr>\n",
       "      <th>1</th>\n",
       "      <td>HETDEX J005604.29+000032.4</td>\n",
       "      <td>2140300000011</td>\n",
       "      <td>20180113006</td>\n",
       "      <td>14.017778</td>\n",
       "      <td>0.009023</td>\n",
       "      <td>21.276257</td>\n",
       "      <td>0.057863</td>\n",
       "      <td>-2.000</td>\n",
       "      <td>elixer</td>\n",
       "      <td>-1.0</td>\n",
       "      <td>...</td>\n",
       "      <td>NaN</td>\n",
       "      <td>NaN</td>\n",
       "      <td>7.494868e+39</td>\n",
       "      <td>1.688330e+39</td>\n",
       "      <td>NaN</td>\n",
       "      <td>NaN</td>\n",
       "      <td>7.484156</td>\n",
       "      <td>1.685917</td>\n",
       "      <td>NaN</td>\n",
       "      <td>0.936000</td>\n",
       "    </tr>\n",
       "    <tr>\n",
       "      <th>2</th>\n",
       "      <td>HETDEX J142914.44+510014.2</td>\n",
       "      <td>2140100002040</td>\n",
       "      <td>20190504015</td>\n",
       "      <td>217.310181</td>\n",
       "      <td>51.003937</td>\n",
       "      <td>23.528015</td>\n",
       "      <td>0.029085</td>\n",
       "      <td>-2.000</td>\n",
       "      <td>elixer</td>\n",
       "      <td>-1.0</td>\n",
       "      <td>...</td>\n",
       "      <td>NaN</td>\n",
       "      <td>NaN</td>\n",
       "      <td>4.682348e+40</td>\n",
       "      <td>7.165598e+39</td>\n",
       "      <td>NaN</td>\n",
       "      <td>NaN</td>\n",
       "      <td>7.267318</td>\n",
       "      <td>1.112149</td>\n",
       "      <td>8.05</td>\n",
       "      <td>0.941389</td>\n",
       "    </tr>\n",
       "    <tr>\n",
       "      <th>3</th>\n",
       "      <td>HETDEX J140222.64+510107.6</td>\n",
       "      <td>2140300000110</td>\n",
       "      <td>20180223010</td>\n",
       "      <td>210.594330</td>\n",
       "      <td>51.018787</td>\n",
       "      <td>22.087255</td>\n",
       "      <td>0.037425</td>\n",
       "      <td>-2.000</td>\n",
       "      <td>elixer</td>\n",
       "      <td>-1.0</td>\n",
       "      <td>...</td>\n",
       "      <td>NaN</td>\n",
       "      <td>NaN</td>\n",
       "      <td>NaN</td>\n",
       "      <td>NaN</td>\n",
       "      <td>NaN</td>\n",
       "      <td>NaN</td>\n",
       "      <td>NaN</td>\n",
       "      <td>NaN</td>\n",
       "      <td>NaN</td>\n",
       "      <td>0.930000</td>\n",
       "    </tr>\n",
       "    <tr>\n",
       "      <th>4</th>\n",
       "      <td>HETDEX J011603.95-004509.7</td>\n",
       "      <td>2140100192799</td>\n",
       "      <td>20191224010</td>\n",
       "      <td>19.016335</td>\n",
       "      <td>-0.752552</td>\n",
       "      <td>22.246433</td>\n",
       "      <td>0.095883</td>\n",
       "      <td>-2.000</td>\n",
       "      <td>elixer</td>\n",
       "      <td>-1.0</td>\n",
       "      <td>...</td>\n",
       "      <td>NaN</td>\n",
       "      <td>NaN</td>\n",
       "      <td>2.133775e+41</td>\n",
       "      <td>7.109336e+39</td>\n",
       "      <td>NaN</td>\n",
       "      <td>NaN</td>\n",
       "      <td>38.490608</td>\n",
       "      <td>1.282434</td>\n",
       "      <td>11.90</td>\n",
       "      <td>0.915255</td>\n",
       "    </tr>\n",
       "    <tr>\n",
       "      <th>...</th>\n",
       "      <td>...</td>\n",
       "      <td>...</td>\n",
       "      <td>...</td>\n",
       "      <td>...</td>\n",
       "      <td>...</td>\n",
       "      <td>...</td>\n",
       "      <td>...</td>\n",
       "      <td>...</td>\n",
       "      <td>...</td>\n",
       "      <td>...</td>\n",
       "      <td>...</td>\n",
       "      <td>...</td>\n",
       "      <td>...</td>\n",
       "      <td>...</td>\n",
       "      <td>...</td>\n",
       "      <td>...</td>\n",
       "      <td>...</td>\n",
       "      <td>...</td>\n",
       "      <td>...</td>\n",
       "      <td>...</td>\n",
       "      <td>...</td>\n",
       "    </tr>\n",
       "    <tr>\n",
       "      <th>232645</th>\n",
       "      <td>HETDEX J110313.30+511646.4</td>\n",
       "      <td>2140100000297</td>\n",
       "      <td>20190501017</td>\n",
       "      <td>165.805222</td>\n",
       "      <td>51.279552</td>\n",
       "      <td>22.001179</td>\n",
       "      <td>0.025467</td>\n",
       "      <td>3.912</td>\n",
       "      <td>Liu+2022</td>\n",
       "      <td>1.0</td>\n",
       "      <td>...</td>\n",
       "      <td>NaN</td>\n",
       "      <td>NaN</td>\n",
       "      <td>NaN</td>\n",
       "      <td>NaN</td>\n",
       "      <td>NaN</td>\n",
       "      <td>NaN</td>\n",
       "      <td>NaN</td>\n",
       "      <td>NaN</td>\n",
       "      <td>8.17</td>\n",
       "      <td>0.931459</td>\n",
       "    </tr>\n",
       "    <tr>\n",
       "      <th>232646</th>\n",
       "      <td>HETDEX J161107.47+534208.0</td>\n",
       "      <td>2140100061927</td>\n",
       "      <td>20200527024</td>\n",
       "      <td>242.781128</td>\n",
       "      <td>53.702229</td>\n",
       "      <td>22.216864</td>\n",
       "      <td>0.036809</td>\n",
       "      <td>3.929</td>\n",
       "      <td>Liu+2022</td>\n",
       "      <td>1.0</td>\n",
       "      <td>...</td>\n",
       "      <td>NaN</td>\n",
       "      <td>NaN</td>\n",
       "      <td>NaN</td>\n",
       "      <td>NaN</td>\n",
       "      <td>NaN</td>\n",
       "      <td>NaN</td>\n",
       "      <td>NaN</td>\n",
       "      <td>NaN</td>\n",
       "      <td>7.57</td>\n",
       "      <td>0.878565</td>\n",
       "    </tr>\n",
       "    <tr>\n",
       "      <th>232647</th>\n",
       "      <td>HETDEX J125640.42+515940.8</td>\n",
       "      <td>2140000047179</td>\n",
       "      <td>20190403022</td>\n",
       "      <td>194.168396</td>\n",
       "      <td>51.994675</td>\n",
       "      <td>21.941465</td>\n",
       "      <td>0.024624</td>\n",
       "      <td>3.930</td>\n",
       "      <td>Liu+2022</td>\n",
       "      <td>1.0</td>\n",
       "      <td>...</td>\n",
       "      <td>NaN</td>\n",
       "      <td>NaN</td>\n",
       "      <td>NaN</td>\n",
       "      <td>NaN</td>\n",
       "      <td>NaN</td>\n",
       "      <td>NaN</td>\n",
       "      <td>NaN</td>\n",
       "      <td>NaN</td>\n",
       "      <td>6.22</td>\n",
       "      <td>0.925917</td>\n",
       "    </tr>\n",
       "    <tr>\n",
       "      <th>232648</th>\n",
       "      <td>HETDEX J140135.95+515711.7</td>\n",
       "      <td>2140000001451</td>\n",
       "      <td>20190504027</td>\n",
       "      <td>210.399796</td>\n",
       "      <td>51.953262</td>\n",
       "      <td>21.817234</td>\n",
       "      <td>0.035599</td>\n",
       "      <td>4.148</td>\n",
       "      <td>Liu+2022</td>\n",
       "      <td>1.0</td>\n",
       "      <td>...</td>\n",
       "      <td>NaN</td>\n",
       "      <td>NaN</td>\n",
       "      <td>NaN</td>\n",
       "      <td>NaN</td>\n",
       "      <td>NaN</td>\n",
       "      <td>NaN</td>\n",
       "      <td>NaN</td>\n",
       "      <td>NaN</td>\n",
       "      <td>9.05</td>\n",
       "      <td>0.938010</td>\n",
       "    </tr>\n",
       "    <tr>\n",
       "      <th>232649</th>\n",
       "      <td>HETDEX J004905.92-003134.5</td>\n",
       "      <td>2140000003629</td>\n",
       "      <td>20191006024</td>\n",
       "      <td>12.274647</td>\n",
       "      <td>-0.526238</td>\n",
       "      <td>21.951717</td>\n",
       "      <td>0.073214</td>\n",
       "      <td>4.165</td>\n",
       "      <td>Liu+2022</td>\n",
       "      <td>1.0</td>\n",
       "      <td>...</td>\n",
       "      <td>NaN</td>\n",
       "      <td>NaN</td>\n",
       "      <td>NaN</td>\n",
       "      <td>NaN</td>\n",
       "      <td>NaN</td>\n",
       "      <td>NaN</td>\n",
       "      <td>NaN</td>\n",
       "      <td>NaN</td>\n",
       "      <td>14.86</td>\n",
       "      <td>0.936569</td>\n",
       "    </tr>\n",
       "  </tbody>\n",
       "</table>\n",
       "<p>232650 rows × 30 columns</p>\n",
       "</div>"
      ],
      "text/plain": [
       "                       source_name      source_id       shotid          RA  \\\n",
       "0       HETDEX J005604.29+000032.4  2140300000011  20181014010   14.017778   \n",
       "1       HETDEX J005604.29+000032.4  2140300000011  20180113006   14.017778   \n",
       "2       HETDEX J142914.44+510014.2  2140100002040  20190504015  217.310181   \n",
       "3       HETDEX J140222.64+510107.6  2140300000110  20180223010  210.594330   \n",
       "4       HETDEX J011603.95-004509.7  2140100192799  20191224010   19.016335   \n",
       "...                            ...            ...          ...         ...   \n",
       "232645  HETDEX J110313.30+511646.4  2140100000297  20190501017  165.805222   \n",
       "232646  HETDEX J161107.47+534208.0  2140100061927  20200527024  242.781128   \n",
       "232647  HETDEX J125640.42+515940.8  2140000047179  20190403022  194.168396   \n",
       "232648  HETDEX J140135.95+515711.7  2140000001451  20190504027  210.399796   \n",
       "232649  HETDEX J004905.92-003134.5  2140000003629  20191006024   12.274647   \n",
       "\n",
       "              DEC       gmag        Av  z_hetdex z_hetdex_src  z_hetdex_conf  \\\n",
       "0        0.009023  22.096148  0.057882    -2.000       elixer           -1.0   \n",
       "1        0.009023  21.276257  0.057863    -2.000       elixer           -1.0   \n",
       "2       51.003937  23.528015  0.029085    -2.000       elixer           -1.0   \n",
       "3       51.018787  22.087255  0.037425    -2.000       elixer           -1.0   \n",
       "4       -0.752552  22.246433  0.095883    -2.000       elixer           -1.0   \n",
       "...           ...        ...       ...       ...          ...            ...   \n",
       "232645  51.279552  22.001179  0.025467     3.912     Liu+2022            1.0   \n",
       "232646  53.702229  22.216864  0.036809     3.929     Liu+2022            1.0   \n",
       "232647  51.994675  21.941465  0.024624     3.930     Liu+2022            1.0   \n",
       "232648  51.953262  21.817234  0.035599     4.148     Liu+2022            1.0   \n",
       "232649  -0.526238  21.951717  0.073214     4.165     Liu+2022            1.0   \n",
       "\n",
       "        ... lum_lya  lum_lya_err       lum_oii   lum_oii_err  flux_lya  \\\n",
       "0       ...     NaN          NaN  9.728675e+39  1.481777e+39       NaN   \n",
       "1       ...     NaN          NaN  7.494868e+39  1.688330e+39       NaN   \n",
       "2       ...     NaN          NaN  4.682348e+40  7.165598e+39       NaN   \n",
       "3       ...     NaN          NaN           NaN           NaN       NaN   \n",
       "4       ...     NaN          NaN  2.133775e+41  7.109336e+39       NaN   \n",
       "...     ...     ...          ...           ...           ...       ...   \n",
       "232645  ...     NaN          NaN           NaN           NaN       NaN   \n",
       "232646  ...     NaN          NaN           NaN           NaN       NaN   \n",
       "232647  ...     NaN          NaN           NaN           NaN       NaN   \n",
       "232648  ...     NaN          NaN           NaN           NaN       NaN   \n",
       "232649  ...     NaN          NaN           NaN           NaN       NaN   \n",
       "\n",
       "        flux_lya_err   flux_oii  flux_oii_err     sn     apcor  \n",
       "0                NaN   9.714771      1.479659    NaN  0.921000  \n",
       "1                NaN   7.484156      1.685917    NaN  0.936000  \n",
       "2                NaN   7.267318      1.112149   8.05  0.941389  \n",
       "3                NaN        NaN           NaN    NaN  0.930000  \n",
       "4                NaN  38.490608      1.282434  11.90  0.915255  \n",
       "...              ...        ...           ...    ...       ...  \n",
       "232645           NaN        NaN           NaN   8.17  0.931459  \n",
       "232646           NaN        NaN           NaN   7.57  0.878565  \n",
       "232647           NaN        NaN           NaN   6.22  0.925917  \n",
       "232648           NaN        NaN           NaN   9.05  0.938010  \n",
       "232649           NaN        NaN           NaN  14.86  0.936569  \n",
       "\n",
       "[232650 rows x 30 columns]"
      ]
     },
     "execution_count": 4,
     "metadata": {},
     "output_type": "execute_result"
    }
   ],
   "source": [
    "hetdexdf=source_table.to_pandas()\n",
    "\n",
    "hetdexdf #we can see we converted our table into a dataframe in pandas (python's excel/sheets)"
   ]
  },
  {
   "cell_type": "markdown",
   "id": "9b1368b4",
   "metadata": {
    "papermill": {
     "duration": 0.010396,
     "end_time": "2023-11-29T16:14:38.677435",
     "exception": false,
     "start_time": "2023-11-29T16:14:38.667039",
     "status": "completed"
    },
    "tags": []
   },
   "source": [
    "Now that you have the data frame for your space data, you need to import\n",
    "\n",
    "COMAP points one , two, and three and cut out and combine the data that is from those three points. \n",
    "\n",
    "\n",
    "Tomorrow, we will also add the region stripe 82 in a seperate df. "
   ]
  },
  {
   "cell_type": "code",
   "execution_count": 5,
   "id": "b42bc9d0",
   "metadata": {
    "execution": {
     "iopub.execute_input": "2023-11-29T16:14:38.700919Z",
     "iopub.status.busy": "2023-11-29T16:14:38.700485Z",
     "iopub.status.idle": "2023-11-29T16:15:09.263594Z",
     "shell.execute_reply": "2023-11-29T16:15:09.262414Z"
    },
    "papermill": {
     "duration": 30.579219,
     "end_time": "2023-11-29T16:15:09.266960",
     "exception": false,
     "start_time": "2023-11-29T16:14:38.687741",
     "status": "completed"
    },
    "tags": []
   },
   "outputs": [],
   "source": [
    "ra=hetdexdf.RA*u.deg\n",
    "dec=hetdexdf.DEC*u.deg\n",
    "\n",
    "allcoords=SkyCoord(ra, dec, frame='icrs', unit='deg')\n",
    "allcoords\n",
    "\n",
    "#COMAP overview Looking at +/-1.5 degrees around each of these three points \n",
    "COMAP_point_one = SkyCoord(ra='01h41m44.4s', dec='00d00m00s')\n",
    "COMAP_point_two = SkyCoord(ra='11h20m00s', dec='52d30m00s')\n",
    "COMAP_point_three = SkyCoord(ra='15h04m00s', dec='55d00m00s')\n",
    "\n",
    "tol=1.5*u.deg\n",
    "\n",
    "\n",
    "#this is going to create a array with the distances from the point for 'allcoords'\n",
    "sep_point_one=allcoords.separation(COMAP_point_one)\n",
    "\n",
    "#find the indicies of values (what rows) have data that are within the tolerance\n",
    "fieldone_index=np.where(sep_point_one < tol)[0]\n",
    "\n",
    "\n",
    "#this will take the specific rows that we know have data from\n",
    "# the main data set and make a new dataframe with those points only\n",
    "field_one_df=hetdexdf.iloc[fieldone_index]\n"
   ]
  },
  {
   "cell_type": "code",
   "execution_count": 6,
   "id": "076be607",
   "metadata": {
    "execution": {
     "iopub.execute_input": "2023-11-29T16:15:09.291046Z",
     "iopub.status.busy": "2023-11-29T16:15:09.290629Z",
     "iopub.status.idle": "2023-11-29T16:15:09.414649Z",
     "shell.execute_reply": "2023-11-29T16:15:09.413774Z"
    },
    "papermill": {
     "duration": 0.139764,
     "end_time": "2023-11-29T16:15:09.417919",
     "exception": false,
     "start_time": "2023-11-29T16:15:09.278155",
     "status": "completed"
    },
    "tags": []
   },
   "outputs": [
    {
     "data": {
      "text/html": [
       "<div>\n",
       "<style scoped>\n",
       "    .dataframe tbody tr th:only-of-type {\n",
       "        vertical-align: middle;\n",
       "    }\n",
       "\n",
       "    .dataframe tbody tr th {\n",
       "        vertical-align: top;\n",
       "    }\n",
       "\n",
       "    .dataframe thead th {\n",
       "        text-align: right;\n",
       "    }\n",
       "</style>\n",
       "<table border=\"1\" class=\"dataframe\">\n",
       "  <thead>\n",
       "    <tr style=\"text-align: right;\">\n",
       "      <th></th>\n",
       "      <th>source_name</th>\n",
       "      <th>source_id</th>\n",
       "      <th>shotid</th>\n",
       "      <th>RA</th>\n",
       "      <th>DEC</th>\n",
       "      <th>gmag</th>\n",
       "      <th>Av</th>\n",
       "      <th>z_hetdex</th>\n",
       "      <th>z_hetdex_src</th>\n",
       "      <th>z_hetdex_conf</th>\n",
       "      <th>...</th>\n",
       "      <th>lum_lya</th>\n",
       "      <th>lum_lya_err</th>\n",
       "      <th>lum_oii</th>\n",
       "      <th>lum_oii_err</th>\n",
       "      <th>flux_lya</th>\n",
       "      <th>flux_lya_err</th>\n",
       "      <th>flux_oii</th>\n",
       "      <th>flux_oii_err</th>\n",
       "      <th>sn</th>\n",
       "      <th>apcor</th>\n",
       "    </tr>\n",
       "  </thead>\n",
       "  <tbody>\n",
       "    <tr>\n",
       "      <th>30</th>\n",
       "      <td>HETDEX J013604.69-002806.4</td>\n",
       "      <td>2140100039333</td>\n",
       "      <td>20191222014</td>\n",
       "      <td>24.019552</td>\n",
       "      <td>-0.468454</td>\n",
       "      <td>22.367409</td>\n",
       "      <td>0.096020</td>\n",
       "      <td>-1.000000</td>\n",
       "      <td>elixer</td>\n",
       "      <td>-1.000000</td>\n",
       "      <td>...</td>\n",
       "      <td>NaN</td>\n",
       "      <td>NaN</td>\n",
       "      <td>NaN</td>\n",
       "      <td>NaN</td>\n",
       "      <td>NaN</td>\n",
       "      <td>NaN</td>\n",
       "      <td>NaN</td>\n",
       "      <td>NaN</td>\n",
       "      <td>NaN</td>\n",
       "      <td>0.971000</td>\n",
       "    </tr>\n",
       "    <tr>\n",
       "      <th>49</th>\n",
       "      <td>HETDEX J014008.26-000242.9</td>\n",
       "      <td>2140100039311</td>\n",
       "      <td>20200118009</td>\n",
       "      <td>25.034407</td>\n",
       "      <td>-0.045247</td>\n",
       "      <td>22.068237</td>\n",
       "      <td>0.084464</td>\n",
       "      <td>-1.000000</td>\n",
       "      <td>elixer</td>\n",
       "      <td>-1.000000</td>\n",
       "      <td>...</td>\n",
       "      <td>NaN</td>\n",
       "      <td>NaN</td>\n",
       "      <td>NaN</td>\n",
       "      <td>NaN</td>\n",
       "      <td>NaN</td>\n",
       "      <td>NaN</td>\n",
       "      <td>NaN</td>\n",
       "      <td>NaN</td>\n",
       "      <td>NaN</td>\n",
       "      <td>0.922000</td>\n",
       "    </tr>\n",
       "    <tr>\n",
       "      <th>99</th>\n",
       "      <td>HETDEX J014224.09+002702.3</td>\n",
       "      <td>2140100039505</td>\n",
       "      <td>20190105013</td>\n",
       "      <td>25.600368</td>\n",
       "      <td>0.450638</td>\n",
       "      <td>22.027975</td>\n",
       "      <td>0.097662</td>\n",
       "      <td>-1.000000</td>\n",
       "      <td>elixer</td>\n",
       "      <td>-1.000000</td>\n",
       "      <td>...</td>\n",
       "      <td>NaN</td>\n",
       "      <td>NaN</td>\n",
       "      <td>NaN</td>\n",
       "      <td>NaN</td>\n",
       "      <td>NaN</td>\n",
       "      <td>NaN</td>\n",
       "      <td>NaN</td>\n",
       "      <td>NaN</td>\n",
       "      <td>NaN</td>\n",
       "      <td>0.976000</td>\n",
       "    </tr>\n",
       "    <tr>\n",
       "      <th>125</th>\n",
       "      <td>HETDEX J014503.64-000345.6</td>\n",
       "      <td>2140100039569</td>\n",
       "      <td>20181011010</td>\n",
       "      <td>26.265146</td>\n",
       "      <td>-0.062678</td>\n",
       "      <td>22.087608</td>\n",
       "      <td>0.085750</td>\n",
       "      <td>-1.000000</td>\n",
       "      <td>elixer</td>\n",
       "      <td>-1.000000</td>\n",
       "      <td>...</td>\n",
       "      <td>NaN</td>\n",
       "      <td>NaN</td>\n",
       "      <td>NaN</td>\n",
       "      <td>NaN</td>\n",
       "      <td>NaN</td>\n",
       "      <td>NaN</td>\n",
       "      <td>NaN</td>\n",
       "      <td>NaN</td>\n",
       "      <td>NaN</td>\n",
       "      <td>0.875000</td>\n",
       "    </tr>\n",
       "    <tr>\n",
       "      <th>141</th>\n",
       "      <td>HETDEX J014008.40-001136.8</td>\n",
       "      <td>2140100039585</td>\n",
       "      <td>20180822020</td>\n",
       "      <td>25.034983</td>\n",
       "      <td>-0.193553</td>\n",
       "      <td>22.017756</td>\n",
       "      <td>0.094533</td>\n",
       "      <td>-1.000000</td>\n",
       "      <td>elixer</td>\n",
       "      <td>-1.000000</td>\n",
       "      <td>...</td>\n",
       "      <td>NaN</td>\n",
       "      <td>NaN</td>\n",
       "      <td>NaN</td>\n",
       "      <td>NaN</td>\n",
       "      <td>NaN</td>\n",
       "      <td>NaN</td>\n",
       "      <td>NaN</td>\n",
       "      <td>NaN</td>\n",
       "      <td>NaN</td>\n",
       "      <td>0.932000</td>\n",
       "    </tr>\n",
       "    <tr>\n",
       "      <th>...</th>\n",
       "      <td>...</td>\n",
       "      <td>...</td>\n",
       "      <td>...</td>\n",
       "      <td>...</td>\n",
       "      <td>...</td>\n",
       "      <td>...</td>\n",
       "      <td>...</td>\n",
       "      <td>...</td>\n",
       "      <td>...</td>\n",
       "      <td>...</td>\n",
       "      <td>...</td>\n",
       "      <td>...</td>\n",
       "      <td>...</td>\n",
       "      <td>...</td>\n",
       "      <td>...</td>\n",
       "      <td>...</td>\n",
       "      <td>...</td>\n",
       "      <td>...</td>\n",
       "      <td>...</td>\n",
       "      <td>...</td>\n",
       "      <td>...</td>\n",
       "    </tr>\n",
       "    <tr>\n",
       "      <th>231520</th>\n",
       "      <td>HETDEX J150219.28+533546.2</td>\n",
       "      <td>2140100065178</td>\n",
       "      <td>20200525024</td>\n",
       "      <td>225.580338</td>\n",
       "      <td>53.596153</td>\n",
       "      <td>27.134979</td>\n",
       "      <td>0.044112</td>\n",
       "      <td>3.426397</td>\n",
       "      <td>elixer</td>\n",
       "      <td>0.098903</td>\n",
       "      <td>...</td>\n",
       "      <td>1.123051e+43</td>\n",
       "      <td>1.869950e+42</td>\n",
       "      <td>NaN</td>\n",
       "      <td>NaN</td>\n",
       "      <td>10.099308</td>\n",
       "      <td>1.681598</td>\n",
       "      <td>NaN</td>\n",
       "      <td>NaN</td>\n",
       "      <td>6.080000</td>\n",
       "      <td>0.934257</td>\n",
       "    </tr>\n",
       "    <tr>\n",
       "      <th>231744</th>\n",
       "      <td>HETDEX J150413.47+535415.1</td>\n",
       "      <td>2140100080782</td>\n",
       "      <td>20200425016</td>\n",
       "      <td>226.056122</td>\n",
       "      <td>53.904194</td>\n",
       "      <td>25.100616</td>\n",
       "      <td>0.039503</td>\n",
       "      <td>3.441118</td>\n",
       "      <td>elixer</td>\n",
       "      <td>0.094663</td>\n",
       "      <td>...</td>\n",
       "      <td>1.075518e+43</td>\n",
       "      <td>1.655486e+42</td>\n",
       "      <td>NaN</td>\n",
       "      <td>NaN</td>\n",
       "      <td>9.573452</td>\n",
       "      <td>1.473589</td>\n",
       "      <td>NaN</td>\n",
       "      <td>NaN</td>\n",
       "      <td>6.630000</td>\n",
       "      <td>0.919668</td>\n",
       "    </tr>\n",
       "    <tr>\n",
       "      <th>232015</th>\n",
       "      <td>HETDEX J150300.94+534405.7</td>\n",
       "      <td>2140000034212</td>\n",
       "      <td>20200525024</td>\n",
       "      <td>225.753937</td>\n",
       "      <td>53.734913</td>\n",
       "      <td>23.195499</td>\n",
       "      <td>0.037269</td>\n",
       "      <td>3.457100</td>\n",
       "      <td>Liu+2022</td>\n",
       "      <td>0.000000</td>\n",
       "      <td>...</td>\n",
       "      <td>NaN</td>\n",
       "      <td>NaN</td>\n",
       "      <td>NaN</td>\n",
       "      <td>NaN</td>\n",
       "      <td>NaN</td>\n",
       "      <td>NaN</td>\n",
       "      <td>NaN</td>\n",
       "      <td>NaN</td>\n",
       "      <td>26.110001</td>\n",
       "      <td>0.934185</td>\n",
       "    </tr>\n",
       "    <tr>\n",
       "      <th>232188</th>\n",
       "      <td>HETDEX J150544.86+535755.7</td>\n",
       "      <td>2140100004195</td>\n",
       "      <td>20200524025</td>\n",
       "      <td>226.436920</td>\n",
       "      <td>53.965466</td>\n",
       "      <td>24.927547</td>\n",
       "      <td>0.040052</td>\n",
       "      <td>3.466329</td>\n",
       "      <td>elixer</td>\n",
       "      <td>0.099260</td>\n",
       "      <td>...</td>\n",
       "      <td>1.468493e+43</td>\n",
       "      <td>2.887168e+42</td>\n",
       "      <td>NaN</td>\n",
       "      <td>NaN</td>\n",
       "      <td>12.845826</td>\n",
       "      <td>2.525586</td>\n",
       "      <td>NaN</td>\n",
       "      <td>NaN</td>\n",
       "      <td>6.130000</td>\n",
       "      <td>0.873311</td>\n",
       "    </tr>\n",
       "    <tr>\n",
       "      <th>232642</th>\n",
       "      <td>HETDEX J145908.30+534511.7</td>\n",
       "      <td>2140100015077</td>\n",
       "      <td>20200521024</td>\n",
       "      <td>224.784576</td>\n",
       "      <td>53.753254</td>\n",
       "      <td>22.232862</td>\n",
       "      <td>0.041997</td>\n",
       "      <td>3.703000</td>\n",
       "      <td>Liu+2022</td>\n",
       "      <td>1.000000</td>\n",
       "      <td>...</td>\n",
       "      <td>NaN</td>\n",
       "      <td>NaN</td>\n",
       "      <td>NaN</td>\n",
       "      <td>NaN</td>\n",
       "      <td>NaN</td>\n",
       "      <td>NaN</td>\n",
       "      <td>NaN</td>\n",
       "      <td>NaN</td>\n",
       "      <td>6.060000</td>\n",
       "      <td>0.937927</td>\n",
       "    </tr>\n",
       "  </tbody>\n",
       "</table>\n",
       "<p>10966 rows × 30 columns</p>\n",
       "</div>"
      ],
      "text/plain": [
       "                       source_name      source_id       shotid          RA  \\\n",
       "30      HETDEX J013604.69-002806.4  2140100039333  20191222014   24.019552   \n",
       "49      HETDEX J014008.26-000242.9  2140100039311  20200118009   25.034407   \n",
       "99      HETDEX J014224.09+002702.3  2140100039505  20190105013   25.600368   \n",
       "125     HETDEX J014503.64-000345.6  2140100039569  20181011010   26.265146   \n",
       "141     HETDEX J014008.40-001136.8  2140100039585  20180822020   25.034983   \n",
       "...                            ...            ...          ...         ...   \n",
       "231520  HETDEX J150219.28+533546.2  2140100065178  20200525024  225.580338   \n",
       "231744  HETDEX J150413.47+535415.1  2140100080782  20200425016  226.056122   \n",
       "232015  HETDEX J150300.94+534405.7  2140000034212  20200525024  225.753937   \n",
       "232188  HETDEX J150544.86+535755.7  2140100004195  20200524025  226.436920   \n",
       "232642  HETDEX J145908.30+534511.7  2140100015077  20200521024  224.784576   \n",
       "\n",
       "              DEC       gmag        Av  z_hetdex z_hetdex_src  z_hetdex_conf  \\\n",
       "30      -0.468454  22.367409  0.096020 -1.000000       elixer      -1.000000   \n",
       "49      -0.045247  22.068237  0.084464 -1.000000       elixer      -1.000000   \n",
       "99       0.450638  22.027975  0.097662 -1.000000       elixer      -1.000000   \n",
       "125     -0.062678  22.087608  0.085750 -1.000000       elixer      -1.000000   \n",
       "141     -0.193553  22.017756  0.094533 -1.000000       elixer      -1.000000   \n",
       "...           ...        ...       ...       ...          ...            ...   \n",
       "231520  53.596153  27.134979  0.044112  3.426397       elixer       0.098903   \n",
       "231744  53.904194  25.100616  0.039503  3.441118       elixer       0.094663   \n",
       "232015  53.734913  23.195499  0.037269  3.457100     Liu+2022       0.000000   \n",
       "232188  53.965466  24.927547  0.040052  3.466329       elixer       0.099260   \n",
       "232642  53.753254  22.232862  0.041997  3.703000     Liu+2022       1.000000   \n",
       "\n",
       "        ...       lum_lya   lum_lya_err  lum_oii lum_oii_err   flux_lya  \\\n",
       "30      ...           NaN           NaN      NaN         NaN        NaN   \n",
       "49      ...           NaN           NaN      NaN         NaN        NaN   \n",
       "99      ...           NaN           NaN      NaN         NaN        NaN   \n",
       "125     ...           NaN           NaN      NaN         NaN        NaN   \n",
       "141     ...           NaN           NaN      NaN         NaN        NaN   \n",
       "...     ...           ...           ...      ...         ...        ...   \n",
       "231520  ...  1.123051e+43  1.869950e+42      NaN         NaN  10.099308   \n",
       "231744  ...  1.075518e+43  1.655486e+42      NaN         NaN   9.573452   \n",
       "232015  ...           NaN           NaN      NaN         NaN        NaN   \n",
       "232188  ...  1.468493e+43  2.887168e+42      NaN         NaN  12.845826   \n",
       "232642  ...           NaN           NaN      NaN         NaN        NaN   \n",
       "\n",
       "        flux_lya_err  flux_oii  flux_oii_err         sn     apcor  \n",
       "30               NaN       NaN           NaN        NaN  0.971000  \n",
       "49               NaN       NaN           NaN        NaN  0.922000  \n",
       "99               NaN       NaN           NaN        NaN  0.976000  \n",
       "125              NaN       NaN           NaN        NaN  0.875000  \n",
       "141              NaN       NaN           NaN        NaN  0.932000  \n",
       "...              ...       ...           ...        ...       ...  \n",
       "231520      1.681598       NaN           NaN   6.080000  0.934257  \n",
       "231744      1.473589       NaN           NaN   6.630000  0.919668  \n",
       "232015           NaN       NaN           NaN  26.110001  0.934185  \n",
       "232188      2.525586       NaN           NaN   6.130000  0.873311  \n",
       "232642           NaN       NaN           NaN   6.060000  0.937927  \n",
       "\n",
       "[10966 rows x 30 columns]"
      ]
     },
     "execution_count": 6,
     "metadata": {},
     "output_type": "execute_result"
    }
   ],
   "source": [
    "sep_point_two=allcoords.separation(COMAP_point_two)\n",
    "good_idx_two=np.where(sep_point_two<tol)[0]\n",
    "field_two_df=hetdexdf.iloc[good_idx_two]\n",
    "\n",
    "sep_point_three=allcoords.separation(COMAP_point_three)\n",
    "good_idx_three=np.where(sep_point_three<tol)[0]\n",
    "field_three_df=hetdexdf.iloc[good_idx_three]\n",
    "\n",
    "\n",
    "#pd.concat (df1,df2,df3) combines several dataframes together) \n",
    "combined_df=pd.concat((field_one_df,field_two_df,field_three_df))\n",
    "\n",
    "combined_df"
   ]
  },
  {
   "cell_type": "markdown",
   "id": "5049fbbe",
   "metadata": {
    "papermill": {
     "duration": 0.011103,
     "end_time": "2023-11-29T16:15:09.440540",
     "exception": false,
     "start_time": "2023-11-29T16:15:09.429437",
     "status": "completed"
    },
    "tags": []
   },
   "source": [
    "We have 11k data points that are within COMAP regions 1, 2, and 3 that are observable from this dataset. "
   ]
  },
  {
   "cell_type": "code",
   "execution_count": 7,
   "id": "89f9a41a",
   "metadata": {
    "execution": {
     "iopub.execute_input": "2023-11-29T16:15:09.466416Z",
     "iopub.status.busy": "2023-11-29T16:15:09.465191Z",
     "iopub.status.idle": "2023-11-29T16:15:09.487957Z",
     "shell.execute_reply": "2023-11-29T16:15:09.486501Z"
    },
    "papermill": {
     "duration": 0.039162,
     "end_time": "2023-11-29T16:15:09.491259",
     "exception": false,
     "start_time": "2023-11-29T16:15:09.452097",
     "status": "completed"
    },
    "tags": []
   },
   "outputs": [
    {
     "data": {
      "text/html": [
       "<div>\n",
       "<style scoped>\n",
       "    .dataframe tbody tr th:only-of-type {\n",
       "        vertical-align: middle;\n",
       "    }\n",
       "\n",
       "    .dataframe tbody tr th {\n",
       "        vertical-align: top;\n",
       "    }\n",
       "\n",
       "    .dataframe thead th {\n",
       "        text-align: right;\n",
       "    }\n",
       "</style>\n",
       "<table border=\"1\" class=\"dataframe\">\n",
       "  <thead>\n",
       "    <tr style=\"text-align: right;\">\n",
       "      <th></th>\n",
       "      <th>source_name</th>\n",
       "      <th>source_id</th>\n",
       "      <th>shotid</th>\n",
       "      <th>RA</th>\n",
       "      <th>DEC</th>\n",
       "      <th>gmag</th>\n",
       "      <th>Av</th>\n",
       "      <th>z_hetdex</th>\n",
       "      <th>z_hetdex_src</th>\n",
       "      <th>z_hetdex_conf</th>\n",
       "      <th>...</th>\n",
       "      <th>lum_lya</th>\n",
       "      <th>lum_lya_err</th>\n",
       "      <th>lum_oii</th>\n",
       "      <th>lum_oii_err</th>\n",
       "      <th>flux_lya</th>\n",
       "      <th>flux_lya_err</th>\n",
       "      <th>flux_oii</th>\n",
       "      <th>flux_oii_err</th>\n",
       "      <th>sn</th>\n",
       "      <th>apcor</th>\n",
       "    </tr>\n",
       "  </thead>\n",
       "  <tbody>\n",
       "  </tbody>\n",
       "</table>\n",
       "<p>0 rows × 30 columns</p>\n",
       "</div>"
      ],
      "text/plain": [
       "Empty DataFrame\n",
       "Columns: [source_name, source_id, shotid, RA, DEC, gmag, Av, z_hetdex, z_hetdex_src, z_hetdex_conf, source_type, n_members, detectid, field, flux_aper, flux_aper_err, flag_aper, major, minor, theta, lum_lya, lum_lya_err, lum_oii, lum_oii_err, flux_lya, flux_lya_err, flux_oii, flux_oii_err, sn, apcor]\n",
       "Index: []\n",
       "\n",
       "[0 rows x 30 columns]"
      ]
     },
     "execution_count": 7,
     "metadata": {},
     "output_type": "execute_result"
    }
   ],
   "source": [
    "Stripedf=hetdexdf[(hetdexdf['RA']>60*u.degree)& (hetdexdf['RA']<300*u.degree) &(hetdexdf['DEC']>-1.26*u.degree) & (hetdexdf['DEC']<1.26*u.degree) ]\n",
    "\n",
    "Stripedf\n"
   ]
  },
  {
   "cell_type": "markdown",
   "id": "7f90a37e",
   "metadata": {
    "papermill": {
     "duration": 0.011451,
     "end_time": "2023-11-29T16:15:09.514755",
     "exception": false,
     "start_time": "2023-11-29T16:15:09.503304",
     "status": "completed"
    },
    "tags": []
   },
   "source": [
    "This dataset has no data in the stripe 82"
   ]
  },
  {
   "cell_type": "code",
   "execution_count": 8,
   "id": "1b27f693",
   "metadata": {
    "execution": {
     "iopub.execute_input": "2023-11-29T16:15:09.540392Z",
     "iopub.status.busy": "2023-11-29T16:15:09.539746Z",
     "iopub.status.idle": "2023-11-29T16:15:09.576590Z",
     "shell.execute_reply": "2023-11-29T16:15:09.575354Z"
    },
    "papermill": {
     "duration": 0.053164,
     "end_time": "2023-11-29T16:15:09.579702",
     "exception": false,
     "start_time": "2023-11-29T16:15:09.526538",
     "status": "completed"
    },
    "tags": []
   },
   "outputs": [],
   "source": [
    "HudlEboss=fits.open(\"/kaggle/input/extended-baryon-oscillation-spectroscopic-survey/DR16Q_v4.fits\") #load my fits into a variable\n",
    "#HudlEboss.info()\n",
    "\n"
   ]
  },
  {
   "cell_type": "code",
   "execution_count": 9,
   "id": "f2bc6a03",
   "metadata": {
    "execution": {
     "iopub.execute_input": "2023-11-29T16:15:09.606925Z",
     "iopub.status.busy": "2023-11-29T16:15:09.605996Z",
     "iopub.status.idle": "2023-11-29T16:15:09.704442Z",
     "shell.execute_reply": "2023-11-29T16:15:09.703349Z"
    },
    "papermill": {
     "duration": 0.115591,
     "end_time": "2023-11-29T16:15:09.707485",
     "exception": false,
     "start_time": "2023-11-29T16:15:09.591894",
     "status": "completed"
    },
    "tags": []
   },
   "outputs": [],
   "source": [
    "EbossHeader=HudlEboss[1].header #quick call for my header (prefer columns though after exploration)\n",
    "Ebossdata=HudlEboss[1].data #quick call for the data that I have, that I will use to make a df or table \n",
    "#after research going to df (pandas) can result in a data loss, in 2016 there may have been an update\n",
    "#for safe transition (will research)\n",
    "#EbossHeader\n"
   ]
  },
  {
   "cell_type": "code",
   "execution_count": 10,
   "id": "11f8138e",
   "metadata": {
    "execution": {
     "iopub.execute_input": "2023-11-29T16:15:09.735275Z",
     "iopub.status.busy": "2023-11-29T16:15:09.734334Z",
     "iopub.status.idle": "2023-11-29T16:15:09.742372Z",
     "shell.execute_reply": "2023-11-29T16:15:09.741006Z"
    },
    "papermill": {
     "duration": 0.025721,
     "end_time": "2023-11-29T16:15:09.745240",
     "exception": false,
     "start_time": "2023-11-29T16:15:09.719519",
     "status": "completed"
    },
    "tags": []
   },
   "outputs": [
    {
     "data": {
      "text/plain": [
       "'record18320'"
      ]
     },
     "execution_count": 10,
     "metadata": {},
     "output_type": "execute_result"
    }
   ],
   "source": [
    "Ebossdata.shape  #gives me the shape of the data structure \n",
    "Ebossdata.dtype.name"
   ]
  },
  {
   "cell_type": "code",
   "execution_count": 11,
   "id": "82d795ae",
   "metadata": {
    "execution": {
     "iopub.execute_input": "2023-11-29T16:15:09.771677Z",
     "iopub.status.busy": "2023-11-29T16:15:09.770761Z",
     "iopub.status.idle": "2023-11-29T16:15:09.776521Z",
     "shell.execute_reply": "2023-11-29T16:15:09.775427Z"
    },
    "papermill": {
     "duration": 0.022578,
     "end_time": "2023-11-29T16:15:09.779705",
     "exception": false,
     "start_time": "2023-11-29T16:15:09.757127",
     "status": "completed"
    },
    "tags": []
   },
   "outputs": [],
   "source": [
    "EbossCols=HudlEboss[1].columns   #much more useful than the .header option \n",
    "#EbossCols #cleanly view column titles "
   ]
  },
  {
   "cell_type": "code",
   "execution_count": 12,
   "id": "a5d23dfe",
   "metadata": {
    "collapsed": true,
    "execution": {
     "iopub.execute_input": "2023-11-29T16:15:09.808891Z",
     "iopub.status.busy": "2023-11-29T16:15:09.808462Z",
     "iopub.status.idle": "2023-11-29T16:15:51.600536Z",
     "shell.execute_reply": "2023-11-29T16:15:51.599590Z"
    },
    "jupyter": {
     "outputs_hidden": true
    },
    "papermill": {
     "duration": 41.823363,
     "end_time": "2023-11-29T16:15:51.617248",
     "exception": false,
     "start_time": "2023-11-29T16:15:09.793885",
     "status": "completed"
    },
    "tags": []
   },
   "outputs": [
    {
     "data": {
      "text/html": [
       "<div><i>Table length=750414</i>\n",
       "<table id=\"table135837701731376\" class=\"table-striped table-bordered table-condensed\">\n",
       "<thead><tr><th>SDSS_NAME</th><th>RA</th><th>DEC</th><th>PLATE</th><th>MJD</th><th>FIBERID</th><th>AUTOCLASS_PQN</th><th>AUTOCLASS_DR14Q</th><th>IS_QSO_QN</th><th>Z_QN</th><th>RANDOM_SELECT</th><th>Z_10K</th><th>Z_CONF_10K</th><th>PIPE_CORR_10K</th><th>IS_QSO_10K</th><th>THING_ID</th><th>Z_VI</th><th>Z_CONF</th><th>CLASS_PERSON</th><th>Z_DR12Q</th><th>IS_QSO_DR12Q</th><th>Z_DR7Q_SCH</th><th>IS_QSO_DR7Q</th><th>Z_DR6Q_HW</th><th>Z_DR7Q_HW</th><th>IS_QSO_FINAL</th><th>Z</th><th>SOURCE_Z</th><th>Z_PIPE</th><th>ZWARNING</th><th>OBJID</th><th>Z_PCA</th><th>ZWARN_PCA</th><th>DELTACHI2_PCA</th><th>Z_HALPHA</th><th>ZWARN_HALPHA</th><th>DELTACHI2_HALPHA</th><th>Z_HBETA</th><th>ZWARN_HBETA</th><th>DELTACHI2_HBETA</th><th>Z_MGII</th><th>ZWARN_MGII</th><th>DELTACHI2_MGII</th><th>Z_CIII</th><th>ZWARN_CIII</th><th>DELTACHI2_CIII</th><th>Z_CIV</th><th>ZWARN_CIV</th><th>DELTACHI2_CIV</th><th>Z_LYA</th><th>ZWARN_LYA</th><th>DELTACHI2_LYA</th><th>Z_LYAWG</th><th>Z_DLA</th><th>NHI_DLA</th><th>CONF_DLA</th><th>BAL_PROB</th><th>BI_CIV</th><th>ERR_BI_CIV</th><th>AI_CIV</th><th>ERR_AI_CIV</th><th>BI_SIIV</th><th>ERR_BI_SIIV</th><th>AI_SIIV</th><th>ERR_AI_SIIV</th><th>BOSS_TARGET1</th><th>EBOSS_TARGET0</th><th>EBOSS_TARGET1</th><th>EBOSS_TARGET2</th><th>ANCILLARY_TARGET1</th><th>ANCILLARY_TARGET2</th><th>NSPEC_SDSS</th><th>NSPEC_BOSS</th><th>NSPEC</th><th>PLATE_DUPLICATE</th><th>MJD_DUPLICATE</th><th>FIBERID_DUPLICATE</th><th>SPECTRO_DUPLICATE</th><th>SKYVERSION</th><th>RUN_NUMBER</th><th>RERUN_NUMBER</th><th>CAMCOL_NUMBER</th><th>FIELD_NUMBER</th><th>ID_NUMBER</th><th>LAMBDA_EFF</th><th>ZOFFSET</th><th>XFOCAL</th><th>YFOCAL</th><th>CHUNK</th><th>TILE</th><th>PLATESN2</th><th>PSFFLUX</th><th>PSFFLUX_IVAR</th><th>PSFMAG</th><th>PSFMAGERR</th><th>EXTINCTION</th><th>M_I</th><th>SN_MEDIAN_ALL</th><th>GALEX_MATCHED</th><th>FUV</th><th>FUV_IVAR</th><th>NUV</th><th>NUV_IVAR</th><th>UKIDSS_MATCHED</th><th>YFLUX</th><th>YFLUX_ERR</th><th>JFLUX</th><th>JFLUX_ERR</th><th>HFLUX</th><th>HFLUX_ERR</th><th>KFLUX</th><th>KFLUX_ERR</th><th>W1_FLUX</th><th>W1_FLUX_IVAR</th><th>W1_MAG</th><th>W1_MAG_ERR</th><th>W1_CHI2</th><th>W1_FLUX_SNR</th><th>W1_SRC_FRAC</th><th>W1_EXT_FLUX</th><th>W1_EXT_FRAC</th><th>W1_NPIX</th><th>W2_FLUX</th><th>W2_FLUX_IVAR</th><th>W2_MAG</th><th>W2_MAG_ERR</th><th>W2_CHI2</th><th>W2_FLUX_SNR</th><th>W2_SRC_FRAC</th><th>W2_EXT_FLUX</th><th>W2_EXT_FRAC</th><th>W2_NPIX</th><th>FIRST_MATCHED</th><th>FIRST_FLUX</th><th>FIRST_SNR</th><th>SDSS2FIRST_SEP</th><th>JMAG</th><th>JMAG_ERR</th><th>JSNR</th><th>JRDFLAG</th><th>HMAG</th><th>HMAG_ERR</th><th>HSNR</th><th>HRDFLAG</th><th>KMAG</th><th>KMAG_ERR</th><th>KSNR</th><th>KRDFLAG</th><th>SDSS2MASS_SEP</th><th>2RXS_ID</th><th>2RXS_RA</th><th>2RXS_DEC</th><th>2RXS_SRC_FLUX</th><th>2RXS_SRC_FLUX_ERR</th><th>SDSS2ROSAT_SEP</th><th>XMM_SRC_ID</th><th>XMM_RA</th><th>XMM_DEC</th><th>XMM_SOFT_FLUX</th><th>XMM_SOFT_FLUX_ERR</th><th>XMM_HARD_FLUX</th><th>XMM_HARD_FLUX_ERR</th><th>XMM_TOTAL_FLUX</th><th>XMM_TOTAL_FLUX_ERR</th><th>XMM_TOTAL_LUM</th><th>SDSS2XMM_SEP</th><th>GAIA_MATCHED</th><th>GAIA_DESIGNATION</th><th>GAIA_RA</th><th>GAIA_DEC</th><th>GAIA_PARALLAX</th><th>GAIA_PARALLAX_ERR</th><th>GAIA_PM_RA</th><th>GAIA_PM_RA_ERR</th><th>GAIA_PM_DEC</th><th>GAIA_PM_DEC_ERR</th><th>GAIA_G_MAG</th><th>GAIA_G_FLUX_SNR</th><th>GAIA_BP_MAG</th><th>GAIA_BP_FLUX_SNR</th><th>GAIA_RP_MAG</th><th>GAIA_RP_FLUX_SNR</th><th>SDSS2GAIA_SEP</th></tr></thead>\n",
       "<thead><tr><th>str18</th><th>float64</th><th>float64</th><th>int32</th><th>int32</th><th>int16</th><th>str6</th><th>str6</th><th>int16</th><th>float64</th><th>int16</th><th>float64</th><th>int16</th><th>int16</th><th>int16</th><th>int64</th><th>float64</th><th>int16</th><th>int16</th><th>float64</th><th>int16</th><th>float64</th><th>int16</th><th>float64</th><th>float64</th><th>int16</th><th>float64</th><th>str12</th><th>float64</th><th>int32</th><th>str19</th><th>float64</th><th>int64</th><th>float64</th><th>float64</th><th>int64</th><th>float64</th><th>float64</th><th>int64</th><th>float64</th><th>float64</th><th>int64</th><th>float64</th><th>float64</th><th>int64</th><th>float64</th><th>float64</th><th>int64</th><th>float64</th><th>float64</th><th>int64</th><th>float64</th><th>float32</th><th>float64[5]</th><th>float64[5]</th><th>float64[5]</th><th>float32</th><th>float64</th><th>float64</th><th>float64</th><th>float64</th><th>float64</th><th>float64</th><th>float64</th><th>float64</th><th>int64</th><th>int64</th><th>int64</th><th>int64</th><th>int64</th><th>int64</th><th>int32</th><th>int32</th><th>int32</th><th>int32[74]</th><th>int32[74]</th><th>int16[74]</th><th>int16[74]</th><th>uint8</th><th>int32</th><th>str3</th><th>int32</th><th>int32</th><th>int32</th><th>float64</th><th>float64</th><th>float64</th><th>float64</th><th>str14</th><th>int32</th><th>float64</th><th>float32[5]</th><th>float64[5]</th><th>float32[5]</th><th>float64[5]</th><th>float32[5]</th><th>float64</th><th>float64</th><th>int16</th><th>float64</th><th>float64</th><th>float64</th><th>float64</th><th>int16</th><th>float64</th><th>float64</th><th>float64</th><th>float64</th><th>float64</th><th>float64</th><th>float64</th><th>float64</th><th>float32</th><th>float32</th><th>float32</th><th>float32</th><th>float32</th><th>float32</th><th>float32</th><th>float32</th><th>float32</th><th>int16</th><th>float32</th><th>float32</th><th>float32</th><th>float32</th><th>float32</th><th>float32</th><th>float32</th><th>float32</th><th>float32</th><th>int16</th><th>int16</th><th>float64</th><th>float64</th><th>float64</th><th>float64</th><th>float64</th><th>float64</th><th>int32</th><th>float64</th><th>float64</th><th>float64</th><th>int32</th><th>float64</th><th>float64</th><th>float64</th><th>int32</th><th>float64</th><th>str21</th><th>float64</th><th>float64</th><th>float32</th><th>float32</th><th>float64</th><th>int64</th><th>float64</th><th>float64</th><th>float32</th><th>float32</th><th>float32</th><th>float32</th><th>float32</th><th>float32</th><th>float32</th><th>float64</th><th>int16</th><th>str28</th><th>float64</th><th>float64</th><th>float64</th><th>float64</th><th>float64</th><th>float64</th><th>float64</th><th>float64</th><th>float64</th><th>float64</th><th>float64</th><th>float64</th><th>float64</th><th>float64</th><th>float64</th></tr></thead>\n",
       "<tr><td>000000.15+353104.2</td><td>0.0006294989251500738</td><td>35.51784115297793</td><td>7750</td><td>58402</td><td>802</td><td>QSO</td><td>QSO</td><td>1</td><td>0.8441383104284588</td><td>0</td><td>-1.0</td><td>-1</td><td>-1</td><td>-1</td><td>405570842</td><td>-1.0</td><td>0</td><td>0</td><td>-1.0</td><td>0</td><td>-1.0</td><td>-1</td><td>-1.0</td><td>-1.0</td><td>1</td><td>0.8454347848892212</td><td>PIPE</td><td>0.8454347848892212</td><td>0</td><td>1237666185111273711</td><td>0.845751479344974</td><td>0</td><td>16996.66972831516</td><td>-1.0</td><td>7682</td><td>0.0</td><td>0.8436375149058963</td><td>0</td><td>156.43772375163678</td><td>0.8428504859071788</td><td>0</td><td>750.8834989041113</td><td>0.8940224387238764</td><td>2050</td><td>21.324610028391675</td><td>-1.0</td><td>7682</td><td>0.0</td><td>-1.0</td><td>7682</td><td>0.0</td><td>0.84575146</td><td>-1.0 .. -1.0</td><td>-1.0 .. -1.0</td><td>-1.0 .. -1.0</td><td>-1.0</td><td>-1.0</td><td>-1.0</td><td>-1.0</td><td>-1.0</td><td>-1.0</td><td>-1.0</td><td>-1.0</td><td>-1.0</td><td>0</td><td>0</td><td>1024</td><td>0</td><td>0</td><td>0</td><td>0</td><td>0</td><td>0</td><td>-1 .. -1</td><td>-1 .. -1</td><td>-1 .. -1</td><td>-1 .. -1</td><td>2</td><td>4822</td><td>301</td><td>4</td><td>530</td><td>239</td><td>5400.0</td><td>0.0</td><td>70.60620880126953</td><td>106.47489166259766</td><td>eboss1</td><td>16248</td><td>15.495100021362305</td><td>25.96386 .. 49.856724</td><td>2.8376424312591553 .. 0.5966070294380188</td><td>18.964045 .. 18.255451</td><td>0.024822812527418137 .. 0.028181565925478935</td><td>0.34375072 .. 0.10241971</td><td>-25.623294188753515</td><td>24.46896743774414</td><td>1</td><td>4.148557186126709</td><td>2.070126881708091</td><td>14.441863059997559</td><td>1.4100092136448676</td><td>0</td><td>-1.0</td><td>-1.0</td><td>-1.0</td><td>-1.0</td><td>-1.0</td><td>-1.0</td><td>-1.0</td><td>-1.0</td><td>1663.6448</td><td>0.0044392394</td><td>14.447349</td><td>0.009795113</td><td>4.2344327</td><td>110.84468</td><td>0.8391846</td><td>0.25162572</td><td>0.00015125153</td><td>31</td><td>4714.6587</td><td>0.000358848</td><td>13.316375</td><td>0.012156787</td><td>3.5578887</td><td>89.31112</td><td>0.85367125</td><td>0.06125217</td><td>1.29913e-05</td><td>36</td><td>0</td><td>-1.0</td><td>-1.0</td><td>-1.0</td><td>-1.0</td><td>-1.0</td><td>-1.0</td><td>-1</td><td>-1.0</td><td>-1.0</td><td>-1.0</td><td>-1</td><td>-1.0</td><td>-1.0</td><td>-1.0</td><td>-1</td><td>-1.0</td><td>-1</td><td>-1.0</td><td>-1.0</td><td>-1.0</td><td>-1.0</td><td>-1.0</td><td>-1</td><td>-1.0</td><td>-1.0</td><td>-1.0</td><td>-1.0</td><td>-1.0</td><td>-1.0</td><td>-1.0</td><td>-1.0</td><td>-1.0</td><td>-1.0</td><td>1</td><td>Gaia DR2 2875546163053982464</td><td>0.0006280500798165479</td><td>35.51784374457776</td><td>-0.020426884293556213</td><td>21.95555305480957</td><td>-0.08630888164043427</td><td>12.555686950683594</td><td>-0.027262281626462936</td><td>32.272003173828125</td><td>18.57209587097168</td><td>338.03125</td><td>18.79897689819336</td><td>36.917076110839844</td><td>18.126667022705078</td><td>48.053558349609375</td><td>0.010250241628794688</td></tr>\n",
       "<tr><td>000000.33+310325.3</td><td>0.0014145086271355467</td><td>31.05704783916694</td><td>7749</td><td>58073</td><td>660</td><td>QSO</td><td>QSO</td><td>1</td><td>2.026022667549055</td><td>0</td><td>-1.0</td><td>-1</td><td>-1</td><td>-1</td><td>376953805</td><td>-1.0</td><td>0</td><td>0</td><td>-1.0</td><td>0</td><td>-1.0</td><td>-1</td><td>-1.0</td><td>-1.0</td><td>1</td><td>2.035491466522217</td><td>PIPE</td><td>2.035491466522217</td><td>0</td><td>1237663234451309152</td><td>2.0344430019020106</td><td>0</td><td>522.7567574737077</td><td>-1.0</td><td>7682</td><td>0.0</td><td>-1.0</td><td>7682</td><td>0.0</td><td>2.0517068015079523</td><td>0</td><td>36.65111428584561</td><td>2.0140677564448497</td><td>0</td><td>17.77954054107221</td><td>2.0079091130528393</td><td>0</td><td>94.93493230811634</td><td>2.037936700312481</td><td>0</td><td>59.69074975107185</td><td>2.030835</td><td>-1.0 .. -1.0</td><td>-1.0 .. -1.0</td><td>-1.0 .. -1.0</td><td>0.9</td><td>0.0</td><td>0.0</td><td>143.46597290039062</td><td>6.538216590881348</td><td>0.0</td><td>0.0</td><td>0.0</td><td>0.0</td><td>0</td><td>0</td><td>1024</td><td>0</td><td>0</td><td>0</td><td>0</td><td>0</td><td>0</td><td>-1 .. -1</td><td>-1 .. -1</td><td>-1 .. -1</td><td>-1 .. -1</td><td>2</td><td>4135</td><td>301</td><td>4</td><td>264</td><td>608</td><td>5400.0</td><td>0.0</td><td>-88.13436889648438</td><td>15.417671203613281</td><td>eboss1</td><td>16245</td><td>13.633299827575684</td><td>1.455544 .. 4.1010404</td><td>28.096485137939453 .. 1.7968083620071411</td><td>22.08253 .. 20.934025</td><td>0.13819186389446259 .. 0.18577812612056732</td><td>0.19886895 .. 0.059252534</td><td>-24.53857663984803</td><td>2.288592576980591</td><td>1</td><td>0.2793227732181549</td><td>107.3597961873109</td><td>0.16517719626426697</td><td>210.68806861684362</td><td>0</td><td>-1.0</td><td>-1.0</td><td>-1.0</td><td>-1.0</td><td>-1.0</td><td>-1.0</td><td>-1.0</td><td>-1.0</td><td>126.41466</td><td>0.005014072</td><td>17.245506</td><td>0.12129184</td><td>0.611314</td><td>8.951437</td><td>0.8435239</td><td>0.004989492</td><td>3.9469247e-05</td><td>33</td><td>267.47</td><td>0.0003521512</td><td>16.431812</td><td>0.216314</td><td>1.0426483</td><td>5.0192595</td><td>0.855141</td><td>-0.031017762</td><td>-0.00011596725</td><td>35</td><td>0</td><td>-1.0</td><td>-1.0</td><td>-1.0</td><td>-1.0</td><td>-1.0</td><td>-1.0</td><td>-1</td><td>-1.0</td><td>-1.0</td><td>-1.0</td><td>-1</td><td>-1.0</td><td>-1.0</td><td>-1.0</td><td>-1</td><td>-1.0</td><td>-1</td><td>-1.0</td><td>-1.0</td><td>-1.0</td><td>-1.0</td><td>-1.0</td><td>-1</td><td>-1.0</td><td>-1.0</td><td>-1.0</td><td>-1.0</td><td>-1.0</td><td>-1.0</td><td>-1.0</td><td>-1.0</td><td>-1.0</td><td>-1.0</td><td>0</td><td>-1</td><td>-1.0</td><td>-1.0</td><td>-1.0</td><td>-1.0</td><td>-1.0</td><td>-1.0</td><td>-1.0</td><td>-1.0</td><td>-1.0</td><td>-1.0</td><td>-1.0</td><td>-1.0</td><td>-1.0</td><td>-1.0</td><td>-1.0</td></tr>\n",
       "<tr><td>000000.36+070350.8</td><td>0.0015353689425410266</td><td>7.064129305528049</td><td>11279</td><td>58449</td><td>978</td><td>QSO</td><td>QSO</td><td>1</td><td>1.565546678922586</td><td>0</td><td>-1.0</td><td>-1</td><td>-1</td><td>-1</td><td>175096522</td><td>-1.0</td><td>0</td><td>0</td><td>-1.0</td><td>0</td><td>-1.0</td><td>-1</td><td>-1.0</td><td>-1.0</td><td>1</td><td>1.5742274522781372</td><td>PIPE</td><td>1.5742274522781372</td><td>0</td><td>1237669517441827491</td><td>1.5748324669819411</td><td>0</td><td>395.17112356819234</td><td>-1.0</td><td>7682</td><td>0.0</td><td>-1.0</td><td>7682</td><td>0.0</td><td>1.571394626776076</td><td>0</td><td>51.26856655958335</td><td>1.57383165321738</td><td>0</td><td>28.665405762936928</td><td>1.5893603661422095</td><td>0</td><td>121.69651782476126</td><td>-1.0</td><td>7682</td><td>0.0</td><td>1.5748324</td><td>-1.0 .. -1.0</td><td>-1.0 .. -1.0</td><td>-1.0 .. -1.0</td><td>0.0</td><td>0.0</td><td>0.0</td><td>0.0</td><td>0.0</td><td>0.0</td><td>0.0</td><td>0.0</td><td>0.0</td><td>0</td><td>0</td><td>1024</td><td>0</td><td>0</td><td>0</td><td>0</td><td>0</td><td>0</td><td>-1 .. -1</td><td>-1 .. -1</td><td>-1 .. -1</td><td>-1 .. -1</td><td>2</td><td>5598</td><td>301</td><td>3</td><td>115</td><td>675</td><td>5400.0</td><td>0.0</td><td>223.17718505859375</td><td>33.97584533691406</td><td>eboss26</td><td>17451</td><td>15.228899955749512</td><td>0.96423775 .. 1.4440194</td><td>26.673974990844727 .. 3.1541740894317627</td><td>22.517344 .. 21.88876</td><td>0.2093711793422699 .. 0.29565373063087463</td><td>0.2439438 .. 0.07268248</td><td>-23.570057379465844</td><td>1.4206629991531372</td><td>1</td><td>0.0</td><td>0.0</td><td>0.0</td><td>0.0</td><td>1</td><td>3.781623219692077e-32</td><td>3.522887509121285e-32</td><td>4.6802930589995313e-32</td><td>4.486788762565333e-32</td><td>5.673621050274889e-32</td><td>6.636885185780791e-32</td><td>1.8909267789050603e-31</td><td>6.076921407098508e-32</td><td>3.112474</td><td>0.0034322678</td><td>21.267235</td><td>5.9542627</td><td>0.33925283</td><td>0.18234603</td><td>0.8454622</td><td>-2.4947178e-10</td><td>0.0</td><td>34</td><td>167.85875</td><td>0.00025295082</td><td>16.93764</td><td>0.40668884</td><td>1.0788183</td><td>2.6696975</td><td>0.8543751</td><td>8.0944886e-08</td><td>0.0</td><td>34</td><td>0</td><td>-1.0</td><td>-1.0</td><td>-1.0</td><td>-1.0</td><td>-1.0</td><td>-1.0</td><td>-1</td><td>-1.0</td><td>-1.0</td><td>-1.0</td><td>-1</td><td>-1.0</td><td>-1.0</td><td>-1.0</td><td>-1</td><td>-1.0</td><td>-1</td><td>-1.0</td><td>-1.0</td><td>-1.0</td><td>-1.0</td><td>-1.0</td><td>-1</td><td>-1.0</td><td>-1.0</td><td>-1.0</td><td>-1.0</td><td>-1.0</td><td>-1.0</td><td>-1.0</td><td>-1.0</td><td>-1.0</td><td>-1.0</td><td>0</td><td>-1</td><td>-1.0</td><td>-1.0</td><td>-1.0</td><td>-1.0</td><td>-1.0</td><td>-1.0</td><td>-1.0</td><td>-1.0</td><td>-1.0</td><td>-1.0</td><td>-1.0</td><td>-1.0</td><td>-1.0</td><td>-1.0</td><td>-1.0</td></tr>\n",
       "<tr><td>000000.36+274356.2</td><td>0.0015264841092630377</td><td>27.73228339001279</td><td>7695</td><td>57654</td><td>565</td><td>QSO</td><td>QSO</td><td>1</td><td>1.7744081379526175</td><td>0</td><td>-1.0</td><td>-1</td><td>-1</td><td>-1</td><td>351857966</td><td>-1.0</td><td>0</td><td>0</td><td>-1.0</td><td>0</td><td>-1.0</td><td>-1</td><td>-1.0</td><td>-1.0</td><td>1</td><td>1.7705516815185547</td><td>PIPE</td><td>1.7705516815185547</td><td>0</td><td>1237663233378943459</td><td>1.7711350379809114</td><td>0</td><td>410.12555811197035</td><td>-1.0</td><td>7682</td><td>0.0</td><td>-1.0</td><td>7682</td><td>0.0</td><td>1.7702794429839241</td><td>0</td><td>21.87843562643343</td><td>1.7558669284907311</td><td>0</td><td>22.79849258331683</td><td>1.7673499491247613</td><td>0</td><td>94.47670636372106</td><td>-1.0</td><td>7682</td><td>0.0</td><td>1.7716389</td><td>-1.0 .. -1.0</td><td>-1.0 .. -1.0</td><td>-1.0 .. -1.0</td><td>0.0</td><td>0.0</td><td>0.0</td><td>0.0</td><td>0.0</td><td>0.0</td><td>0.0</td><td>0.0</td><td>0.0</td><td>0</td><td>0</td><td>1024</td><td>0</td><td>0</td><td>0</td><td>0</td><td>0</td><td>0</td><td>-1 .. -1</td><td>-1 .. -1</td><td>-1 .. -1</td><td>-1 .. -1</td><td>2</td><td>4135</td><td>301</td><td>2</td><td>285</td><td>483</td><td>5400.0</td><td>0.0</td><td>-215.65855407714844</td><td>78.34519958496094</td><td>eboss1</td><td>16242</td><td>12.403200149536133</td><td>1.1337416 .. 1.2490184</td><td>24.20319938659668 .. 2.469827890396118</td><td>22.347525 .. 21.994589</td><td>0.18898065388202667 .. 0.35673806071281433</td><td>0.26307732 .. 0.07838327</td><td>-23.85126145027972</td><td>1.0090569257736206</td><td>1</td><td>0.0</td><td>0.0</td><td>0.0</td><td>0.0</td><td>0</td><td>-1.0</td><td>-1.0</td><td>-1.0</td><td>-1.0</td><td>-1.0</td><td>-1.0</td><td>-1.0</td><td>-1.0</td><td>101.44838</td><td>0.0057541076</td><td>17.484386</td><td>0.14108804</td><td>0.63978136</td><td>7.6954517</td><td>0.8436933</td><td>0.07803405</td><td>0.0007692</td><td>33</td><td>154.28232</td><td>0.0003330853</td><td>17.02921</td><td>0.38559413</td><td>0.5723123</td><td>2.815749</td><td>0.85512805</td><td>-0.5261928</td><td>-0.003410584</td><td>35</td><td>0</td><td>-1.0</td><td>-1.0</td><td>-1.0</td><td>-1.0</td><td>-1.0</td><td>-1.0</td><td>-1</td><td>-1.0</td><td>-1.0</td><td>-1.0</td><td>-1</td><td>-1.0</td><td>-1.0</td><td>-1.0</td><td>-1</td><td>-1.0</td><td>-1</td><td>-1.0</td><td>-1.0</td><td>-1.0</td><td>-1.0</td><td>-1.0</td><td>-1</td><td>-1.0</td><td>-1.0</td><td>-1.0</td><td>-1.0</td><td>-1.0</td><td>-1.0</td><td>-1.0</td><td>-1.0</td><td>-1.0</td><td>-1.0</td><td>0</td><td>-1</td><td>-1.0</td><td>-1.0</td><td>-1.0</td><td>-1.0</td><td>-1.0</td><td>-1.0</td><td>-1.0</td><td>-1.0</td><td>-1.0</td><td>-1.0</td><td>-1.0</td><td>-1.0</td><td>-1.0</td><td>-1.0</td><td>-1.0</td></tr>\n",
       "<tr><td>000000.45+092308.2</td><td>0.0019139323820809295</td><td>9.385636911648206</td><td>11277</td><td>58450</td><td>705</td><td>QSO</td><td>QSO</td><td>1</td><td>2.033732811422727</td><td>0</td><td>-1.0</td><td>-1</td><td>-1</td><td>-1</td><td>196571343</td><td>-1.0</td><td>0</td><td>0</td><td>-1.0</td><td>0</td><td>-1.0</td><td>-1</td><td>-1.0</td><td>-1.0</td><td>1</td><td>2.024146318435669</td><td>PIPE</td><td>2.024146318435669</td><td>0</td><td>1237679318015606804</td><td>2.0259091237511564</td><td>0</td><td>26576.813852902626</td><td>-1.0</td><td>7682</td><td>0.0</td><td>-1.0</td><td>7682</td><td>0.0</td><td>2.036802201236187</td><td>0</td><td>712.5588206441782</td><td>2.0309983965987133</td><td>0</td><td>673.5819974202324</td><td>2.021040762631008</td><td>0</td><td>3658.945308889662</td><td>2.032103120491116</td><td>0</td><td>1380.504531362969</td><td>2.0266654</td><td>-1.0 .. -1.0</td><td>-1.0 .. -1.0</td><td>-1.0 .. -1.0</td><td>0.0</td><td>0.0</td><td>0.0</td><td>0.0</td><td>0.0</td><td>0.0</td><td>0.0</td><td>0.0</td><td>0.0</td><td>0</td><td>0</td><td>1024</td><td>0</td><td>0</td><td>0</td><td>0</td><td>0</td><td>0</td><td>-1 .. -1</td><td>-1 .. -1</td><td>-1 .. -1</td><td>-1 .. -1</td><td>2</td><td>7880</td><td>301</td><td>2</td><td>43</td><td>20</td><td>5400.0</td><td>0.0</td><td>-63.36301803588867</td><td>115.9906234741211</td><td>eboss26</td><td>17434</td><td>14.530900001525879</td><td>31.14695 .. 54.50869</td><td>1.7722076177597046 .. 0.8584942817687988</td><td>18.76644 .. 18.158636</td><td>0.026183877140283585 .. 0.021489674225449562</td><td>0.3726525 .. 0.111030936</td><td>-27.62001811657619</td><td>22.831876754760742</td><td>1</td><td>4.856250762939453</td><td>1.2267018486788392</td><td>8.22021198272705</td><td>1.5499775640933848</td><td>1</td><td>1.6171358539064507e-30</td><td>3.037724844085639e-32</td><td>1.8085208163107213e-30</td><td>3.663023774280976e-32</td><td>1.8053765099815937e-30</td><td>4.290846196973941e-32</td><td>1.744522766111841e-30</td><td>4.935802625324492e-32</td><td>756.07153</td><td>0.003366521</td><td>15.303593</td><td>0.024749745</td><td>1.280028</td><td>43.868576</td><td>0.92667514</td><td>0.114683196</td><td>0.00015168419</td><td>133</td><td>2430.9502</td><td>0.00026684027</td><td>14.03556</td><td>0.027341515</td><td>2.9761937</td><td>39.71017</td><td>0.93790966</td><td>0.009088497</td><td>3.740147e-06</td><td>133</td><td>0</td><td>-1.0</td><td>-1.0</td><td>-1.0</td><td>-1.0</td><td>-1.0</td><td>-1.0</td><td>-1</td><td>-1.0</td><td>-1.0</td><td>-1.0</td><td>-1</td><td>-1.0</td><td>-1.0</td><td>-1.0</td><td>-1</td><td>-1.0</td><td>-1</td><td>-1.0</td><td>-1.0</td><td>-1.0</td><td>-1.0</td><td>-1.0</td><td>-1</td><td>-1.0</td><td>-1.0</td><td>-1.0</td><td>-1.0</td><td>-1.0</td><td>-1.0</td><td>-1.0</td><td>-1.0</td><td>-1.0</td><td>-1.0</td><td>1</td><td>Gaia DR2 2747188660230483712</td><td>0.0019172973085235152</td><td>9.385655598551972</td><td>0.02837894856929779</td><td>19.791959762573242</td><td>-0.2945098578929901</td><td>5.826672077178955</td><td>-0.14840765297412872</td><td>35.20163345336914</td><td>18.343128204345703</td><td>318.29473876953125</td><td>18.520456314086914</td><td>56.96324920654297</td><td>17.896278381347656</td><td>73.99073791503906</td><td>0.06832625287474876</td></tr>\n",
       "<tr><td>000000.45+174625.4</td><td>0.0018982743563356053</td><td>17.773739123771385</td><td>7596</td><td>56945</td><td>162</td><td>QSO</td><td>QSO</td><td>1</td><td>2.3093549260430675</td><td>0</td><td>-1.0</td><td>-1</td><td>-1</td><td>-1</td><td>268270422</td><td>2.309</td><td>3</td><td>3</td><td>-1.0</td><td>0</td><td>-1.0</td><td>-1</td><td>-1.0</td><td>-1.0</td><td>1</td><td>2.309</td><td>VI</td><td>2.30739688873291</td><td>0</td><td>1237678601842131080</td><td>2.309822022231934</td><td>0</td><td>2041.8610573860806</td><td>-1.0</td><td>7682</td><td>0.0</td><td>-1.0</td><td>7682</td><td>0.0</td><td>2.30940086657011</td><td>0</td><td>31.778644420711572</td><td>2.306577112455882</td><td>0</td><td>34.69502642980575</td><td>2.2925674836007754</td><td>0</td><td>269.797993856516</td><td>2.3111845575852</td><td>0</td><td>662.8146161377567</td><td>2.3082442</td><td>-1.0 .. -1.0</td><td>-1.0 .. -1.0</td><td>-1.0 .. -1.0</td><td>0.0</td><td>0.0</td><td>0.0</td><td>0.0</td><td>0.0</td><td>0.0</td><td>0.0</td><td>0.0</td><td>0.0</td><td>0</td><td>0</td><td>4096</td><td>0</td><td>0</td><td>0</td><td>0</td><td>1</td><td>1</td><td>6173 .. -1</td><td>56238 .. -1</td><td>528 .. -1</td><td>2 .. -1</td><td>2</td><td>7713</td><td>301</td><td>4</td><td>231</td><td>136</td><td>4000.0</td><td>0.0</td><td>72.77312469482422</td><td>-298.60845947265625</td><td>eboss1</td><td>16136</td><td>17.510400772094727</td><td>1.0379367 .. 2.6311364</td><td>12.372532844543457 .. 0.8706143498420715</td><td>22.440338 .. 21.372461</td><td>0.2871243953704834 .. 0.38545534014701843</td><td>0.120217286 .. 0.035818458</td><td>-24.311245968974994</td><td>2.031489610671997</td><td>1</td><td>0.30231887102127075</td><td>8.785573140381723</td><td>0.7275648713111877</td><td>4.537358964921044</td><td>0</td><td>-1.0</td><td>-1.0</td><td>-1.0</td><td>-1.0</td><td>-1.0</td><td>-1.0</td><td>-1.0</td><td>-1.0</td><td>19.490442</td><td>0.003893471</td><td>19.275446</td><td>0.8927587</td><td>0.3029682</td><td>1.2161585</td><td>0.8448824</td><td>4.557719</td><td>0.23384377</td><td>34</td><td>241.83508</td><td>0.00029687732</td><td>16.541203</td><td>0.26056522</td><td>0.47792274</td><td>4.1668496</td><td>0.8535045</td><td>3.3667855</td><td>0.013921826</td><td>34</td><td>0</td><td>-1.0</td><td>-1.0</td><td>-1.0</td><td>-1.0</td><td>-1.0</td><td>-1.0</td><td>-1</td><td>-1.0</td><td>-1.0</td><td>-1.0</td><td>-1</td><td>-1.0</td><td>-1.0</td><td>-1.0</td><td>-1</td><td>-1.0</td><td>-1</td><td>-1.0</td><td>-1.0</td><td>-1.0</td><td>-1.0</td><td>-1.0</td><td>-1</td><td>-1.0</td><td>-1.0</td><td>-1.0</td><td>-1.0</td><td>-1.0</td><td>-1.0</td><td>-1.0</td><td>-1.0</td><td>-1.0</td><td>-1.0</td><td>0</td><td>-1</td><td>-1.0</td><td>-1.0</td><td>-1.0</td><td>-1.0</td><td>-1.0</td><td>-1.0</td><td>-1.0</td><td>-1.0</td><td>-1.0</td><td>-1.0</td><td>-1.0</td><td>-1.0</td><td>-1.0</td><td>-1.0</td><td>-1.0</td></tr>\n",
       "<tr><td>000000.47-002703.9</td><td>0.001978307141598634</td><td>-0.4510883108109687</td><td>4216</td><td>55477</td><td>310</td><td>UNK</td><td>UNK</td><td>-1</td><td>-1.0</td><td>0</td><td>-1.0</td><td>-1</td><td>-1</td><td>-1</td><td>85757093</td><td>0.25</td><td>3</td><td>3</td><td>-1.0</td><td>0</td><td>-1.0</td><td>-1</td><td>-1.0</td><td>-1.0</td><td>1</td><td>0.25</td><td>VI</td><td>0.2499377280473709</td><td>0</td><td>1237657190368346361</td><td>0.2499664631139367</td><td>0</td><td>10312.022277614225</td><td>0.2502658034466343</td><td>0</td><td>2179.694191994025</td><td>0.2502945933897358</td><td>0</td><td>190.91675535334383</td><td>0.2860996637464366</td><td>2050</td><td>12.950350286831277</td><td>-1.0</td><td>7682</td><td>0.0</td><td>-1.0</td><td>7682</td><td>0.0</td><td>-1.0</td><td>7682</td><td>0.0</td><td>0.24996646</td><td>-1.0 .. -1.0</td><td>-1.0 .. -1.0</td><td>-1.0 .. -1.0</td><td>-1.0</td><td>-1.0</td><td>-1.0</td><td>-1.0</td><td>-1.0</td><td>-1.0</td><td>-1.0</td><td>-1.0</td><td>-1.0</td><td>0</td><td>0</td><td>0</td><td>0</td><td>68719476736</td><td>0</td><td>0</td><td>0</td><td>0</td><td>-1 .. -1</td><td>-1 .. -1</td><td>-1 .. -1</td><td>-1 .. -1</td><td>2</td><td>2728</td><td>301</td><td>2</td><td>413</td><td>249</td><td>5400.0</td><td>0.0</td><td>-26.765302658081055</td><td>-98.13353729248047</td><td>boss11</td><td>10459</td><td>19.3794002532959</td><td>2.1125798 .. 11.127286</td><td>15.64193344116211 .. 1.5977404117584229</td><td>21.68323 .. 19.879257</td><td>0.12882035970687866 .. 0.07651983946561813</td><td>0.17461136 .. 0.052025042</td><td>-20.827023651221683</td><td>7.5692362785339355</td><td>0</td><td>-1.0</td><td>-1.0</td><td>-1.0</td><td>-1.0</td><td>0</td><td>-1.0</td><td>-1.0</td><td>-1.0</td><td>-1.0</td><td>-1.0</td><td>-1.0</td><td>-1.0</td><td>-1.0</td><td>471.9955</td><td>0.0029106536</td><td>15.815155</td><td>0.042637445</td><td>1.0136434</td><td>25.464382</td><td>0.91347736</td><td>0.09342097</td><td>0.00019792764</td><td>101</td><td>733.4239</td><td>0.00020448896</td><td>15.336613</td><td>0.103522405</td><td>0.8789341</td><td>10.487935</td><td>0.90176606</td><td>0.029832156</td><td>4.0675284e-05</td><td>68</td><td>0</td><td>-1.0</td><td>-1.0</td><td>-1.0</td><td>-1.0</td><td>-1.0</td><td>-1.0</td><td>-1</td><td>-1.0</td><td>-1.0</td><td>-1.0</td><td>-1</td><td>-1.0</td><td>-1.0</td><td>-1.0</td><td>-1</td><td>-1.0</td><td>-1</td><td>-1.0</td><td>-1.0</td><td>-1.0</td><td>-1.0</td><td>-1.0</td><td>-1</td><td>-1.0</td><td>-1.0</td><td>-1.0</td><td>-1.0</td><td>-1.0</td><td>-1.0</td><td>-1.0</td><td>-1.0</td><td>-1.0</td><td>-1.0</td><td>1</td><td>Gaia DR2 2449925177581149440</td><td>0.0019872646253941448</td><td>-0.4511011272059927</td><td>0.0</td><td>0.0</td><td>0.0</td><td>0.0</td><td>0.0</td><td>0.0</td><td>20.97175407409668</td><td>29.804344177246094</td><td>21.025222778320312</td><td>9.367759704589844</td><td>19.34824562072754</td><td>7.2640061378479</td><td>0.05629040904554435</td></tr>\n",
       "<tr><td>000000.57+055630.8</td><td>0.0023754761888312714</td><td>5.941903005523435</td><td>8740</td><td>57367</td><td>694</td><td>QSO</td><td>QSO</td><td>1</td><td>2.1111738917595497</td><td>0</td><td>-1.0</td><td>-1</td><td>-1</td><td>-1</td><td>163544156</td><td>-1.0</td><td>0</td><td>0</td><td>-1.0</td><td>0</td><td>-1.0</td><td>-1</td><td>-1.0</td><td>-1.0</td><td>1</td><td>2.102771282196045</td><td>PIPE</td><td>2.102771282196045</td><td>0</td><td>1237678663034601961</td><td>2.101496527515934</td><td>0</td><td>1110.8580499737545</td><td>-1.0</td><td>7682</td><td>0.0</td><td>-1.0</td><td>7682</td><td>0.0</td><td>2.097295616972638</td><td>0</td><td>30.41741018780067</td><td>2.083914211754335</td><td>0</td><td>73.24283839544694</td><td>2.0861203626983373</td><td>0</td><td>247.91621727182837</td><td>2.1022567538234713</td><td>0</td><td>252.6513803056074</td><td>2.0993412</td><td>-1.0 .. -1.0</td><td>-1.0 .. -1.0</td><td>-1.0 .. -1.0</td><td>0.0</td><td>0.0</td><td>0.0</td><td>0.0</td><td>0.0</td><td>0.0</td><td>0.0</td><td>0.0</td><td>0.0</td><td>0</td><td>0</td><td>2048</td><td>0</td><td>0</td><td>0</td><td>0</td><td>0</td><td>0</td><td>-1 .. -1</td><td>-1 .. -1</td><td>-1 .. -1</td><td>-1 .. -1</td><td>2</td><td>7727</td><td>301</td><td>6</td><td>66</td><td>489</td><td>4000.0</td><td>0.0</td><td>-79.97108459472656</td><td>30.866132736206055</td><td>eboss9</td><td>16078</td><td>18.602399826049805</td><td>1.1197296 .. 4.7301016</td><td>9.196866035461426 .. 0.8192309737205505</td><td>22.360628 .. 20.787176</td><td>0.3101848363876343 .. 0.2420300394296646</td><td>0.2338264 .. 0.069668025</td><td>-24.721895582576042</td><td>4.392148494720459</td><td>1</td><td>0.0</td><td>0.0</td><td>0.0</td><td>0.0</td><td>1</td><td>1.2885136657753173e-31</td><td>2.4790984841010035e-32</td><td>1.229889058862803e-31</td><td>4.504542253745802e-32</td><td>1.4964246446490412e-31</td><td>4.7290496259357627e-32</td><td>2.4598190249290145e-31</td><td>5.689571920868372e-32</td><td>167.81857</td><td>0.0037630866</td><td>16.9379</td><td>0.10546592</td><td>0.41598776</td><td>10.294662</td><td>0.84499896</td><td>5.3567753</td><td>0.031920034</td><td>34</td><td>366.8526</td><td>0.00026972985</td><td>16.088772</td><td>0.18020555</td><td>0.883745</td><td>6.024987</td><td>0.85663354</td><td>5.237315</td><td>0.014276348</td><td>36</td><td>0</td><td>-1.0</td><td>-1.0</td><td>-1.0</td><td>-1.0</td><td>-1.0</td><td>-1.0</td><td>-1</td><td>-1.0</td><td>-1.0</td><td>-1.0</td><td>-1</td><td>-1.0</td><td>-1.0</td><td>-1.0</td><td>-1</td><td>-1.0</td><td>-1</td><td>-1.0</td><td>-1.0</td><td>-1.0</td><td>-1.0</td><td>-1.0</td><td>-1</td><td>-1.0</td><td>-1.0</td><td>-1.0</td><td>-1.0</td><td>-1.0</td><td>-1.0</td><td>-1.0</td><td>-1.0</td><td>-1.0</td><td>-1.0</td><td>0</td><td>-1</td><td>-1.0</td><td>-1.0</td><td>-1.0</td><td>-1.0</td><td>-1.0</td><td>-1.0</td><td>-1.0</td><td>-1.0</td><td>-1.0</td><td>-1.0</td><td>-1.0</td><td>-1.0</td><td>-1.0</td><td>-1.0</td><td>-1.0</td></tr>\n",
       "<tr><td>000000.62+311944.3</td><td>0.0025954542353474608</td><td>31.328981769588538</td><td>7749</td><td>58073</td><td>683</td><td>QSO</td><td>QSO</td><td>1</td><td>1.9947557718168145</td><td>0</td><td>-1.0</td><td>-1</td><td>-1</td><td>-1</td><td>379015326</td><td>-1.0</td><td>0</td><td>0</td><td>-1.0</td><td>0</td><td>-1.0</td><td>-1</td><td>-1.0</td><td>-1.0</td><td>1</td><td>1.991313099861145</td><td>PIPE</td><td>1.991313099861145</td><td>0</td><td>1237663234451177834</td><td>1.9906871538493411</td><td>0</td><td>17856.24825481413</td><td>-1.0</td><td>7682</td><td>0.0</td><td>-1.0</td><td>7682</td><td>0.0</td><td>1.9859390129557482</td><td>0</td><td>194.00007702109923</td><td>1.982403585940403</td><td>0</td><td>312.7949271366906</td><td>1.9864485526895121</td><td>0</td><td>5089.77095431814</td><td>1.990730023268835</td><td>0</td><td>448.9331394241733</td><td>1.9917463</td><td>-1.0 .. -1.0</td><td>-1.0 .. -1.0</td><td>-1.0 .. -1.0</td><td>0.0</td><td>0.0</td><td>0.0</td><td>0.0</td><td>0.0</td><td>0.0</td><td>0.0</td><td>0.0</td><td>0.0</td><td>0</td><td>0</td><td>1073744896</td><td>2147483648</td><td>0</td><td>0</td><td>0</td><td>0</td><td>0</td><td>-1 .. -1</td><td>-1 .. -1</td><td>-1 .. -1</td><td>-1 .. -1</td><td>2</td><td>4135</td><td>301</td><td>4</td><td>262</td><td>362</td><td>5400.0</td><td>0.0</td><td>-87.68744659423828</td><td>74.59521484375</td><td>eboss1</td><td>16245</td><td>13.633299827575684</td><td>13.403608 .. 29.202526</td><td>7.31295108795166 .. 0.9732781648635864</td><td>19.681828 .. 18.835752</td><td>0.029947564005851746 .. 0.03763815760612488</td><td>0.21068363 .. 0.06277269</td><td>-26.80474732832756</td><td>9.443050384521484</td><td>1</td><td>-0.015455483458936214</td><td>163.05036164807626</td><td>0.7348978519439697</td><td>127.10015130211916</td><td>0</td><td>-1.0</td><td>-1.0</td><td>-1.0</td><td>-1.0</td><td>-1.0</td><td>-1.0</td><td>-1.0</td><td>-1.0</td><td>278.51022</td><td>0.005381984</td><td>16.387897</td><td>0.053138826</td><td>1.219676</td><td>20.43207</td><td>0.88434154</td><td>1.3040235</td><td>0.004682138</td><td>64</td><td>847.44495</td><td>0.0003918652</td><td>15.179721</td><td>0.064720884</td><td>0.7058866</td><td>16.77567</td><td>0.8969674</td><td>2.709857</td><td>0.0031976786</td><td>64</td><td>0</td><td>-1.0</td><td>-1.0</td><td>-1.0</td><td>-1.0</td><td>-1.0</td><td>-1.0</td><td>-1</td><td>-1.0</td><td>-1.0</td><td>-1.0</td><td>-1</td><td>-1.0</td><td>-1.0</td><td>-1.0</td><td>-1</td><td>-1.0</td><td>-1</td><td>-1.0</td><td>-1.0</td><td>-1.0</td><td>-1.0</td><td>-1.0</td><td>-1</td><td>-1.0</td><td>-1.0</td><td>-1.0</td><td>-1.0</td><td>-1.0</td><td>-1.0</td><td>-1.0</td><td>-1.0</td><td>-1.0</td><td>-1.0</td><td>1</td><td>Gaia DR2 2873436853074926464</td><td>0.002577267146925445</td><td>31.328977697066456</td><td>0.4635952413082123</td><td>3.536348581314087</td><td>-0.2852781116962433</td><td>1.5271074771881104</td><td>-0.08129299432039261</td><td>5.250818252563477</td><td>19.87257194519043</td><td>214.65621948242188</td><td>20.082162857055664</td><td>15.217488288879395</td><td>19.229459762573242</td><td>28.505966186523438</td><td>0.05781695733323078</td></tr>\n",
       "<tr><td>000000.66+145828.8</td><td>0.002756432550313548</td><td>14.974675485824305</td><td>6177</td><td>56268</td><td>595</td><td>QSO</td><td>QSO</td><td>1</td><td>2.5112713020076285</td><td>0</td><td>-1.0</td><td>-1</td><td>-1</td><td>-1</td><td>244864389</td><td>2.497</td><td>3</td><td>3</td><td>2.4979407787323</td><td>1</td><td>-1.0</td><td>-1</td><td>-1.0</td><td>-1.0</td><td>1</td><td>2.497</td><td>VI</td><td>2.497960329055786</td><td>0</td><td>1237656495650570598</td><td>2.495224574735003</td><td>0</td><td>4279.918210569369</td><td>-1.0</td><td>7682</td><td>0.0</td><td>-1.0</td><td>7682</td><td>0.0</td><td>2.512824164931536</td><td>0</td><td>37.54399460219483</td><td>2.483751897812517</td><td>0</td><td>71.68050159068986</td><td>2.4945086598323947</td><td>0</td><td>428.5430142735212</td><td>2.495946111809488</td><td>0</td><td>1247.403767220968</td><td>2.4981523</td><td>-1.0 .. -1.0</td><td>-1.0 .. -1.0</td><td>-1.0 .. -1.0</td><td>0.0</td><td>0.0</td><td>0.0</td><td>0.0</td><td>0.0</td><td>0.0</td><td>0.0</td><td>58.43513870239258</td><td>4.953938961029053</td><td>2199023255552</td><td>0</td><td>0</td><td>0</td><td>0</td><td>0</td><td>0</td><td>1</td><td>1</td><td>6172 .. -1</td><td>56269 .. -1</td><td>366 .. -1</td><td>2 .. -1</td><td>2</td><td>2566</td><td>301</td><td>4</td><td>309</td><td>358</td><td>4000.0</td><td>0.0</td><td>-153.9791259765625</td><td>157.89260864257812</td><td>boss32</td><td>15248</td><td>12.436300277709961</td><td>1.6601844 .. 5.3485007</td><td>15.485949516296387 .. 0.861799418926239</td><td>21.941969 .. 20.659208</td><td>0.16387343406677246 .. 0.21075020730495453</td><td>0.163415 .. 0.048689112</td><td>-25.677305136595088</td><td>4.692555904388428</td><td>1</td><td>0.04631861299276352</td><td>701.1042837308206</td><td>0.05252976343035698</td><td>384.75096219826605</td><td>1</td><td>1.8603829687921641e-31</td><td>3.147684406018196e-32</td><td>2.3109478375725154e-31</td><td>4.565332356351401e-32</td><td>2.355314285756731e-31</td><td>5.970480393631549e-32</td><td>2.427149215733221e-31</td><td>6.521724355219433e-32</td><td>87.69622</td><td>0.0035568466</td><td>17.642548</td><td>0.20759211</td><td>0.11441386</td><td>5.2301416</td><td>0.83663845</td><td>0.0032368146</td><td>3.691006e-05</td><td>30</td><td>322.5671</td><td>0.00025886437</td><td>16.228449</td><td>0.20920308</td><td>0.39556947</td><td>5.189867</td><td>0.8497438</td><td>0.006460578</td><td>2.0028645e-05</td><td>33</td><td>0</td><td>-1.0</td><td>-1.0</td><td>-1.0</td><td>-1.0</td><td>-1.0</td><td>-1.0</td><td>-1</td><td>-1.0</td><td>-1.0</td><td>-1.0</td><td>-1</td><td>-1.0</td><td>-1.0</td><td>-1.0</td><td>-1</td><td>-1.0</td><td>-1</td><td>-1.0</td><td>-1.0</td><td>-1.0</td><td>-1.0</td><td>-1.0</td><td>-1</td><td>-1.0</td><td>-1.0</td><td>-1.0</td><td>-1.0</td><td>-1.0</td><td>-1.0</td><td>-1.0</td><td>-1.0</td><td>-1.0</td><td>-1.0</td><td>1</td><td>Gaia DR2 2771998659075306240</td><td>0.002764061852522601</td><td>14.974688985965226</td><td>-4.366198539733887</td><td>0.1924942433834076</td><td>-0.05918367579579353</td><td>0.08660107105970383</td><td>1.927170991897583</td><td>0.437235951423645</td><td>20.83826446533203</td><td>76.99555969238281</td><td>20.837522506713867</td><td>7.659587860107422</td><td>20.30355453491211</td><td>4.79887056350708</td><td>0.055371443965860606</td></tr>\n",
       "<tr><td>...</td><td>...</td><td>...</td><td>...</td><td>...</td><td>...</td><td>...</td><td>...</td><td>...</td><td>...</td><td>...</td><td>...</td><td>...</td><td>...</td><td>...</td><td>...</td><td>...</td><td>...</td><td>...</td><td>...</td><td>...</td><td>...</td><td>...</td><td>...</td><td>...</td><td>...</td><td>...</td><td>...</td><td>...</td><td>...</td><td>...</td><td>...</td><td>...</td><td>...</td><td>...</td><td>...</td><td>...</td><td>...</td><td>...</td><td>...</td><td>...</td><td>...</td><td>...</td><td>...</td><td>...</td><td>...</td><td>...</td><td>...</td><td>...</td><td>...</td><td>...</td><td>...</td><td>...</td><td>...</td><td>...</td><td>...</td><td>...</td><td>...</td><td>...</td><td>...</td><td>...</td><td>...</td><td>...</td><td>...</td><td>...</td><td>...</td><td>...</td><td>...</td><td>...</td><td>...</td><td>...</td><td>...</td><td>...</td><td>...</td><td>...</td><td>...</td><td>...</td><td>...</td><td>...</td><td>...</td><td>...</td><td>...</td><td>...</td><td>...</td><td>...</td><td>...</td><td>...</td><td>...</td><td>...</td><td>...</td><td>...</td><td>...</td><td>...</td><td>...</td><td>...</td><td>...</td><td>...</td><td>...</td><td>...</td><td>...</td><td>...</td><td>...</td><td>...</td><td>...</td><td>...</td><td>...</td><td>...</td><td>...</td><td>...</td><td>...</td><td>...</td><td>...</td><td>...</td><td>...</td><td>...</td><td>...</td><td>...</td><td>...</td><td>...</td><td>...</td><td>...</td><td>...</td><td>...</td><td>...</td><td>...</td><td>...</td><td>...</td><td>...</td><td>...</td><td>...</td><td>...</td><td>...</td><td>...</td><td>...</td><td>...</td><td>...</td><td>...</td><td>...</td><td>...</td><td>...</td><td>...</td><td>...</td><td>...</td><td>...</td><td>...</td><td>...</td><td>...</td><td>...</td><td>...</td><td>...</td><td>...</td><td>...</td><td>...</td><td>...</td><td>...</td><td>...</td><td>...</td><td>...</td><td>...</td><td>...</td><td>...</td><td>...</td><td>...</td><td>...</td><td>...</td><td>...</td><td>...</td><td>...</td><td>...</td><td>...</td><td>...</td><td>...</td><td>...</td><td>...</td><td>...</td><td>...</td><td>...</td><td>...</td><td>...</td><td>...</td><td>...</td><td>...</td><td>...</td></tr>\n",
       "<tr><td>235959.64-044037.6</td><td>359.99853776089265</td><td>-4.677127730028658</td><td>7895</td><td>57659</td><td>130</td><td>QSO</td><td>QSO</td><td>1</td><td>1.3977525147795458</td><td>0</td><td>-1.0</td><td>-1</td><td>-1</td><td>-1</td><td>46965280</td><td>-1.0</td><td>0</td><td>0</td><td>-1.0</td><td>0</td><td>-1.0</td><td>-1</td><td>-1.0</td><td>-1.0</td><td>1</td><td>1.3968771696090698</td><td>PIPE</td><td>1.3968771696090698</td><td>0</td><td>1237672840671264973</td><td>1.3963632549561213</td><td>0</td><td>1772.63583409469</td><td>-1.0</td><td>7682</td><td>0.0</td><td>-1.0</td><td>7682</td><td>0.0</td><td>1.3985427999444071</td><td>0</td><td>140.35069756774698</td><td>1.394296961528462</td><td>0</td><td>180.29605419817779</td><td>1.392658925025069</td><td>0</td><td>221.05106746422337</td><td>-1.0</td><td>7682</td><td>0.0</td><td>1.3963633</td><td>-1.0 .. -1.0</td><td>-1.0 .. -1.0</td><td>-1.0 .. -1.0</td><td>-1.0</td><td>-1.0</td><td>-1.0</td><td>-1.0</td><td>-1.0</td><td>-1.0</td><td>-1.0</td><td>-1.0</td><td>-1.0</td><td>0</td><td>0</td><td>1024</td><td>0</td><td>0</td><td>0</td><td>0</td><td>0</td><td>0</td><td>-1 .. -1</td><td>-1 .. -1</td><td>-1 .. -1</td><td>-1 .. -1</td><td>2</td><td>6372</td><td>301</td><td>1</td><td>92</td><td>205</td><td>5400.0</td><td>0.0</td><td>133.32290649414062</td><td>-166.79141235351562</td><td>eboss2</td><td>16328</td><td>15.055000305175781</td><td>3.3085039 .. 6.9283953</td><td>8.26216983795166 .. 0.8177940249443054</td><td>21.198982 .. 20.38624</td><td>0.11376164853572845 .. 0.16946518421173096</td><td>0.13604328 .. 0.040533774</td><td>-24.19473641514077</td><td>4.466358184814453</td><td>1</td><td>0.8748584985733032</td><td>9.052807996283308</td><td>1.4516860246658325</td><td>37.67941412039032</td><td>0</td><td>-1.0</td><td>-1.0</td><td>-1.0</td><td>-1.0</td><td>-1.0</td><td>-1.0</td><td>-1.0</td><td>-1.0</td><td>158.58499</td><td>0.0034752856</td><td>16.999344</td><td>0.11613602</td><td>0.2367675</td><td>9.348831</td><td>0.8482839</td><td>0.90270686</td><td>0.0056922594</td><td>36</td><td>676.3525</td><td>0.00023162895</td><td>15.424567</td><td>0.10547628</td><td>1.0517185</td><td>10.293653</td><td>0.89448684</td><td>1.5485824</td><td>0.0022896077</td><td>61</td><td>0</td><td>-1.0</td><td>-1.0</td><td>-1.0</td><td>-1.0</td><td>-1.0</td><td>-1.0</td><td>-1</td><td>-1.0</td><td>-1.0</td><td>-1.0</td><td>-1</td><td>-1.0</td><td>-1.0</td><td>-1.0</td><td>-1</td><td>-1.0</td><td>-1</td><td>-1.0</td><td>-1.0</td><td>-1.0</td><td>-1.0</td><td>-1.0</td><td>-1</td><td>-1.0</td><td>-1.0</td><td>-1.0</td><td>-1.0</td><td>-1.0</td><td>-1.0</td><td>-1.0</td><td>-1.0</td><td>-1.0</td><td>-1.0</td><td>1</td><td>Gaia DR2 2447708154118868224</td><td>359.9985262772447</td><td>-4.677136557850515</td><td>0.0</td><td>0.0</td><td>0.0</td><td>0.0</td><td>0.0</td><td>0.0</td><td>20.851015090942383</td><td>75.61256408691406</td><td>20.93726921081543</td><td>5.650200843811035</td><td>19.91126251220703</td><td>8.184112548828125</td><td>0.05203560494813776</td></tr>\n",
       "<tr><td>235959.70+084505.2</td><td>359.9987743613988</td><td>8.751452235361512</td><td>6152</td><td>56164</td><td>12</td><td>QSO</td><td>QSO</td><td>1</td><td>2.1961226682141177</td><td>0</td><td>-1.0</td><td>-1</td><td>-1</td><td>-1</td><td>190787316</td><td>2.205</td><td>3</td><td>3</td><td>2.205</td><td>1</td><td>-1.0</td><td>-1</td><td>-1.0</td><td>-1.0</td><td>1</td><td>2.205</td><td>VI</td><td>2.18566632270813</td><td>0</td><td>1237678905171902585</td><td>2.1817760339311802</td><td>0</td><td>6389.049798696673</td><td>-1.0</td><td>7682</td><td>0.0</td><td>-1.0</td><td>7682</td><td>0.0</td><td>2.2043829833133715</td><td>0</td><td>126.05898519951222</td><td>2.2056474616481814</td><td>0</td><td>245.00078957001188</td><td>2.1793531820675445</td><td>0</td><td>779.6757286973002</td><td>2.2202075658832086</td><td>0</td><td>1356.3374245627342</td><td>2.1977665</td><td>-1.0 .. -1.0</td><td>-1.0 .. -1.0</td><td>-1.0 .. -1.0</td><td>0.0</td><td>0.0</td><td>0.0</td><td>0.0</td><td>0.0</td><td>0.0</td><td>0.0</td><td>55.908416748046875</td><td>2.991821527481079</td><td>2199023779840</td><td>0</td><td>0</td><td>0</td><td>0</td><td>0</td><td>0</td><td>0</td><td>0</td><td>-1 .. -1</td><td>-1 .. -1</td><td>-1 .. -1</td><td>-1 .. -1</td><td>2</td><td>7784</td><td>301</td><td>1</td><td>196</td><td>121</td><td>4000.0</td><td>175.0</td><td>268.1565856933594</td><td>-55.59016418457031</td><td>boss32</td><td>15154</td><td>11.219200134277344</td><td>10.209931 .. 33.291416</td><td>1.9940565824508667 .. 0.5809568762779236</td><td>19.97724 .. 18.693634</td><td>0.07527824491262436 .. 0.042745593935251236</td><td>0.26004803 .. 0.077480696</td><td>-27.255403780995728</td><td>11.064468383789062</td><td>1</td><td>-0.012690875679254532</td><td>4.967534234447898</td><td>0.4558853209018707</td><td>25.000072736504702</td><td>0</td><td>-1.0</td><td>-1.0</td><td>-1.0</td><td>-1.0</td><td>-1.0</td><td>-1.0</td><td>-1.0</td><td>-1.0</td><td>449.87222</td><td>0.0040740795</td><td>15.867277</td><td>0.037811194</td><td>0.7775764</td><td>28.714676</td><td>0.9091659</td><td>3.619635</td><td>0.008045917</td><td>96</td><td>1428.7397</td><td>0.0003014394</td><td>14.6126175</td><td>0.043769456</td><td>0.7151304</td><td>24.805794</td><td>0.9208952</td><td>1.6872158</td><td>0.0011809118</td><td>95</td><td>0</td><td>-1.0</td><td>-1.0</td><td>-1.0</td><td>-1.0</td><td>-1.0</td><td>-1.0</td><td>-1</td><td>-1.0</td><td>-1.0</td><td>-1.0</td><td>-1</td><td>-1.0</td><td>-1.0</td><td>-1.0</td><td>-1</td><td>-1.0</td><td>-1</td><td>-1.0</td><td>-1.0</td><td>-1.0</td><td>-1.0</td><td>-1.0</td><td>-1</td><td>-1.0</td><td>-1.0</td><td>-1.0</td><td>-1.0</td><td>-1.0</td><td>-1.0</td><td>-1.0</td><td>-1.0</td><td>-1.0</td><td>-1.0</td><td>1</td><td>Gaia DR2 2747081938882826496</td><td>359.9987728110385</td><td>8.751465850265665</td><td>0.43678179383277893</td><td>5.765101432800293</td><td>-0.21371038258075714</td><td>1.5911178588867188</td><td>0.27400872111320496</td><td>8.94456958770752</td><td>19.416854858398438</td><td>216.89666748046875</td><td>19.699893951416016</td><td>24.34097671508789</td><td>18.846588134765625</td><td>41.66539764404297</td><td>0.04932309935229773</td></tr>\n",
       "<tr><td>235959.71+255838.4</td><td>359.9988315552206</td><td>25.97735630744914</td><td>7666</td><td>57339</td><td>844</td><td>QSO</td><td>QSO</td><td>1</td><td>2.4045535508718454</td><td>0</td><td>-1.0</td><td>-1</td><td>-1</td><td>-1</td><td>336778739</td><td>-1.0</td><td>0</td><td>0</td><td>-1.0</td><td>0</td><td>-1.0</td><td>-1</td><td>-1.0</td><td>-1.0</td><td>1</td><td>3.309382915496826</td><td>PIPE</td><td>3.309382915496826</td><td>0</td><td>1237663232842859190</td><td>3.310147538087328</td><td>0</td><td>1154.0418731842565</td><td>-1.0</td><td>7682</td><td>0.0</td><td>-1.0</td><td>7682</td><td>0.0</td><td>-1.0</td><td>7682</td><td>0.0</td><td>3.3678999962483873</td><td>0</td><td>13.85372681354977</td><td>3.2000465168303043</td><td>0</td><td>24.042885971556018</td><td>3.338356603487229</td><td>0</td><td>399.03173499810623</td><td>-1.0</td><td>-1.0 .. -1.0</td><td>-1.0 .. -1.0</td><td>-1.0 .. -1.0</td><td>0.0</td><td>0.0</td><td>0.0</td><td>0.0</td><td>0.0</td><td>0.0</td><td>0.0</td><td>0.0</td><td>0.0</td><td>0</td><td>0</td><td>1024</td><td>0</td><td>0</td><td>0</td><td>0</td><td>0</td><td>0</td><td>-1 .. -1</td><td>-1 .. -1</td><td>-1 .. -1</td><td>-1 .. -1</td><td>2</td><td>4135</td><td>301</td><td>1</td><td>297</td><td>694</td><td>5400.0</td><td>0.0</td><td>88.98433685302734</td><td>117.18205261230469</td><td>eboss1</td><td>16137</td><td>15.181500434875488</td><td>0.42878428 .. 2.2631524</td><td>29.013948440551758 .. 2.113093376159668</td><td>23.318724 .. 21.51228</td><td>0.39360281825065613 .. 0.27620986104011536</td><td>0.1748707 .. 0.052102312</td><td>-24.671760673022376</td><td>1.2912949323654175</td><td>1</td><td>-0.1665298044681549</td><td>66.92186340057647</td><td>0.14324310421943665</td><td>0.46326284826137704</td><td>0</td><td>-1.0</td><td>-1.0</td><td>-1.0</td><td>-1.0</td><td>-1.0</td><td>-1.0</td><td>-1.0</td><td>-1.0</td><td>316.5971</td><td>0.003947588</td><td>16.248734</td><td>0.054582253</td><td>6.5551486</td><td>19.891745</td><td>0.84080046</td><td>3.0049884</td><td>0.009491522</td><td>32</td><td>782.4187</td><td>0.00024186728</td><td>15.266402</td><td>0.08922705</td><td>2.6768847</td><td>12.168241</td><td>0.8536465</td><td>3.0581262</td><td>0.003908555</td><td>36</td><td>0</td><td>-1.0</td><td>-1.0</td><td>-1.0</td><td>-1.0</td><td>-1.0</td><td>-1.0</td><td>-1</td><td>-1.0</td><td>-1.0</td><td>-1.0</td><td>-1</td><td>-1.0</td><td>-1.0</td><td>-1.0</td><td>-1</td><td>-1.0</td><td>-1</td><td>-1.0</td><td>-1.0</td><td>-1.0</td><td>-1.0</td><td>-1.0</td><td>-1</td><td>-1.0</td><td>-1.0</td><td>-1.0</td><td>-1.0</td><td>-1.0</td><td>-1.0</td><td>-1.0</td><td>-1.0</td><td>-1.0</td><td>-1.0</td><td>0</td><td>-1</td><td>-1.0</td><td>-1.0</td><td>-1.0</td><td>-1.0</td><td>-1.0</td><td>-1.0</td><td>-1.0</td><td>-1.0</td><td>-1.0</td><td>-1.0</td><td>-1.0</td><td>-1.0</td><td>-1.0</td><td>-1.0</td><td>-1.0</td></tr>\n",
       "<tr><td>235959.74+100700.4</td><td>359.9989223184381</td><td>10.116800342372995</td><td>6182</td><td>56190</td><td>380</td><td>QSO</td><td>QSO</td><td>1</td><td>2.4193728240251393</td><td>0</td><td>-1.0</td><td>-1</td><td>-1</td><td>-1</td><td>202268211</td><td>2.415</td><td>3</td><td>3</td><td>2.4155080318450928</td><td>1</td><td>-1.0</td><td>-1</td><td>-1.0</td><td>-1.0</td><td>1</td><td>2.415</td><td>VI</td><td>2.4156601428985596</td><td>0</td><td>1237678906782515755</td><td>2.4124468414693605</td><td>0</td><td>2715.9182501026844</td><td>-1.0</td><td>7682</td><td>0.0</td><td>-1.0</td><td>7682</td><td>0.0</td><td>2.4074049589748765</td><td>0</td><td>17.823479582224593</td><td>2.411733869675933</td><td>0</td><td>92.84688953515018</td><td>2.415362306852677</td><td>0</td><td>397.0780372854995</td><td>2.411732291697624</td><td>0</td><td>861.8414965614411</td><td>2.4136548</td><td>-1.0 .. -1.0</td><td>-1.0 .. -1.0</td><td>-1.0 .. -1.0</td><td>0.9</td><td>0.0</td><td>0.0</td><td>536.2689208984375</td><td>14.119608879089355</td><td>0.0</td><td>0.0</td><td>312.070556640625</td><td>14.20040225982666</td><td>2199023255552</td><td>0</td><td>0</td><td>0</td><td>0</td><td>0</td><td>0</td><td>1</td><td>1</td><td>11277 .. -1</td><td>58450 .. -1</td><td>685 .. -1</td><td>2 .. -1</td><td>2</td><td>7784</td><td>301</td><td>4</td><td>196</td><td>555</td><td>4000.0</td><td>0.0</td><td>-93.57174682617188</td><td>-141.50210571289062</td><td>boss32</td><td>15255</td><td>14.077099800109863</td><td>0.137018 .. 2.373328</td><td>8.572785377502441 .. 0.8092840313911438</td><td>24.122576 .. 21.468784</td><td>1.1895657777786255 .. 0.43150395154953003</td><td>0.39340514 .. 0.117214136</td><td>-25.150680322603353</td><td>2.2707812786102295</td><td>1</td><td>0.8168631196022034</td><td>5.3016064747843945</td><td>0.18351194262504578</td><td>7.803975152448136</td><td>1</td><td>1.124437694089802e-31</td><td>2.679308388059468e-32</td><td>1.4119519749068605e-31</td><td>3.7041008366232856e-32</td><td>1.6103698965022138e-31</td><td>5.596675541058764e-32</td><td>1.9354891819975578e-31</td><td>5.194566547759703e-32</td><td>122.69098</td><td>0.0038132693</td><td>17.27797</td><td>0.14330554</td><td>0.8162422</td><td>7.5763736</td><td>0.845335</td><td>0.32765913</td><td>0.0026706045</td><td>34</td><td>162.11963</td><td>0.0002998662</td><td>16.97541</td><td>0.3867452</td><td>1.0888385</td><td>2.807368</td><td>0.85375607</td><td>0.3178498</td><td>0.0019605886</td><td>34</td><td>0</td><td>-1.0</td><td>-1.0</td><td>-1.0</td><td>-1.0</td><td>-1.0</td><td>-1.0</td><td>-1</td><td>-1.0</td><td>-1.0</td><td>-1.0</td><td>-1</td><td>-1.0</td><td>-1.0</td><td>-1.0</td><td>-1</td><td>-1.0</td><td>-1</td><td>-1.0</td><td>-1.0</td><td>-1.0</td><td>-1.0</td><td>-1.0</td><td>-1</td><td>-1.0</td><td>-1.0</td><td>-1.0</td><td>-1.0</td><td>-1.0</td><td>-1.0</td><td>-1.0</td><td>-1.0</td><td>-1.0</td><td>-1.0</td><td>0</td><td>-1</td><td>-1.0</td><td>-1.0</td><td>-1.0</td><td>-1.0</td><td>-1.0</td><td>-1.0</td><td>-1.0</td><td>-1.0</td><td>-1.0</td><td>-1.0</td><td>-1.0</td><td>-1.0</td><td>-1.0</td><td>-1.0</td><td>-1.0</td></tr>\n",
       "<tr><td>235959.76+242448.7</td><td>359.999027641761</td><td>24.413548431243388</td><td>7666</td><td>57339</td><td>130</td><td>QSO</td><td>QSO</td><td>1</td><td>1.4911743487416893</td><td>0</td><td>-1.0</td><td>-1</td><td>-1</td><td>-1</td><td>323503200</td><td>-1.0</td><td>0</td><td>0</td><td>-1.0</td><td>0</td><td>-1.0</td><td>-1</td><td>-1.0</td><td>-1.0</td><td>1</td><td>1.4903559684753418</td><td>PIPE</td><td>1.4903559684753418</td><td>0</td><td>1237666308558881155</td><td>1.4906091512796538</td><td>0</td><td>1799.4691560289366</td><td>-1.0</td><td>7682</td><td>0.0</td><td>-1.0</td><td>7682</td><td>0.0</td><td>1.487470928561316</td><td>0</td><td>144.97483284840263</td><td>1.4858982477761389</td><td>0</td><td>144.03379660054935</td><td>1.4898702127900556</td><td>0</td><td>340.9633689361833</td><td>-1.0</td><td>7682</td><td>0.0</td><td>1.4906092</td><td>-1.0 .. -1.0</td><td>-1.0 .. -1.0</td><td>-1.0 .. -1.0</td><td>-1.0</td><td>-1.0</td><td>-1.0</td><td>-1.0</td><td>-1.0</td><td>-1.0</td><td>-1.0</td><td>-1.0</td><td>-1.0</td><td>0</td><td>0</td><td>3072</td><td>0</td><td>0</td><td>0</td><td>0</td><td>0</td><td>0</td><td>-1 .. -1</td><td>-1 .. -1</td><td>-1 .. -1</td><td>-1 .. -1</td><td>2</td><td>4851</td><td>301</td><td>2</td><td>31</td><td>387</td><td>5400.0</td><td>0.0</td><td>90.24048614501953</td><td>-223.38369750976562</td><td>eboss1</td><td>16137</td><td>15.181500434875488</td><td>2.8394406 .. 7.860564</td><td>16.299022674560547 .. 1.5556150674819946</td><td>21.364288 .. 20.25187</td><td>0.09425608068704605 .. 0.10883158445358276</td><td>0.43763793 .. 0.13039319</td><td>-24.63025990765276</td><td>4.78242826461792</td><td>1</td><td>-0.23186369240283966</td><td>28.97845190439065</td><td>0.6528385877609253</td><td>6.0032878643597165</td><td>0</td><td>-1.0</td><td>-1.0</td><td>-1.0</td><td>-1.0</td><td>-1.0</td><td>-1.0</td><td>-1.0</td><td>-1.0</td><td>181.5318</td><td>0.004535429</td><td>16.85262</td><td>0.08881011</td><td>0.98980445</td><td>12.225368</td><td>0.84836304</td><td>0.6334118</td><td>0.003489262</td><td>36</td><td>460.81265</td><td>0.00033524862</td><td>15.841189</td><td>0.12868159</td><td>0.39721674</td><td>8.437386</td><td>0.85731316</td><td>0.6892284</td><td>0.0014956794</td><td>36</td><td>0</td><td>-1.0</td><td>-1.0</td><td>-1.0</td><td>-1.0</td><td>-1.0</td><td>-1.0</td><td>-1</td><td>-1.0</td><td>-1.0</td><td>-1.0</td><td>-1</td><td>-1.0</td><td>-1.0</td><td>-1.0</td><td>-1</td><td>-1.0</td><td>-1</td><td>-1.0</td><td>-1.0</td><td>-1.0</td><td>-1.0</td><td>-1.0</td><td>-1</td><td>-1.0</td><td>-1.0</td><td>-1.0</td><td>-1.0</td><td>-1.0</td><td>-1.0</td><td>-1.0</td><td>-1.0</td><td>-1.0</td><td>-1.0</td><td>1</td><td>Gaia DR2 2848519720565849856</td><td>359.9990219668131</td><td>24.41355018961137</td><td>0.025535432621836662</td><td>0.5265592336654663</td><td>-3.447736978530884</td><td>0.22464662790298462</td><td>-0.127489373087883</td><td>0.3733789920806885</td><td>20.7872371673584</td><td>67.01886749267578</td><td>20.778789520263672</td><td>14.08889102935791</td><td>20.188016891479492</td><td>8.000535011291504</td><td>0.01965059328417293</td></tr>\n",
       "<tr><td>235959.78+285717.0</td><td>359.9991177907408</td><td>28.954734243421573</td><td>7134</td><td>56566</td><td>408</td><td>QSO</td><td>QSO</td><td>1</td><td>2.45215755444687</td><td>0</td><td>-1.0</td><td>-1</td><td>-1</td><td>-1</td><td>360831416</td><td>2.452</td><td>3</td><td>3</td><td>-1.0</td><td>0</td><td>-1.0</td><td>-1</td><td>-1.0</td><td>-1.0</td><td>1</td><td>2.452</td><td>VI</td><td>2.449492931365967</td><td>0</td><td>1237663233915355603</td><td>2.447446250077869</td><td>0</td><td>12948.259371224256</td><td>-1.0</td><td>7682</td><td>0.0</td><td>-1.0</td><td>7682</td><td>0.0</td><td>2.4406962302685433</td><td>0</td><td>59.91939924108334</td><td>2.4434437886286062</td><td>0</td><td>324.62317699806</td><td>2.4390669019604148</td><td>0</td><td>3098.381120483123</td><td>2.4497113283936636</td><td>0</td><td>4242.567255237682</td><td>2.4524388</td><td>-1.0 .. -1.0</td><td>-1.0 .. -1.0</td><td>-1.0 .. -1.0</td><td>0.9</td><td>0.0</td><td>0.0</td><td>224.30526733398438</td><td>9.015469551086426</td><td>0.0</td><td>0.0</td><td>0.0</td><td>0.0</td><td>3298535424000</td><td>0</td><td>0</td><td>0</td><td>0</td><td>0</td><td>0</td><td>2</td><td>2</td><td>6511 .. -1</td><td>56540 .. -1</td><td>912 .. -1</td><td>2 .. -1</td><td>2</td><td>4135</td><td>301</td><td>3</td><td>278</td><td>467</td><td>4000.0</td><td>175.0</td><td>-181.00927734375</td><td>-223.6022491455078</td><td>boss32</td><td>15225</td><td>13.130000114440918</td><td>1.4106803 .. 4.7677393</td><td>29.066919326782227 .. 2.151970863342285</td><td>22.115889 .. 20.778961</td><td>0.14002498984336853 .. 0.14825759828090668</td><td>0.23128444 .. 0.06891065</td><td>-25.10904140447828</td><td>2.1391661167144775</td><td>1</td><td>0.012952172197401524</td><td>9.38362862573936</td><td>0.5922036170959473</td><td>0.37761205505281953</td><td>0</td><td>-1.0</td><td>-1.0</td><td>-1.0</td><td>-1.0</td><td>-1.0</td><td>-1.0</td><td>-1.0</td><td>-1.0</td><td>80.99154</td><td>0.0059215375</td><td>17.7289</td><td>0.17420772</td><td>0.4789456</td><td>6.2324224</td><td>0.84861463</td><td>2.6373029</td><td>0.03256269</td><td>36</td><td>243.03177</td><td>0.00038791422</td><td>16.535843</td><td>0.22682631</td><td>0.5399115</td><td>4.786641</td><td>0.85816205</td><td>6.7641425</td><td>0.027832337</td><td>36</td><td>0</td><td>-1.0</td><td>-1.0</td><td>-1.0</td><td>-1.0</td><td>-1.0</td><td>-1.0</td><td>-1</td><td>-1.0</td><td>-1.0</td><td>-1.0</td><td>-1</td><td>-1.0</td><td>-1.0</td><td>-1.0</td><td>-1</td><td>-1.0</td><td>-1</td><td>-1.0</td><td>-1.0</td><td>-1.0</td><td>-1.0</td><td>-1.0</td><td>-1</td><td>-1.0</td><td>-1.0</td><td>-1.0</td><td>-1.0</td><td>-1.0</td><td>-1.0</td><td>-1.0</td><td>-1.0</td><td>-1.0</td><td>-1.0</td><td>0</td><td>-1</td><td>-1.0</td><td>-1.0</td><td>-1.0</td><td>-1.0</td><td>-1.0</td><td>-1.0</td><td>-1.0</td><td>-1.0</td><td>-1.0</td><td>-1.0</td><td>-1.0</td><td>-1.0</td><td>-1.0</td><td>-1.0</td><td>-1.0</td></tr>\n",
       "<tr><td>235959.83+344315.0</td><td>359.99930346932683</td><td>34.72084248281573</td><td>7145</td><td>56567</td><td>240</td><td>QSO</td><td>QSO</td><td>1</td><td>3.09562121848574</td><td>0</td><td>-1.0</td><td>-1</td><td>-1</td><td>-1</td><td>401165277</td><td>3.109</td><td>3</td><td>3</td><td>3.109</td><td>1</td><td>-1.0</td><td>-1</td><td>-1.0</td><td>-1.0</td><td>1</td><td>3.109</td><td>VI</td><td>3.1141908168792725</td><td>0</td><td>1237663235523478042</td><td>3.106479602963368</td><td>0</td><td>13097.088162525753</td><td>-1.0</td><td>7682</td><td>0.0</td><td>-1.0</td><td>7682</td><td>0.0</td><td>-1.0</td><td>7682</td><td>0.0</td><td>3.1036409176545714</td><td>0</td><td>174.7615985988308</td><td>3.1037531603018795</td><td>0</td><td>516.4994112327513</td><td>3.116970386087436</td><td>0</td><td>5229.962514642968</td><td>3.1063092</td><td>2.639856824708802 .. -1.0</td><td>21.048042978006407 .. -1.0</td><td>1.0 .. -1.0</td><td>0.0</td><td>0.0</td><td>0.0</td><td>0.0</td><td>0.0</td><td>0.0</td><td>0.0</td><td>0.0</td><td>0.0</td><td>3298535424000</td><td>0</td><td>0</td><td>0</td><td>0</td><td>0</td><td>0</td><td>0</td><td>0</td><td>-1 .. -1</td><td>-1 .. -1</td><td>-1 .. -1</td><td>-1 .. -1</td><td>2</td><td>4135</td><td>301</td><td>6</td><td>240</td><td>538</td><td>4000.0</td><td>0.0</td><td>29.318933486938477</td><td>-109.69847106933594</td><td>boss32</td><td>15174</td><td>14.062899589538574</td><td>0.26430342 .. 15.253444</td><td>27.282411575317383 .. 1.2617765665054321</td><td>23.721388 .. 19.539034</td><td>0.5398540496826172 .. 0.063071109354496</td><td>0.3354919 .. 0.099959016</td><td>-27.41869147658509</td><td>6.060773849487305</td><td>1</td><td>-0.17406196892261505</td><td>21.936797353156873</td><td>0.14728955924510956</td><td>7.039888551569027</td><td>0</td><td>-1.0</td><td>-1.0</td><td>-1.0</td><td>-1.0</td><td>-1.0</td><td>-1.0</td><td>-1.0</td><td>-1.0</td><td>168.47585</td><td>0.004787854</td><td>16.933657</td><td>0.09313571</td><td>1.5258343</td><td>11.657571</td><td>0.8478348</td><td>16.263971</td><td>0.096535906</td><td>36</td><td>446.4967</td><td>0.00036649193</td><td>15.875454</td><td>0.12702051</td><td>1.4001098</td><td>8.547724</td><td>0.8933614</td><td>27.538452</td><td>0.06167671</td><td>60</td><td>0</td><td>-1.0</td><td>-1.0</td><td>-1.0</td><td>-1.0</td><td>-1.0</td><td>-1.0</td><td>-1</td><td>-1.0</td><td>-1.0</td><td>-1.0</td><td>-1</td><td>-1.0</td><td>-1.0</td><td>-1.0</td><td>-1</td><td>-1.0</td><td>-1</td><td>-1.0</td><td>-1.0</td><td>-1.0</td><td>-1.0</td><td>-1.0</td><td>-1</td><td>-1.0</td><td>-1.0</td><td>-1.0</td><td>-1.0</td><td>-1.0</td><td>-1.0</td><td>-1.0</td><td>-1.0</td><td>-1.0</td><td>-1.0</td><td>1</td><td>Gaia DR2 2875435769509886976</td><td>359.99929461970345</td><td>34.72085536458399</td><td>1.1813302040100098</td><td>1.151535153388977</td><td>0.3330442011356354</td><td>0.2699556052684784</td><td>-0.5227075219154358</td><td>1.0320719480514526</td><td>20.446121215820312</td><td>101.69267272949219</td><td>20.792224884033203</td><td>9.068889617919922</td><td>19.765480041503906</td><td>15.559440612792969</td><td>0.05325671378581394</td></tr>\n",
       "<tr><td>235959.90+031606.9</td><td>359.9996152416898</td><td>3.2685861656570725</td><td>8741</td><td>57390</td><td>60</td><td>QSO</td><td>QSO</td><td>1</td><td>1.2392921098114456</td><td>0</td><td>-1.0</td><td>-1</td><td>-1</td><td>-1</td><td>139887781</td><td>-1.0</td><td>0</td><td>0</td><td>-1.0</td><td>0</td><td>-1.0</td><td>-1</td><td>-1.0</td><td>-1.0</td><td>1</td><td>1.2329624891281128</td><td>PIPE</td><td>1.2329624891281128</td><td>0</td><td>1237678598090457176</td><td>1.2333881856596423</td><td>0</td><td>30389.188346182127</td><td>-1.0</td><td>7682</td><td>0.0</td><td>-1.0</td><td>7682</td><td>0.0</td><td>1.23522978431614</td><td>0</td><td>1612.1164786470838</td><td>1.2290623306473942</td><td>0</td><td>1985.474014017264</td><td>1.3550996685619334</td><td>3106</td><td>10.975676242565612</td><td>-1.0</td><td>7682</td><td>0.0</td><td>1.2333882</td><td>-1.0 .. -1.0</td><td>-1.0 .. -1.0</td><td>-1.0 .. -1.0</td><td>-1.0</td><td>-1.0</td><td>-1.0</td><td>-1.0</td><td>-1.0</td><td>-1.0</td><td>-1.0</td><td>-1.0</td><td>-1.0</td><td>0</td><td>0</td><td>1024</td><td>0</td><td>0</td><td>0</td><td>0</td><td>1</td><td>1</td><td>11278 .. -1</td><td>58395 .. -1</td><td>10 .. -1</td><td>2 .. -1</td><td>2</td><td>7712</td><td>301</td><td>5</td><td>329</td><td>88</td><td>5400.0</td><td>0.0</td><td>219.7599334716797</td><td>-159.8218231201172</td><td>eboss9</td><td>16079</td><td>13.82509994506836</td><td>27.749706 .. 32.96938</td><td>3.1735503673553467 .. 0.6952154040336609</td><td>18.891827 .. 18.704176</td><td>0.021961960941553116 .. 0.0394563302397728</td><td>0.099455886 .. 0.029632647</td><td>-25.99318284490641</td><td>14.484946250915527</td><td>1</td><td>-0.049239084124565125</td><td>6.706261091725037</td><td>6.480186462402344</td><td>2.1848851055251277</td><td>0</td><td>-1.0</td><td>-1.0</td><td>-1.0</td><td>-1.0</td><td>-1.0</td><td>-1.0</td><td>-1.0</td><td>-1.0</td><td>1165.2083</td><td>0.003963568</td><td>14.833991</td><td>0.014800541</td><td>38.518555</td><td>73.357864</td><td>0.9366315</td><td>58.732483</td><td>0.05040512</td><td>166</td><td>3304.136</td><td>0.000268511</td><td>13.702355</td><td>0.020053277</td><td>3.832647</td><td>54.142582</td><td>0.94558984</td><td>69.53708</td><td>0.021045465</td><td>159</td><td>0</td><td>-1.0</td><td>-1.0</td><td>-1.0</td><td>-1.0</td><td>-1.0</td><td>-1.0</td><td>-1</td><td>-1.0</td><td>-1.0</td><td>-1.0</td><td>-1</td><td>-1.0</td><td>-1.0</td><td>-1.0</td><td>-1</td><td>-1.0</td><td>-1</td><td>-1.0</td><td>-1.0</td><td>-1.0</td><td>-1.0</td><td>-1.0</td><td>-1</td><td>-1.0</td><td>-1.0</td><td>-1.0</td><td>-1.0</td><td>-1.0</td><td>-1.0</td><td>-1.0</td><td>-1.0</td><td>-1.0</td><td>-1.0</td><td>1</td><td>Gaia DR2 2739991738151251456</td><td>359.99963314764267</td><td>3.268617737858728</td><td>-0.25808486342430115</td><td>3.498540163040161</td><td>0.14498929679393768</td><td>1.0347909927368164</td><td>-0.6650932431221008</td><td>6.324783802032471</td><td>19.381431579589844</td><td>305.39801025390625</td><td>19.452363967895508</td><td>33.64268493652344</td><td>18.843732833862305</td><td>27.909605026245117</td><td>0.13061526039826607</td></tr>\n",
       "<tr><td>235959.94+204315.8</td><td>359.9997591000249</td><td>20.72107938656721</td><td>7595</td><td>56957</td><td>259</td><td>QSO</td><td>QSO</td><td>1</td><td>2.0091193881015483</td><td>0</td><td>-1.0</td><td>-1</td><td>-1</td><td>-1</td><td>292309197</td><td>-1.0</td><td>0</td><td>0</td><td>-1.0</td><td>0</td><td>-1.0</td><td>-1</td><td>-1.0</td><td>-1.0</td><td>1</td><td>2.0098648071289062</td><td>PIPE</td><td>2.0098648071289062</td><td>0</td><td>1237680247351279916</td><td>2.0100155419078476</td><td>0</td><td>2695.798574308723</td><td>-1.0</td><td>7682</td><td>0.0</td><td>-1.0</td><td>7682</td><td>0.0</td><td>2.0101548576682218</td><td>0</td><td>140.82686932545982</td><td>1.989068874819027</td><td>0</td><td>89.47870646115445</td><td>2.006226375916871</td><td>0</td><td>474.63093001435334</td><td>2.0129536907714964</td><td>0</td><td>214.0686158399775</td><td>2.0104985</td><td>-1.0 .. -1.0</td><td>-1.0 .. -1.0</td><td>-1.0 .. -1.0</td><td>0.0</td><td>0.0</td><td>0.0</td><td>0.0</td><td>0.0</td><td>0.0</td><td>0.0</td><td>0.0</td><td>0.0</td><td>0</td><td>0</td><td>1024</td><td>0</td><td>0</td><td>0</td><td>0</td><td>0</td><td>0</td><td>-1 .. -1</td><td>-1 .. -1</td><td>-1 .. -1</td><td>-1 .. -1</td><td>2</td><td>8096</td><td>301</td><td>5</td><td>228</td><td>300</td><td>5400.0</td><td>0.0</td><td>-19.452255249023438</td><td>-142.6889190673828</td><td>eboss1</td><td>16135</td><td>10.631500244140625</td><td>7.1541233 .. 11.336148</td><td>5.407712936401367 .. 0.8053292036056519</td><td>20.363194 .. 19.85924</td><td>0.0652121752500534 .. 0.10582835227251053</td><td>0.28588897 .. 0.08517994</td><td>-25.865188883645477</td><td>5.33101224899292</td><td>1</td><td>0.08469399809837341</td><td>30.7760685532366</td><td>1.8014731407165527</td><td>89.40159251363889</td><td>0</td><td>-1.0</td><td>-1.0</td><td>-1.0</td><td>-1.0</td><td>-1.0</td><td>-1.0</td><td>-1.0</td><td>-1.0</td><td>161.55995</td><td>0.004234858</td><td>16.979166</td><td>0.10326929</td><td>0.72973305</td><td>10.51364</td><td>0.8483849</td><td>0.24165025</td><td>0.0014957295</td><td>36</td><td>365.85693</td><td>0.0003030408</td><td>16.091722</td><td>0.17047569</td><td>1.0248423</td><td>6.368862</td><td>0.85721874</td><td>0.38150835</td><td>0.0010427801</td><td>36</td><td>0</td><td>-1.0</td><td>-1.0</td><td>-1.0</td><td>-1.0</td><td>-1.0</td><td>-1.0</td><td>-1</td><td>-1.0</td><td>-1.0</td><td>-1.0</td><td>-1</td><td>-1.0</td><td>-1.0</td><td>-1.0</td><td>-1</td><td>-1.0</td><td>-1</td><td>-1.0</td><td>-1.0</td><td>-1.0</td><td>-1.0</td><td>-1.0</td><td>-1</td><td>-1.0</td><td>-1.0</td><td>-1.0</td><td>-1.0</td><td>-1.0</td><td>-1.0</td><td>-1.0</td><td>-1.0</td><td>-1.0</td><td>-1.0</td><td>1</td><td>Gaia DR2 2846415564547806592</td><td>359.99975571653584</td><td>20.721090308952082</td><td>0.7612582445144653</td><td>1.0269360542297363</td><td>2.155700445175171</td><td>0.19002166390419006</td><td>0.838898777961731</td><td>1.6521632671356201</td><td>20.223241806030273</td><td>105.15665435791016</td><td>20.409189224243164</td><td>15.090458869934082</td><td>19.800464630126953</td><td>15.506766319274902</td><td>0.040937768203162375</td></tr>\n",
       "<tr><td>235959.98+344449.6</td><td>359.9999541295649</td><td>34.74713329144633</td><td>7145</td><td>56567</td><td>262</td><td>QSO</td><td>QSO</td><td>1</td><td>2.3735948612550346</td><td>0</td><td>-1.0</td><td>-1</td><td>-1</td><td>-1</td><td>401165238</td><td>2.375</td><td>3</td><td>30</td><td>2.375</td><td>1</td><td>-1.0</td><td>-1</td><td>-1.0</td><td>-1.0</td><td>1</td><td>2.375</td><td>VI</td><td>2.3979172706604004</td><td>0</td><td>1237663235523477803</td><td>2.397574701917856</td><td>0</td><td>2172.760364434227</td><td>-1.0</td><td>7682</td><td>0.0</td><td>-1.0</td><td>7682</td><td>0.0</td><td>2.366444695496621</td><td>0</td><td>40.85677197312225</td><td>2.360721555587227</td><td>0</td><td>185.14969975491977</td><td>2.3794301178761628</td><td>0</td><td>1538.1429410556748</td><td>2.3776696722077517</td><td>0</td><td>1207.465737030756</td><td>2.3949091</td><td>2.4220347145247065 .. -1.0</td><td>20.447690533550766 .. -1.0</td><td>1.0 .. -1.0</td><td>0.9</td><td>0.0</td><td>0.0</td><td>2452.570556640625</td><td>12.860671043395996</td><td>0.0</td><td>0.0</td><td>53.45226287841797</td><td>3.617215156555176</td><td>3298535424000</td><td>0</td><td>0</td><td>0</td><td>0</td><td>0</td><td>0</td><td>0</td><td>0</td><td>-1 .. -1</td><td>-1 .. -1</td><td>-1 .. -1</td><td>-1 .. -1</td><td>2</td><td>4135</td><td>301</td><td>6</td><td>240</td><td>299</td><td>4000.0</td><td>0.0</td><td>29.423967361450195</td><td>-103.97154235839844</td><td>boss32</td><td>15174</td><td>14.062899589538574</td><td>2.0665083 .. 10.901833</td><td>20.731266021728516 .. 1.3692610263824463</td><td>21.706959 .. 19.901283</td><td>0.11434675753116608 .. 0.08433660119771957</td><td>0.33201525 .. 0.09892316</td><td>-26.215444369465935</td><td>4.994688034057617</td><td>1</td><td>-0.353803426027298</td><td>2.7362933480076053</td><td>0.3526000678539276</td><td>0.9934353697992904</td><td>0</td><td>-1.0</td><td>-1.0</td><td>-1.0</td><td>-1.0</td><td>-1.0</td><td>-1.0</td><td>-1.0</td><td>-1.0</td><td>180.90924</td><td>0.0046833577</td><td>16.856348</td><td>0.08769704</td><td>0.8565885</td><td>12.380534</td><td>0.8446405</td><td>3.0010424</td><td>0.01658866</td><td>34</td><td>252.81395</td><td>0.0003704372</td><td>16.492998</td><td>0.22313412</td><td>1.087117</td><td>4.8658457</td><td>0.8551557</td><td>2.7506654</td><td>0.010880198</td><td>36</td><td>0</td><td>-1.0</td><td>-1.0</td><td>-1.0</td><td>-1.0</td><td>-1.0</td><td>-1.0</td><td>-1</td><td>-1.0</td><td>-1.0</td><td>-1.0</td><td>-1</td><td>-1.0</td><td>-1.0</td><td>-1.0</td><td>-1</td><td>-1.0</td><td>-1</td><td>-1.0</td><td>-1.0</td><td>-1.0</td><td>-1.0</td><td>-1.0</td><td>-1</td><td>-1.0</td><td>-1.0</td><td>-1.0</td><td>-1.0</td><td>-1.0</td><td>-1.0</td><td>-1.0</td><td>-1.0</td><td>-1.0</td><td>-1.0</td><td>1</td><td>Gaia DR2 2875436074451234176</td><td>359.9999430013376</td><td>34.74714283417936</td><td>-0.19095969200134277</td><td>0.7130134701728821</td><td>-0.43495437502861023</td><td>0.32215404510498047</td><td>-2.5064830780029297</td><td>0.7102554440498352</td><td>20.753591537475586</td><td>86.64427947998047</td><td>20.962696075439453</td><td>9.167426109313965</td><td>19.86457633972168</td><td>8.895357131958008</td><td>0.04757896283820849</td></tr>\n",
       "</table></div>"
      ],
      "text/plain": [
       "<Table length=750414>\n",
       "    SDSS_NAME                RA          ...    SDSS2GAIA_SEP    \n",
       "      str18               float64        ...       float64       \n",
       "------------------ --------------------- ... --------------------\n",
       "000000.15+353104.2 0.0006294989251500738 ... 0.010250241628794688\n",
       "000000.33+310325.3 0.0014145086271355467 ...                 -1.0\n",
       "000000.36+070350.8 0.0015353689425410266 ...                 -1.0\n",
       "000000.36+274356.2 0.0015264841092630377 ...                 -1.0\n",
       "000000.45+092308.2 0.0019139323820809295 ...  0.06832625287474876\n",
       "000000.45+174625.4 0.0018982743563356053 ...                 -1.0\n",
       "000000.47-002703.9  0.001978307141598634 ...  0.05629040904554435\n",
       "000000.57+055630.8 0.0023754761888312714 ...                 -1.0\n",
       "000000.62+311944.3 0.0025954542353474608 ...  0.05781695733323078\n",
       "000000.66+145828.8  0.002756432550313548 ... 0.055371443965860606\n",
       "               ...                   ... ...                  ...\n",
       "235959.64-044037.6    359.99853776089265 ...  0.05203560494813776\n",
       "235959.70+084505.2     359.9987743613988 ...  0.04932309935229773\n",
       "235959.71+255838.4     359.9988315552206 ...                 -1.0\n",
       "235959.74+100700.4     359.9989223184381 ...                 -1.0\n",
       "235959.76+242448.7      359.999027641761 ...  0.01965059328417293\n",
       "235959.78+285717.0     359.9991177907408 ...                 -1.0\n",
       "235959.83+344315.0    359.99930346932683 ...  0.05325671378581394\n",
       "235959.90+031606.9     359.9996152416898 ...  0.13061526039826607\n",
       "235959.94+204315.8     359.9997591000249 ... 0.040937768203162375\n",
       "235959.98+344449.6     359.9999541295649 ...  0.04757896283820849"
      ]
     },
     "execution_count": 12,
     "metadata": {},
     "output_type": "execute_result"
    }
   ],
   "source": [
    "Eboss_table = Table(HudlEboss[1].data)  #places all of the data from my set into a table form \n",
    "Eboss_table #outputs a view of the table, very clean and potentially as usable as a df, will try features\n",
    "#unlike a df it also fully loads columns, just not rows.  \n"
   ]
  },
  {
   "cell_type": "code",
   "execution_count": 13,
   "id": "16c664ee",
   "metadata": {
    "execution": {
     "iopub.execute_input": "2023-11-29T16:15:51.645566Z",
     "iopub.status.busy": "2023-11-29T16:15:51.645145Z",
     "iopub.status.idle": "2023-11-29T16:15:51.649027Z",
     "shell.execute_reply": "2023-11-29T16:15:51.648220Z"
    },
    "papermill": {
     "duration": 0.021097,
     "end_time": "2023-11-29T16:15:51.651592",
     "exception": false,
     "start_time": "2023-11-29T16:15:51.630495",
     "status": "completed"
    },
    "tags": []
   },
   "outputs": [],
   "source": [
    "#recent documentation for converting astropy table to df , as of recently this was an added feature and should\n",
    "#accurately convert dtypes\n",
    "#however: Cannot convert a table with multidimensional columns to a pandas DataFrame.\n",
    "\n"
   ]
  },
  {
   "cell_type": "code",
   "execution_count": 14,
   "id": "b071552e",
   "metadata": {
    "execution": {
     "iopub.execute_input": "2023-11-29T16:15:51.680500Z",
     "iopub.status.busy": "2023-11-29T16:15:51.679785Z",
     "iopub.status.idle": "2023-11-29T16:15:51.775671Z",
     "shell.execute_reply": "2023-11-29T16:15:51.774809Z"
    },
    "papermill": {
     "duration": 0.113655,
     "end_time": "2023-11-29T16:15:51.778613",
     "exception": false,
     "start_time": "2023-11-29T16:15:51.664958",
     "status": "completed"
    },
    "tags": []
   },
   "outputs": [
    {
     "data": {
      "text/plain": [
       "<SkyCoord (ICRS): (ra, dec) in deg\n",
       "    [(6.29498925e-04, 35.51784115), (1.41450863e-03, 31.05704784),\n",
       "     (1.53536894e-03,  7.06412931), ..., (3.59999615e+02,  3.26858617),\n",
       "     (3.59999759e+02, 20.72107939), (3.59999954e+02, 34.74713329)]>"
      ]
     },
     "execution_count": 14,
     "metadata": {},
     "output_type": "execute_result"
    }
   ],
   "source": [
    "Eboss_ra=Eboss_table['RA']*u.deg #take the ra column from the table, store it in a variable\n",
    "Eboss_dec=Eboss_table['DEC']*u.deg #take the dec column from the table store it in a variable\n",
    "Eboss_Coords=SkyCoord(Eboss_ra, Eboss_dec, frame='icrs', unit='deg') #create a coord system with the ra / dec \n",
    "Eboss_Coords #output the coords to verify the coords combined, will use this for future matching. "
   ]
  },
  {
   "cell_type": "code",
   "execution_count": 15,
   "id": "327bcaa8",
   "metadata": {
    "execution": {
     "iopub.execute_input": "2023-11-29T16:15:51.809163Z",
     "iopub.status.busy": "2023-11-29T16:15:51.807165Z",
     "iopub.status.idle": "2023-11-29T16:15:52.262831Z",
     "shell.execute_reply": "2023-11-29T16:15:52.261464Z"
    },
    "papermill": {
     "duration": 0.474519,
     "end_time": "2023-11-29T16:15:52.266512",
     "exception": false,
     "start_time": "2023-11-29T16:15:51.791993",
     "status": "completed"
    },
    "tags": []
   },
   "outputs": [],
   "source": [
    "COMAP_point_one = SkyCoord(ra='01h41m44.4s', dec='00d00m00s')\n",
    "COMAP_point_two = SkyCoord(ra='11h20m00s', dec='52d30m00s')\n",
    "COMAP_point_three = SkyCoord(ra='15h04m00s', dec='55d00m00s')\n",
    "\n",
    "\n",
    "tol=1.5*u.deg\n",
    "\n",
    "Eboss_sep_point_one=Eboss_Coords.separation(COMAP_point_one)\n",
    "Eboss_idx_one=np.where(Eboss_sep_point_one < tol)[0]\n",
    "#field_one_df=Eboss_table.iloc[Eboss_idx_one]  #can't iloc a table w/o indeces \n",
    "\n",
    "Eboss_sep_point_two=Eboss_Coords.separation(COMAP_point_two)\n",
    "Eboss_idx_two=np.where(Eboss_sep_point_two<tol)[0]\n",
    "#field_two_df=Ebosstable.iloc[Eboss_idx_two]\n",
    "\n",
    "Eboss_sep_point_three=Eboss_Coords.separation(COMAP_point_three)\n",
    "Eboss_idx_three=np.where(Eboss_sep_point_three<tol)[0]\n",
    "#field_three_df=Eboss_table.iloc[Eboss_idx_three]\n",
    "\n",
    "\n",
    "#pd.concat (df1,df2,df3) combines several dataframes together) \n",
    "#combined_df=pd.concat((field_one_df,field_two_df,field_three_df))\n",
    "\n",
    "\n",
    "#there is no indeces because there is no data near these points "
   ]
  },
  {
   "cell_type": "code",
   "execution_count": 16,
   "id": "10fb692c",
   "metadata": {
    "execution": {
     "iopub.execute_input": "2023-11-29T16:15:52.300874Z",
     "iopub.status.busy": "2023-11-29T16:15:52.300384Z",
     "iopub.status.idle": "2023-11-29T16:15:52.522102Z",
     "shell.execute_reply": "2023-11-29T16:15:52.520753Z"
    },
    "papermill": {
     "duration": 0.240256,
     "end_time": "2023-11-29T16:15:52.525363",
     "exception": false,
     "start_time": "2023-11-29T16:15:52.285107",
     "status": "completed"
    },
    "tags": []
   },
   "outputs": [],
   "source": [
    "Eboss_Stripe_table=Eboss_table[(Eboss_table['RA']>60) & (Eboss_table['RA']<300)&(Eboss_table['DEC']>-1.26) & (Eboss_table['DEC']<1.26)  ]"
   ]
  },
  {
   "cell_type": "code",
   "execution_count": 17,
   "id": "ecd35d5e",
   "metadata": {
    "execution": {
     "iopub.execute_input": "2023-11-29T16:15:52.554596Z",
     "iopub.status.busy": "2023-11-29T16:15:52.554080Z",
     "iopub.status.idle": "2023-11-29T16:15:52.627195Z",
     "shell.execute_reply": "2023-11-29T16:15:52.625686Z"
    },
    "papermill": {
     "duration": 0.091784,
     "end_time": "2023-11-29T16:15:52.630804",
     "exception": false,
     "start_time": "2023-11-29T16:15:52.539020",
     "status": "completed"
    },
    "tags": []
   },
   "outputs": [
    {
     "data": {
      "text/html": [
       "<div><i>Table length=9249</i>\n",
       "<table id=\"table135837478235408\" class=\"table-striped table-bordered table-condensed\">\n",
       "<thead><tr><th>SDSS_NAME</th><th>RA</th><th>DEC</th><th>PLATE</th><th>MJD</th><th>FIBERID</th><th>AUTOCLASS_PQN</th><th>AUTOCLASS_DR14Q</th><th>IS_QSO_QN</th><th>Z_QN</th><th>RANDOM_SELECT</th><th>Z_10K</th><th>Z_CONF_10K</th><th>PIPE_CORR_10K</th><th>IS_QSO_10K</th><th>THING_ID</th><th>Z_VI</th><th>Z_CONF</th><th>CLASS_PERSON</th><th>Z_DR12Q</th><th>IS_QSO_DR12Q</th><th>Z_DR7Q_SCH</th><th>IS_QSO_DR7Q</th><th>Z_DR6Q_HW</th><th>Z_DR7Q_HW</th><th>IS_QSO_FINAL</th><th>Z</th><th>SOURCE_Z</th><th>Z_PIPE</th><th>ZWARNING</th><th>OBJID</th><th>Z_PCA</th><th>ZWARN_PCA</th><th>DELTACHI2_PCA</th><th>Z_HALPHA</th><th>ZWARN_HALPHA</th><th>DELTACHI2_HALPHA</th><th>Z_HBETA</th><th>ZWARN_HBETA</th><th>DELTACHI2_HBETA</th><th>Z_MGII</th><th>ZWARN_MGII</th><th>DELTACHI2_MGII</th><th>Z_CIII</th><th>ZWARN_CIII</th><th>DELTACHI2_CIII</th><th>Z_CIV</th><th>ZWARN_CIV</th><th>DELTACHI2_CIV</th><th>Z_LYA</th><th>ZWARN_LYA</th><th>DELTACHI2_LYA</th><th>Z_LYAWG</th><th>Z_DLA</th><th>NHI_DLA</th><th>CONF_DLA</th><th>BAL_PROB</th><th>BI_CIV</th><th>ERR_BI_CIV</th><th>AI_CIV</th><th>ERR_AI_CIV</th><th>BI_SIIV</th><th>ERR_BI_SIIV</th><th>AI_SIIV</th><th>ERR_AI_SIIV</th><th>BOSS_TARGET1</th><th>EBOSS_TARGET0</th><th>EBOSS_TARGET1</th><th>EBOSS_TARGET2</th><th>ANCILLARY_TARGET1</th><th>ANCILLARY_TARGET2</th><th>NSPEC_SDSS</th><th>NSPEC_BOSS</th><th>NSPEC</th><th>PLATE_DUPLICATE</th><th>MJD_DUPLICATE</th><th>FIBERID_DUPLICATE</th><th>SPECTRO_DUPLICATE</th><th>SKYVERSION</th><th>RUN_NUMBER</th><th>RERUN_NUMBER</th><th>CAMCOL_NUMBER</th><th>FIELD_NUMBER</th><th>ID_NUMBER</th><th>LAMBDA_EFF</th><th>ZOFFSET</th><th>XFOCAL</th><th>YFOCAL</th><th>CHUNK</th><th>TILE</th><th>PLATESN2</th><th>PSFFLUX</th><th>PSFFLUX_IVAR</th><th>PSFMAG</th><th>PSFMAGERR</th><th>EXTINCTION</th><th>M_I</th><th>SN_MEDIAN_ALL</th><th>GALEX_MATCHED</th><th>FUV</th><th>FUV_IVAR</th><th>NUV</th><th>NUV_IVAR</th><th>UKIDSS_MATCHED</th><th>YFLUX</th><th>YFLUX_ERR</th><th>JFLUX</th><th>JFLUX_ERR</th><th>HFLUX</th><th>HFLUX_ERR</th><th>KFLUX</th><th>KFLUX_ERR</th><th>W1_FLUX</th><th>W1_FLUX_IVAR</th><th>W1_MAG</th><th>W1_MAG_ERR</th><th>W1_CHI2</th><th>W1_FLUX_SNR</th><th>W1_SRC_FRAC</th><th>W1_EXT_FLUX</th><th>W1_EXT_FRAC</th><th>W1_NPIX</th><th>W2_FLUX</th><th>W2_FLUX_IVAR</th><th>W2_MAG</th><th>W2_MAG_ERR</th><th>W2_CHI2</th><th>W2_FLUX_SNR</th><th>W2_SRC_FRAC</th><th>W2_EXT_FLUX</th><th>W2_EXT_FRAC</th><th>W2_NPIX</th><th>FIRST_MATCHED</th><th>FIRST_FLUX</th><th>FIRST_SNR</th><th>SDSS2FIRST_SEP</th><th>JMAG</th><th>JMAG_ERR</th><th>JSNR</th><th>JRDFLAG</th><th>HMAG</th><th>HMAG_ERR</th><th>HSNR</th><th>HRDFLAG</th><th>KMAG</th><th>KMAG_ERR</th><th>KSNR</th><th>KRDFLAG</th><th>SDSS2MASS_SEP</th><th>2RXS_ID</th><th>2RXS_RA</th><th>2RXS_DEC</th><th>2RXS_SRC_FLUX</th><th>2RXS_SRC_FLUX_ERR</th><th>SDSS2ROSAT_SEP</th><th>XMM_SRC_ID</th><th>XMM_RA</th><th>XMM_DEC</th><th>XMM_SOFT_FLUX</th><th>XMM_SOFT_FLUX_ERR</th><th>XMM_HARD_FLUX</th><th>XMM_HARD_FLUX_ERR</th><th>XMM_TOTAL_FLUX</th><th>XMM_TOTAL_FLUX_ERR</th><th>XMM_TOTAL_LUM</th><th>SDSS2XMM_SEP</th><th>GAIA_MATCHED</th><th>GAIA_DESIGNATION</th><th>GAIA_RA</th><th>GAIA_DEC</th><th>GAIA_PARALLAX</th><th>GAIA_PARALLAX_ERR</th><th>GAIA_PM_RA</th><th>GAIA_PM_RA_ERR</th><th>GAIA_PM_DEC</th><th>GAIA_PM_DEC_ERR</th><th>GAIA_G_MAG</th><th>GAIA_G_FLUX_SNR</th><th>GAIA_BP_MAG</th><th>GAIA_BP_FLUX_SNR</th><th>GAIA_RP_MAG</th><th>GAIA_RP_FLUX_SNR</th><th>SDSS2GAIA_SEP</th></tr></thead>\n",
       "<thead><tr><th>str18</th><th>float64</th><th>float64</th><th>int32</th><th>int32</th><th>int16</th><th>str6</th><th>str6</th><th>int16</th><th>float64</th><th>int16</th><th>float64</th><th>int16</th><th>int16</th><th>int16</th><th>int64</th><th>float64</th><th>int16</th><th>int16</th><th>float64</th><th>int16</th><th>float64</th><th>int16</th><th>float64</th><th>float64</th><th>int16</th><th>float64</th><th>str12</th><th>float64</th><th>int32</th><th>str19</th><th>float64</th><th>int64</th><th>float64</th><th>float64</th><th>int64</th><th>float64</th><th>float64</th><th>int64</th><th>float64</th><th>float64</th><th>int64</th><th>float64</th><th>float64</th><th>int64</th><th>float64</th><th>float64</th><th>int64</th><th>float64</th><th>float64</th><th>int64</th><th>float64</th><th>float32</th><th>float64[5]</th><th>float64[5]</th><th>float64[5]</th><th>float32</th><th>float64</th><th>float64</th><th>float64</th><th>float64</th><th>float64</th><th>float64</th><th>float64</th><th>float64</th><th>int64</th><th>int64</th><th>int64</th><th>int64</th><th>int64</th><th>int64</th><th>int32</th><th>int32</th><th>int32</th><th>int32[74]</th><th>int32[74]</th><th>int16[74]</th><th>int16[74]</th><th>uint8</th><th>int32</th><th>str3</th><th>int32</th><th>int32</th><th>int32</th><th>float64</th><th>float64</th><th>float64</th><th>float64</th><th>str14</th><th>int32</th><th>float64</th><th>float32[5]</th><th>float64[5]</th><th>float32[5]</th><th>float64[5]</th><th>float32[5]</th><th>float64</th><th>float64</th><th>int16</th><th>float64</th><th>float64</th><th>float64</th><th>float64</th><th>int16</th><th>float64</th><th>float64</th><th>float64</th><th>float64</th><th>float64</th><th>float64</th><th>float64</th><th>float64</th><th>float32</th><th>float32</th><th>float32</th><th>float32</th><th>float32</th><th>float32</th><th>float32</th><th>float32</th><th>float32</th><th>int16</th><th>float32</th><th>float32</th><th>float32</th><th>float32</th><th>float32</th><th>float32</th><th>float32</th><th>float32</th><th>float32</th><th>int16</th><th>int16</th><th>float64</th><th>float64</th><th>float64</th><th>float64</th><th>float64</th><th>float64</th><th>int32</th><th>float64</th><th>float64</th><th>float64</th><th>int32</th><th>float64</th><th>float64</th><th>float64</th><th>int32</th><th>float64</th><th>str21</th><th>float64</th><th>float64</th><th>float32</th><th>float32</th><th>float64</th><th>int64</th><th>float64</th><th>float64</th><th>float32</th><th>float32</th><th>float32</th><th>float32</th><th>float32</th><th>float32</th><th>float32</th><th>float64</th><th>int16</th><th>str28</th><th>float64</th><th>float64</th><th>float64</th><th>float64</th><th>float64</th><th>float64</th><th>float64</th><th>float64</th><th>float64</th><th>float64</th><th>float64</th><th>float64</th><th>float64</th><th>float64</th><th>float64</th></tr></thead>\n",
       "<tr><td>052744.50+003525.2</td><td>81.935419</td><td>0.590358</td><td>2072</td><td>53430</td><td>353</td><td>UNK</td><td>UNK</td><td>-1</td><td>-1.0</td><td>0</td><td>-1.0</td><td>-1</td><td>-1</td><td>-1</td><td>110285050</td><td>-1.0</td><td>-1</td><td>0</td><td>-1.0</td><td>-1</td><td>2.3019</td><td>1</td><td>2.317966</td><td>2.316899061203003</td><td>1</td><td>2.317966</td><td>DR6Q_HW</td><td>-1.0</td><td>-1</td><td>1237674285930579017</td><td>2.3110696970527904</td><td>0</td><td>3676.673020776736</td><td>-1.0</td><td>7682</td><td>0.0</td><td>-1.0</td><td>7682</td><td>0.0</td><td>2.2310650642729586</td><td>4098</td><td>5.236745862664165</td><td>2.319176068288076</td><td>0</td><td>164.61390169042636</td><td>2.3148839327416164</td><td>0</td><td>544.5611305527159</td><td>2.306634502749279</td><td>0</td><td>677.604473706233</td><td>2.3194575</td><td>-1.0 .. -1.0</td><td>-1.0 .. -1.0</td><td>-1.0 .. -1.0</td><td>0.0</td><td>0.0</td><td>0.0</td><td>0.0</td><td>0.0</td><td>0.0</td><td>0.0</td><td>0.0</td><td>0.0</td><td>-1</td><td>-1</td><td>-1</td><td>-1</td><td>-1</td><td>-1</td><td>0</td><td>0</td><td>0</td><td>-1 .. -1</td><td>-1 .. -1</td><td>-1 .. -1</td><td>-1 .. -1</td><td>2</td><td>6708</td><td>301</td><td>5</td><td>135</td><td>1097</td><td>5000.0</td><td>0.0</td><td>-275.6600646972656</td><td>128.73907470703125</td><td>chunk105</td><td>8038</td><td>47.39670181274414</td><td>3.7592983 .. 9.379557</td><td>17.132061004638672 .. 2.3615145683288574</td><td>21.06073 .. 20.062849</td><td>0.06958432495594025 .. 0.074405737221241</td><td>0.6763188 .. 0.19403987</td><td>-26.199928048471207</td><td>5.188178539276123</td><td>1</td><td>0.0</td><td>0.0</td><td>0.0</td><td>0.0</td><td>0</td><td>-1.0</td><td>-1.0</td><td>-1.0</td><td>-1.0</td><td>-1.0</td><td>-1.0</td><td>-1.0</td><td>-1.0</td><td>23.931297</td><td>0.003656642</td><td>19.052584</td><td>0.75026876</td><td>1.6383693</td><td>1.4471297</td><td>0.84395814</td><td>0.002059714</td><td>8.606908e-05</td><td>33</td><td>259.27628</td><td>0.00032401786</td><td>16.465593</td><td>0.23263606</td><td>0.51698375</td><td>4.667102</td><td>0.8526097</td><td>-0.00065169996</td><td>-2.5135346e-06</td><td>33</td><td>0</td><td>-1.0</td><td>-1.0</td><td>-1.0</td><td>-1.0</td><td>-1.0</td><td>-1.0</td><td>-1</td><td>-1.0</td><td>-1.0</td><td>-1.0</td><td>-1</td><td>-1.0</td><td>-1.0</td><td>-1.0</td><td>-1</td><td>-1.0</td><td>-1</td><td>-1.0</td><td>-1.0</td><td>-1.0</td><td>-1.0</td><td>-1.0</td><td>-1</td><td>-1.0</td><td>-1.0</td><td>-1.0</td><td>-1.0</td><td>-1.0</td><td>-1.0</td><td>-1.0</td><td>-1.0</td><td>-1.0</td><td>-1.0</td><td>1</td><td>Gaia DR2 3221812336332542464</td><td>81.93542197932665</td><td>0.5903713728843144</td><td>-1.713560700416565</td><td>0.2495664805173874</td><td>1.6497551202774048</td><td>0.3050931990146637</td><td>-0.12830322980880737</td><td>0.4035033583641052</td><td>20.194049835205078</td><td>102.50505828857422</td><td>20.424884796142578</td><td>21.436826705932617</td><td>19.941913604736328</td><td>15.732525825500488</td><td>0.049322559323580706</td></tr>\n",
       "<tr><td>053048.68+002919.7</td><td>82.702834</td><td>0.48883</td><td>2072</td><td>53430</td><td>432</td><td>UNK</td><td>UNK</td><td>-1</td><td>-1.0</td><td>0</td><td>-1.0</td><td>-1</td><td>-1</td><td>-1</td><td>109084172</td><td>-1.0</td><td>-1</td><td>0</td><td>-1.0</td><td>-1</td><td>2.3247</td><td>1</td><td>2.331889</td><td>2.331840991973877</td><td>1</td><td>2.331889</td><td>DR6Q_HW</td><td>-1.0</td><td>-1</td><td>1237674285393970360</td><td>2.325825618846332</td><td>0</td><td>3089.3145817725263</td><td>-1.0</td><td>7682</td><td>0.0</td><td>-1.0</td><td>7682</td><td>0.0</td><td>2.2844773413096666</td><td>4098</td><td>17.399095783503384</td><td>2.3276226002584837</td><td>0</td><td>239.59374108286318</td><td>2.321791739175332</td><td>0</td><td>527.1894785856472</td><td>2.3274537836244074</td><td>0</td><td>723.2501180997817</td><td>2.3267615</td><td>-1.0 .. -1.0</td><td>-1.0 .. -1.0</td><td>-1.0 .. -1.0</td><td>0.0</td><td>0.0</td><td>0.0</td><td>0.0</td><td>0.0</td><td>0.0</td><td>0.0</td><td>0.0</td><td>0.0</td><td>-1</td><td>-1</td><td>-1</td><td>-1</td><td>-1</td><td>-1</td><td>0</td><td>0</td><td>0</td><td>-1 .. -1</td><td>-1 .. -1</td><td>-1 .. -1</td><td>-1 .. -1</td><td>2</td><td>6708</td><td>301</td><td>4</td><td>139</td><td>1208</td><td>5000.0</td><td>0.0</td><td>-108.20836639404297</td><td>106.40795135498047</td><td>chunk105</td><td>8038</td><td>47.39670181274414</td><td>1.1488538 .. 5.0373406</td><td>7.766162395477295 .. 1.7752807140350342</td><td>22.333563 .. 20.72179</td><td>0.3294779360294342 .. 0.1552066057920456</td><td>0.7263777 .. 0.20840205</td><td>-25.481138436408074</td><td>3.068404197692871</td><td>1</td><td>0.0</td><td>0.0</td><td>0.0</td><td>0.0</td><td>0</td><td>-1.0</td><td>-1.0</td><td>-1.0</td><td>-1.0</td><td>-1.0</td><td>-1.0</td><td>-1.0</td><td>-1.0</td><td>40.942867</td><td>0.003471758</td><td>18.469555</td><td>0.4500609</td><td>0.48512024</td><td>2.4124203</td><td>0.84339726</td><td>4.1101427</td><td>0.10038726</td><td>33</td><td>253.13486</td><td>0.00031323792</td><td>16.491621</td><td>0.24234562</td><td>0.62348914</td><td>4.4801145</td><td>0.843229</td><td>3.9670873</td><td>0.01567183</td><td>30</td><td>0</td><td>-1.0</td><td>-1.0</td><td>-1.0</td><td>-1.0</td><td>-1.0</td><td>-1.0</td><td>-1</td><td>-1.0</td><td>-1.0</td><td>-1.0</td><td>-1</td><td>-1.0</td><td>-1.0</td><td>-1.0</td><td>-1</td><td>-1.0</td><td>-1</td><td>-1.0</td><td>-1.0</td><td>-1.0</td><td>-1.0</td><td>-1.0</td><td>-1</td><td>-1.0</td><td>-1.0</td><td>-1.0</td><td>-1.0</td><td>-1.0</td><td>-1.0</td><td>-1.0</td><td>-1.0</td><td>-1.0</td><td>-1.0</td><td>0</td><td>-1</td><td>-1.0</td><td>-1.0</td><td>-1.0</td><td>-1.0</td><td>-1.0</td><td>-1.0</td><td>-1.0</td><td>-1.0</td><td>-1.0</td><td>-1.0</td><td>-1.0</td><td>-1.0</td><td>-1.0</td><td>-1.0</td><td>-1.0</td></tr>\n",
       "<tr><td>053334.34+005623.2</td><td>83.393106</td><td>0.939788</td><td>2072</td><td>53430</td><td>448</td><td>UNK</td><td>UNK</td><td>-1</td><td>-1.0</td><td>0</td><td>-1.0</td><td>-1</td><td>-1</td><td>-1</td><td>115575891</td><td>-1.0</td><td>-1</td><td>0</td><td>-1.0</td><td>-1</td><td>2.1529</td><td>1</td><td>2.14895</td><td>2.1490280628204346</td><td>1</td><td>2.14895</td><td>DR6Q_HW</td><td>-1.0</td><td>-1</td><td>1237674285394297832</td><td>2.1491946348728588</td><td>0</td><td>1524.9915230474699</td><td>-1.0</td><td>7682</td><td>0.0</td><td>-1.0</td><td>7682</td><td>0.0</td><td>2.1529346388858093</td><td>0</td><td>38.67205050165023</td><td>2.1610027175316873</td><td>0</td><td>667.3106540139433</td><td>2.1465730810411356</td><td>0</td><td>171.9421690824264</td><td>2.1505800377625564</td><td>0</td><td>41.327672803065866</td><td>2.1480696</td><td>-1.0 .. -1.0</td><td>-1.0 .. -1.0</td><td>-1.0 .. -1.0</td><td>0.0</td><td>0.0</td><td>0.0</td><td>0.0</td><td>0.0</td><td>0.0</td><td>0.0</td><td>0.0</td><td>0.0</td><td>-1</td><td>-1</td><td>-1</td><td>-1</td><td>-1</td><td>-1</td><td>0</td><td>0</td><td>0</td><td>-1 .. -1</td><td>-1 .. -1</td><td>-1 .. -1</td><td>-1 .. -1</td><td>2</td><td>6708</td><td>301</td><td>4</td><td>144</td><td>1000</td><td>5000.0</td><td>0.0</td><td>42.043880462646484</td><td>204.619384765625</td><td>chunk105</td><td>8038</td><td>47.39670181274414</td><td>1.6447618 .. 12.073548</td><td>15.305421829223633 .. 1.5151138305664062</td><td>21.95196 .. 19.791357</td><td>0.16633935272693634 .. 0.07251504063606262</td><td>1.1286128 .. 0.32380566</td><td>-26.281876090046953</td><td>5.53373384475708</td><td>1</td><td>0.0</td><td>0.0</td><td>0.0</td><td>0.0</td><td>0</td><td>-1.0</td><td>-1.0</td><td>-1.0</td><td>-1.0</td><td>-1.0</td><td>-1.0</td><td>-1.0</td><td>-1.0</td><td>288.94003</td><td>0.0034492004</td><td>16.34798</td><td>0.063981935</td><td>2.4079018</td><td>16.969418</td><td>0.8836972</td><td>5.35906</td><td>0.018547311</td><td>64</td><td>852.19934</td><td>0.00030007254</td><td>15.173647</td><td>0.073547855</td><td>0.6272214</td><td>14.76231</td><td>0.89561987</td><td>2.5033076</td><td>0.0029374675</td><td>63</td><td>0</td><td>-1.0</td><td>-1.0</td><td>-1.0</td><td>-1.0</td><td>-1.0</td><td>-1.0</td><td>-1</td><td>-1.0</td><td>-1.0</td><td>-1.0</td><td>-1</td><td>-1.0</td><td>-1.0</td><td>-1.0</td><td>-1</td><td>-1.0</td><td>-1</td><td>-1.0</td><td>-1.0</td><td>-1.0</td><td>-1.0</td><td>-1.0</td><td>-1</td><td>-1.0</td><td>-1.0</td><td>-1.0</td><td>-1.0</td><td>-1.0</td><td>-1.0</td><td>-1.0</td><td>-1.0</td><td>-1.0</td><td>-1.0</td><td>1</td><td>Gaia DR2 3222631025819947904</td><td>83.3931003686939</td><td>0.9398052503338362</td><td>0.09342373162508011</td><td>0.9018087387084961</td><td>1.1201306581497192</td><td>0.33116239309310913</td><td>-1.4101358652114868</td><td>0.3205377459526062</td><td>20.012042999267578</td><td>125.09786987304688</td><td>20.803987503051758</td><td>10.166828155517578</td><td>19.296045303344727</td><td>17.641141891479492</td><td>0.06532557807913553</td></tr>\n",
       "<tr><td>075809.92+002113.0</td><td>119.54134248159772</td><td>0.35361136501385837</td><td>4745</td><td>55892</td><td>499</td><td>QSO</td><td>QSO</td><td>1</td><td>0.7922772395959528</td><td>0</td><td>-1.0</td><td>-1</td><td>-1</td><td>-1</td><td>104280054</td><td>0.797</td><td>3</td><td>3</td><td>0.7967429161071777</td><td>1</td><td>-1.0</td><td>-1</td><td>-1.0</td><td>-1.0</td><td>1</td><td>0.797</td><td>VI</td><td>0.7968064546585083</td><td>0</td><td>1237648721741153028</td><td>0.7979726774761648</td><td>0</td><td>7313.505070330397</td><td>-1.0</td><td>7682</td><td>0.0</td><td>0.7977591971018017</td><td>0</td><td>42.61889680444082</td><td>0.7930406286898952</td><td>0</td><td>473.6021553658451</td><td>-1.0</td><td>7682</td><td>0.0</td><td>-1.0</td><td>7682</td><td>0.0</td><td>-1.0</td><td>7682</td><td>0.0</td><td>0.7979727</td><td>-1.0 .. -1.0</td><td>-1.0 .. -1.0</td><td>-1.0 .. -1.0</td><td>-1.0</td><td>-1.0</td><td>-1.0</td><td>-1.0</td><td>-1.0</td><td>-1.0</td><td>-1.0</td><td>-1.0</td><td>-1.0</td><td>3298535424000</td><td>0</td><td>0</td><td>0</td><td>0</td><td>0</td><td>0</td><td>0</td><td>0</td><td>-1 .. -1</td><td>-1 .. -1</td><td>-1 .. -1</td><td>-1 .. -1</td><td>2</td><td>756</td><td>301</td><td>4</td><td>25</td><td>772</td><td>4000.0</td><td>175.0</td><td>-269.7939147949219</td><td>-103.56391906738281</td><td>boss16</td><td>12294</td><td>14.786399841308594</td><td>9.728864 .. 19.646826</td><td>6.746752738952637 .. 0.7134680151939392</td><td>20.02962 .. 19.265232</td><td>0.04294721409678459 .. 0.0652402937412262</td><td>0.17708863 .. 0.05276314</td><td>-24.4290806152887</td><td>8.381013870239258</td><td>1</td><td>1.754042625427246</td><td>2.3475009448230346</td><td>12.503998756408691</td><td>0.9633798630762964</td><td>0</td><td>-1.0</td><td>-1.0</td><td>-1.0</td><td>-1.0</td><td>-1.0</td><td>-1.0</td><td>-1.0</td><td>-1.0</td><td>991.998</td><td>0.004097205</td><td>15.008723</td><td>0.017098958</td><td>2.457665</td><td>63.497208</td><td>0.93814564</td><td>3.091118</td><td>0.0031160542</td><td>172</td><td>2325.372</td><td>0.00034606457</td><td>14.083769</td><td>0.02509882</td><td>0.9929046</td><td>43.258457</td><td>0.9459853</td><td>4.459456</td><td>0.001917739</td><td>160</td><td>0</td><td>-1.0</td><td>-1.0</td><td>-1.0</td><td>-1.0</td><td>-1.0</td><td>-1.0</td><td>-1</td><td>-1.0</td><td>-1.0</td><td>-1.0</td><td>-1</td><td>-1.0</td><td>-1.0</td><td>-1.0</td><td>-1</td><td>-1.0</td><td>-1</td><td>-1.0</td><td>-1.0</td><td>-1.0</td><td>-1.0</td><td>-1.0</td><td>-1</td><td>-1.0</td><td>-1.0</td><td>-1.0</td><td>-1.0</td><td>-1.0</td><td>-1.0</td><td>-1.0</td><td>-1.0</td><td>-1.0</td><td>-1.0</td><td>1</td><td>Gaia DR2 3084288892263708544</td><td>119.54135442528028</td><td>0.35362901836484484</td><td>0.057579509913921356</td><td>10.174402236938477</td><td>-0.19166815280914307</td><td>3.53359317779541</td><td>0.21943284571170807</td><td>10.396693229675293</td><td>19.084400177001953</td><td>202.92007446289062</td><td>19.218351364135742</td><td>27.037120819091797</td><td>18.765764236450195</td><td>33.35917663574219</td><td>0.07673042737719281</td></tr>\n",
       "<tr><td>075829.98+001621.8</td><td>119.62495536478664</td><td>0.2727295871499473</td><td>4745</td><td>55892</td><td>500</td><td>QSO</td><td>QSO</td><td>1</td><td>2.7248290062971603</td><td>0</td><td>-1.0</td><td>-1</td><td>-1</td><td>-1</td><td>104280651</td><td>2.725</td><td>3</td><td>3</td><td>2.725</td><td>1</td><td>-1.0</td><td>-1</td><td>-1.0</td><td>-1.0</td><td>1</td><td>2.725</td><td>VI</td><td>2.7291698455810547</td><td>0</td><td>1237648721741153548</td><td>2.7253200198471665</td><td>0</td><td>11537.736849916386</td><td>-1.0</td><td>7682</td><td>0.0</td><td>-1.0</td><td>7682</td><td>0.0</td><td>-1.0</td><td>7682</td><td>0.0</td><td>2.722700086543788</td><td>0</td><td>64.9195014857471</td><td>2.728242619188745</td><td>0</td><td>601.7228797645139</td><td>2.725558490037147</td><td>0</td><td>4888.391463442345</td><td>2.7349598</td><td>-1.0 .. -1.0</td><td>-1.0 .. -1.0</td><td>-1.0 .. -1.0</td><td>0.0</td><td>0.0</td><td>0.0</td><td>0.0</td><td>0.0</td><td>0.0</td><td>0.0</td><td>296.5908508300781</td><td>6.113190650939941</td><td>3298534899712</td><td>0</td><td>0</td><td>0</td><td>0</td><td>0</td><td>0</td><td>0</td><td>0</td><td>-1 .. -1</td><td>-1 .. -1</td><td>-1 .. -1</td><td>-1 .. -1</td><td>2</td><td>756</td><td>301</td><td>4</td><td>25</td><td>1292</td><td>4000.0</td><td>175.0</td><td>-251.52639770507812</td><td>-121.17513275146484</td><td>boss16</td><td>12294</td><td>14.786399841308594</td><td>1.5147189 .. 4.1549077</td><td>12.773246765136719 .. 0.8929575681686401</td><td>22.040012 .. 20.920689</td><td>0.19721753895282745 .. 0.26050031185150146</td><td>0.15617692 .. 0.046532545</td><td>-25.537004280717404</td><td>2.881197690963745</td><td>1</td><td>0.021730126813054085</td><td>12.424358931753643</td><td>-0.11082330346107483</td><td>10.260305027168252</td><td>0</td><td>-1.0</td><td>-1.0</td><td>-1.0</td><td>-1.0</td><td>-1.0</td><td>-1.0</td><td>-1.0</td><td>-1.0</td><td>73.78164</td><td>0.004466386</td><td>17.83013</td><td>0.22019014</td><td>0.3199173</td><td>4.9309025</td><td>0.84441686</td><td>1.654816</td><td>0.02242856</td><td>34</td><td>356.97937</td><td>0.00039332456</td><td>16.118393</td><td>0.15335773</td><td>0.8595282</td><td>7.079762</td><td>0.8928894</td><td>0.47763163</td><td>0.0013379814</td><td>60</td><td>0</td><td>-1.0</td><td>-1.0</td><td>-1.0</td><td>-1.0</td><td>-1.0</td><td>-1.0</td><td>-1</td><td>-1.0</td><td>-1.0</td><td>-1.0</td><td>-1</td><td>-1.0</td><td>-1.0</td><td>-1.0</td><td>-1</td><td>-1.0</td><td>-1</td><td>-1.0</td><td>-1.0</td><td>-1.0</td><td>-1.0</td><td>-1.0</td><td>-1</td><td>-1.0</td><td>-1.0</td><td>-1.0</td><td>-1.0</td><td>-1.0</td><td>-1.0</td><td>-1.0</td><td>-1.0</td><td>-1.0</td><td>-1.0</td><td>1</td><td>Gaia DR2 3084275663764198656</td><td>119.62496839774302</td><td>0.27273834712512973</td><td>-4.167088031768799</td><td>0.08448557555675507</td><td>-3.365999221801758</td><td>0.06978493928909302</td><td>-0.316852867603302</td><td>0.41853898763656616</td><td>20.72671127319336</td><td>46.83755111694336</td><td>20.16702651977539</td><td>6.672091960906982</td><td>20.082380294799805</td><td>7.415841102600098</td><td>0.05653160918880567</td></tr>\n",
       "<tr><td>075835.26+010922.2</td><td>119.64694330158082</td><td>1.1561786254814483</td><td>4745</td><td>55892</td><td>516</td><td>QSO</td><td>QSO</td><td>1</td><td>2.3957661243758324</td><td>0</td><td>-1.0</td><td>-1</td><td>-1</td><td>-1</td><td>122237670</td><td>2.387</td><td>3</td><td>3</td><td>2.387</td><td>1</td><td>-1.0</td><td>-1</td><td>-1.0</td><td>-1.0</td><td>1</td><td>2.387</td><td>VI</td><td>2.3930888175964355</td><td>0</td><td>1237648722814895192</td><td>2.3905662023489107</td><td>0</td><td>6857.9379401862625</td><td>-1.0</td><td>7682</td><td>0.0</td><td>-1.0</td><td>7682</td><td>0.0</td><td>2.389119969978117</td><td>0</td><td>32.595285990878665</td><td>2.385776966896522</td><td>0</td><td>122.94286151629217</td><td>2.3905439244363413</td><td>0</td><td>674.240887874078</td><td>2.3935329364230773</td><td>0</td><td>2328.6925447878384</td><td>2.3933907</td><td>-1.0 .. -1.0</td><td>-1.0 .. -1.0</td><td>-1.0 .. -1.0</td><td>0.0</td><td>0.0</td><td>0.0</td><td>0.0</td><td>0.0</td><td>0.0</td><td>0.0</td><td>0.0</td><td>0.0</td><td>3298535424000</td><td>0</td><td>0</td><td>0</td><td>0</td><td>0</td><td>0</td><td>0</td><td>0</td><td>-1 .. -1</td><td>-1 .. -1</td><td>-1 .. -1</td><td>-1 .. -1</td><td>2</td><td>756</td><td>301</td><td>6</td><td>25</td><td>1112</td><td>4000.0</td><td>175.0</td><td>-246.6133575439453</td><td>71.32025146484375</td><td>boss16</td><td>12294</td><td>14.786399841308594</td><td>3.4235137 .. 8.082469</td><td>9.586861610412598 .. 0.8223381042480469</td><td>21.162008 .. 20.22215</td><td>0.10208602994680405 .. 0.14571139216423035</td><td>0.17925078 .. 0.05340735</td><td>-25.75347659666342</td><td>5.730419158935547</td><td>1</td><td>0.902400016784668</td><td>2.978471204872579</td><td>-0.07300596684217453</td><td>2.894511368363193</td><td>0</td><td>-1.0</td><td>-1.0</td><td>-1.0</td><td>-1.0</td><td>-1.0</td><td>-1.0</td><td>-1.0</td><td>-1.0</td><td>79.86638</td><td>0.003884209</td><td>17.74409</td><td>0.2181268</td><td>0.7674494</td><td>4.977546</td><td>0.8453732</td><td>1.7714646</td><td>0.022180349</td><td>34</td><td>194.35942</td><td>0.00033159027</td><td>16.778486</td><td>0.30677348</td><td>0.60866773</td><td>3.539211</td><td>0.85444325</td><td>1.7567728</td><td>0.009038784</td><td>34</td><td>0</td><td>-1.0</td><td>-1.0</td><td>-1.0</td><td>-1.0</td><td>-1.0</td><td>-1.0</td><td>-1</td><td>-1.0</td><td>-1.0</td><td>-1.0</td><td>-1</td><td>-1.0</td><td>-1.0</td><td>-1.0</td><td>-1</td><td>-1.0</td><td>-1</td><td>-1.0</td><td>-1.0</td><td>-1.0</td><td>-1.0</td><td>-1.0</td><td>-1</td><td>-1.0</td><td>-1.0</td><td>-1.0</td><td>-1.0</td><td>-1.0</td><td>-1.0</td><td>-1.0</td><td>-1.0</td><td>-1.0</td><td>-1.0</td><td>1</td><td>Gaia DR2 3084776800548038272</td><td>119.64693358263897</td><td>1.156170924808783</td><td>2.5754783153533936</td><td>0.7596834301948547</td><td>0.9537537097930908</td><td>0.21447235345840454</td><td>0.3561092019081116</td><td>0.4361118674278259</td><td>20.45260238647461</td><td>125.379638671875</td><td>20.424636840820312</td><td>16.236438751220703</td><td>20.01130485534668</td><td>13.825929641723633</td><td>0.04463415437153078</td></tr>\n",
       "<tr><td>075843.14+002631.6</td><td>119.67976974871263</td><td>0.44211210193746225</td><td>4745</td><td>55892</td><td>541</td><td>QSO</td><td>QSO</td><td>1</td><td>2.3404636934691454</td><td>0</td><td>-1.0</td><td>-1</td><td>-1</td><td>-1</td><td>105208936</td><td>2.334</td><td>3</td><td>3</td><td>2.334611654281616</td><td>1</td><td>-1.0</td><td>-1</td><td>-1.0</td><td>-1.0</td><td>1</td><td>2.334</td><td>VI</td><td>2.3347578048706055</td><td>0</td><td>1237646797599999139</td><td>2.330959918219916</td><td>0</td><td>4050.103183080082</td><td>-1.0</td><td>7682</td><td>0.0</td><td>-1.0</td><td>7682</td><td>0.0</td><td>2.328335490689798</td><td>0</td><td>28.939359719199672</td><td>2.31575043274188</td><td>0</td><td>34.655633470537396</td><td>2.3309395057080424</td><td>0</td><td>548.2756265068077</td><td>2.3309742439957306</td><td>0</td><td>1255.7233917002106</td><td>2.3369179</td><td>-1.0 .. -1.0</td><td>-1.0 .. -1.0</td><td>-1.0 .. -1.0</td><td>0.0</td><td>0.0</td><td>0.0</td><td>0.0</td><td>0.0</td><td>0.0</td><td>0.0</td><td>0.0</td><td>0.0</td><td>3298535424000</td><td>0</td><td>0</td><td>0</td><td>0</td><td>0</td><td>0</td><td>0</td><td>0</td><td>-1 .. -1</td><td>-1 .. -1</td><td>-1 .. -1</td><td>-1 .. -1</td><td>2</td><td>308</td><td>301</td><td>4</td><td>89</td><td>1187</td><td>4000.0</td><td>175.0</td><td>-239.50283813476562</td><td>-84.24134063720703</td><td>boss16</td><td>12294</td><td>14.786399841308594</td><td>3.7166555 .. 8.36493</td><td>15.989479064941406 .. 0.5737447738647461</td><td>21.073082 .. 20.185446</td><td>0.07284938544034958 .. 0.16873659193515778</td><td>0.20637216 .. 0.061488096</td><td>-25.916308955833998</td><td>3.408834218978882</td><td>1</td><td>-0.2619773745536804</td><td>21.07512068309545</td><td>0.5174481868743896</td><td>7.796361311177088</td><td>0</td><td>-1.0</td><td>-1.0</td><td>-1.0</td><td>-1.0</td><td>-1.0</td><td>-1.0</td><td>-1.0</td><td>-1.0</td><td>138.65405</td><td>0.0036937837</td><td>17.145168</td><td>0.12884155</td><td>0.83654344</td><td>8.4269085</td><td>0.8434566</td><td>2.4904013</td><td>0.01796126</td><td>33</td><td>341.2407</td><td>0.0003357282</td><td>16.167349</td><td>0.17364791</td><td>1.1788453</td><td>6.252515</td><td>0.8564797</td><td>2.691344</td><td>0.007886938</td><td>36</td><td>0</td><td>-1.0</td><td>-1.0</td><td>-1.0</td><td>-1.0</td><td>-1.0</td><td>-1.0</td><td>-1</td><td>-1.0</td><td>-1.0</td><td>-1.0</td><td>-1</td><td>-1.0</td><td>-1.0</td><td>-1.0</td><td>-1</td><td>-1.0</td><td>-1</td><td>-1.0</td><td>-1.0</td><td>-1.0</td><td>-1.0</td><td>-1.0</td><td>-1</td><td>-1.0</td><td>-1.0</td><td>-1.0</td><td>-1.0</td><td>-1.0</td><td>-1.0</td><td>-1.0</td><td>-1.0</td><td>-1.0</td><td>-1.0</td><td>1</td><td>Gaia DR2 3084291331804512256</td><td>119.6797728960772</td><td>0.4421140407489069</td><td>-0.52262943983078</td><td>0.9442368745803833</td><td>-0.39393237233161926</td><td>0.3193812370300293</td><td>3.7454347610473633</td><td>0.5863736867904663</td><td>20.437204360961914</td><td>97.21450805664062</td><td>20.298755645751953</td><td>14.403895378112793</td><td>19.911088943481445</td><td>10.683404922485352</td><td>0.013307493189849529</td></tr>\n",
       "<tr><td>075858.18+002712.7</td><td>119.74242726669675</td><td>0.45353441325936367</td><td>4745</td><td>55892</td><td>555</td><td>QSO</td><td>QSO</td><td>1</td><td>2.2351579872638996</td><td>0</td><td>-1.0</td><td>-1</td><td>-1</td><td>-1</td><td>105207817</td><td>2.23</td><td>3</td><td>3</td><td>2.23</td><td>1</td><td>-1.0</td><td>-1</td><td>-1.0</td><td>-1.0</td><td>1</td><td>2.23</td><td>VI</td><td>2.234950304031372</td><td>0</td><td>1237646797600063598</td><td>2.2342690373271634</td><td>0</td><td>18936.252870348726</td><td>-1.0</td><td>7682</td><td>0.0</td><td>-1.0</td><td>7682</td><td>0.0</td><td>2.234426261198191</td><td>0</td><td>55.69833886260213</td><td>2.2251329188089937</td><td>0</td><td>224.38614998795515</td><td>2.231324045250983</td><td>0</td><td>4818.746748410947</td><td>2.2328101709609594</td><td>0</td><td>8542.25534711978</td><td>2.2358105</td><td>-1.0 .. -1.0</td><td>-1.0 .. -1.0</td><td>-1.0 .. -1.0</td><td>0.9</td><td>0.0</td><td>0.0</td><td>488.9430847167969</td><td>4.668395042419434</td><td>0.0</td><td>0.0</td><td>0.0</td><td>0.0</td><td>3298535424000</td><td>0</td><td>0</td><td>0</td><td>0</td><td>0</td><td>0</td><td>0</td><td>0</td><td>-1 .. -1</td><td>-1 .. -1</td><td>-1 .. -1</td><td>-1 .. -1</td><td>2</td><td>308</td><td>301</td><td>4</td><td>90</td><td>110</td><td>4000.0</td><td>175.0</td><td>-225.82569885253906</td><td>-81.74608612060547</td><td>boss16</td><td>12294</td><td>14.786399841308594</td><td>2.9193373 .. 8.463345</td><td>17.123031616210938 .. 0.5075995326042175</td><td>21.334301 .. 20.172937</td><td>0.08946666866540909 .. 0.17737026512622833</td><td>0.19914632 .. 0.059335176</td><td>-25.64899445662511</td><td>5.424084663391113</td><td>1</td><td>0.8739740252494812</td><td>2.2133083593431424</td><td>0.7944149374961853</td><td>0.11722113592630573</td><td>0</td><td>-1.0</td><td>-1.0</td><td>-1.0</td><td>-1.0</td><td>-1.0</td><td>-1.0</td><td>-1.0</td><td>-1.0</td><td>135.57475</td><td>0.0040187775</td><td>17.169554</td><td>0.12632768</td><td>0.47702718</td><td>8.594603</td><td>0.8432372</td><td>3.4940412</td><td>0.025772067</td><td>33</td><td>308.66003</td><td>0.00035362254</td><td>16.276299</td><td>0.18705699</td><td>0.76520675</td><td>5.804307</td><td>0.8545649</td><td>3.9923542</td><td>0.012934467</td><td>35</td><td>0</td><td>-1.0</td><td>-1.0</td><td>-1.0</td><td>-1.0</td><td>-1.0</td><td>-1.0</td><td>-1</td><td>-1.0</td><td>-1.0</td><td>-1.0</td><td>-1</td><td>-1.0</td><td>-1.0</td><td>-1.0</td><td>-1</td><td>-1.0</td><td>-1</td><td>-1.0</td><td>-1.0</td><td>-1.0</td><td>-1.0</td><td>-1.0</td><td>-1</td><td>-1.0</td><td>-1.0</td><td>-1.0</td><td>-1.0</td><td>-1.0</td><td>-1.0</td><td>-1.0</td><td>-1.0</td><td>-1.0</td><td>-1.0</td><td>1</td><td>Gaia DR2 3084303048475303552</td><td>119.74241118877944</td><td>0.4535513867939696</td><td>-0.6181542873382568</td><td>1.3658934831619263</td><td>0.4399269223213196</td><td>0.5863509774208069</td><td>1.7675395011901855</td><td>1.4519914388656616</td><td>20.252174377441406</td><td>158.5457000732422</td><td>20.334125518798828</td><td>16.435388565063477</td><td>19.753755569458008</td><td>14.551837921142578</td><td>0.08416489761322411</td></tr>\n",
       "<tr><td>075909.79+005416.3</td><td>119.79082420164107</td><td>0.9045450625659753</td><td>4745</td><td>55892</td><td>552</td><td>QSO</td><td>QSO</td><td>1</td><td>3.0637193831245337</td><td>0</td><td>-1.0</td><td>-1</td><td>-1</td><td>-1</td><td>114655748</td><td>3.068</td><td>3</td><td>3</td><td>3.068</td><td>1</td><td>-1.0</td><td>-1</td><td>-1.0</td><td>-1.0</td><td>1</td><td>3.068</td><td>VI</td><td>3.0409328937530518</td><td>0</td><td>1237646798136935945</td><td>3.0804113675993583</td><td>0</td><td>941.7190229902671</td><td>-1.0</td><td>7682</td><td>0.0</td><td>-1.0</td><td>7682</td><td>0.0</td><td>-1.0</td><td>7682</td><td>0.0</td><td>2.9980399190863425</td><td>0</td><td>20.329134037057713</td><td>3.0585850418548732</td><td>0</td><td>113.4983486475412</td><td>3.094359386741541</td><td>0</td><td>439.99908346613233</td><td>3.0560296</td><td>-1.0 .. -1.0</td><td>-1.0 .. -1.0</td><td>-1.0 .. -1.0</td><td>0.0</td><td>0.0</td><td>0.0</td><td>0.0</td><td>0.0</td><td>0.0</td><td>0.0</td><td>0.0</td><td>0.0</td><td>3298534899712</td><td>0</td><td>0</td><td>0</td><td>0</td><td>0</td><td>0</td><td>0</td><td>0</td><td>-1 .. -1</td><td>-1 .. -1</td><td>-1 .. -1</td><td>-1 .. -1</td><td>2</td><td>308</td><td>301</td><td>5</td><td>90</td><td>1545</td><td>4000.0</td><td>0.0</td><td>-215.22711181640625</td><td>16.488407135009766</td><td>boss16</td><td>12294</td><td>14.786399841308594</td><td>0.08959778 .. 4.0075984</td><td>23.728796005249023 .. 0.6036942601203918</td><td>24.292925 .. 20.957533</td><td>0.7581582069396973 .. 0.3270917236804962</td><td>0.19560848 .. 0.058281086</td><td>-26.502890703083704</td><td>2.412078619003296</td><td>1</td><td>-0.10522155463695526</td><td>13.497306426222426</td><td>-0.15877991914749146</td><td>8.789353634975278</td><td>0</td><td>-1.0</td><td>-1.0</td><td>-1.0</td><td>-1.0</td><td>-1.0</td><td>-1.0</td><td>-1.0</td><td>-1.0</td><td>70.29762</td><td>0.0041749384</td><td>17.882648</td><td>0.2390334</td><td>0.31366473</td><td>4.5421944</td><td>0.84382296</td><td>0.037210353</td><td>0.0005293263</td><td>34</td><td>162.59126</td><td>0.00036369407</td><td>16.972258</td><td>0.35015392</td><td>0.413561</td><td>3.1007397</td><td>0.8518683</td><td>0.07531617</td><td>0.00046322323</td><td>35</td><td>0</td><td>-1.0</td><td>-1.0</td><td>-1.0</td><td>-1.0</td><td>-1.0</td><td>-1.0</td><td>-1</td><td>-1.0</td><td>-1.0</td><td>-1.0</td><td>-1</td><td>-1.0</td><td>-1.0</td><td>-1.0</td><td>-1</td><td>-1.0</td><td>-1</td><td>-1.0</td><td>-1.0</td><td>-1.0</td><td>-1.0</td><td>-1.0</td><td>-1</td><td>-1.0</td><td>-1.0</td><td>-1.0</td><td>-1.0</td><td>-1.0</td><td>-1.0</td><td>-1.0</td><td>-1.0</td><td>-1.0</td><td>-1.0</td><td>1</td><td>Gaia DR2 3084380254807765888</td><td>119.79083315467001</td><td>0.9045499981770232</td><td>-0.8439518213272095</td><td>0.38939690589904785</td><td>0.6522272825241089</td><td>0.16486580669879913</td><td>-1.9972718954086304</td><td>0.44257938861846924</td><td>20.630273818969727</td><td>119.70903778076172</td><td>20.718446731567383</td><td>10.94580078125</td><td>20.10909652709961</td><td>11.96142292022705</td><td>0.03680055993580906</td></tr>\n",
       "<tr><td>075937.11+005704.8</td><td>119.90463613098876</td><td>0.9513474180789774</td><td>4745</td><td>55892</td><td>590</td><td>QSO</td><td>QSO</td><td>1</td><td>2.2324984582797454</td><td>0</td><td>-1.0</td><td>-1</td><td>-1</td><td>-1</td><td>114654802</td><td>2.232</td><td>3</td><td>3</td><td>2.23219895362854</td><td>1</td><td>-1.0</td><td>-1</td><td>-1.0</td><td>-1.0</td><td>1</td><td>2.232</td><td>VI</td><td>2.231642007827759</td><td>0</td><td>1237646798137001083</td><td>2.2426033877526277</td><td>0</td><td>1668.8599777852987</td><td>-1.0</td><td>7682</td><td>0.0</td><td>-1.0</td><td>7682</td><td>0.0</td><td>2.253411836854394</td><td>0</td><td>15.458457874395663</td><td>2.2324000849415166</td><td>0</td><td>27.924873404475306</td><td>2.2222374438279378</td><td>0</td><td>245.90838297052005</td><td>2.2632856328768645</td><td>0</td><td>461.79109826306967</td><td>2.2348464</td><td>2.1987785991983846 .. -1.0</td><td>20.45710341068957 .. -1.0</td><td>1.0 .. -1.0</td><td>0.9</td><td>0.0</td><td>0.0</td><td>52.16425323486328</td><td>5.006295204162598</td><td>0.0</td><td>0.0</td><td>0.0</td><td>0.0</td><td>3298535424000</td><td>0</td><td>0</td><td>0</td><td>0</td><td>0</td><td>0</td><td>0</td><td>0</td><td>-1 .. -1</td><td>-1 .. -1</td><td>-1 .. -1</td><td>-1 .. -1</td><td>2</td><td>308</td><td>301</td><td>5</td><td>91</td><td>1147</td><td>4000.0</td><td>0.0</td><td>-190.40878295898438</td><td>26.672809600830078</td><td>boss16</td><td>12294</td><td>14.786399841308594</td><td>1.5150756 .. 2.651745</td><td>20.913455963134766 .. 0.5577090382575989</td><td>22.03976 .. 21.365072</td><td>0.15409353375434875 .. 0.47874510288238525</td><td>0.18318883 .. 0.05458068</td><td>-24.58592736431191</td><td>1.8058626651763916</td><td>1</td><td>0.026258207857608795</td><td>10.188154456918603</td><td>-0.49269914627075195</td><td>11.90363867100214</td><td>0</td><td>-1.0</td><td>-1.0</td><td>-1.0</td><td>-1.0</td><td>-1.0</td><td>-1.0</td><td>-1.0</td><td>-1.0</td><td>65.876526</td><td>0.0041643013</td><td>17.953173</td><td>0.25540096</td><td>1.020232</td><td>4.2511044</td><td>0.84338075</td><td>4.00267</td><td>0.06076019</td><td>33</td><td>100.34054</td><td>0.00035871938</td><td>17.49631</td><td>0.57130826</td><td>0.59850353</td><td>1.9004385</td><td>0.85115063</td><td>7.703722</td><td>0.07677576</td><td>33</td><td>0</td><td>-1.0</td><td>-1.0</td><td>-1.0</td><td>-1.0</td><td>-1.0</td><td>-1.0</td><td>-1</td><td>-1.0</td><td>-1.0</td><td>-1.0</td><td>-1</td><td>-1.0</td><td>-1.0</td><td>-1.0</td><td>-1</td><td>-1.0</td><td>-1</td><td>-1.0</td><td>-1.0</td><td>-1.0</td><td>-1.0</td><td>-1.0</td><td>-1</td><td>-1.0</td><td>-1.0</td><td>-1.0</td><td>-1.0</td><td>-1.0</td><td>-1.0</td><td>-1.0</td><td>-1.0</td><td>-1.0</td><td>-1.0</td><td>0</td><td>-1</td><td>-1.0</td><td>-1.0</td><td>-1.0</td><td>-1.0</td><td>-1.0</td><td>-1.0</td><td>-1.0</td><td>-1.0</td><td>-1.0</td><td>-1.0</td><td>-1.0</td><td>-1.0</td><td>-1.0</td><td>-1.0</td><td>-1.0</td></tr>\n",
       "<tr><td>...</td><td>...</td><td>...</td><td>...</td><td>...</td><td>...</td><td>...</td><td>...</td><td>...</td><td>...</td><td>...</td><td>...</td><td>...</td><td>...</td><td>...</td><td>...</td><td>...</td><td>...</td><td>...</td><td>...</td><td>...</td><td>...</td><td>...</td><td>...</td><td>...</td><td>...</td><td>...</td><td>...</td><td>...</td><td>...</td><td>...</td><td>...</td><td>...</td><td>...</td><td>...</td><td>...</td><td>...</td><td>...</td><td>...</td><td>...</td><td>...</td><td>...</td><td>...</td><td>...</td><td>...</td><td>...</td><td>...</td><td>...</td><td>...</td><td>...</td><td>...</td><td>...</td><td>...</td><td>...</td><td>...</td><td>...</td><td>...</td><td>...</td><td>...</td><td>...</td><td>...</td><td>...</td><td>...</td><td>...</td><td>...</td><td>...</td><td>...</td><td>...</td><td>...</td><td>...</td><td>...</td><td>...</td><td>...</td><td>...</td><td>...</td><td>...</td><td>...</td><td>...</td><td>...</td><td>...</td><td>...</td><td>...</td><td>...</td><td>...</td><td>...</td><td>...</td><td>...</td><td>...</td><td>...</td><td>...</td><td>...</td><td>...</td><td>...</td><td>...</td><td>...</td><td>...</td><td>...</td><td>...</td><td>...</td><td>...</td><td>...</td><td>...</td><td>...</td><td>...</td><td>...</td><td>...</td><td>...</td><td>...</td><td>...</td><td>...</td><td>...</td><td>...</td><td>...</td><td>...</td><td>...</td><td>...</td><td>...</td><td>...</td><td>...</td><td>...</td><td>...</td><td>...</td><td>...</td><td>...</td><td>...</td><td>...</td><td>...</td><td>...</td><td>...</td><td>...</td><td>...</td><td>...</td><td>...</td><td>...</td><td>...</td><td>...</td><td>...</td><td>...</td><td>...</td><td>...</td><td>...</td><td>...</td><td>...</td><td>...</td><td>...</td><td>...</td><td>...</td><td>...</td><td>...</td><td>...</td><td>...</td><td>...</td><td>...</td><td>...</td><td>...</td><td>...</td><td>...</td><td>...</td><td>...</td><td>...</td><td>...</td><td>...</td><td>...</td><td>...</td><td>...</td><td>...</td><td>...</td><td>...</td><td>...</td><td>...</td><td>...</td><td>...</td><td>...</td><td>...</td><td>...</td><td>...</td><td>...</td><td>...</td><td>...</td><td>...</td><td>...</td><td>...</td><td>...</td></tr>\n",
       "<tr><td>163445.66+005244.4</td><td>248.690271</td><td>0.879018</td><td>348</td><td>51696</td><td>452</td><td>UNK</td><td>UNK</td><td>-1</td><td>-1.0</td><td>0</td><td>-1.0</td><td>-1</td><td>-1</td><td>-1</td><td>117599580</td><td>-1.0</td><td>-1</td><td>0</td><td>-1.0</td><td>-1</td><td>1.8279</td><td>1</td><td>1.836276</td><td>1.8369159698486328</td><td>1</td><td>1.836276</td><td>DR6Q_HW</td><td>-1.0</td><td>-1</td><td>1237648705679393020</td><td>1.8305057807502763</td><td>0</td><td>5194.4502346541285</td><td>-1.0</td><td>7682</td><td>0.0</td><td>-1.0</td><td>7682</td><td>0.0</td><td>1.8424647413712019</td><td>0</td><td>170.67505450599157</td><td>1.8284965391010273</td><td>0</td><td>377.3711741425202</td><td>1.8304630131021105</td><td>0</td><td>1153.6662217532462</td><td>-1.0</td><td>7682</td><td>0.0</td><td>1.8304979</td><td>-1.0 .. -1.0</td><td>-1.0 .. -1.0</td><td>-1.0 .. -1.0</td><td>0.0</td><td>0.0</td><td>0.0</td><td>0.0</td><td>0.0</td><td>0.0</td><td>0.0</td><td>0.0</td><td>0.0</td><td>-1</td><td>-1</td><td>-1</td><td>-1</td><td>-1</td><td>-1</td><td>0</td><td>0</td><td>0</td><td>-1 .. -1</td><td>-1 .. -1</td><td>-1 .. -1</td><td>-1 .. -1</td><td>2</td><td>752</td><td>301</td><td>6</td><td>702</td><td>252</td><td>5000.0</td><td>0.0</td><td>5.017787933349609</td><td>182.02090454101562</td><td>chunk6</td><td>141</td><td>18.963199615478516</td><td>16.89197 .. 10.656337</td><td>2.996431827545166 .. 1.3647381067276</td><td>19.430725 .. 19.925781</td><td>0.037126343697309494 .. 0.08638594299554825</td><td>0.4711547 .. 0.13517706</td><td>-24.399398783756645</td><td>9.483247756958008</td><td>1</td><td>-0.22987064719200134</td><td>33.84571029818306</td><td>0.3914256691932678</td><td>10.278251733364373</td><td>0</td><td>-1.0</td><td>-1.0</td><td>-1.0</td><td>-1.0</td><td>-1.0</td><td>-1.0</td><td>-1.0</td><td>-1.0</td><td>636.5421</td><td>0.0041770637</td><td>15.490432</td><td>0.026391352</td><td>2.853668</td><td>41.13985</td><td>0.92618895</td><td>0.22267462</td><td>0.00034981847</td><td>130</td><td>2097.5361</td><td>0.00033248428</td><td>14.195726</td><td>0.02838764</td><td>2.3268929</td><td>38.24679</td><td>0.93791026</td><td>-0.026854951</td><td>-1.2803175e-05</td><td>132</td><td>0</td><td>-1.0</td><td>-1.0</td><td>-1.0</td><td>-1.0</td><td>-1.0</td><td>-1.0</td><td>-1</td><td>-1.0</td><td>-1.0</td><td>-1.0</td><td>-1</td><td>-1.0</td><td>-1.0</td><td>-1.0</td><td>-1</td><td>-1.0</td><td>-1</td><td>-1.0</td><td>-1.0</td><td>-1.0</td><td>-1.0</td><td>-1.0</td><td>-1</td><td>-1.0</td><td>-1.0</td><td>-1.0</td><td>-1.0</td><td>-1.0</td><td>-1.0</td><td>-1.0</td><td>-1.0</td><td>-1.0</td><td>-1.0</td><td>1</td><td>Gaia DR2 4383678677268339712</td><td>248.69026457648295</td><td>0.8790041619057551</td><td>-0.1730087250471115</td><td>7.741608142852783</td><td>-0.1560635268688202</td><td>1.5412156581878662</td><td>0.3447475731372833</td><td>4.888988018035889</td><td>18.896474838256836</td><td>358.0849304199219</td><td>19.113161087036133</td><td>42.48725509643555</td><td>18.505962371826172</td><td>39.738399505615234</td><td>0.05492150285502275</td></tr>\n",
       "<tr><td>163623.97+002302.6</td><td>249.099908</td><td>0.384081</td><td>348</td><td>51696</td><td>559</td><td>UNK</td><td>UNK</td><td>-1</td><td>-1.0</td><td>0</td><td>-1.0</td><td>-1</td><td>-1</td><td>-1</td><td>101186933</td><td>-1.0</td><td>-1</td><td>0</td><td>-1.0</td><td>-1</td><td>1.1716</td><td>1</td><td>1.171985</td><td>1.172036051750183</td><td>1</td><td>1.171985</td><td>DR6Q_HW</td><td>-1.0</td><td>-1</td><td>1237648674534457402</td><td>1.1716968268001136</td><td>0</td><td>13648.701662596028</td><td>-1.0</td><td>7682</td><td>0.0</td><td>-1.0</td><td>7682</td><td>0.0</td><td>1.1704970458105688</td><td>0</td><td>1555.731748463072</td><td>1.1696781333398127</td><td>0</td><td>815.3500539892871</td><td>-1.0</td><td>7682</td><td>0.0</td><td>-1.0</td><td>7682</td><td>0.0</td><td>1.1716969</td><td>-1.0 .. -1.0</td><td>-1.0 .. -1.0</td><td>-1.0 .. -1.0</td><td>-1.0</td><td>-1.0</td><td>-1.0</td><td>-1.0</td><td>-1.0</td><td>-1.0</td><td>-1.0</td><td>-1.0</td><td>-1.0</td><td>-1</td><td>-1</td><td>-1</td><td>-1</td><td>-1</td><td>-1</td><td>0</td><td>0</td><td>0</td><td>-1 .. -1</td><td>-1 .. -1</td><td>-1 .. -1</td><td>-1 .. -1</td><td>2</td><td>745</td><td>301</td><td>4</td><td>604</td><td>58</td><td>5000.0</td><td>0.0</td><td>94.14501190185547</td><td>74.23326110839844</td><td>chunk6</td><td>141</td><td>18.963199615478516</td><td>39.07423 .. 71.122025</td><td>2.101097822189331 .. 0.4366770088672638</td><td>18.52026 .. 17.869873</td><td>0.019169006496667862 .. 0.023096492514014244</td><td>0.5387019 .. 0.15455675</td><td>-26.8971695813006</td><td>23.335979461669922</td><td>1</td><td>6.4355597496032715</td><td>1.1828610387074077</td><td>23.417865753173828</td><td>1.7300820131019259</td><td>0</td><td>-1.0</td><td>-1.0</td><td>-1.0</td><td>-1.0</td><td>-1.0</td><td>-1.0</td><td>-1.0</td><td>-1.0</td><td>1913.5709</td><td>0.004299623</td><td>14.295388</td><td>0.008652957</td><td>3.7346354</td><td>125.47573</td><td>0.94548005</td><td>6.8069015</td><td>0.0035571714</td><td>223</td><td>6111.3887</td><td>0.00032714667</td><td>13.03465</td><td>0.009822299</td><td>4.3003635</td><td>110.537895</td><td>0.9546244</td><td>6.1645007</td><td>0.0010086906</td><td>220</td><td>0</td><td>-1.0</td><td>-1.0</td><td>-1.0</td><td>16.836999893188477</td><td>0.14499999582767487</td><td>7.599999904632568</td><td>2</td><td>15.991000175476074</td><td>0.14800000190734863</td><td>7.599999904632568</td><td>2</td><td>16.040000915527344</td><td>nan</td><td>nan</td><td>0</td><td>0.3858700272018561</td><td>-1</td><td>-1.0</td><td>-1.0</td><td>-1.0</td><td>-1.0</td><td>-1.0</td><td>-1</td><td>-1.0</td><td>-1.0</td><td>-1.0</td><td>-1.0</td><td>-1.0</td><td>-1.0</td><td>-1.0</td><td>-1.0</td><td>-1.0</td><td>-1.0</td><td>1</td><td>Gaia DR2 4383566874976889984</td><td>249.09990310385538</td><td>0.3840764664993572</td><td>0.06304777413606644</td><td>53.57776641845703</td><td>0.12892766296863556</td><td>10.859583854675293</td><td>0.06250004470348358</td><td>33.60094451904297</td><td>17.573959350585938</td><td>907.744384765625</td><td>17.770963668823242</td><td>135.71047973632812</td><td>17.134130477905273</td><td>155.37393188476562</td><td>0.024021411956106725</td></tr>\n",
       "<tr><td>163655.01-010710.3</td><td>249.22921</td><td>-1.11955</td><td>348</td><td>51696</td><td>58</td><td>UNK</td><td>UNK</td><td>-1</td><td>-1.0</td><td>0</td><td>-1.0</td><td>-1</td><td>-1</td><td>-1</td><td>70570988</td><td>-1.0</td><td>-1</td><td>0</td><td>-1.0</td><td>-1</td><td>0.5235</td><td>1</td><td>0.523005</td><td>0.523705005645752</td><td>1</td><td>0.523005</td><td>DR6Q_HW</td><td>-1.0</td><td>-1</td><td>1237648702995300521</td><td>0.5232301647744888</td><td>0</td><td>9592.379429173747</td><td>-1.0</td><td>7682</td><td>0.0</td><td>0.5225651726445595</td><td>0</td><td>39.8878797421894</td><td>0.5201372555779986</td><td>0</td><td>315.59106275749014</td><td>-1.0</td><td>7682</td><td>0.0</td><td>-1.0</td><td>7682</td><td>0.0</td><td>-1.0</td><td>7682</td><td>0.0</td><td>0.52322984</td><td>-1.0 .. -1.0</td><td>-1.0 .. -1.0</td><td>-1.0 .. -1.0</td><td>-1.0</td><td>-1.0</td><td>-1.0</td><td>-1.0</td><td>-1.0</td><td>-1.0</td><td>-1.0</td><td>-1.0</td><td>-1.0</td><td>-1</td><td>-1</td><td>-1</td><td>-1</td><td>-1</td><td>-1</td><td>0</td><td>0</td><td>0</td><td>-1 .. -1</td><td>-1 .. -1</td><td>-1 .. -1</td><td>-1 .. -1</td><td>2</td><td>752</td><td>301</td><td>1</td><td>706</td><td>169</td><td>5000.0</td><td>0.0</td><td>122.44725799560547</td><td>-253.28102111816406</td><td>chunk6</td><td>141</td><td>18.963199615478516</td><td>26.046396 .. 47.25788</td><td>3.299832582473755 .. 0.6622291803359985</td><td>18.9606 .. 18.313549</td><td>0.02294592745602131 .. 0.02821844257414341</td><td>0.70783216 .. 0.20308122</td><td>-24.600817434231786</td><td>13.500353813171387</td><td>1</td><td>8.504426002502441</td><td>0.8754484156346176</td><td>12.044121742248535</td><td>3.271954057106438</td><td>0</td><td>-1.0</td><td>-1.0</td><td>-1.0</td><td>-1.0</td><td>-1.0</td><td>-1.0</td><td>-1.0</td><td>-1.0</td><td>3985.3892</td><td>0.0044295876</td><td>13.498823</td><td>0.0040932847</td><td>8.69688</td><td>265.24817</td><td>0.95099276</td><td>4.2596817</td><td>0.0010688246</td><td>289</td><td>10365.11</td><td>0.00031497583</td><td>12.461065</td><td>0.0059021707</td><td>13.453385</td><td>183.9554</td><td>0.95854974</td><td>4.3297076</td><td>0.00041771872</td><td>269</td><td>0</td><td>-1.0</td><td>-1.0</td><td>-1.0</td><td>16.76099967956543</td><td>0.13600000739097595</td><td>6.900000095367432</td><td>2</td><td>15.776000022888184</td><td>0.12999999523162842</td><td>8.399999618530273</td><td>2</td><td>15.036999702453613</td><td>0.12999999523162842</td><td>7.900000095367432</td><td>2</td><td>0.04829169238585815</td><td>2RXS J163655.1-010659</td><td>249.22978999999998</td><td>-1.1164399999999999</td><td>6.160809e-13</td><td>2.791085e-13</td><td>11.388963967718349</td><td>-1</td><td>-1.0</td><td>-1.0</td><td>-1.0</td><td>-1.0</td><td>-1.0</td><td>-1.0</td><td>-1.0</td><td>-1.0</td><td>-1.0</td><td>-1.0</td><td>1</td><td>Gaia DR2 4382381979399354112</td><td>249.2292038482063</td><td>-1.1195551254750735</td><td>0.05806255340576172</td><td>13.373658180236816</td><td>0.9777372479438782</td><td>3.7434098720550537</td><td>0.44800829887390137</td><td>11.823561668395996</td><td>18.4886531829834</td><td>482.015625</td><td>18.554101943969727</td><td>47.23668670654297</td><td>17.92915916442871</td><td>68.3538589477539</td><td>0.028822629032376233</td></tr>\n",
       "<tr><td>163751.97-004243.8</td><td>249.466542</td><td>-0.712189</td><td>348</td><td>51696</td><td>2</td><td>UNK</td><td>UNK</td><td>-1</td><td>-1.0</td><td>0</td><td>-1.0</td><td>-1</td><td>-1</td><td>-1</td><td>80449129</td><td>-1.0</td><td>-1</td><td>0</td><td>-1.0</td><td>-1</td><td>0.9319</td><td>1</td><td>0.933233</td><td>0.9330170154571533</td><td>1</td><td>0.933233</td><td>DR6Q_HW</td><td>-1.0</td><td>-1</td><td>1237648703532237668</td><td>0.9320629839594287</td><td>0</td><td>1741.8393221913066</td><td>-1.0</td><td>7682</td><td>0.0</td><td>-1.0</td><td>7682</td><td>0.0</td><td>0.9327491838234268</td><td>0</td><td>327.012761290139</td><td>1.0152583428663844</td><td>2050</td><td>20.166232638765493</td><td>-1.0</td><td>7682</td><td>0.0</td><td>-1.0</td><td>7682</td><td>0.0</td><td>0.9320631</td><td>-1.0 .. -1.0</td><td>-1.0 .. -1.0</td><td>-1.0 .. -1.0</td><td>-1.0</td><td>-1.0</td><td>-1.0</td><td>-1.0</td><td>-1.0</td><td>-1.0</td><td>-1.0</td><td>-1.0</td><td>-1.0</td><td>-1</td><td>-1</td><td>-1</td><td>-1</td><td>-1</td><td>-1</td><td>0</td><td>0</td><td>0</td><td>-1 .. -1</td><td>-1 .. -1</td><td>-1 .. -1</td><td>-1 .. -1</td><td>2</td><td>752</td><td>301</td><td>2</td><td>707</td><td>868</td><td>5000.0</td><td>0.0</td><td>174.09341430664062</td><td>-164.45140075683594</td><td>chunk6</td><td>141</td><td>18.963199615478516</td><td>11.111725 .. 25.500319</td><td>8.890838623046875 .. 1.2031155824661255</td><td>19.885374 .. 18.982723</td><td>0.032759226858615875 .. 0.03875206038355827</td><td>0.7491024 .. 0.2149219</td><td>-25.18929771121397</td><td>8.927971839904785</td><td>1</td><td>0.0</td><td>0.0</td><td>0.0</td><td>0.0</td><td>0</td><td>-1.0</td><td>-1.0</td><td>-1.0</td><td>-1.0</td><td>-1.0</td><td>-1.0</td><td>-1.0</td><td>-1.0</td><td>1610.5018</td><td>0.004055073</td><td>14.482597</td><td>0.010586776</td><td>1.4942752</td><td>102.555885</td><td>0.944537</td><td>4.7078543</td><td>0.0029232206</td><td>214</td><td>4632.5386</td><td>0.0003142696</td><td>13.335452</td><td>0.013220689</td><td>2.191733</td><td>82.12402</td><td>0.9521681</td><td>3.8158534</td><td>0.00082370744</td><td>197</td><td>0</td><td>-1.0</td><td>-1.0</td><td>-1.0</td><td>-1.0</td><td>-1.0</td><td>-1.0</td><td>-1</td><td>-1.0</td><td>-1.0</td><td>-1.0</td><td>-1</td><td>-1.0</td><td>-1.0</td><td>-1.0</td><td>-1</td><td>-1.0</td><td>-1</td><td>-1.0</td><td>-1.0</td><td>-1.0</td><td>-1.0</td><td>-1.0</td><td>-1</td><td>-1.0</td><td>-1.0</td><td>-1.0</td><td>-1.0</td><td>-1.0</td><td>-1.0</td><td>-1.0</td><td>-1.0</td><td>-1.0</td><td>-1.0</td><td>1</td><td>Gaia DR2 4383172489603501952</td><td>249.46654657359716</td><td>-0.7121965439743285</td><td>0.06706219911575317</td><td>10.626086235046387</td><td>-0.14900916814804077</td><td>1.9809205532073975</td><td>-0.300552099943161</td><td>5.542903900146484</td><td>19.05453109741211</td><td>201.2856903076172</td><td>19.23573875427246</td><td>32.161598205566406</td><td>18.46697235107422</td><td>27.601062774658203</td><td>0.031758878343846025</td></tr>\n",
       "<tr><td>163754.52+003250.9</td><td>249.477193</td><td>0.547475</td><td>348</td><td>51696</td><td>583</td><td>UNK</td><td>UNK</td><td>-1</td><td>-1.0</td><td>0</td><td>-1.0</td><td>-1</td><td>-1</td><td>-1</td><td>108659173</td><td>-1.0</td><td>-1</td><td>0</td><td>-1.0</td><td>-1</td><td>1.9164</td><td>1</td><td>1.917796</td><td>1.9168000221252441</td><td>1</td><td>1.917796</td><td>DR6Q_HW</td><td>-1.0</td><td>-1</td><td>1237648705142850600</td><td>1.9198353460204778</td><td>0</td><td>3250.297434073047</td><td>-1.0</td><td>7682</td><td>0.0</td><td>-1.0</td><td>7682</td><td>0.0</td><td>1.948844781803702</td><td>0</td><td>15.234734879602001</td><td>1.8870692823648816</td><td>0</td><td>51.87864213818659</td><td>1.9190865161475261</td><td>0</td><td>389.4156182697395</td><td>-1.0</td><td>7682</td><td>0.0</td><td>1.9198494</td><td>-1.0 .. -1.0</td><td>-1.0 .. -1.0</td><td>-1.0 .. -1.0</td><td>0.0</td><td>0.0</td><td>0.0</td><td>0.0</td><td>0.0</td><td>0.0</td><td>0.0</td><td>0.0</td><td>0.0</td><td>-1</td><td>-1</td><td>-1</td><td>-1</td><td>-1</td><td>-1</td><td>0</td><td>0</td><td>0</td><td>-1 .. -1</td><td>-1 .. -1</td><td>-1 .. -1</td><td>-1 .. -1</td><td>2</td><td>752</td><td>301</td><td>5</td><td>707</td><td>1064</td><td>5000.0</td><td>0.0</td><td>176.37677001953125</td><td>109.87267303466797</td><td>chunk6</td><td>141</td><td>18.963199615478516</td><td>10.532115 .. 31.252008</td><td>10.032145500183105 .. 1.0847152471542358</td><td>19.94352 .. 18.762197</td><td>0.03253556787967682 .. 0.03331977501511574</td><td>0.5578228 .. 0.16004266</td><td>-26.949966563007443</td><td>9.898677825927734</td><td>1</td><td>0.015461922623217106</td><td>0.9587216143025229</td><td>2.3865931034088135</td><td>0.5289352248858471</td><td>0</td><td>-1.0</td><td>-1.0</td><td>-1.0</td><td>-1.0</td><td>-1.0</td><td>-1.0</td><td>-1.0</td><td>-1.0</td><td>695.5982</td><td>0.004465203</td><td>15.394104</td><td>0.023358516</td><td>0.51496625</td><td>46.481384</td><td>0.9374368</td><td>14.438717</td><td>0.020757271</td><td>170</td><td>1730.149</td><td>0.00031920304</td><td>14.404791</td><td>0.035124265</td><td>0.5064391</td><td>30.911282</td><td>0.9410199</td><td>17.97051</td><td>0.010386682</td><td>140</td><td>0</td><td>-1.0</td><td>-1.0</td><td>-1.0</td><td>-1.0</td><td>-1.0</td><td>-1.0</td><td>-1</td><td>-1.0</td><td>-1.0</td><td>-1.0</td><td>-1</td><td>-1.0</td><td>-1.0</td><td>-1.0</td><td>-1</td><td>-1.0</td><td>-1</td><td>-1.0</td><td>-1.0</td><td>-1.0</td><td>-1.0</td><td>-1.0</td><td>-1</td><td>-1.0</td><td>-1.0</td><td>-1.0</td><td>-1.0</td><td>-1.0</td><td>-1.0</td><td>-1.0</td><td>-1.0</td><td>-1.0</td><td>-1.0</td><td>1</td><td>Gaia DR2 4383595595421449088</td><td>249.47718842689378</td><td>0.5474784363045424</td><td>-0.052103687077760696</td><td>9.479330062866211</td><td>-1.2558884620666504</td><td>2.041779041290283</td><td>-0.13490068912506104</td><td>5.335065841674805</td><td>19.247041702270508</td><td>338.4818420410156</td><td>19.590970993041992</td><td>27.832971572875977</td><td>18.59564781188965</td><td>35.76656723022461</td><td>0.020592371416975584</td></tr>\n",
       "<tr><td>163826.79-010326.1</td><td>249.61165</td><td>-1.057251</td><td>348</td><td>51696</td><td>18</td><td>UNK</td><td>UNK</td><td>-1</td><td>-1.0</td><td>0</td><td>-1.0</td><td>-1</td><td>-1</td><td>-1</td><td>70574446</td><td>-1.0</td><td>-1</td><td>0</td><td>-1.0</td><td>-1</td><td>1.2395</td><td>1</td><td>1.241696</td><td>1.241832971572876</td><td>1</td><td>1.241696</td><td>DR6Q_HW</td><td>-1.0</td><td>-1</td><td>1237648702995431855</td><td>1.2420162413408455</td><td>0</td><td>4056.0180086798064</td><td>-1.0</td><td>7682</td><td>0.0</td><td>-1.0</td><td>7682</td><td>0.0</td><td>1.2401696315141715</td><td>0</td><td>749.0233586805784</td><td>1.2436442350985595</td><td>0</td><td>111.69773250587423</td><td>-1.0</td><td>7682</td><td>0.0</td><td>-1.0</td><td>7682</td><td>0.0</td><td>1.2420162</td><td>-1.0 .. -1.0</td><td>-1.0 .. -1.0</td><td>-1.0 .. -1.0</td><td>-1.0</td><td>-1.0</td><td>-1.0</td><td>-1.0</td><td>-1.0</td><td>-1.0</td><td>-1.0</td><td>-1.0</td><td>-1.0</td><td>-1</td><td>-1</td><td>-1</td><td>-1</td><td>-1</td><td>-1</td><td>0</td><td>0</td><td>0</td><td>-1 .. -1</td><td>-1 .. -1</td><td>-1 .. -1</td><td>-1 .. -1</td><td>2</td><td>752</td><td>301</td><td>1</td><td>708</td><td>431</td><td>5000.0</td><td>0.0</td><td>205.9319305419922</td><td>-239.8978271484375</td><td>chunk6</td><td>141</td><td>18.963199615478516</td><td>23.767426 .. 39.186478</td><td>4.161457061767578 .. 0.8608721494674683</td><td>19.060007 .. 18.516773</td><td>0.02239181660115719 .. 0.02984071522951126</td><td>0.6849575 .. 0.19651835</td><td>-26.46398102518302</td><td>10.853705406188965</td><td>1</td><td>3.231982469558716</td><td>2.3329884025812584</td><td>12.707874298095703</td><td>1.565408400061619</td><td>0</td><td>-1.0</td><td>-1.0</td><td>-1.0</td><td>-1.0</td><td>-1.0</td><td>-1.0</td><td>-1.0</td><td>-1.0</td><td>1262.6903</td><td>0.0045437464</td><td>14.7467575</td><td>0.012756174</td><td>3.1490684</td><td>85.11456</td><td>0.9381413</td><td>0.59236187</td><td>0.0004691249</td><td>175</td><td>4427.728</td><td>0.0003257108</td><td>13.384547</td><td>0.013587116</td><td>3.758423</td><td>79.90924</td><td>0.9485585</td><td>0.11729293</td><td>2.6490456e-05</td><td>177</td><td>0</td><td>-1.0</td><td>-1.0</td><td>-1.0</td><td>-1.0</td><td>-1.0</td><td>-1.0</td><td>-1</td><td>-1.0</td><td>-1.0</td><td>-1.0</td><td>-1</td><td>-1.0</td><td>-1.0</td><td>-1.0</td><td>-1</td><td>-1.0</td><td>-1</td><td>-1.0</td><td>-1.0</td><td>-1.0</td><td>-1.0</td><td>-1.0</td><td>-1</td><td>-1.0</td><td>-1.0</td><td>-1.0</td><td>-1.0</td><td>-1.0</td><td>-1.0</td><td>-1.0</td><td>-1.0</td><td>-1.0</td><td>-1.0</td><td>1</td><td>Gaia DR2 4382391630189361536</td><td>249.61164061929423</td><td>-1.057257293213639</td><td>-0.0742899626493454</td><td>28.33228302001953</td><td>0.20600371062755585</td><td>5.257601737976074</td><td>-0.06311247497797012</td><td>13.950068473815918</td><td>18.3565673828125</td><td>351.6243591308594</td><td>18.50823974609375</td><td>39.00366973876953</td><td>17.892431259155273</td><td>57.304443359375</td><td>0.04066123417195129</td></tr>\n",
       "<tr><td>163838.99+001651.0</td><td>249.662496</td><td>0.280854</td><td>348</td><td>51696</td><td>593</td><td>UNK</td><td>UNK</td><td>-1</td><td>-1.0</td><td>0</td><td>-1.0</td><td>-1</td><td>-1</td><td>-1</td><td>100305123</td><td>-1.0</td><td>-1</td><td>0</td><td>-1.0</td><td>-1</td><td>1.6903</td><td>1</td><td>1.692819</td><td>1.6931530237197876</td><td>1</td><td>1.692819</td><td>DR6Q_HW</td><td>-1.0</td><td>-1</td><td>1237655550744658945</td><td>1.6903977551606242</td><td>0</td><td>12230.94717912767</td><td>-1.0</td><td>7682</td><td>0.0</td><td>-1.0</td><td>7682</td><td>0.0</td><td>1.6908569857353557</td><td>0</td><td>959.6620747837983</td><td>1.6897594588296192</td><td>0</td><td>705.1178513164548</td><td>1.6828068333173545</td><td>0</td><td>1533.5962028317067</td><td>-1.0</td><td>7682</td><td>0.0</td><td>1.6903977</td><td>-1.0 .. -1.0</td><td>-1.0 .. -1.0</td><td>-1.0 .. -1.0</td><td>0.0</td><td>0.0</td><td>0.0</td><td>0.0</td><td>0.0</td><td>0.0</td><td>0.0</td><td>0.0</td><td>0.0</td><td>-1</td><td>-1</td><td>-1</td><td>-1</td><td>-1</td><td>-1</td><td>0</td><td>0</td><td>0</td><td>-1 .. -1</td><td>-1 .. -1</td><td>-1 .. -1</td><td>-1 .. -1</td><td>2</td><td>2346</td><td>301</td><td>4</td><td>109</td><td>1025</td><td>5000.0</td><td>0.0</td><td>216.75555419921875</td><td>51.82712936401367</td><td>chunk6</td><td>141</td><td>18.963199615478516</td><td>25.464785 .. 36.654957</td><td>2.4662747383117676 .. 0.5081269145011902</td><td>18.985117 .. 18.589226</td><td>0.027147967368364334 .. 0.041519466787576675</td><td>0.5288469 .. 0.1517293</td><td>-27.00808399367716</td><td>13.745404243469238</td><td>1</td><td>2.1941230297088623</td><td>2.8683941721587094</td><td>6.4661383628845215</td><td>6.2375284729730875</td><td>0</td><td>-1.0</td><td>-1.0</td><td>-1.0</td><td>-1.0</td><td>-1.0</td><td>-1.0</td><td>-1.0</td><td>-1.0</td><td>501.518</td><td>0.004154199</td><td>15.749284</td><td>0.03358877</td><td>1.7138674</td><td>32.324375</td><td>0.9100806</td><td>0.89187783</td><td>0.0017783553</td><td>97</td><td>2232.7837</td><td>0.00029260188</td><td>14.127883</td><td>0.028427526</td><td>1.2610428</td><td>38.193127</td><td>0.93823093</td><td>0.85036165</td><td>0.00038085258</td><td>133</td><td>0</td><td>-1.0</td><td>-1.0</td><td>-1.0</td><td>-1.0</td><td>-1.0</td><td>-1.0</td><td>-1</td><td>-1.0</td><td>-1.0</td><td>-1.0</td><td>-1</td><td>-1.0</td><td>-1.0</td><td>-1.0</td><td>-1</td><td>-1.0</td><td>-1</td><td>-1.0</td><td>-1.0</td><td>-1.0</td><td>-1.0</td><td>-1.0</td><td>-1</td><td>-1.0</td><td>-1.0</td><td>-1.0</td><td>-1.0</td><td>-1.0</td><td>-1.0</td><td>-1.0</td><td>-1.0</td><td>-1.0</td><td>-1.0</td><td>1</td><td>Gaia DR2 4383388955955446144</td><td>249.66249247603528</td><td>0.2808597965599357</td><td>0.222013458609581</td><td>15.5209321975708</td><td>0.019132141023874283</td><td>3.5251498222351074</td><td>0.1655469536781311</td><td>9.2254638671875</td><td>18.80984115600586</td><td>541.64501953125</td><td>19.019760131835938</td><td>38.32569122314453</td><td>18.36246109008789</td><td>59.85167694091797</td><td>0.024421200685227375</td></tr>\n",
       "<tr><td>163904.70+005845.0</td><td>249.769618</td><td>0.97917</td><td>348</td><td>51696</td><td>605</td><td>UNK</td><td>UNK</td><td>-1</td><td>-1.0</td><td>0</td><td>-1.0</td><td>-1</td><td>-1</td><td>-1</td><td>117611291</td><td>-1.0</td><td>-1</td><td>0</td><td>-1.0</td><td>-1</td><td>1.3177</td><td>1</td><td>1.323359</td><td>1.3230890035629272</td><td>1</td><td>1.323359</td><td>DR6Q_HW</td><td>-1.0</td><td>-1</td><td>1237648705679852464</td><td>1.3225119984179574</td><td>0</td><td>2341.478114191701</td><td>-1.0</td><td>7682</td><td>0.0</td><td>-1.0</td><td>7682</td><td>0.0</td><td>1.320884804236952</td><td>0</td><td>341.28725353476864</td><td>1.3212631118354858</td><td>0</td><td>129.17000194698585</td><td>-1.0</td><td>7682</td><td>0.0</td><td>-1.0</td><td>7682</td><td>0.0</td><td>1.322512</td><td>-1.0 .. -1.0</td><td>-1.0 .. -1.0</td><td>-1.0 .. -1.0</td><td>-1.0</td><td>-1.0</td><td>-1.0</td><td>-1.0</td><td>-1.0</td><td>-1.0</td><td>-1.0</td><td>-1.0</td><td>-1.0</td><td>-1</td><td>-1</td><td>-1</td><td>-1</td><td>-1</td><td>-1</td><td>0</td><td>0</td><td>0</td><td>-1 .. -1</td><td>-1 .. -1</td><td>-1 .. -1</td><td>-1 .. -1</td><td>2</td><td>752</td><td>301</td><td>6</td><td>709</td><td>944</td><td>5000.0</td><td>0.0</td><td>240.37420654296875</td><td>204.16943359375</td><td>chunk6</td><td>141</td><td>18.963199615478516</td><td>12.968785 .. 25.076063</td><td>7.3329243659973145 .. 0.8546707034111023</td><td>19.717625 .. 19.000908</td><td>0.030909018591046333 .. 0.04675310477614403</td><td>0.429299 .. 0.12316842</td><td>-25.818999581565215</td><td>7.180530548095703</td><td>1</td><td>-0.22987064719200134</td><td>33.84571029818306</td><td>0.3914256691932678</td><td>10.278251733364373</td><td>0</td><td>-1.0</td><td>-1.0</td><td>-1.0</td><td>-1.0</td><td>-1.0</td><td>-1.0</td><td>-1.0</td><td>-1.0</td><td>899.08136</td><td>0.0036988356</td><td>15.115502</td><td>0.019856047</td><td>1.3048948</td><td>54.680378</td><td>0.93730134</td><td>4.4698825</td><td>0.0049716113</td><td>168</td><td>3036.7732</td><td>0.00025969432</td><td>13.793969</td><td>0.022186087</td><td>2.4936326</td><td>48.937702</td><td>0.94682777</td><td>3.8326025</td><td>0.0012620644</td><td>164</td><td>0</td><td>-1.0</td><td>-1.0</td><td>-1.0</td><td>-1.0</td><td>-1.0</td><td>-1.0</td><td>-1</td><td>-1.0</td><td>-1.0</td><td>-1.0</td><td>-1</td><td>-1.0</td><td>-1.0</td><td>-1.0</td><td>-1</td><td>-1.0</td><td>-1</td><td>-1.0</td><td>-1.0</td><td>-1.0</td><td>-1.0</td><td>-1.0</td><td>-1</td><td>-1.0</td><td>-1.0</td><td>-1.0</td><td>-1.0</td><td>-1.0</td><td>-1.0</td><td>-1.0</td><td>-1.0</td><td>-1.0</td><td>-1.0</td><td>1</td><td>Gaia DR2 4383989495462023296</td><td>249.76960657168598</td><td>0.9791601528189455</td><td>0.11313139647245407</td><td>6.721799373626709</td><td>1.4715105295181274</td><td>1.5143924951553345</td><td>-0.05987343192100525</td><td>4.712214469909668</td><td>19.28325080871582</td><td>357.3794860839844</td><td>19.457435607910156</td><td>38.54362487792969</td><td>18.88652229309082</td><td>44.96797561645508</td><td>0.05430337127493963</td></tr>\n",
       "<tr><td>163925.56-004109.6</td><td>249.856513</td><td>-0.686005</td><td>348</td><td>51696</td><td>38</td><td>UNK</td><td>UNK</td><td>-1</td><td>-1.0</td><td>0</td><td>-1.0</td><td>-1</td><td>-1</td><td>-1</td><td>80453128</td><td>-1.0</td><td>-1</td><td>0</td><td>-1.0</td><td>-1</td><td>1.3822</td><td>1</td><td>1.391687</td><td>1.3909859657287598</td><td>1</td><td>1.391687</td><td>DR6Q_HW</td><td>-1.0</td><td>-1</td><td>1237648703532433991</td><td>1.3897398852326786</td><td>0</td><td>2641.7518029524417</td><td>-1.0</td><td>7682</td><td>0.0</td><td>-1.0</td><td>7682</td><td>0.0</td><td>1.3910650920114755</td><td>0</td><td>278.44698588278743</td><td>1.3844748337400214</td><td>0</td><td>52.61663504235054</td><td>1.4784144564350732</td><td>2050</td><td>15.321575399192056</td><td>-1.0</td><td>7682</td><td>0.0</td><td>1.3897399</td><td>-1.0 .. -1.0</td><td>-1.0 .. -1.0</td><td>-1.0 .. -1.0</td><td>-1.0</td><td>-1.0</td><td>-1.0</td><td>-1.0</td><td>-1.0</td><td>-1.0</td><td>-1.0</td><td>-1.0</td><td>-1.0</td><td>-1</td><td>-1</td><td>-1</td><td>-1</td><td>-1</td><td>-1</td><td>0</td><td>0</td><td>0</td><td>-1 .. -1</td><td>-1 .. -1</td><td>-1 .. -1</td><td>-1 .. -1</td><td>2</td><td>752</td><td>301</td><td>2</td><td>710</td><td>583</td><td>5000.0</td><td>0.0</td><td>259.26171875</td><td>-158.89442443847656</td><td>chunk6</td><td>141</td><td>18.963199615478516</td><td>15.220025 .. 33.323376</td><td>4.901670932769775 .. 1.0959768295288086</td><td>19.543869 .. 18.692593</td><td>0.03221539035439491 .. 0.031091861426830292</td><td>0.703519 .. 0.20184374</td><td>-26.471826368595938</td><td>8.531871795654297</td><td>1</td><td>0.0</td><td>0.0</td><td>0.0</td><td>0.0</td><td>0</td><td>-1.0</td><td>-1.0</td><td>-1.0</td><td>-1.0</td><td>-1.0</td><td>-1.0</td><td>-1.0</td><td>-1.0</td><td>871.70966</td><td>0.0041265315</td><td>15.149071</td><td>0.019389197</td><td>2.0727875</td><td>55.99696</td><td>0.9292671</td><td>3.3740277</td><td>0.0038705885</td><td>141</td><td>3037.2632</td><td>0.0002986918</td><td>13.793794</td><td>0.020683795</td><td>1.6766123</td><td>52.492115</td><td>0.93993807</td><td>2.8250442</td><td>0.00093012775</td><td>140</td><td>0</td><td>-1.0</td><td>-1.0</td><td>-1.0</td><td>-1.0</td><td>-1.0</td><td>-1.0</td><td>-1</td><td>-1.0</td><td>-1.0</td><td>-1.0</td><td>-1</td><td>-1.0</td><td>-1.0</td><td>-1.0</td><td>-1</td><td>-1.0</td><td>-1</td><td>-1.0</td><td>-1.0</td><td>-1.0</td><td>-1.0</td><td>-1.0</td><td>-1</td><td>-1.0</td><td>-1.0</td><td>-1.0</td><td>-1.0</td><td>-1.0</td><td>-1.0</td><td>-1.0</td><td>-1.0</td><td>-1.0</td><td>-1.0</td><td>1</td><td>Gaia DR2 4382501551286028160</td><td>249.85650930624982</td><td>-0.6860106317867872</td><td>0.0</td><td>0.0</td><td>0.0</td><td>0.0</td><td>0.0</td><td>0.0</td><td>18.661293029785156</td><td>188.20021057128906</td><td>18.818267822265625</td><td>11.378739356994629</td><td>18.092037200927734</td><td>31.35027313232422</td><td>0.024245634436966285</td></tr>\n",
       "<tr><td>163946.55-002813.4</td><td>249.943986</td><td>-0.470396</td><td>348</td><td>51696</td><td>23</td><td>UNK</td><td>UNK</td><td>-1</td><td>-1.0</td><td>0</td><td>-1.0</td><td>-1</td><td>-1</td><td>-1</td><td>86809826</td><td>-1.0</td><td>-1</td><td>0</td><td>-1.0</td><td>-1</td><td>1.5885</td><td>1</td><td>1.603191</td><td>1.6033049821853638</td><td>1</td><td>1.603191</td><td>DR6Q_HW</td><td>-1.0</td><td>-1</td><td>1237655558793331492</td><td>1.602182871573402</td><td>0</td><td>1094.834540933175</td><td>-1.0</td><td>7682</td><td>0.0</td><td>-1.0</td><td>7682</td><td>0.0</td><td>1.604129127024739</td><td>0</td><td>183.90698246823206</td><td>1.5777491488464763</td><td>0</td><td>68.18642032955671</td><td>1.5696265340332949</td><td>0</td><td>79.19573819839525</td><td>-1.0</td><td>7682</td><td>0.0</td><td>1.602182</td><td>-1.0 .. -1.0</td><td>-1.0 .. -1.0</td><td>-1.0 .. -1.0</td><td>0.9</td><td>0.0</td><td>0.0</td><td>157.833740234375</td><td>7.2427825927734375</td><td>0.0</td><td>0.0</td><td>0.0</td><td>0.0</td><td>-1</td><td>-1</td><td>-1</td><td>-1</td><td>-1</td><td>-1</td><td>0</td><td>0</td><td>0</td><td>-1 .. -1</td><td>-1 .. -1</td><td>-1 .. -1</td><td>-1 .. -1</td><td>2</td><td>2348</td><td>301</td><td>3</td><td>42</td><td>804</td><td>5000.0</td><td>0.0</td><td>278.3106384277344</td><td>-111.8772201538086</td><td>chunk6</td><td>141</td><td>18.963199615478516</td><td>9.748304 .. 23.461636</td><td>2.4100019931793213 .. 0.23141464591026306</td><td>20.027454 .. 19.073027</td><td>0.07171458005905151 .. 0.09600818157196045</td><td>0.8016348 .. 0.22999375</td><td>-26.35945148488549</td><td>6.966092586517334</td><td>1</td><td>0.058215342462062836</td><td>14.478121130486194</td><td>3.876800298690796</td><td>14.501218881464089</td><td>0</td><td>-1.0</td><td>-1.0</td><td>-1.0</td><td>-1.0</td><td>-1.0</td><td>-1.0</td><td>-1.0</td><td>-1.0</td><td>640.85205</td><td>0.0040761954</td><td>15.483106</td><td>0.026536217</td><td>0.69005847</td><td>40.915257</td><td>0.92534316</td><td>0.20619304</td><td>0.00032174835</td><td>128</td><td>2634.1282</td><td>0.00029271186</td><td>13.948408</td><td>0.024091687</td><td>2.093266</td><td>45.066837</td><td>0.9384787</td><td>-0.038685404</td><td>-1.4686226e-05</td><td>135</td><td>0</td><td>-1.0</td><td>-1.0</td><td>-1.0</td><td>-1.0</td><td>-1.0</td><td>-1.0</td><td>-1</td><td>-1.0</td><td>-1.0</td><td>-1.0</td><td>-1</td><td>-1.0</td><td>-1.0</td><td>-1.0</td><td>-1</td><td>-1.0</td><td>-1</td><td>-1.0</td><td>-1.0</td><td>-1.0</td><td>-1.0</td><td>-1.0</td><td>-1</td><td>-1.0</td><td>-1.0</td><td>-1.0</td><td>-1.0</td><td>-1.0</td><td>-1.0</td><td>-1.0</td><td>-1.0</td><td>-1.0</td><td>-1.0</td><td>1</td><td>Gaia DR2 4382523537224033280</td><td>249.94398316273788</td><td>-0.47040337943172555</td><td>-0.37789878249168396</td><td>4.867248058319092</td><td>0.01292459201067686</td><td>1.2559417486190796</td><td>0.5115879774093628</td><td>3.613945960998535</td><td>19.317031860351562</td><td>216.32447814941406</td><td>19.566112518310547</td><td>36.0549430847168</td><td>18.8510684967041</td><td>36.11882019042969</td><td>0.028461757207378664</td></tr>\n",
       "</table></div>"
      ],
      "text/plain": [
       "<Table length=9249>\n",
       "    SDSS_NAME              RA         ...    SDSS2GAIA_SEP    \n",
       "      str18             float64       ...       float64       \n",
       "------------------ ------------------ ... --------------------\n",
       "052744.50+003525.2          81.935419 ... 0.049322559323580706\n",
       "053048.68+002919.7          82.702834 ...                 -1.0\n",
       "053334.34+005623.2          83.393106 ...  0.06532557807913553\n",
       "075809.92+002113.0 119.54134248159772 ...  0.07673042737719281\n",
       "075829.98+001621.8 119.62495536478664 ...  0.05653160918880567\n",
       "075835.26+010922.2 119.64694330158082 ...  0.04463415437153078\n",
       "075843.14+002631.6 119.67976974871263 ... 0.013307493189849529\n",
       "075858.18+002712.7 119.74242726669675 ...  0.08416489761322411\n",
       "075909.79+005416.3 119.79082420164107 ...  0.03680055993580906\n",
       "075937.11+005704.8 119.90463613098876 ...                 -1.0\n",
       "               ...                ... ...                  ...\n",
       "163445.66+005244.4         248.690271 ...  0.05492150285502275\n",
       "163623.97+002302.6         249.099908 ... 0.024021411956106725\n",
       "163655.01-010710.3          249.22921 ... 0.028822629032376233\n",
       "163751.97-004243.8         249.466542 ... 0.031758878343846025\n",
       "163754.52+003250.9         249.477193 ... 0.020592371416975584\n",
       "163826.79-010326.1          249.61165 ...  0.04066123417195129\n",
       "163838.99+001651.0         249.662496 ... 0.024421200685227375\n",
       "163904.70+005845.0         249.769618 ...  0.05430337127493963\n",
       "163925.56-004109.6         249.856513 ... 0.024245634436966285\n",
       "163946.55-002813.4         249.943986 ... 0.028461757207378664"
      ]
     },
     "execution_count": 17,
     "metadata": {},
     "output_type": "execute_result"
    }
   ],
   "source": [
    "Eboss_Stripe_table"
   ]
  },
  {
   "cell_type": "markdown",
   "id": "8c9a14b2",
   "metadata": {
    "papermill": {
     "duration": 0.014238,
     "end_time": "2023-11-29T16:15:52.659562",
     "exception": false,
     "start_time": "2023-11-29T16:15:52.645324",
     "status": "completed"
    },
    "tags": []
   },
   "source": [
    "Repeat process for prior fits for DesiQ fits.\n",
    "\n",
    "Now start exploring how to work directly with astropy tables:\n",
    "\n",
    "https://docs.astropy.org/en/stable/table/\n",
    "\n",
    "https://docs.astropy.org/en/stable/table/pandas.html\n",
    "\n",
    "Cannot convert so, will be working with tables over df as there are multi-dimensional columns. \n",
    "\"Cannot convert a table with multidimensional columns to a pandas DataFrame.\"\n"
   ]
  },
  {
   "cell_type": "code",
   "execution_count": 18,
   "id": "af3161c5",
   "metadata": {
    "execution": {
     "iopub.execute_input": "2023-11-29T16:15:52.690291Z",
     "iopub.status.busy": "2023-11-29T16:15:52.689763Z",
     "iopub.status.idle": "2023-11-29T16:15:53.792057Z",
     "shell.execute_reply": "2023-11-29T16:15:53.790554Z"
    },
    "papermill": {
     "duration": 1.121605,
     "end_time": "2023-11-29T16:15:53.795434",
     "exception": false,
     "start_time": "2023-11-29T16:15:52.673829",
     "status": "completed"
    },
    "tags": []
   },
   "outputs": [],
   "source": [
    "HudlDesiQ=fits.open(\"/kaggle/input/desi-early-data-release/QSO_cat_fuji_sv1_dark_bal_mask_v1.0.fits\")\n",
    "DesiQHeader=HudlDesiQ[1].header\n",
    "DesiQdata=HudlDesiQ[1].data\n",
    "DesiQCols=HudlDesiQ[1].columns\n",
    "DesiQ_table = Table(HudlDesiQ[1].data)  "
   ]
  },
  {
   "cell_type": "code",
   "execution_count": 19,
   "id": "e5a36646",
   "metadata": {
    "execution": {
     "iopub.execute_input": "2023-11-29T16:15:53.826137Z",
     "iopub.status.busy": "2023-11-29T16:15:53.825545Z",
     "iopub.status.idle": "2023-11-29T16:15:53.872884Z",
     "shell.execute_reply": "2023-11-29T16:15:53.871516Z"
    },
    "papermill": {
     "duration": 0.066112,
     "end_time": "2023-11-29T16:15:53.876036",
     "exception": false,
     "start_time": "2023-11-29T16:15:53.809924",
     "status": "completed"
    },
    "tags": []
   },
   "outputs": [
    {
     "data": {
      "text/html": [
       "<div><i>Table length=37903</i>\n",
       "<table id=\"table135837478237568\" class=\"table-striped table-bordered table-condensed\">\n",
       "<thead><tr><th>TARGETID</th><th>Z</th><th>ZERR</th><th>ZWARN</th><th>SPECTYPE</th><th>COADD_FIBERSTATUS</th><th>TARGET_RA</th><th>TARGET_DEC</th><th>MORPHTYPE</th><th>EBV</th><th>FLUX_G</th><th>FLUX_R</th><th>FLUX_Z</th><th>FLUX_W1</th><th>FLUX_W2</th><th>FLUX_IVAR_G</th><th>FLUX_IVAR_R</th><th>FLUX_IVAR_Z</th><th>FLUX_IVAR_W1</th><th>FLUX_IVAR_W2</th><th>MW_TRANSMISSION_G</th><th>MW_TRANSMISSION_R</th><th>MW_TRANSMISSION_Z</th><th>MW_TRANSMISSION_W1</th><th>MW_TRANSMISSION_W2</th><th>PROBA_RF</th><th>MASKBITS</th><th>SV1_DESI_TARGET</th><th>SV1_SCND_TARGET</th><th>DESI_TARGET</th><th>COADD_NUMEXP</th><th>COADD_EXPTIME</th><th>CMX_TARGET</th><th>SV2_DESI_TARGET</th><th>SV3_DESI_TARGET</th><th>SV2_SCND_TARGET</th><th>SV3_SCND_TARGET</th><th>SCND_TARGET</th><th>TSNR2_LYA</th><th>TSNR2_QSO</th><th>DELTA_CHI2_MGII</th><th>A_MGII</th><th>SIGMA_MGII</th><th>B_MGII</th><th>VAR_A_MGII</th><th>VAR_SIGMA_MGII</th><th>VAR_B_MGII</th><th>Z_RR</th><th>Z_QN</th><th>C_LYA</th><th>C_CIV</th><th>C_CIII</th><th>C_MgII</th><th>C_Hbeta</th><th>C_Halpha</th><th>Z_LYA</th><th>Z_CIV</th><th>Z_CIII</th><th>Z_MgII</th><th>Z_Hbeta</th><th>Z_Halpha</th><th>QSO_MASKBITS</th><th>HPXPIXEL</th><th>SURVEY</th><th>PROGRAM</th><th>PCA_COEFFS</th><th>PCA_CHI2</th><th>BAL_PROB</th><th>BI_CIV</th><th>ERR_BI_CIV</th><th>NCIV_2000</th><th>VMIN_CIV_2000</th><th>VMAX_CIV_2000</th><th>POSMIN_CIV_2000</th><th>FMIN_CIV_2000</th><th>AI_CIV</th><th>ERR_AI_CIV</th><th>NCIV_450</th><th>VMIN_CIV_450</th><th>VMAX_CIV_450</th><th>POSMIN_CIV_450</th><th>FMIN_CIV_450</th><th>BI_SIIV</th><th>ERR_BI_SIIV</th><th>NSIIV_2000</th><th>VMIN_SIIV_2000</th><th>VMAX_SIIV_2000</th><th>POSMIN_SIIV_2000</th><th>FMIN_SIIV_2000</th><th>AI_SIIV</th><th>ERR_AI_SIIV</th><th>NSIIV_450</th><th>VMIN_SIIV_450</th><th>VMAX_SIIV_450</th><th>POSMIN_SIIV_450</th><th>FMIN_SIIV_450</th><th>BALMASK</th><th>Z_MASK</th><th>ZERR_MASK</th><th>ZWARN_MASK</th><th>CHI2_MASK</th><th>DELTACHI2_MASK</th><th>SPECTYPE_MASK</th><th>SNR_CIV</th></tr></thead>\n",
       "<thead><tr><th>int64</th><th>float64</th><th>float64</th><th>int64</th><th>str6</th><th>int32</th><th>float64</th><th>float64</th><th>str4</th><th>float32</th><th>float32</th><th>float32</th><th>float32</th><th>float32</th><th>float32</th><th>float32</th><th>float32</th><th>float32</th><th>float32</th><th>float32</th><th>float64</th><th>float64</th><th>float64</th><th>float64</th><th>float64</th><th>float64</th><th>int16</th><th>int64</th><th>int64</th><th>int64</th><th>int16</th><th>float32</th><th>int64</th><th>int64</th><th>int64</th><th>int64</th><th>int64</th><th>int64</th><th>float32</th><th>float32</th><th>float32</th><th>float32</th><th>float32</th><th>float32</th><th>float32</th><th>float32</th><th>float32</th><th>float32</th><th>float32</th><th>float32</th><th>float32</th><th>float32</th><th>float32</th><th>float32</th><th>float32</th><th>float32</th><th>float32</th><th>float32</th><th>float32</th><th>float32</th><th>float32</th><th>int32</th><th>int64</th><th>str3</th><th>str4</th><th>float32[5]</th><th>float32</th><th>float32</th><th>float32</th><th>float32</th><th>int32</th><th>float32[5]</th><th>float32[5]</th><th>float32[5]</th><th>float32[5]</th><th>float32</th><th>float32</th><th>int32</th><th>float32[17]</th><th>float32[17]</th><th>float32[17]</th><th>float32[17]</th><th>float32</th><th>float32</th><th>int32</th><th>float32[5]</th><th>float32[5]</th><th>float32[5]</th><th>float32[5]</th><th>float32</th><th>float32</th><th>int32</th><th>float32[17]</th><th>float32[17]</th><th>float32[17]</th><th>float32[17]</th><th>uint8</th><th>float64</th><th>float64</th><th>int64</th><th>float64</th><th>float64</th><th>str6</th><th>float64</th></tr></thead>\n",
       "<tr><td>39628368194306382</td><td>0.8140676837556261</td><td>2.4708515411475673e-05</td><td>0</td><td>GALAXY</td><td>0</td><td>197.05185565318763</td><td>24.72539693824657</td><td>PSF</td><td>0.018278226</td><td>4.212872</td><td>5.5204306</td><td>7.968778</td><td>56.41304</td><td>71.5306</td><td>641.35986</td><td>288.39368</td><td>86.60178</td><td>2.5183556</td><td>0.61669296</td><td>0.9406437824442196</td><td>0.9406437824442196</td><td>0.9406437824442196</td><td>0.9406437824442196</td><td>0.9406437824442196</td><td>0.9962809027433396</td><td>768</td><td>4620978815911346007</td><td>131072</td><td>0</td><td>5</td><td>3735.5789</td><td>0</td><td>0</td><td>0</td><td>0</td><td>0</td><td>0</td><td>398.04037</td><td>162.13881</td><td>798.2196</td><td>0.68594104</td><td>51.28113</td><td>0.97744566</td><td>0.0036955306</td><td>40.5517</td><td>0.004181951</td><td>0.81397045</td><td>0.81250525</td><td>1.5951437e-05</td><td>1.4724984e-05</td><td>3.2260526e-05</td><td>0.9999999</td><td>0.99999976</td><td>4.8045945e-06</td><td>4.355075</td><td>4.3772316</td><td>0.9477634</td><td>0.81250525</td><td>0.8135503</td><td>-0.25143924</td><td>28</td><td>10282</td><td>sv1</td><td>dark</td><td>0.0 .. 0.0</td><td>0.0</td><td>-99.0</td><td>0.0</td><td>0.0</td><td>0</td><td>0.0 .. 0.0</td><td>0.0 .. 0.0</td><td>0.0 .. 0.0</td><td>0.0 .. 0.0</td><td>0.0</td><td>0.0</td><td>0</td><td>0.0 .. 0.0</td><td>0.0 .. 0.0</td><td>0.0 .. 0.0</td><td>0.0 .. 0.0</td><td>0.0</td><td>0.0</td><td>0</td><td>0.0 .. 0.0</td><td>0.0 .. 0.0</td><td>0.0 .. 0.0</td><td>0.0 .. 0.0</td><td>0.0</td><td>0.0</td><td>0</td><td>0.0 .. 0.0</td><td>0.0 .. 0.0</td><td>0.0 .. 0.0</td><td>0.0 .. 0.0</td><td>5</td><td>-1.0</td><td>-1.0</td><td>-1</td><td>-1.0</td><td>-1.0</td><td>-1</td><td>-1.0</td></tr>\n",
       "<tr><td>39628368194307737</td><td>1.2929035773170077</td><td>7.951630821317108e-05</td><td>0</td><td>QSO</td><td>0</td><td>197.12264856975852</td><td>24.677197913155375</td><td>PSF</td><td>0.021187862</td><td>2.6756825</td><td>4.290999</td><td>5.50415</td><td>9.259546</td><td>13.74744</td><td>1292.5627</td><td>417.89807</td><td>72.94945</td><td>3.4788496</td><td>0.7615722</td><td>0.9315257267727525</td><td>0.9315257267727525</td><td>0.9315257267727525</td><td>0.9315257267727525</td><td>0.9315257267727525</td><td>0.9926938264369964</td><td>0</td><td>4665729213955883012</td><td>34359869440</td><td>0</td><td>6</td><td>4035.6438</td><td>0</td><td>0</td><td>0</td><td>0</td><td>0</td><td>0</td><td>386.18692</td><td>160.3963</td><td>260.10394</td><td>0.64678776</td><td>41.64146</td><td>1.264349</td><td>0.00082744984</td><td>7.5426626</td><td>0.0006395382</td><td>1.2929035</td><td>1.2939914</td><td>0.00015168663</td><td>0.00045015922</td><td>0.9999906</td><td>0.99999905</td><td>0.00011424085</td><td>9.170406e-05</td><td>2.3687553</td><td>1.3252736</td><td>1.2940029</td><td>1.2939914</td><td>0.5852461</td><td>0.48824963</td><td>14</td><td>10282</td><td>sv1</td><td>dark</td><td>0.0 .. 0.0</td><td>0.0</td><td>-99.0</td><td>0.0</td><td>0.0</td><td>0</td><td>0.0 .. 0.0</td><td>0.0 .. 0.0</td><td>0.0 .. 0.0</td><td>0.0 .. 0.0</td><td>0.0</td><td>0.0</td><td>0</td><td>0.0 .. 0.0</td><td>0.0 .. 0.0</td><td>0.0 .. 0.0</td><td>0.0 .. 0.0</td><td>0.0</td><td>0.0</td><td>0</td><td>0.0 .. 0.0</td><td>0.0 .. 0.0</td><td>0.0 .. 0.0</td><td>0.0 .. 0.0</td><td>0.0</td><td>0.0</td><td>0</td><td>0.0 .. 0.0</td><td>0.0 .. 0.0</td><td>0.0 .. 0.0</td><td>0.0 .. 0.0</td><td>5</td><td>-1.0</td><td>-1.0</td><td>-1</td><td>-1.0</td><td>-1.0</td><td>-1</td><td>-1.0</td></tr>\n",
       "<tr><td>39628357184262231</td><td>0.8135438091215956</td><td>1.5672871326882497e-05</td><td>0</td><td>QSO</td><td>0</td><td>197.20380147240678</td><td>24.35077016605972</td><td>PSF</td><td>0.017858109</td><td>10.67686</td><td>12.232638</td><td>13.990282</td><td>18.791878</td><td>25.714027</td><td>340.31104</td><td>141.27417</td><td>46.01317</td><td>2.7972982</td><td>0.6816619</td><td>0.9419676772657593</td><td>0.9419676772657593</td><td>0.9419676772657593</td><td>0.9419676772657593</td><td>0.9419676772657593</td><td>0.9982012715339661</td><td>0</td><td>6971572223169576964</td><td>34359869440</td><td>0</td><td>6</td><td>4035.6438</td><td>0</td><td>0</td><td>0</td><td>0</td><td>0</td><td>0</td><td>348.1467</td><td>146.4321</td><td>1155.9159</td><td>3.0262625</td><td>12.303644</td><td>4.8029118</td><td>0.0077066594</td><td>0.1702219</td><td>0.0004896629</td><td>0.8135438</td><td>0.8173587</td><td>4.3181073e-05</td><td>9.325928e-05</td><td>0.00045707618</td><td>0.9999993</td><td>0.9999999</td><td>6.455496e-05</td><td>4.289906</td><td>4.248765</td><td>2.667304</td><td>0.8170264</td><td>0.8173587</td><td>-0.2528662</td><td>14</td><td>10282</td><td>sv1</td><td>dark</td><td>0.0 .. 0.0</td><td>0.0</td><td>-99.0</td><td>0.0</td><td>0.0</td><td>0</td><td>0.0 .. 0.0</td><td>0.0 .. 0.0</td><td>0.0 .. 0.0</td><td>0.0 .. 0.0</td><td>0.0</td><td>0.0</td><td>0</td><td>0.0 .. 0.0</td><td>0.0 .. 0.0</td><td>0.0 .. 0.0</td><td>0.0 .. 0.0</td><td>0.0</td><td>0.0</td><td>0</td><td>0.0 .. 0.0</td><td>0.0 .. 0.0</td><td>0.0 .. 0.0</td><td>0.0 .. 0.0</td><td>0.0</td><td>0.0</td><td>0</td><td>0.0 .. 0.0</td><td>0.0 .. 0.0</td><td>0.0 .. 0.0</td><td>0.0 .. 0.0</td><td>5</td><td>-1.0</td><td>-1.0</td><td>-1</td><td>-1.0</td><td>-1.0</td><td>-1</td><td>-1.0</td></tr>\n",
       "<tr><td>39628362695576550</td><td>0.9422133830831653</td><td>8.74290456715633e-05</td><td>0</td><td>QSO</td><td>0</td><td>197.14829144022963</td><td>24.56865475263675</td><td>PSF</td><td>0.017820641</td><td>0.95873076</td><td>1.420032</td><td>2.9646862</td><td>13.132362</td><td>4.7520885</td><td>1356.3818</td><td>480.88605</td><td>63.911995</td><td>3.1664374</td><td>0.76442736</td><td>0.9420858358344172</td><td>0.9420858358344172</td><td>0.9420858358344172</td><td>0.9420858358344172</td><td>0.9420858358344172</td><td>0.505694759150967</td><td>0</td><td>9011322423357190</td><td>0</td><td>0</td><td>6</td><td>4035.6438</td><td>0</td><td>0</td><td>0</td><td>0</td><td>0</td><td>0</td><td>618.3262</td><td>170.36618</td><td>37.919056</td><td>0.2961236</td><td>25.865198</td><td>0.49505526</td><td>0.0018500342</td><td>22.861387</td><td>0.00043128149</td><td>0.94221336</td><td>0.94878113</td><td>0.0035141907</td><td>0.0018679486</td><td>0.99956167</td><td>0.99968827</td><td>0.9989261</td><td>1.090346e-05</td><td>3.5030558</td><td>3.4536273</td><td>0.93882173</td><td>0.94878113</td><td>0.9461272</td><td>-0.082706496</td><td>14</td><td>10282</td><td>sv1</td><td>dark</td><td>0.0 .. 0.0</td><td>0.0</td><td>-99.0</td><td>0.0</td><td>0.0</td><td>0</td><td>0.0 .. 0.0</td><td>0.0 .. 0.0</td><td>0.0 .. 0.0</td><td>0.0 .. 0.0</td><td>0.0</td><td>0.0</td><td>0</td><td>0.0 .. 0.0</td><td>0.0 .. 0.0</td><td>0.0 .. 0.0</td><td>0.0 .. 0.0</td><td>0.0</td><td>0.0</td><td>0</td><td>0.0 .. 0.0</td><td>0.0 .. 0.0</td><td>0.0 .. 0.0</td><td>0.0 .. 0.0</td><td>0.0</td><td>0.0</td><td>0</td><td>0.0 .. 0.0</td><td>0.0 .. 0.0</td><td>0.0 .. 0.0</td><td>0.0 .. 0.0</td><td>5</td><td>-1.0</td><td>-1.0</td><td>-1</td><td>-1.0</td><td>-1.0</td><td>-1</td><td>-1.0</td></tr>\n",
       "<tr><td>39628368190116444</td><td>1.6409069675992565</td><td>0.00021919304399655947</td><td>0</td><td>QSO</td><td>0</td><td>197.00109823431288</td><td>24.66032672738624</td><td>PSF</td><td>0.018184515</td><td>1.4136646</td><td>1.8319082</td><td>2.519458</td><td>3.8480425</td><td>3.951792</td><td>1528.1095</td><td>366.21558</td><td>96.183365</td><td>3.8174903</td><td>0.8200599</td><td>0.9409389293341086</td><td>0.9409389293341086</td><td>0.9409389293341086</td><td>0.9409389293341086</td><td>0.9409389293341086</td><td>0.966326452627778</td><td>0</td><td>54044020162216710</td><td>0</td><td>0</td><td>6</td><td>4035.6438</td><td>0</td><td>0</td><td>0</td><td>0</td><td>0</td><td>0</td><td>660.66315</td><td>178.28696</td><td>21.223158</td><td>0.124089785</td><td>24.529495</td><td>0.3829324</td><td>0.0005878671</td><td>37.661903</td><td>0.00013564747</td><td>1.6409069</td><td>1.6483291</td><td>0.0006857977</td><td>0.9999983</td><td>0.9999989</td><td>0.999995</td><td>0.0011047213</td><td>0.0003636595</td><td>2.282556</td><td>1.6411955</td><td>1.6483291</td><td>1.6497874</td><td>0.2979616</td><td>0.25666577</td><td>14</td><td>10282</td><td>sv1</td><td>dark</td><td>26.846205 .. 0.839694</td><td>1.2286985</td><td>0.0</td><td>0.0</td><td>0.0</td><td>0</td><td>-1.0 .. -1.0</td><td>-1.0 .. -1.0</td><td>-1.0 .. -1.0</td><td>-1.0 .. -1.0</td><td>0.0</td><td>0.0</td><td>0</td><td>-1.0 .. -1.0</td><td>-1.0 .. -1.0</td><td>-1.0 .. -1.0</td><td>-1.0 .. -1.0</td><td>0.0</td><td>0.0</td><td>0</td><td>-1.0 .. -1.0</td><td>-1.0 .. -1.0</td><td>-1.0 .. -1.0</td><td>-1.0 .. -1.0</td><td>0.0</td><td>0.0</td><td>0</td><td>-1.0 .. -1.0</td><td>-1.0 .. -1.0</td><td>-1.0 .. -1.0</td><td>-1.0 .. -1.0</td><td>0</td><td>-1.0</td><td>-1.0</td><td>-1</td><td>-1.0</td><td>-1.0</td><td>-1</td><td>1.7761190564974738</td></tr>\n",
       "<tr><td>39628362695576213</td><td>1.2575804648362574</td><td>0.00015636319483336555</td><td>0</td><td>QSO</td><td>0</td><td>197.13340485280958</td><td>24.60784831379928</td><td>PSF</td><td>0.018701294</td><td>4.754353</td><td>6.518687</td><td>5.0220294</td><td>13.427239</td><td>18.577494</td><td>1018.86536</td><td>361.23877</td><td>82.47155</td><td>3.474163</td><td>0.7590202</td><td>0.9393124704066372</td><td>0.9393124704066372</td><td>0.9393124704066372</td><td>0.9393124704066372</td><td>0.9393124704066372</td><td>0.9970212118625641</td><td>0</td><td>4620974692658851844</td><td>131072</td><td>0</td><td>6</td><td>4035.6438</td><td>0</td><td>0</td><td>0</td><td>0</td><td>0</td><td>0</td><td>692.25684</td><td>185.57925</td><td>245.6405</td><td>0.67097425</td><td>40.533783</td><td>1.9398854</td><td>0.00068048923</td><td>5.1545725</td><td>0.00043555058</td><td>1.2575805</td><td>1.2620653</td><td>0.0003638638</td><td>0.0011699663</td><td>0.99999905</td><td>0.99999917</td><td>5.835759e-05</td><td>2.7408738e-05</td><td>4.199336</td><td>1.3252736</td><td>1.2623957</td><td>1.2620653</td><td>0.2625879</td><td>-0.24516317</td><td>14</td><td>10282</td><td>sv1</td><td>dark</td><td>0.0 .. 0.0</td><td>0.0</td><td>-99.0</td><td>0.0</td><td>0.0</td><td>0</td><td>0.0 .. 0.0</td><td>0.0 .. 0.0</td><td>0.0 .. 0.0</td><td>0.0 .. 0.0</td><td>0.0</td><td>0.0</td><td>0</td><td>0.0 .. 0.0</td><td>0.0 .. 0.0</td><td>0.0 .. 0.0</td><td>0.0 .. 0.0</td><td>0.0</td><td>0.0</td><td>0</td><td>0.0 .. 0.0</td><td>0.0 .. 0.0</td><td>0.0 .. 0.0</td><td>0.0 .. 0.0</td><td>0.0</td><td>0.0</td><td>0</td><td>0.0 .. 0.0</td><td>0.0 .. 0.0</td><td>0.0 .. 0.0</td><td>0.0 .. 0.0</td><td>5</td><td>-1.0</td><td>-1.0</td><td>-1</td><td>-1.0</td><td>-1.0</td><td>-1</td><td>-1.0</td></tr>\n",
       "<tr><td>39628362695576436</td><td>2.8416229272676015</td><td>0.00032908791013198203</td><td>0</td><td>QSO</td><td>0</td><td>197.14390063990936</td><td>24.52098352105162</td><td>PSF</td><td>0.01735756</td><td>2.3939388</td><td>3.1558244</td><td>3.0474098</td><td>3.3776402</td><td>6.646939</td><td>1261.5374</td><td>438.6839</td><td>85.196915</td><td>3.6998565</td><td>0.798743</td><td>0.943547462409841</td><td>0.943547462409841</td><td>0.943547462409841</td><td>0.943547462409841</td><td>0.943547462409841</td><td>0.9813056305646897</td><td>0</td><td>54043195528495108</td><td>0</td><td>0</td><td>6</td><td>4035.6438</td><td>0</td><td>0</td><td>0</td><td>0</td><td>0</td><td>0</td><td>647.7955</td><td>169.77591</td><td>nan</td><td>nan</td><td>nan</td><td>nan</td><td>nan</td><td>nan</td><td>nan</td><td>2.8416228</td><td>2.8446302</td><td>0.999997</td><td>0.99999416</td><td>0.9999999</td><td>7.459293e-05</td><td>1.4724725e-05</td><td>4.361528e-05</td><td>2.8442981</td><td>2.8439817</td><td>2.8446302</td><td>0.4838516</td><td>-0.094580084</td><td>0.034311153</td><td>10</td><td>10282</td><td>sv1</td><td>dark</td><td>35.26518 .. -0.19467184</td><td>1.2041646</td><td>0.0</td><td>0.0</td><td>0.0</td><td>0</td><td>-1.0 .. -1.0</td><td>-1.0 .. -1.0</td><td>-1.0 .. -1.0</td><td>-1.0 .. -1.0</td><td>0.0</td><td>0.0</td><td>0</td><td>-1.0 .. -1.0</td><td>-1.0 .. -1.0</td><td>-1.0 .. -1.0</td><td>-1.0 .. -1.0</td><td>0.0</td><td>0.0</td><td>0</td><td>-1.0 .. -1.0</td><td>-1.0 .. -1.0</td><td>-1.0 .. -1.0</td><td>-1.0 .. -1.0</td><td>0.0</td><td>0.0</td><td>0</td><td>-1.0 .. -1.0</td><td>-1.0 .. -1.0</td><td>-1.0 .. -1.0</td><td>-1.0 .. -1.0</td><td>0</td><td>-1.0</td><td>-1.0</td><td>-1</td><td>-1.0</td><td>-1.0</td><td>-1</td><td>3.568163194188528</td></tr>\n",
       "<tr><td>39628362691384025</td><td>2.241123990212007</td><td>0.00013619029778055847</td><td>0</td><td>GALAXY</td><td>0</td><td>196.9679519879933</td><td>24.56685640575941</td><td>PSF</td><td>0.018219369</td><td>3.9227269</td><td>5.548474</td><td>6.6379075</td><td>8.6862</td><td>11.593429</td><td>1343.1218</td><td>474.38766</td><td>106.84847</td><td>3.5014746</td><td>0.79002535</td><td>0.9408291455349964</td><td>0.9408291455349964</td><td>0.9408291455349964</td><td>0.9408291455349964</td><td>0.9408291455349964</td><td>0.9948333728313447</td><td>0</td><td>4665729213955883012</td><td>131072</td><td>0</td><td>6</td><td>4035.6438</td><td>0</td><td>0</td><td>0</td><td>0</td><td>0</td><td>0</td><td>644.00146</td><td>179.21617</td><td>4.543879</td><td>-2695.9287</td><td>7988.7046</td><td>2698.2803</td><td>-26377143000000.0</td><td>-57683927000000.0</td><td>-26377143000000.0</td><td>0.38234955</td><td>2.2411656</td><td>1.0</td><td>1.0</td><td>0.9999896</td><td>0.9999998</td><td>4.5593447e-06</td><td>3.392021e-06</td><td>2.2411656</td><td>2.240448</td><td>2.2410743</td><td>2.235775</td><td>0.7045512</td><td>-0.04391338</td><td>24</td><td>10282</td><td>sv1</td><td>dark</td><td>80.79744 .. 0.5062046</td><td>1.3529189</td><td>0.0</td><td>0.0</td><td>0.0</td><td>0</td><td>-1.0 .. -1.0</td><td>-1.0 .. -1.0</td><td>-1.0 .. -1.0</td><td>-1.0 .. -1.0</td><td>0.0</td><td>0.0</td><td>0</td><td>-1.0 .. -1.0</td><td>-1.0 .. -1.0</td><td>-1.0 .. -1.0</td><td>-1.0 .. -1.0</td><td>0.0</td><td>0.0</td><td>0</td><td>-1.0 .. -1.0</td><td>-1.0 .. -1.0</td><td>-1.0 .. -1.0</td><td>-1.0 .. -1.0</td><td>8.348205</td><td>2.2783027</td><td>1</td><td>12431.525 .. -1.0</td><td>12960.832 .. -1.0</td><td>12802.04 .. -1.0</td><td>0.28305736 .. -1.0</td><td>0</td><td>-1.0</td><td>-1.0</td><td>-1</td><td>-1.0</td><td>-1.0</td><td>-1</td><td>7.309981752273161</td></tr>\n",
       "<tr><td>39628362695576046</td><td>1.9008883872679947</td><td>0.00041020696042679266</td><td>0</td><td>QSO</td><td>0</td><td>197.1249809005645</td><td>24.466473767172683</td><td>PSF</td><td>0.017097117</td><td>1.9681394</td><td>2.448201</td><td>3.3704782</td><td>5.5169005</td><td>7.4130025</td><td>664.8442</td><td>341.41437</td><td>66.59336</td><td>3.4333324</td><td>0.7583655</td><td>0.9443704944888169</td><td>0.9443704944888169</td><td>0.9443704944888169</td><td>0.9443704944888169</td><td>0.9443704944888169</td><td>0.995995335817337</td><td>768</td><td>54047318697103110</td><td>0</td><td>0</td><td>5</td><td>3735.5789</td><td>0</td><td>0</td><td>0</td><td>0</td><td>0</td><td>0</td><td>654.17285</td><td>171.18396</td><td>277.4294</td><td>0.2851329</td><td>95.79709</td><td>0.64466196</td><td>0.048456144</td><td>2878.3008</td><td>0.051121004</td><td>1.9008884</td><td>1.9039629</td><td>4.616918e-05</td><td>0.999987</td><td>0.9999985</td><td>0.9999957</td><td>5.341343e-05</td><td>0.00018933642</td><td>3.4994721</td><td>1.90279</td><td>1.9039629</td><td>1.9052408</td><td>0.9609318</td><td>0.21196412</td><td>10</td><td>10282</td><td>sv1</td><td>dark</td><td>77.31241 .. 2.0424392</td><td>1.1612113</td><td>0.0</td><td>0.0</td><td>0.0</td><td>0</td><td>-1.0 .. -1.0</td><td>-1.0 .. -1.0</td><td>-1.0 .. -1.0</td><td>-1.0 .. -1.0</td><td>0.0</td><td>0.0</td><td>0</td><td>-1.0 .. -1.0</td><td>-1.0 .. -1.0</td><td>-1.0 .. -1.0</td><td>-1.0 .. -1.0</td><td>0.0</td><td>0.0</td><td>0</td><td>-1.0 .. -1.0</td><td>-1.0 .. -1.0</td><td>-1.0 .. -1.0</td><td>-1.0 .. -1.0</td><td>0.0</td><td>0.0</td><td>0</td><td>-1.0 .. -1.0</td><td>-1.0 .. -1.0</td><td>-1.0 .. -1.0</td><td>-1.0 .. -1.0</td><td>0</td><td>-1.0</td><td>-1.0</td><td>-1</td><td>-1.0</td><td>-1.0</td><td>-1</td><td>5.770498537288172</td></tr>\n",
       "<tr><td>39628368198500958</td><td>2.8737682616418354</td><td>0.0003963213065264614</td><td>0</td><td>QSO</td><td>0</td><td>197.3543040445033</td><td>24.70854692704085</td><td>PSF</td><td>0.016603509</td><td>0.7753115</td><td>1.078134</td><td>0.94954526</td><td>0.99991345</td><td>2.2617981</td><td>761.6638</td><td>128.2516</td><td>27.794256</td><td>3.9494672</td><td>0.85433364</td><td>0.9459323313378998</td><td>0.9459323313378998</td><td>0.9459323313378998</td><td>0.9459323313378998</td><td>0.9459323313378998</td><td>0.8243512066304683</td><td>256</td><td>36028797018996740</td><td>0</td><td>0</td><td>6</td><td>4035.6438</td><td>0</td><td>0</td><td>0</td><td>0</td><td>0</td><td>0</td><td>470.22546</td><td>139.7975</td><td>nan</td><td>nan</td><td>nan</td><td>nan</td><td>nan</td><td>nan</td><td>nan</td><td>2.8737683</td><td>2.8676348</td><td>0.99999607</td><td>0.999997</td><td>0.9999928</td><td>1.0872421e-05</td><td>1.25157285e-05</td><td>3.3050386e-05</td><td>2.8675168</td><td>2.8676348</td><td>2.8653617</td><td>1.2452846</td><td>-0.11137664</td><td>0.273469</td><td>10</td><td>10282</td><td>sv1</td><td>dark</td><td>11.835367 .. 0.16376917</td><td>1.1658344</td><td>0.0</td><td>0.0</td><td>0.0</td><td>0</td><td>-1.0 .. -1.0</td><td>-1.0 .. -1.0</td><td>-1.0 .. -1.0</td><td>-1.0 .. -1.0</td><td>0.0</td><td>0.0</td><td>0</td><td>-1.0 .. -1.0</td><td>-1.0 .. -1.0</td><td>-1.0 .. -1.0</td><td>-1.0 .. -1.0</td><td>0.0</td><td>0.0</td><td>0</td><td>-1.0 .. -1.0</td><td>-1.0 .. -1.0</td><td>-1.0 .. -1.0</td><td>-1.0 .. -1.0</td><td>0.0</td><td>0.0</td><td>0</td><td>-1.0 .. -1.0</td><td>-1.0 .. -1.0</td><td>-1.0 .. -1.0</td><td>-1.0 .. -1.0</td><td>0</td><td>-1.0</td><td>-1.0</td><td>-1</td><td>-1.0</td><td>-1.0</td><td>-1</td><td>1.1937901908295143</td></tr>\n",
       "<tr><td>...</td><td>...</td><td>...</td><td>...</td><td>...</td><td>...</td><td>...</td><td>...</td><td>...</td><td>...</td><td>...</td><td>...</td><td>...</td><td>...</td><td>...</td><td>...</td><td>...</td><td>...</td><td>...</td><td>...</td><td>...</td><td>...</td><td>...</td><td>...</td><td>...</td><td>...</td><td>...</td><td>...</td><td>...</td><td>...</td><td>...</td><td>...</td><td>...</td><td>...</td><td>...</td><td>...</td><td>...</td><td>...</td><td>...</td><td>...</td><td>...</td><td>...</td><td>...</td><td>...</td><td>...</td><td>...</td><td>...</td><td>...</td><td>...</td><td>...</td><td>...</td><td>...</td><td>...</td><td>...</td><td>...</td><td>...</td><td>...</td><td>...</td><td>...</td><td>...</td><td>...</td><td>...</td><td>...</td><td>...</td><td>...</td><td>...</td><td>...</td><td>...</td><td>...</td><td>...</td><td>...</td><td>...</td><td>...</td><td>...</td><td>...</td><td>...</td><td>...</td><td>...</td><td>...</td><td>...</td><td>...</td><td>...</td><td>...</td><td>...</td><td>...</td><td>...</td><td>...</td><td>...</td><td>...</td><td>...</td><td>...</td><td>...</td><td>...</td><td>...</td><td>...</td><td>...</td><td>...</td><td>...</td><td>...</td><td>...</td><td>...</td><td>...</td><td>...</td><td>...</td></tr>\n",
       "<tr><td>39632946558141324</td><td>0.8422217476523232</td><td>3.32646923197899e-05</td><td>0</td><td>GALAXY</td><td>0</td><td>236.48426634537697</td><td>33.151999733337284</td><td>PSF</td><td>0.030387385</td><td>2.227439</td><td>3.4300344</td><td>5.136829</td><td>9.903023</td><td>10.963805</td><td>502.3556</td><td>217.92966</td><td>92.769966</td><td>4.7913136</td><td>1.2052699</td><td>0.9014434207221648</td><td>0.9014434207221648</td><td>0.9014434207221648</td><td>0.9014434207221648</td><td>0.9014434207221648</td><td>0.9863443217277527</td><td>0</td><td>4611738794985570308</td><td>34359738368</td><td>0</td><td>2</td><td>1330.9135</td><td>0</td><td>0</td><td>0</td><td>0</td><td>0</td><td>0</td><td>186.1443</td><td>49.812485</td><td>71.86287</td><td>0.32202682</td><td>34.51051</td><td>0.81889826</td><td>0.00378951</td><td>83.239265</td><td>0.0017032562</td><td>0.8420561</td><td>0.8346158</td><td>3.894578e-05</td><td>2.3289915e-05</td><td>1.9469875e-05</td><td>0.9999998</td><td>0.9999987</td><td>2.062702e-05</td><td>2.9645312</td><td>3.3857057</td><td>2.7216575</td><td>0.8346158</td><td>0.8354477</td><td>0.37184507</td><td>28</td><td>9740</td><td>sv1</td><td>dark</td><td>0.0 .. 0.0</td><td>0.0</td><td>-99.0</td><td>0.0</td><td>0.0</td><td>0</td><td>0.0 .. 0.0</td><td>0.0 .. 0.0</td><td>0.0 .. 0.0</td><td>0.0 .. 0.0</td><td>0.0</td><td>0.0</td><td>0</td><td>0.0 .. 0.0</td><td>0.0 .. 0.0</td><td>0.0 .. 0.0</td><td>0.0 .. 0.0</td><td>0.0</td><td>0.0</td><td>0</td><td>0.0 .. 0.0</td><td>0.0 .. 0.0</td><td>0.0 .. 0.0</td><td>0.0 .. 0.0</td><td>0.0</td><td>0.0</td><td>0</td><td>0.0 .. 0.0</td><td>0.0 .. 0.0</td><td>0.0 .. 0.0</td><td>0.0 .. 0.0</td><td>5</td><td>-1.0</td><td>-1.0</td><td>-1</td><td>-1.0</td><td>-1.0</td><td>-1</td><td>-1.0</td></tr>\n",
       "<tr><td>39632941491424590</td><td>2.7608924645737827</td><td>0.00010019346138127694</td><td>0</td><td>QSO</td><td>0</td><td>236.4570404298305</td><td>33.082989269519786</td><td>PSF</td><td>0.032335196</td><td>16.492353</td><td>20.329159</td><td>21.315561</td><td>17.617918</td><td>27.235235</td><td>268.93845</td><td>125.39466</td><td>119.43788</td><td>3.5378158</td><td>0.96172035</td><td>0.8954679775939705</td><td>0.8954679775939705</td><td>0.8954679775939705</td><td>0.8954679775939705</td><td>0.8954679775939705</td><td>0.9904995042085648</td><td>0</td><td>6917581804199264260</td><td>34359869440</td><td>0</td><td>2</td><td>1330.9135</td><td>0</td><td>0</td><td>0</td><td>0</td><td>0</td><td>0</td><td>218.51544</td><td>60.887306</td><td>nan</td><td>nan</td><td>nan</td><td>nan</td><td>nan</td><td>nan</td><td>nan</td><td>2.7608924</td><td>2.7762709</td><td>0.9999953</td><td>0.9999997</td><td>0.99994135</td><td>1.8260159e-06</td><td>5.3625936e-06</td><td>5.204848e-07</td><td>2.779792</td><td>2.7762709</td><td>2.7731724</td><td>1.127313</td><td>0.6564088</td><td>-0.45145366</td><td>10</td><td>9740</td><td>sv1</td><td>dark</td><td>317.7229 .. 5.780993</td><td>1.5964351</td><td>0.0</td><td>0.0</td><td>0.0</td><td>0</td><td>-1.0 .. -1.0</td><td>-1.0 .. -1.0</td><td>-1.0 .. -1.0</td><td>-1.0 .. -1.0</td><td>0.0</td><td>0.0</td><td>0</td><td>-1.0 .. -1.0</td><td>-1.0 .. -1.0</td><td>-1.0 .. -1.0</td><td>-1.0 .. -1.0</td><td>0.0</td><td>0.0</td><td>0</td><td>-1.0 .. -1.0</td><td>-1.0 .. -1.0</td><td>-1.0 .. -1.0</td><td>-1.0 .. -1.0</td><td>0.0</td><td>0.0</td><td>0</td><td>-1.0 .. -1.0</td><td>-1.0 .. -1.0</td><td>-1.0 .. -1.0</td><td>-1.0 .. -1.0</td><td>0</td><td>-1.0</td><td>-1.0</td><td>-1</td><td>-1.0</td><td>-1.0</td><td>-1</td><td>14.74581977004204</td></tr>\n",
       "<tr><td>39632941487230482</td><td>0.7380089533650092</td><td>1.9685130265735016e-05</td><td>0</td><td>QSO</td><td>0</td><td>236.1776963886864</td><td>32.9970426493694</td><td>PSF</td><td>0.025730561</td><td>14.956168</td><td>14.788011</td><td>14.134697</td><td>63.772507</td><td>104.82415</td><td>150.80728</td><td>81.53626</td><td>93.56118</td><td>2.6641924</td><td>0.6835431</td><td>0.9158916253650717</td><td>0.9158916253650717</td><td>0.9158916253650717</td><td>0.9158916253650717</td><td>0.9158916253650717</td><td>0.9982035224437713</td><td>0</td><td>6917542221782724677</td><td>34359869440</td><td>0</td><td>2</td><td>1330.9135</td><td>0</td><td>0</td><td>0</td><td>0</td><td>0</td><td>0</td><td>257.95703</td><td>66.66353</td><td>933.0658</td><td>7.045832</td><td>19.69495</td><td>7.925668</td><td>0.017029999</td><td>0.17712413</td><td>0.0018216843</td><td>0.738009</td><td>0.7309713</td><td>4.7211786e-05</td><td>2.9732875e-05</td><td>4.4571025e-05</td><td>0.99999887</td><td>0.9999963</td><td>1.398477e-05</td><td>3.5166478</td><td>4.268749</td><td>2.3848932</td><td>0.7309713</td><td>0.7313909</td><td>-0.14986104</td><td>14</td><td>9740</td><td>sv1</td><td>dark</td><td>0.0 .. 0.0</td><td>0.0</td><td>-99.0</td><td>0.0</td><td>0.0</td><td>0</td><td>0.0 .. 0.0</td><td>0.0 .. 0.0</td><td>0.0 .. 0.0</td><td>0.0 .. 0.0</td><td>0.0</td><td>0.0</td><td>0</td><td>0.0 .. 0.0</td><td>0.0 .. 0.0</td><td>0.0 .. 0.0</td><td>0.0 .. 0.0</td><td>0.0</td><td>0.0</td><td>0</td><td>0.0 .. 0.0</td><td>0.0 .. 0.0</td><td>0.0 .. 0.0</td><td>0.0 .. 0.0</td><td>0.0</td><td>0.0</td><td>0</td><td>0.0 .. 0.0</td><td>0.0 .. 0.0</td><td>0.0 .. 0.0</td><td>0.0 .. 0.0</td><td>5</td><td>-1.0</td><td>-1.0</td><td>-1</td><td>-1.0</td><td>-1.0</td><td>-1</td><td>-1.0</td></tr>\n",
       "<tr><td>39632941491421801</td><td>0.7209196808500742</td><td>8.248697122326121e-05</td><td>0</td><td>GALAXY</td><td>0</td><td>236.26873695985773</td><td>33.11324459786534</td><td>DEV</td><td>0.030265963</td><td>1.8519799</td><td>3.6039085</td><td>8.5412655</td><td>23.875854</td><td>14.735887</td><td>291.81674</td><td>89.71057</td><td>48.604202</td><td>3.0557635</td><td>0.9553801</td><td>0.9018172338524607</td><td>0.9018172338524607</td><td>0.9018172338524607</td><td>0.9018172338524607</td><td>0.9018172338524607</td><td>0.38506837212818207</td><td>0</td><td>805307138</td><td>0</td><td>0</td><td>2</td><td>1479.9431</td><td>0</td><td>0</td><td>0</td><td>0</td><td>0</td><td>0</td><td>227.22148</td><td>64.09076</td><td>41.449966</td><td>0.32914585</td><td>14.470254</td><td>0.50005734</td><td>0.0055987635</td><td>15.729662</td><td>0.000507347</td><td>0.7201216</td><td>0.71844834</td><td>3.0848707e-05</td><td>8.709505e-05</td><td>0.00020296434</td><td>0.998228</td><td>0.9887308</td><td>4.268735e-06</td><td>2.233223</td><td>1.5876801</td><td>2.286886</td><td>0.71844834</td><td>0.7196059</td><td>-0.41107345</td><td>28</td><td>9740</td><td>sv1</td><td>dark</td><td>0.0 .. 0.0</td><td>0.0</td><td>-99.0</td><td>0.0</td><td>0.0</td><td>0</td><td>0.0 .. 0.0</td><td>0.0 .. 0.0</td><td>0.0 .. 0.0</td><td>0.0 .. 0.0</td><td>0.0</td><td>0.0</td><td>0</td><td>0.0 .. 0.0</td><td>0.0 .. 0.0</td><td>0.0 .. 0.0</td><td>0.0 .. 0.0</td><td>0.0</td><td>0.0</td><td>0</td><td>0.0 .. 0.0</td><td>0.0 .. 0.0</td><td>0.0 .. 0.0</td><td>0.0 .. 0.0</td><td>0.0</td><td>0.0</td><td>0</td><td>0.0 .. 0.0</td><td>0.0 .. 0.0</td><td>0.0 .. 0.0</td><td>0.0 .. 0.0</td><td>5</td><td>-1.0</td><td>-1.0</td><td>-1</td><td>-1.0</td><td>-1.0</td><td>-1</td><td>-1.0</td></tr>\n",
       "<tr><td>39632961653442311</td><td>0.7517393708550449</td><td>5.8132174145134685e-05</td><td>0</td><td>QSO</td><td>0</td><td>235.19985727052713</td><td>33.88346303812863</td><td>PSF</td><td>0.030639937</td><td>5.9876366</td><td>6.894952</td><td>10.400621</td><td>43.259228</td><td>54.724422</td><td>396.0097</td><td>129.55284</td><td>178.13066</td><td>3.3262715</td><td>0.9010953</td><td>0.9006664030856694</td><td>0.9006664030856694</td><td>0.9006664030856694</td><td>0.9006664030856694</td><td>0.9006664030856694</td><td>0.998141994357109</td><td>0</td><td>4611699216595566407</td><td>34359869440</td><td>0</td><td>2</td><td>1330.9135</td><td>0</td><td>0</td><td>0</td><td>0</td><td>0</td><td>0</td><td>90.20155</td><td>47.310883</td><td>91.32908</td><td>2.7721841</td><td>21.298437</td><td>3.9671113</td><td>0.008873672</td><td>0.7538435</td><td>0.0012650986</td><td>0.7517394</td><td>0.7480343</td><td>1.5664811e-05</td><td>1.8360155e-06</td><td>1.4610979e-05</td><td>1.0</td><td>0.9999911</td><td>3.124489e-06</td><td>2.3739524</td><td>2.1070862</td><td>2.427183</td><td>0.7480343</td><td>0.74927115</td><td>-0.34989092</td><td>14</td><td>9742</td><td>sv1</td><td>dark</td><td>0.0 .. 0.0</td><td>0.0</td><td>-99.0</td><td>0.0</td><td>0.0</td><td>0</td><td>0.0 .. 0.0</td><td>0.0 .. 0.0</td><td>0.0 .. 0.0</td><td>0.0 .. 0.0</td><td>0.0</td><td>0.0</td><td>0</td><td>0.0 .. 0.0</td><td>0.0 .. 0.0</td><td>0.0 .. 0.0</td><td>0.0 .. 0.0</td><td>0.0</td><td>0.0</td><td>0</td><td>0.0 .. 0.0</td><td>0.0 .. 0.0</td><td>0.0 .. 0.0</td><td>0.0 .. 0.0</td><td>0.0</td><td>0.0</td><td>0</td><td>0.0 .. 0.0</td><td>0.0 .. 0.0</td><td>0.0 .. 0.0</td><td>0.0 .. 0.0</td><td>5</td><td>-1.0</td><td>-1.0</td><td>-1</td><td>-1.0</td><td>-1.0</td><td>-1</td><td>-1.0</td></tr>\n",
       "<tr><td>39632956632859154</td><td>1.8232780003400706</td><td>0.0002463845010588346</td><td>0</td><td>QSO</td><td>0</td><td>235.23581320408854</td><td>33.861004492068716</td><td>PSF</td><td>0.031414505</td><td>4.2227426</td><td>4.3798876</td><td>5.6411104</td><td>6.260412</td><td>10.046813</td><td>468.36414</td><td>141.93591</td><td>115.173904</td><td>5.0767317</td><td>1.2376665</td><td>0.8982874955034948</td><td>0.8982874955034948</td><td>0.8982874955034948</td><td>0.8982874955034948</td><td>0.8982874955034948</td><td>0.998096580862999</td><td>0</td><td>4611738795790877446</td><td>131072</td><td>0</td><td>2</td><td>1330.9135</td><td>0</td><td>0</td><td>0</td><td>0</td><td>0</td><td>0</td><td>82.69431</td><td>44.269325</td><td>33.09443</td><td>0.35046592</td><td>-30.64789</td><td>0.82279515</td><td>0.0011702063</td><td>15.119863</td><td>0.0003671747</td><td>1.823278</td><td>1.8203642</td><td>1.6452508e-05</td><td>0.9999994</td><td>0.9999997</td><td>0.99242747</td><td>6.201299e-05</td><td>8.108018e-06</td><td>6.508115</td><td>1.8223851</td><td>1.8203642</td><td>1.8231443</td><td>0.63814586</td><td>0.19863926</td><td>14</td><td>9742</td><td>sv1</td><td>dark</td><td>75.46742 .. -1.2956402</td><td>0.88027394</td><td>0.0</td><td>0.0</td><td>0.0</td><td>0</td><td>-1.0 .. -1.0</td><td>-1.0 .. -1.0</td><td>-1.0 .. -1.0</td><td>-1.0 .. -1.0</td><td>0.0</td><td>0.0</td><td>0</td><td>-1.0 .. -1.0</td><td>-1.0 .. -1.0</td><td>-1.0 .. -1.0</td><td>-1.0 .. -1.0</td><td>0.0</td><td>0.0</td><td>0</td><td>-1.0 .. -1.0</td><td>-1.0 .. -1.0</td><td>-1.0 .. -1.0</td><td>-1.0 .. -1.0</td><td>0.0</td><td>0.0</td><td>0</td><td>-1.0 .. -1.0</td><td>-1.0 .. -1.0</td><td>-1.0 .. -1.0</td><td>-1.0 .. -1.0</td><td>0</td><td>-1.0</td><td>-1.0</td><td>-1</td><td>-1.0</td><td>-1.0</td><td>-1</td><td>2.1807782269321176</td></tr>\n",
       "<tr><td>39632961653442836</td><td>2.3972072307201966</td><td>0.00038121293208159113</td><td>0</td><td>QSO</td><td>0</td><td>235.2338228410259</td><td>33.93269218830903</td><td>PSF</td><td>0.030316485</td><td>0.80447966</td><td>0.709046</td><td>0.8178326</td><td>3.3629854</td><td>4.559155</td><td>675.1376</td><td>161.0168</td><td>109.752304</td><td>5.43413</td><td>1.3176693</td><td>0.9016616755493768</td><td>0.9016616755493768</td><td>0.9016616755493768</td><td>0.9016616755493768</td><td>0.9016616755493768</td><td>0.9765546711683273</td><td>0</td><td>79165642580742</td><td>0</td><td>0</td><td>2</td><td>1330.9135</td><td>0</td><td>0</td><td>0</td><td>0</td><td>0</td><td>0</td><td>92.85107</td><td>47.165104</td><td>13.642202</td><td>0.093354486</td><td>15.205394</td><td>0.16726403</td><td>0.0015919323</td><td>58.6598</td><td>0.000156854</td><td>2.3972073</td><td>2.4052627</td><td>0.9999899</td><td>0.9999986</td><td>0.99999326</td><td>0.99994993</td><td>7.341636e-05</td><td>1.2034296e-05</td><td>2.4057803</td><td>2.4052627</td><td>2.4050245</td><td>2.4027126</td><td>0.34467548</td><td>-0.14717558</td><td>10</td><td>9742</td><td>sv1</td><td>dark</td><td>10.877257 .. 0.055805214</td><td>0.8587565</td><td>0.0</td><td>0.0</td><td>0.0</td><td>0</td><td>-1.0 .. -1.0</td><td>-1.0 .. -1.0</td><td>-1.0 .. -1.0</td><td>-1.0 .. -1.0</td><td>0.0</td><td>0.0</td><td>0</td><td>-1.0 .. -1.0</td><td>-1.0 .. -1.0</td><td>-1.0 .. -1.0</td><td>-1.0 .. -1.0</td><td>0.0</td><td>0.0</td><td>0</td><td>-1.0 .. -1.0</td><td>-1.0 .. -1.0</td><td>-1.0 .. -1.0</td><td>-1.0 .. -1.0</td><td>0.0</td><td>0.0</td><td>0</td><td>-1.0 .. -1.0</td><td>-1.0 .. -1.0</td><td>-1.0 .. -1.0</td><td>-1.0 .. -1.0</td><td>0</td><td>-1.0</td><td>-1.0</td><td>-1</td><td>-1.0</td><td>-1.0</td><td>-1</td><td>0.8958167427394013</td></tr>\n",
       "<tr><td>39632956632860499</td><td>2.1274093358809685</td><td>0.00016616831305551013</td><td>0</td><td>QSO</td><td>0</td><td>235.32292920944394</td><td>33.81935069730626</td><td>PSF</td><td>0.033232953</td><td>2.7735558</td><td>2.5595965</td><td>4.6758966</td><td>7.2283044</td><td>10.1897335</td><td>544.67505</td><td>144.66028</td><td>89.92642</td><td>4.846533</td><td>1.2249382</td><td>0.8927272113684085</td><td>0.8927272113684085</td><td>0.8927272113684085</td><td>0.8927272113684085</td><td>0.8927272113684085</td><td>0.9961721034049987</td><td>0</td><td>52780584718086</td><td>0</td><td>0</td><td>2</td><td>1330.9135</td><td>0</td><td>0</td><td>0</td><td>0</td><td>0</td><td>0</td><td>95.01569</td><td>49.91925</td><td>243.08145</td><td>0.2963089</td><td>67.7511</td><td>0.7264595</td><td>0.007509654</td><td>408.79007</td><td>0.008842848</td><td>2.1274092</td><td>2.129774</td><td>0.99996424</td><td>0.99998945</td><td>0.9999992</td><td>0.99999464</td><td>0.00016854722</td><td>0.00029525795</td><td>2.1251059</td><td>2.1240642</td><td>2.129774</td><td>2.1318188</td><td>0.3701163</td><td>0.34121448</td><td>14</td><td>9742</td><td>sv1</td><td>dark</td><td>51.27755 .. 0.8383867</td><td>0.92173547</td><td>0.0</td><td>0.0</td><td>0.0</td><td>0</td><td>-1.0 .. -1.0</td><td>-1.0 .. -1.0</td><td>-1.0 .. -1.0</td><td>-1.0 .. -1.0</td><td>0.0</td><td>0.0</td><td>0</td><td>-1.0 .. -1.0</td><td>-1.0 .. -1.0</td><td>-1.0 .. -1.0</td><td>-1.0 .. -1.0</td><td>0.0</td><td>0.0</td><td>0</td><td>-1.0 .. -1.0</td><td>-1.0 .. -1.0</td><td>-1.0 .. -1.0</td><td>-1.0 .. -1.0</td><td>0.0</td><td>0.0</td><td>0</td><td>-1.0 .. -1.0</td><td>-1.0 .. -1.0</td><td>-1.0 .. -1.0</td><td>-1.0 .. -1.0</td><td>0</td><td>-1.0</td><td>-1.0</td><td>-1</td><td>-1.0</td><td>-1.0</td><td>-1</td><td>2.7146034173271225</td></tr>\n",
       "<tr><td>39632956632862141</td><td>3.4028747938877615</td><td>0.00014969474900105372</td><td>0</td><td>QSO</td><td>0</td><td>235.43962020889796</td><td>33.666588515389265</td><td>PSF</td><td>0.032058775</td><td>3.2324562</td><td>5.137053</td><td>5.30498</td><td>8.551906</td><td>9.655082</td><td>343.4933</td><td>173.82915</td><td>127.85509</td><td>4.9203444</td><td>1.2303624</td><td>0.8963135546148053</td><td>0.8963135546148053</td><td>0.8963135546148053</td><td>0.8963135546148053</td><td>0.8963135546148053</td><td>0.9926186378002166</td><td>0</td><td>4611738794985570308</td><td>34359871488</td><td>0</td><td>4</td><td>2810.8567</td><td>0</td><td>0</td><td>0</td><td>0</td><td>0</td><td>0</td><td>186.51503</td><td>93.91241</td><td>nan</td><td>nan</td><td>nan</td><td>nan</td><td>nan</td><td>nan</td><td>nan</td><td>3.4028747</td><td>3.4257007</td><td>0.99999833</td><td>0.99999094</td><td>0.9999864</td><td>4.8910533e-06</td><td>4.826569e-05</td><td>6.2835093e-06</td><td>3.4257007</td><td>3.434695</td><td>3.4002125</td><td>0.96653056</td><td>0.6825937</td><td>0.24329016</td><td>10</td><td>9742</td><td>sv1</td><td>dark</td><td>83.40603 .. 3.2759993</td><td>1.51667</td><td>0.0</td><td>0.0</td><td>0.0</td><td>0</td><td>-1.0 .. -1.0</td><td>-1.0 .. -1.0</td><td>-1.0 .. -1.0</td><td>-1.0 .. -1.0</td><td>0.0</td><td>0.0</td><td>0</td><td>-1.0 .. -1.0</td><td>-1.0 .. -1.0</td><td>-1.0 .. -1.0</td><td>-1.0 .. -1.0</td><td>0.0</td><td>0.0</td><td>0</td><td>-1.0 .. -1.0</td><td>-1.0 .. -1.0</td><td>-1.0 .. -1.0</td><td>-1.0 .. -1.0</td><td>0.0</td><td>0.0</td><td>0</td><td>-1.0 .. -1.0</td><td>-1.0 .. -1.0</td><td>-1.0 .. -1.0</td><td>-1.0 .. -1.0</td><td>0</td><td>-1.0</td><td>-1.0</td><td>-1</td><td>-1.0</td><td>-1.0</td><td>-1</td><td>9.148469873834715</td></tr>\n",
       "<tr><td>39632951599694086</td><td>1.3340598273710569</td><td>0.00016581394795189144</td><td>0</td><td>QSO</td><td>0</td><td>235.63283787141884</td><td>33.607722679080986</td><td>REX</td><td>0.034144633</td><td>1.3132595</td><td>1.8972349</td><td>3.1008184</td><td>15.976379</td><td>19.2028</td><td>516.6783</td><td>186.70007</td><td>130.33891</td><td>4.316336</td><td>1.1095128</td><td>0.8899525291259424</td><td>0.8899525291259424</td><td>0.8899525291259424</td><td>0.8899525291259424</td><td>0.8899525291259424</td><td>0.9739596136808395</td><td>0</td><td>8800119566086</td><td>0</td><td>0</td><td>2</td><td>1330.9135</td><td>0</td><td>0</td><td>0</td><td>0</td><td>0</td><td>0</td><td>139.98697</td><td>54.77113</td><td>59.32795</td><td>0.4275623</td><td>23.69006</td><td>0.46537468</td><td>0.0015732052</td><td>7.674694</td><td>0.00028558084</td><td>1.3340598</td><td>1.3345888</td><td>0.00026127763</td><td>0.99995667</td><td>0.9999914</td><td>0.99999964</td><td>3.102597e-05</td><td>7.422562e-06</td><td>2.5669477</td><td>1.3458259</td><td>1.3376753</td><td>1.3345888</td><td>0.44407034</td><td>0.31599367</td><td>14</td><td>9742</td><td>sv1</td><td>dark</td><td>0.0 .. 0.0</td><td>0.0</td><td>-99.0</td><td>0.0</td><td>0.0</td><td>0</td><td>0.0 .. 0.0</td><td>0.0 .. 0.0</td><td>0.0 .. 0.0</td><td>0.0 .. 0.0</td><td>0.0</td><td>0.0</td><td>0</td><td>0.0 .. 0.0</td><td>0.0 .. 0.0</td><td>0.0 .. 0.0</td><td>0.0 .. 0.0</td><td>0.0</td><td>0.0</td><td>0</td><td>0.0 .. 0.0</td><td>0.0 .. 0.0</td><td>0.0 .. 0.0</td><td>0.0 .. 0.0</td><td>0.0</td><td>0.0</td><td>0</td><td>0.0 .. 0.0</td><td>0.0 .. 0.0</td><td>0.0 .. 0.0</td><td>0.0 .. 0.0</td><td>5</td><td>-1.0</td><td>-1.0</td><td>-1</td><td>-1.0</td><td>-1.0</td><td>-1</td><td>1.2665051294345024</td></tr>\n",
       "</table></div>"
      ],
      "text/plain": [
       "<Table length=37903>\n",
       "     TARGETID             Z          ... SPECTYPE_MASK      SNR_CIV      \n",
       "      int64            float64       ...      str6          float64      \n",
       "----------------- ------------------ ... ------------- ------------------\n",
       "39628368194306382 0.8140676837556261 ...            -1               -1.0\n",
       "39628368194307737 1.2929035773170077 ...            -1               -1.0\n",
       "39628357184262231 0.8135438091215956 ...            -1               -1.0\n",
       "39628362695576550 0.9422133830831653 ...            -1               -1.0\n",
       "39628368190116444 1.6409069675992565 ...            -1 1.7761190564974738\n",
       "39628362695576213 1.2575804648362574 ...            -1               -1.0\n",
       "39628362695576436 2.8416229272676015 ...            -1  3.568163194188528\n",
       "39628362691384025  2.241123990212007 ...            -1  7.309981752273161\n",
       "39628362695576046 1.9008883872679947 ...            -1  5.770498537288172\n",
       "39628368198500958 2.8737682616418354 ...            -1 1.1937901908295143\n",
       "              ...                ... ...           ...                ...\n",
       "39632946558141324 0.8422217476523232 ...            -1               -1.0\n",
       "39632941491424590 2.7608924645737827 ...            -1  14.74581977004204\n",
       "39632941487230482 0.7380089533650092 ...            -1               -1.0\n",
       "39632941491421801 0.7209196808500742 ...            -1               -1.0\n",
       "39632961653442311 0.7517393708550449 ...            -1               -1.0\n",
       "39632956632859154 1.8232780003400706 ...            -1 2.1807782269321176\n",
       "39632961653442836 2.3972072307201966 ...            -1 0.8958167427394013\n",
       "39632956632860499 2.1274093358809685 ...            -1 2.7146034173271225\n",
       "39632956632862141 3.4028747938877615 ...            -1  9.148469873834715\n",
       "39632951599694086 1.3340598273710569 ...            -1 1.2665051294345024"
      ]
     },
     "execution_count": 19,
     "metadata": {},
     "output_type": "execute_result"
    }
   ],
   "source": [
    "DesiQ_table"
   ]
  },
  {
   "cell_type": "code",
   "execution_count": 20,
   "id": "5ee8af40",
   "metadata": {
    "execution": {
     "iopub.execute_input": "2023-11-29T16:15:53.906672Z",
     "iopub.status.busy": "2023-11-29T16:15:53.906183Z",
     "iopub.status.idle": "2023-11-29T16:15:53.927541Z",
     "shell.execute_reply": "2023-11-29T16:15:53.926077Z"
    },
    "papermill": {
     "duration": 0.040218,
     "end_time": "2023-11-29T16:15:53.930596",
     "exception": false,
     "start_time": "2023-11-29T16:15:53.890378",
     "status": "completed"
    },
    "tags": []
   },
   "outputs": [
    {
     "data": {
      "text/plain": [
       "<SkyCoord (ICRS): (ra, dec) in deg\n",
       "    [(197.05185565, 24.72539694), (197.12264857, 24.67719791),\n",
       "     (197.20380147, 24.35077017), ..., (235.32292921, 33.8193507 ),\n",
       "     (235.43962021, 33.66658852), (235.63283787, 33.60772268)]>"
      ]
     },
     "execution_count": 20,
     "metadata": {},
     "output_type": "execute_result"
    }
   ],
   "source": [
    "Desi_ra=DesiQ_table['TARGET_RA']*u.deg\n",
    "Desi_dec=DesiQ_table['TARGET_DEC']*u.deg\n",
    "Desi_Coords=SkyCoord(Desi_ra, Desi_dec, frame='icrs', unit='deg')\n",
    "Desi_Coords"
   ]
  },
  {
   "cell_type": "code",
   "execution_count": 21,
   "id": "b335781d",
   "metadata": {
    "execution": {
     "iopub.execute_input": "2023-11-29T16:15:53.963175Z",
     "iopub.status.busy": "2023-11-29T16:15:53.962725Z",
     "iopub.status.idle": "2023-11-29T16:15:54.006634Z",
     "shell.execute_reply": "2023-11-29T16:15:54.005049Z"
    },
    "papermill": {
     "duration": 0.064377,
     "end_time": "2023-11-29T16:15:54.010166",
     "exception": false,
     "start_time": "2023-11-29T16:15:53.945789",
     "status": "completed"
    },
    "tags": []
   },
   "outputs": [],
   "source": [
    "COMAP_point_one = SkyCoord(ra='01h41m44.4s', dec='00d00m00s')\n",
    "COMAP_point_two = SkyCoord(ra='11h20m00s', dec='52d30m00s')\n",
    "COMAP_point_three = SkyCoord(ra='15h04m00s', dec='55d00m00s')\n",
    "\n",
    "\n",
    "tol=1.5*u.deg\n",
    "\n",
    "Desi_sep_point_one=Desi_Coords.separation(COMAP_point_one)\n",
    "Desi_idx_one=np.where(Desi_sep_point_one < tol)[0]\n",
    "#field_one_df=DesiQ_table.iloc[Desi_idx_one]  #can't iloc a table w/o indeces \n",
    "\n",
    "Desi_sep_point_two=Desi_Coords.separation(COMAP_point_two)\n",
    "Desi_idx_two=np.where(Desi_sep_point_two<tol)[0]\n",
    "#field_two_df=DesiQ_table.iloc[Desi_idx_two]\n",
    "\n",
    "Desi_sep_point_three=Desi_Coords.separation(COMAP_point_three)\n",
    "Desi_idx_three=np.where(Desi_sep_point_three<tol)[0]\n",
    "#field_three_df=DesiQ_table.iloc[Desi_idx_three]\n",
    "\n",
    "\n",
    "#pd.concat (df1,df2,df3) combines several dataframes together) \n",
    "#combined_df=pd.concat((field_one_df,field_two_df,field_three_df))\n",
    "\n",
    "\n",
    "#there is no indeces because there is no data near these points "
   ]
  },
  {
   "cell_type": "code",
   "execution_count": 22,
   "id": "037649df",
   "metadata": {
    "execution": {
     "iopub.execute_input": "2023-11-29T16:15:54.043915Z",
     "iopub.status.busy": "2023-11-29T16:15:54.043478Z",
     "iopub.status.idle": "2023-11-29T16:15:54.059660Z",
     "shell.execute_reply": "2023-11-29T16:15:54.058416Z"
    },
    "papermill": {
     "duration": 0.036223,
     "end_time": "2023-11-29T16:15:54.062559",
     "exception": false,
     "start_time": "2023-11-29T16:15:54.026336",
     "status": "completed"
    },
    "tags": []
   },
   "outputs": [],
   "source": [
    "DesiQ_Stripe_table=DesiQ_table[(DesiQ_table['TARGET_RA']>60) & (DesiQ_table['TARGET_RA']<300)&(DesiQ_table['TARGET_DEC']>-1.26) & (DesiQ_table['TARGET_DEC']<1.26)  ]"
   ]
  },
  {
   "cell_type": "code",
   "execution_count": 23,
   "id": "6fa3a8a7",
   "metadata": {
    "execution": {
     "iopub.execute_input": "2023-11-29T16:15:54.095036Z",
     "iopub.status.busy": "2023-11-29T16:15:54.094537Z",
     "iopub.status.idle": "2023-11-29T16:15:54.140929Z",
     "shell.execute_reply": "2023-11-29T16:15:54.139579Z"
    },
    "papermill": {
     "duration": 0.066017,
     "end_time": "2023-11-29T16:15:54.143837",
     "exception": false,
     "start_time": "2023-11-29T16:15:54.077820",
     "status": "completed"
    },
    "tags": []
   },
   "outputs": [
    {
     "data": {
      "text/html": [
       "<div><i>Table length=729</i>\n",
       "<table id=\"table135837478235264\" class=\"table-striped table-bordered table-condensed\">\n",
       "<thead><tr><th>TARGETID</th><th>Z</th><th>ZERR</th><th>ZWARN</th><th>SPECTYPE</th><th>COADD_FIBERSTATUS</th><th>TARGET_RA</th><th>TARGET_DEC</th><th>MORPHTYPE</th><th>EBV</th><th>FLUX_G</th><th>FLUX_R</th><th>FLUX_Z</th><th>FLUX_W1</th><th>FLUX_W2</th><th>FLUX_IVAR_G</th><th>FLUX_IVAR_R</th><th>FLUX_IVAR_Z</th><th>FLUX_IVAR_W1</th><th>FLUX_IVAR_W2</th><th>MW_TRANSMISSION_G</th><th>MW_TRANSMISSION_R</th><th>MW_TRANSMISSION_Z</th><th>MW_TRANSMISSION_W1</th><th>MW_TRANSMISSION_W2</th><th>PROBA_RF</th><th>MASKBITS</th><th>SV1_DESI_TARGET</th><th>SV1_SCND_TARGET</th><th>DESI_TARGET</th><th>COADD_NUMEXP</th><th>COADD_EXPTIME</th><th>CMX_TARGET</th><th>SV2_DESI_TARGET</th><th>SV3_DESI_TARGET</th><th>SV2_SCND_TARGET</th><th>SV3_SCND_TARGET</th><th>SCND_TARGET</th><th>TSNR2_LYA</th><th>TSNR2_QSO</th><th>DELTA_CHI2_MGII</th><th>A_MGII</th><th>SIGMA_MGII</th><th>B_MGII</th><th>VAR_A_MGII</th><th>VAR_SIGMA_MGII</th><th>VAR_B_MGII</th><th>Z_RR</th><th>Z_QN</th><th>C_LYA</th><th>C_CIV</th><th>C_CIII</th><th>C_MgII</th><th>C_Hbeta</th><th>C_Halpha</th><th>Z_LYA</th><th>Z_CIV</th><th>Z_CIII</th><th>Z_MgII</th><th>Z_Hbeta</th><th>Z_Halpha</th><th>QSO_MASKBITS</th><th>HPXPIXEL</th><th>SURVEY</th><th>PROGRAM</th><th>PCA_COEFFS</th><th>PCA_CHI2</th><th>BAL_PROB</th><th>BI_CIV</th><th>ERR_BI_CIV</th><th>NCIV_2000</th><th>VMIN_CIV_2000</th><th>VMAX_CIV_2000</th><th>POSMIN_CIV_2000</th><th>FMIN_CIV_2000</th><th>AI_CIV</th><th>ERR_AI_CIV</th><th>NCIV_450</th><th>VMIN_CIV_450</th><th>VMAX_CIV_450</th><th>POSMIN_CIV_450</th><th>FMIN_CIV_450</th><th>BI_SIIV</th><th>ERR_BI_SIIV</th><th>NSIIV_2000</th><th>VMIN_SIIV_2000</th><th>VMAX_SIIV_2000</th><th>POSMIN_SIIV_2000</th><th>FMIN_SIIV_2000</th><th>AI_SIIV</th><th>ERR_AI_SIIV</th><th>NSIIV_450</th><th>VMIN_SIIV_450</th><th>VMAX_SIIV_450</th><th>POSMIN_SIIV_450</th><th>FMIN_SIIV_450</th><th>BALMASK</th><th>Z_MASK</th><th>ZERR_MASK</th><th>ZWARN_MASK</th><th>CHI2_MASK</th><th>DELTACHI2_MASK</th><th>SPECTYPE_MASK</th><th>SNR_CIV</th></tr></thead>\n",
       "<thead><tr><th>int64</th><th>float64</th><th>float64</th><th>int64</th><th>str6</th><th>int32</th><th>float64</th><th>float64</th><th>str4</th><th>float32</th><th>float32</th><th>float32</th><th>float32</th><th>float32</th><th>float32</th><th>float32</th><th>float32</th><th>float32</th><th>float32</th><th>float32</th><th>float64</th><th>float64</th><th>float64</th><th>float64</th><th>float64</th><th>float64</th><th>int16</th><th>int64</th><th>int64</th><th>int64</th><th>int16</th><th>float32</th><th>int64</th><th>int64</th><th>int64</th><th>int64</th><th>int64</th><th>int64</th><th>float32</th><th>float32</th><th>float32</th><th>float32</th><th>float32</th><th>float32</th><th>float32</th><th>float32</th><th>float32</th><th>float32</th><th>float32</th><th>float32</th><th>float32</th><th>float32</th><th>float32</th><th>float32</th><th>float32</th><th>float32</th><th>float32</th><th>float32</th><th>float32</th><th>float32</th><th>float32</th><th>int32</th><th>int64</th><th>str3</th><th>str4</th><th>float32[5]</th><th>float32</th><th>float32</th><th>float32</th><th>float32</th><th>int32</th><th>float32[5]</th><th>float32[5]</th><th>float32[5]</th><th>float32[5]</th><th>float32</th><th>float32</th><th>int32</th><th>float32[17]</th><th>float32[17]</th><th>float32[17]</th><th>float32[17]</th><th>float32</th><th>float32</th><th>int32</th><th>float32[5]</th><th>float32[5]</th><th>float32[5]</th><th>float32[5]</th><th>float32</th><th>float32</th><th>int32</th><th>float32[17]</th><th>float32[17]</th><th>float32[17]</th><th>float32[17]</th><th>uint8</th><th>float64</th><th>float64</th><th>int64</th><th>float64</th><th>float64</th><th>str6</th><th>float64</th></tr></thead>\n",
       "<tr><td>39627757553979562</td><td>3.3473258930612366</td><td>0.0006079804257994948</td><td>0</td><td>QSO</td><td>0</td><td>180.477381356013</td><td>-1.2560471879812354</td><td>PSF</td><td>0.032707036</td><td>0.3784335</td><td>0.526749</td><td>1.3491157</td><td>4.1901283</td><td>6.131824</td><td>1381.6519</td><td>526.4479</td><td>113.48783</td><td>2.87992</td><td>0.5698781</td><td>0.8962869359402937</td><td>0.8962869359402937</td><td>0.8962869359402937</td><td>0.8962869359402937</td><td>0.8962869359402937</td><td>0.9546677296459675</td><td>0</td><td>81067542071814662</td><td>0</td><td>0</td><td>9</td><td>8625.945</td><td>0</td><td>0</td><td>0</td><td>0</td><td>0</td><td>0</td><td>87.88573</td><td>39.02613</td><td>nan</td><td>nan</td><td>nan</td><td>nan</td><td>nan</td><td>nan</td><td>nan</td><td>3.3473258</td><td>3.3643382</td><td>0.5949329</td><td>0.96689993</td><td>0.99984884</td><td>4.650609e-05</td><td>7.416734e-05</td><td>2.1630467e-05</td><td>3.405621</td><td>3.402302</td><td>3.3643382</td><td>0.9820943</td><td>0.6691921</td><td>0.11268166</td><td>10</td><td>25597</td><td>sv1</td><td>dark</td><td>11.408395 .. 1.3115916</td><td>1.170979</td><td>0.0</td><td>0.0</td><td>0.0</td><td>0</td><td>-1.0 .. -1.0</td><td>-1.0 .. -1.0</td><td>-1.0 .. -1.0</td><td>-1.0 .. -1.0</td><td>0.0</td><td>0.0</td><td>0</td><td>-1.0 .. -1.0</td><td>-1.0 .. -1.0</td><td>-1.0 .. -1.0</td><td>-1.0 .. -1.0</td><td>0.0</td><td>0.0</td><td>0</td><td>-1.0 .. -1.0</td><td>-1.0 .. -1.0</td><td>-1.0 .. -1.0</td><td>-1.0 .. -1.0</td><td>0.0</td><td>0.0</td><td>0</td><td>-1.0 .. -1.0</td><td>-1.0 .. -1.0</td><td>-1.0 .. -1.0</td><td>-1.0 .. -1.0</td><td>0</td><td>-1.0</td><td>-1.0</td><td>-1</td><td>-1.0</td><td>-1.0</td><td>-1</td><td>1.011263550896888</td></tr>\n",
       "<tr><td>39627763597970732</td><td>2.740095790974837</td><td>0.0003183462759091094</td><td>0</td><td>QSO</td><td>0</td><td>180.66770457043717</td><td>-1.075045035606318</td><td>PSF</td><td>0.027093576</td><td>4.6405306</td><td>5.3597574</td><td>4.7559495</td><td>2.5267634</td><td>5.901338</td><td>869.94653</td><td>423.07077</td><td>106.73966</td><td>2.9610586</td><td>0.57953686</td><td>0.9132895843068041</td><td>0.9132895843068041</td><td>0.9132895843068041</td><td>0.9132895843068041</td><td>0.9132895843068041</td><td>0.9555427733212709</td><td>0</td><td>4665730038589604614</td><td>131072</td><td>0</td><td>9</td><td>8625.945</td><td>0</td><td>0</td><td>0</td><td>0</td><td>0</td><td>0</td><td>88.94731</td><td>39.118862</td><td>nan</td><td>nan</td><td>nan</td><td>nan</td><td>nan</td><td>nan</td><td>nan</td><td>2.7400959</td><td>2.7428563</td><td>0.916344</td><td>0.99999964</td><td>0.9999786</td><td>8.895868e-06</td><td>0.00018343233</td><td>9.073242e-06</td><td>2.7457187</td><td>2.7428563</td><td>2.741138</td><td>0.32448912</td><td>0.63964015</td><td>0.38744572</td><td>10</td><td>25597</td><td>sv1</td><td>dark</td><td>69.6537 .. -0.8241892</td><td>1.1731863</td><td>0.0</td><td>0.0</td><td>0.0</td><td>0</td><td>-1.0 .. -1.0</td><td>-1.0 .. -1.0</td><td>-1.0 .. -1.0</td><td>-1.0 .. -1.0</td><td>0.0</td><td>0.0</td><td>0</td><td>-1.0 .. -1.0</td><td>-1.0 .. -1.0</td><td>-1.0 .. -1.0</td><td>-1.0 .. -1.0</td><td>0.0</td><td>0.0</td><td>0</td><td>-1.0 .. -1.0</td><td>-1.0 .. -1.0</td><td>-1.0 .. -1.0</td><td>-1.0 .. -1.0</td><td>0.0</td><td>0.0</td><td>0</td><td>-1.0 .. -1.0</td><td>-1.0 .. -1.0</td><td>-1.0 .. -1.0</td><td>-1.0 .. -1.0</td><td>0</td><td>-1.0</td><td>-1.0</td><td>-1</td><td>-1.0</td><td>-1.0</td><td>-1</td><td>3.3826830271343167</td></tr>\n",
       "<tr><td>39627763597969444</td><td>1.558093569636883</td><td>0.00048341980039449657</td><td>0</td><td>QSO</td><td>0</td><td>180.6019287002398</td><td>-1.0511285936343662</td><td>PSF</td><td>0.02981736</td><td>0.38167828</td><td>0.9355023</td><td>0.9289112</td><td>9.115036</td><td>12.314728</td><td>1439.4053</td><td>419.81335</td><td>113.5854</td><td>2.7965398</td><td>0.5532837</td><td>0.9049995884326042</td><td>0.9049995884326042</td><td>0.9049995884326042</td><td>0.9049995884326042</td><td>0.9049995884326042</td><td>0.9571939390301705</td><td>0</td><td>4620974692658851844</td><td>34359738368</td><td>0</td><td>9</td><td>8625.945</td><td>0</td><td>0</td><td>0</td><td>0</td><td>0</td><td>0</td><td>68.050385</td><td>32.169365</td><td>8.541821</td><td>0.25391844</td><td>18.551352</td><td>0.44024917</td><td>0.0024050935</td><td>18.905594</td><td>0.00033759023</td><td>1.5580935</td><td>1.5191467</td><td>0.007185271</td><td>0.010599141</td><td>0.15785488</td><td>0.5088335</td><td>2.2092183e-05</td><td>5.4780544e-06</td><td>2.8917081</td><td>1.582458</td><td>1.5387074</td><td>1.5191467</td><td>0.2905451</td><td>0.4577166</td><td>2</td><td>25597</td><td>sv1</td><td>dark</td><td>0.0 .. 0.0</td><td>0.0</td><td>-99.0</td><td>0.0</td><td>0.0</td><td>0</td><td>0.0 .. 0.0</td><td>0.0 .. 0.0</td><td>0.0 .. 0.0</td><td>0.0 .. 0.0</td><td>0.0</td><td>0.0</td><td>0</td><td>0.0 .. 0.0</td><td>0.0 .. 0.0</td><td>0.0 .. 0.0</td><td>0.0 .. 0.0</td><td>0.0</td><td>0.0</td><td>0</td><td>0.0 .. 0.0</td><td>0.0 .. 0.0</td><td>0.0 .. 0.0</td><td>0.0 .. 0.0</td><td>0.0</td><td>0.0</td><td>0</td><td>0.0 .. 0.0</td><td>0.0 .. 0.0</td><td>0.0 .. 0.0</td><td>0.0 .. 0.0</td><td>5</td><td>-1.0</td><td>-1.0</td><td>-1</td><td>-1.0</td><td>-1.0</td><td>-1</td><td>0.565849519774512</td></tr>\n",
       "<tr><td>39627763597970259</td><td>1.613692965996875</td><td>0.00014847778594440222</td><td>0</td><td>QSO</td><td>0</td><td>180.64593215997135</td><td>-0.9543958526638044</td><td>PSF</td><td>0.027862972</td><td>7.139223</td><td>10.156679</td><td>12.5232935</td><td>19.782955</td><td>41.435013</td><td>1108.6993</td><td>383.40836</td><td>123.988754</td><td>2.6639357</td><td>0.52260286</td><td>0.9109402181593548</td><td>0.9109402181593548</td><td>0.9109402181593548</td><td>0.9109402181593548</td><td>0.9109402181593548</td><td>0.9961821764707566</td><td>0</td><td>6971572223169576964</td><td>34359869440</td><td>0</td><td>9</td><td>8625.945</td><td>0</td><td>0</td><td>0</td><td>0</td><td>0</td><td>0</td><td>99.232285</td><td>42.080048</td><td>382.1418</td><td>1.4005661</td><td>-40.038486</td><td>2.943077</td><td>0.0020177995</td><td>3.547691</td><td>0.0012473064</td><td>1.613693</td><td>1.614147</td><td>1.685325e-05</td><td>0.9999882</td><td>0.9999993</td><td>0.999992</td><td>2.8356799e-05</td><td>0.0003010116</td><td>3.821492</td><td>1.6093733</td><td>1.614147</td><td>1.6198783</td><td>0.1457545</td><td>0.4926969</td><td>14</td><td>25597</td><td>sv1</td><td>dark</td><td>215.81627 .. -5.268639</td><td>1.2649156</td><td>0.0</td><td>0.0</td><td>0.0</td><td>0</td><td>-1.0 .. -1.0</td><td>-1.0 .. -1.0</td><td>-1.0 .. -1.0</td><td>-1.0 .. -1.0</td><td>0.0</td><td>0.0</td><td>0</td><td>-1.0 .. -1.0</td><td>-1.0 .. -1.0</td><td>-1.0 .. -1.0</td><td>-1.0 .. -1.0</td><td>0.0</td><td>0.0</td><td>0</td><td>-1.0 .. -1.0</td><td>-1.0 .. -1.0</td><td>-1.0 .. -1.0</td><td>-1.0 .. -1.0</td><td>0.0</td><td>0.0</td><td>0</td><td>-1.0 .. -1.0</td><td>-1.0 .. -1.0</td><td>-1.0 .. -1.0</td><td>-1.0 .. -1.0</td><td>0</td><td>-1.0</td><td>-1.0</td><td>-1</td><td>-1.0</td><td>-1.0</td><td>-1</td><td>4.402325942860653</td></tr>\n",
       "<tr><td>39627763597972521</td><td>1.0135206491052793</td><td>0.00013061857197766186</td><td>0</td><td>QSO</td><td>0</td><td>180.74278702460154</td><td>-1.0766729845060994</td><td>PSF</td><td>0.024766123</td><td>4.1664953</td><td>6.815558</td><td>8.173013</td><td>33.89571</td><td>40.937977</td><td>895.4631</td><td>252.72556</td><td>100.89355</td><td>2.2956238</td><td>0.5165053</td><td>0.9204334676956868</td><td>0.9204334676956868</td><td>0.9204334676956868</td><td>0.9204334676956868</td><td>0.9204334676956868</td><td>0.9946194906234741</td><td>0</td><td>4620693217682137092</td><td>34359869440</td><td>0</td><td>9</td><td>8625.945</td><td>0</td><td>0</td><td>0</td><td>0</td><td>0</td><td>0</td><td>100.291885</td><td>42.860798</td><td>69.70885</td><td>1.622798</td><td>23.73144</td><td>2.4253912</td><td>0.010565575</td><td>3.3340845</td><td>0.0018501587</td><td>1.0135206</td><td>1.0032486</td><td>6.129301e-05</td><td>0.00013872168</td><td>0.9999991</td><td>0.9999997</td><td>0.9999997</td><td>9.242233e-05</td><td>2.395777</td><td>1.8903278</td><td>1.0030786</td><td>1.0038824</td><td>1.0032486</td><td>0.36108935</td><td>14</td><td>25597</td><td>sv1</td><td>dark</td><td>0.0 .. 0.0</td><td>0.0</td><td>-99.0</td><td>0.0</td><td>0.0</td><td>0</td><td>0.0 .. 0.0</td><td>0.0 .. 0.0</td><td>0.0 .. 0.0</td><td>0.0 .. 0.0</td><td>0.0</td><td>0.0</td><td>0</td><td>0.0 .. 0.0</td><td>0.0 .. 0.0</td><td>0.0 .. 0.0</td><td>0.0 .. 0.0</td><td>0.0</td><td>0.0</td><td>0</td><td>0.0 .. 0.0</td><td>0.0 .. 0.0</td><td>0.0 .. 0.0</td><td>0.0 .. 0.0</td><td>0.0</td><td>0.0</td><td>0</td><td>0.0 .. 0.0</td><td>0.0 .. 0.0</td><td>0.0 .. 0.0</td><td>0.0 .. 0.0</td><td>5</td><td>-1.0</td><td>-1.0</td><td>-1</td><td>-1.0</td><td>-1.0</td><td>-1</td><td>-1.0</td></tr>\n",
       "<tr><td>39627763602161707</td><td>1.3121458231100929</td><td>0.00018838987335631683</td><td>0</td><td>QSO</td><td>0</td><td>180.75042226852017</td><td>-1.0326608415687581</td><td>PSF</td><td>0.024911257</td><td>2.4731762</td><td>3.5603242</td><td>3.3471632</td><td>4.197269</td><td>5.247337</td><td>636.04736</td><td>221.76913</td><td>81.41191</td><td>2.8464503</td><td>0.58402646</td><td>0.9199863656634453</td><td>0.9199863656634453</td><td>0.9199863656634453</td><td>0.9199863656634453</td><td>0.9199863656634453</td><td>0.9803443615436553</td><td>0</td><td>54043195528495108</td><td>0</td><td>0</td><td>9</td><td>8625.945</td><td>0</td><td>0</td><td>0</td><td>0</td><td>0</td><td>0</td><td>106.26306</td><td>43.876774</td><td>8.105392</td><td>0.4140053</td><td>17.820826</td><td>0.90474874</td><td>0.002325461</td><td>6.1544304</td><td>0.00026739453</td><td>1.3121458</td><td>1.3113135</td><td>3.282799e-05</td><td>5.7858124e-05</td><td>0.99999756</td><td>0.9999849</td><td>4.3211283e-05</td><td>5.808652e-06</td><td>3.1590714</td><td>1.7882483</td><td>1.3113135</td><td>1.3106428</td><td>0.5857909</td><td>0.47426605</td><td>10</td><td>25597</td><td>sv1</td><td>dark</td><td>0.0 .. 0.0</td><td>0.0</td><td>-99.0</td><td>0.0</td><td>0.0</td><td>0</td><td>0.0 .. 0.0</td><td>0.0 .. 0.0</td><td>0.0 .. 0.0</td><td>0.0 .. 0.0</td><td>0.0</td><td>0.0</td><td>0</td><td>0.0 .. 0.0</td><td>0.0 .. 0.0</td><td>0.0 .. 0.0</td><td>0.0 .. 0.0</td><td>0.0</td><td>0.0</td><td>0</td><td>0.0 .. 0.0</td><td>0.0 .. 0.0</td><td>0.0 .. 0.0</td><td>0.0 .. 0.0</td><td>0.0</td><td>0.0</td><td>0</td><td>0.0 .. 0.0</td><td>0.0 .. 0.0</td><td>0.0 .. 0.0</td><td>0.0 .. 0.0</td><td>5</td><td>-1.0</td><td>-1.0</td><td>-1</td><td>-1.0</td><td>-1.0</td><td>-1</td><td>-1.0</td></tr>\n",
       "<tr><td>39627763597972246</td><td>1.4371074350506048</td><td>0.00015095578132556572</td><td>0</td><td>GALAXY</td><td>0</td><td>180.72887941675884</td><td>-0.945771032228049</td><td>EXP</td><td>0.02592594</td><td>0.69295686</td><td>0.99694616</td><td>1.9009885</td><td>10.638232</td><td>15.881696</td><td>1889.2263</td><td>563.43616</td><td>121.78787</td><td>2.7480483</td><td>0.5733677</td><td>0.9168665685803045</td><td>0.9168665685803045</td><td>0.9168665685803045</td><td>0.9168665685803045</td><td>0.9168665685803045</td><td>0.9635748864412308</td><td>0</td><td>9011322423357190</td><td>0</td><td>0</td><td>9</td><td>8625.945</td><td>0</td><td>0</td><td>0</td><td>0</td><td>0</td><td>0</td><td>100.51582</td><td>41.581963</td><td>25.57762</td><td>0.12762734</td><td>32.267467</td><td>0.23654419</td><td>0.0010761741</td><td>128.59686</td><td>0.0004198564</td><td>1.4371074</td><td>3.1996002</td><td>5.5409702e-05</td><td>2.4917696e-05</td><td>0.0020091985</td><td>6.140362e-06</td><td>0.00085673004</td><td>1.7920318e-05</td><td>3.1948533</td><td>3.4876506</td><td>3.1996002</td><td>0.5790244</td><td>0.58109653</td><td>0.36343235</td><td>4</td><td>25597</td><td>sv1</td><td>dark</td><td>0.0 .. 0.0</td><td>0.0</td><td>-99.0</td><td>0.0</td><td>0.0</td><td>0</td><td>0.0 .. 0.0</td><td>0.0 .. 0.0</td><td>0.0 .. 0.0</td><td>0.0 .. 0.0</td><td>0.0</td><td>0.0</td><td>0</td><td>0.0 .. 0.0</td><td>0.0 .. 0.0</td><td>0.0 .. 0.0</td><td>0.0 .. 0.0</td><td>0.0</td><td>0.0</td><td>0</td><td>0.0 .. 0.0</td><td>0.0 .. 0.0</td><td>0.0 .. 0.0</td><td>0.0 .. 0.0</td><td>0.0</td><td>0.0</td><td>0</td><td>0.0 .. 0.0</td><td>0.0 .. 0.0</td><td>0.0 .. 0.0</td><td>0.0 .. 0.0</td><td>5</td><td>-1.0</td><td>-1.0</td><td>-1</td><td>-1.0</td><td>-1.0</td><td>-1</td><td>0.5439328547859432</td></tr>\n",
       "<tr><td>39627763597972230</td><td>3.0193302445166403</td><td>0.0002960919325472093</td><td>0</td><td>QSO</td><td>0</td><td>180.72833114270017</td><td>-0.9768408482814239</td><td>PSF</td><td>0.025934488</td><td>3.596888</td><td>4.350063</td><td>4.536742</td><td>7.1571445</td><td>6.063631</td><td>1279.3528</td><td>431.36353</td><td>67.06984</td><td>2.8625143</td><td>0.5838926</td><td>0.916840332441</td><td>0.916840332441</td><td>0.916840332441</td><td>0.916840332441</td><td>0.916840332441</td><td>0.9928898669481278</td><td>0</td><td>4665730038589604614</td><td>131072</td><td>0</td><td>9</td><td>8625.945</td><td>0</td><td>0</td><td>0</td><td>0</td><td>0</td><td>0</td><td>106.40733</td><td>44.47287</td><td>nan</td><td>nan</td><td>nan</td><td>nan</td><td>nan</td><td>nan</td><td>nan</td><td>3.0193303</td><td>3.022777</td><td>0.99999905</td><td>0.9063414</td><td>0.99999976</td><td>8.942762e-06</td><td>3.1054933e-05</td><td>6.387423e-06</td><td>3.0292645</td><td>3.029271</td><td>3.022777</td><td>2.1759038</td><td>0.72740775</td><td>-0.1659255</td><td>10</td><td>25597</td><td>sv1</td><td>dark</td><td>67.64319 .. 5.1131496</td><td>1.3820039</td><td>0.0</td><td>0.0</td><td>0.0</td><td>0</td><td>-1.0 .. -1.0</td><td>-1.0 .. -1.0</td><td>-1.0 .. -1.0</td><td>-1.0 .. -1.0</td><td>0.0</td><td>0.0</td><td>0</td><td>-1.0 .. -1.0</td><td>-1.0 .. -1.0</td><td>-1.0 .. -1.0</td><td>-1.0 .. -1.0</td><td>0.0</td><td>0.0</td><td>0</td><td>-1.0 .. -1.0</td><td>-1.0 .. -1.0</td><td>-1.0 .. -1.0</td><td>-1.0 .. -1.0</td><td>0.0</td><td>0.0</td><td>0</td><td>-1.0 .. -1.0</td><td>-1.0 .. -1.0</td><td>-1.0 .. -1.0</td><td>-1.0 .. -1.0</td><td>0</td><td>-1.0</td><td>-1.0</td><td>-1</td><td>-1.0</td><td>-1.0</td><td>-1</td><td>5.372861186141128</td></tr>\n",
       "<tr><td>39627763597968759</td><td>1.211495838673686</td><td>0.00017600105988748688</td><td>0</td><td>QSO</td><td>0</td><td>180.56825162603067</td><td>-0.9894834058440677</td><td>PSF</td><td>0.02842882</td><td>6.3177795</td><td>8.0675125</td><td>6.516778</td><td>27.885868</td><td>33.696117</td><td>743.0446</td><td>329.5392</td><td>66.09817</td><td>2.5099907</td><td>0.5470771</td><td>0.9092162423901519</td><td>0.9092162423901519</td><td>0.9092162423901519</td><td>0.9092162423901519</td><td>0.9092162423901519</td><td>0.9976055660247802</td><td>0</td><td>4620974692658851844</td><td>34359869440</td><td>0</td><td>9</td><td>8625.945</td><td>0</td><td>0</td><td>0</td><td>0</td><td>0</td><td>0</td><td>76.214005</td><td>33.86684</td><td>-5.3847775</td><td>0.8861001</td><td>-38.21097</td><td>2.386882</td><td>0.0037510116</td><td>14.598774</td><td>0.0023075014</td><td>1.2114959</td><td>1.1837718</td><td>0.00011269901</td><td>6.740093e-05</td><td>0.323883</td><td>0.99845177</td><td>2.6432103e-06</td><td>3.7621853e-06</td><td>2.9445586</td><td>3.8722737</td><td>1.186553</td><td>1.1837718</td><td>0.37653038</td><td>-0.4196598</td><td>10</td><td>25597</td><td>sv1</td><td>dark</td><td>0.0 .. 0.0</td><td>0.0</td><td>-99.0</td><td>0.0</td><td>0.0</td><td>0</td><td>0.0 .. 0.0</td><td>0.0 .. 0.0</td><td>0.0 .. 0.0</td><td>0.0 .. 0.0</td><td>0.0</td><td>0.0</td><td>0</td><td>0.0 .. 0.0</td><td>0.0 .. 0.0</td><td>0.0 .. 0.0</td><td>0.0 .. 0.0</td><td>0.0</td><td>0.0</td><td>0</td><td>0.0 .. 0.0</td><td>0.0 .. 0.0</td><td>0.0 .. 0.0</td><td>0.0 .. 0.0</td><td>0.0</td><td>0.0</td><td>0</td><td>0.0 .. 0.0</td><td>0.0 .. 0.0</td><td>0.0 .. 0.0</td><td>0.0 .. 0.0</td><td>5</td><td>-1.0</td><td>-1.0</td><td>-1</td><td>-1.0</td><td>-1.0</td><td>-1</td><td>-1.0</td></tr>\n",
       "<tr><td>39627763597971711</td><td>1.4393413006023053</td><td>0.00018607493174486005</td><td>0</td><td>QSO</td><td>0</td><td>180.7051832331509</td><td>-1.0521356764075314</td><td>PSF</td><td>0.026198776</td><td>2.7063923</td><td>3.5637057</td><td>5.03792</td><td>9.093262</td><td>9.812918</td><td>1043.7612</td><td>456.1286</td><td>73.009674</td><td>2.9304042</td><td>0.6007532</td><td>0.9160294978398072</td><td>0.9160294978398072</td><td>0.9160294978398072</td><td>0.9160294978398072</td><td>0.9160294978398072</td><td>0.9914509885311127</td><td>0</td><td>54044020162216710</td><td>0</td><td>0</td><td>9</td><td>8625.945</td><td>0</td><td>0</td><td>0</td><td>0</td><td>0</td><td>0</td><td>102.5241</td><td>42.623943</td><td>83.55603</td><td>0.41348168</td><td>23.807503</td><td>1.1062995</td><td>0.0017609451</td><td>8.8221445</td><td>0.00031727157</td><td>1.4393413</td><td>1.4296849</td><td>1.2852814e-05</td><td>0.99999875</td><td>0.9999991</td><td>0.9999973</td><td>0.00025802682</td><td>2.6431399e-05</td><td>2.9507174</td><td>1.4283695</td><td>1.4296849</td><td>1.4330263</td><td>0.6789267</td><td>-0.3525872</td><td>14</td><td>25597</td><td>sv1</td><td>dark</td><td>0.0 .. 0.0</td><td>0.0</td><td>-99.0</td><td>0.0</td><td>0.0</td><td>0</td><td>0.0 .. 0.0</td><td>0.0 .. 0.0</td><td>0.0 .. 0.0</td><td>0.0 .. 0.0</td><td>0.0</td><td>0.0</td><td>0</td><td>0.0 .. 0.0</td><td>0.0 .. 0.0</td><td>0.0 .. 0.0</td><td>0.0 .. 0.0</td><td>0.0</td><td>0.0</td><td>0</td><td>0.0 .. 0.0</td><td>0.0 .. 0.0</td><td>0.0 .. 0.0</td><td>0.0 .. 0.0</td><td>0.0</td><td>0.0</td><td>0</td><td>0.0 .. 0.0</td><td>0.0 .. 0.0</td><td>0.0 .. 0.0</td><td>0.0 .. 0.0</td><td>5</td><td>-1.0</td><td>-1.0</td><td>-1</td><td>-1.0</td><td>-1.0</td><td>-1</td><td>1.4265504165432004</td></tr>\n",
       "<tr><td>...</td><td>...</td><td>...</td><td>...</td><td>...</td><td>...</td><td>...</td><td>...</td><td>...</td><td>...</td><td>...</td><td>...</td><td>...</td><td>...</td><td>...</td><td>...</td><td>...</td><td>...</td><td>...</td><td>...</td><td>...</td><td>...</td><td>...</td><td>...</td><td>...</td><td>...</td><td>...</td><td>...</td><td>...</td><td>...</td><td>...</td><td>...</td><td>...</td><td>...</td><td>...</td><td>...</td><td>...</td><td>...</td><td>...</td><td>...</td><td>...</td><td>...</td><td>...</td><td>...</td><td>...</td><td>...</td><td>...</td><td>...</td><td>...</td><td>...</td><td>...</td><td>...</td><td>...</td><td>...</td><td>...</td><td>...</td><td>...</td><td>...</td><td>...</td><td>...</td><td>...</td><td>...</td><td>...</td><td>...</td><td>...</td><td>...</td><td>...</td><td>...</td><td>...</td><td>...</td><td>...</td><td>...</td><td>...</td><td>...</td><td>...</td><td>...</td><td>...</td><td>...</td><td>...</td><td>...</td><td>...</td><td>...</td><td>...</td><td>...</td><td>...</td><td>...</td><td>...</td><td>...</td><td>...</td><td>...</td><td>...</td><td>...</td><td>...</td><td>...</td><td>...</td><td>...</td><td>...</td><td>...</td><td>...</td><td>...</td><td>...</td><td>...</td><td>...</td><td>...</td></tr>\n",
       "<tr><td>39627805876556639</td><td>1.7849116596995425</td><td>0.0002794164074804276</td><td>0</td><td>QSO</td><td>0</td><td>180.69399762592045</td><td>0.7778577361414292</td><td>PSF</td><td>0.023103565</td><td>1.6541181</td><td>2.1044066</td><td>2.733194</td><td>5.8315625</td><td>12.4822645</td><td>1964.415</td><td>490.80447</td><td>155.73279</td><td>2.9209297</td><td>0.5923368</td><td>0.925570711472026</td><td>0.925570711472026</td><td>0.925570711472026</td><td>0.925570711472026</td><td>0.925570711472026</td><td>0.9904989652633667</td><td>0</td><td>9289498865185542</td><td>0</td><td>0</td><td>9</td><td>8625.945</td><td>0</td><td>0</td><td>0</td><td>0</td><td>0</td><td>0</td><td>133.92288</td><td>48.51283</td><td>4.4515767</td><td>0.30421835</td><td>-41.099316</td><td>0.5982085</td><td>0.001054322</td><td>43.14199</td><td>0.00076203415</td><td>1.7849116</td><td>1.7777743</td><td>1.1930464e-05</td><td>0.9999969</td><td>0.99998486</td><td>0.99999964</td><td>7.1678023e-06</td><td>4.435551e-06</td><td>2.5544858</td><td>1.7827879</td><td>1.7755954</td><td>1.7777743</td><td>0.87652665</td><td>-0.28649837</td><td>10</td><td>27649</td><td>sv1</td><td>dark</td><td>65.42632 .. 0.7434861</td><td>1.065284</td><td>0.0</td><td>0.0</td><td>0.0</td><td>0</td><td>-1.0 .. -1.0</td><td>-1.0 .. -1.0</td><td>-1.0 .. -1.0</td><td>-1.0 .. -1.0</td><td>0.0</td><td>0.0</td><td>0</td><td>-1.0 .. -1.0</td><td>-1.0 .. -1.0</td><td>-1.0 .. -1.0</td><td>-1.0 .. -1.0</td><td>0.0</td><td>0.0</td><td>0</td><td>-1.0 .. -1.0</td><td>-1.0 .. -1.0</td><td>-1.0 .. -1.0</td><td>-1.0 .. -1.0</td><td>0.0</td><td>0.0</td><td>0</td><td>-1.0 .. -1.0</td><td>-1.0 .. -1.0</td><td>-1.0 .. -1.0</td><td>-1.0 .. -1.0</td><td>0</td><td>-1.0</td><td>-1.0</td><td>-1</td><td>-1.0</td><td>-1.0</td><td>-1</td><td>2.247061446641644</td></tr>\n",
       "<tr><td>39627805880747523</td><td>2.660174502914148</td><td>0.0004148283867656525</td><td>0</td><td>QSO</td><td>0</td><td>180.8081416789793</td><td>0.7091587779735277</td><td>PSF</td><td>0.024194144</td><td>0.5474709</td><td>0.72884613</td><td>1.1081007</td><td>1.7697607</td><td>4.362849</td><td>2351.3816</td><td>545.4896</td><td>176.78702</td><td>2.8170843</td><td>0.55872595</td><td>0.9221976372959906</td><td>0.9221976372959906</td><td>0.9221976372959906</td><td>0.9221976372959906</td><td>0.9221976372959906</td><td>0.8656227924525738</td><td>0</td><td>108090514225598214</td><td>0</td><td>0</td><td>9</td><td>8625.945</td><td>0</td><td>0</td><td>0</td><td>0</td><td>0</td><td>0</td><td>133.62094</td><td>48.697613</td><td>nan</td><td>nan</td><td>nan</td><td>nan</td><td>nan</td><td>nan</td><td>nan</td><td>2.6601746</td><td>2.6779404</td><td>0.99999744</td><td>0.9999985</td><td>0.9999997</td><td>6.4936403e-06</td><td>3.917413e-05</td><td>2.238483e-05</td><td>2.673702</td><td>2.6712372</td><td>2.6779404</td><td>1.7871181</td><td>0.3721793</td><td>-0.358021</td><td>10</td><td>27649</td><td>sv1</td><td>dark</td><td>12.769249 .. -1.0838879</td><td>1.0672461</td><td>0.0</td><td>0.0</td><td>0.0</td><td>0</td><td>-1.0 .. -1.0</td><td>-1.0 .. -1.0</td><td>-1.0 .. -1.0</td><td>-1.0 .. -1.0</td><td>0.0</td><td>0.0</td><td>0</td><td>-1.0 .. -1.0</td><td>-1.0 .. -1.0</td><td>-1.0 .. -1.0</td><td>-1.0 .. -1.0</td><td>0.0</td><td>0.0</td><td>0</td><td>-1.0 .. -1.0</td><td>-1.0 .. -1.0</td><td>-1.0 .. -1.0</td><td>-1.0 .. -1.0</td><td>0.0</td><td>0.0</td><td>0</td><td>-1.0 .. -1.0</td><td>-1.0 .. -1.0</td><td>-1.0 .. -1.0</td><td>-1.0 .. -1.0</td><td>0</td><td>-1.0</td><td>-1.0</td><td>-1</td><td>-1.0</td><td>-1.0</td><td>-1</td><td>1.07704735898276</td></tr>\n",
       "<tr><td>39627811912156257</td><td>0.923912613386332</td><td>0.00012204344031776612</td><td>0</td><td>QSO</td><td>0</td><td>180.32126451745322</td><td>0.9937684671112085</td><td>PSF</td><td>0.020382827</td><td>0.62884974</td><td>0.78678364</td><td>1.1694685</td><td>3.0459116</td><td>2.723874</td><td>1346.9266</td><td>447.98242</td><td>118.80955</td><td>2.9971845</td><td>0.62101644</td><td>0.9340396205153034</td><td>0.9340396205153034</td><td>0.9340396205153034</td><td>0.9340396205153034</td><td>0.9340396205153034</td><td>0.9810419291257858</td><td>0</td><td>81068916461350662</td><td>0</td><td>0</td><td>9</td><td>8625.945</td><td>0</td><td>0</td><td>0</td><td>0</td><td>0</td><td>0</td><td>111.88327</td><td>43.08763</td><td>21.611902</td><td>0.45338434</td><td>-6.447482</td><td>0.42028043</td><td>0.0135797</td><td>3.811443</td><td>0.00047863065</td><td>0.9239126</td><td>0.93992877</td><td>2.3402758e-05</td><td>8.6538304e-05</td><td>0.32622826</td><td>0.009898271</td><td>0.024528157</td><td>1.3271837e-05</td><td>2.6380014</td><td>2.009493</td><td>0.93992877</td><td>0.93533295</td><td>0.93743783</td><td>0.38426515</td><td>2</td><td>27649</td><td>sv1</td><td>dark</td><td>0.0 .. 0.0</td><td>0.0</td><td>-99.0</td><td>0.0</td><td>0.0</td><td>0</td><td>0.0 .. 0.0</td><td>0.0 .. 0.0</td><td>0.0 .. 0.0</td><td>0.0 .. 0.0</td><td>0.0</td><td>0.0</td><td>0</td><td>0.0 .. 0.0</td><td>0.0 .. 0.0</td><td>0.0 .. 0.0</td><td>0.0 .. 0.0</td><td>0.0</td><td>0.0</td><td>0</td><td>0.0 .. 0.0</td><td>0.0 .. 0.0</td><td>0.0 .. 0.0</td><td>0.0 .. 0.0</td><td>0.0</td><td>0.0</td><td>0</td><td>0.0 .. 0.0</td><td>0.0 .. 0.0</td><td>0.0 .. 0.0</td><td>0.0 .. 0.0</td><td>5</td><td>-1.0</td><td>-1.0</td><td>-1</td><td>-1.0</td><td>-1.0</td><td>-1</td><td>-1.0</td></tr>\n",
       "<tr><td>39627811912157927</td><td>3.857457147447174</td><td>0.0001375396617312244</td><td>0</td><td>QSO</td><td>0</td><td>180.41067743134175</td><td>1.0600712707825124</td><td>PSF</td><td>0.021454372</td><td>3.8972285</td><td>10.133302</td><td>11.83333</td><td>15.37136</td><td>12.03498</td><td>804.4673</td><td>165.76381</td><td>85.240364</td><td>2.6915905</td><td>0.5716566</td><td>0.930694986925885</td><td>0.930694986925885</td><td>0.930694986925885</td><td>0.930694986925885</td><td>0.930694986925885</td><td>0.987904137969017</td><td>0</td><td>2359886204742189060</td><td>0</td><td>0</td><td>9</td><td>8625.945</td><td>0</td><td>0</td><td>0</td><td>0</td><td>0</td><td>0</td><td>105.81053</td><td>40.81433</td><td>nan</td><td>nan</td><td>nan</td><td>nan</td><td>nan</td><td>nan</td><td>nan</td><td>3.8574572</td><td>3.8591826</td><td>0.9999999</td><td>1.0</td><td>0.999986</td><td>1.2193657e-05</td><td>1.2609975e-05</td><td>4.514374e-06</td><td>3.8498652</td><td>3.8591826</td><td>3.857034</td><td>2.1962295</td><td>0.5288318</td><td>-0.1821554</td><td>10</td><td>27649</td><td>sv1</td><td>dark</td><td>106.80039 .. 0.701408</td><td>1.3058225</td><td>0.0</td><td>0.0</td><td>0.0</td><td>0</td><td>-1.0 .. -1.0</td><td>-1.0 .. -1.0</td><td>-1.0 .. -1.0</td><td>-1.0 .. -1.0</td><td>0.0</td><td>0.0</td><td>0</td><td>-1.0 .. -1.0</td><td>-1.0 .. -1.0</td><td>-1.0 .. -1.0</td><td>-1.0 .. -1.0</td><td>0.0</td><td>0.0</td><td>0</td><td>-1.0 .. -1.0</td><td>-1.0 .. -1.0</td><td>-1.0 .. -1.0</td><td>-1.0 .. -1.0</td><td>0.0</td><td>0.0</td><td>0</td><td>-1.0 .. -1.0</td><td>-1.0 .. -1.0</td><td>-1.0 .. -1.0</td><td>-1.0 .. -1.0</td><td>0</td><td>-1.0</td><td>-1.0</td><td>-1</td><td>-1.0</td><td>-1.0</td><td>-1</td><td>9.265016916825424</td></tr>\n",
       "<tr><td>39627811912158157</td><td>1.1823075100431326</td><td>0.00014707032847313843</td><td>0</td><td>QSO</td><td>0</td><td>180.42272130274847</td><td>1.019672621535164</td><td>PSF</td><td>0.020890327</td><td>5.1760373</td><td>6.2878017</td><td>6.322817</td><td>11.326883</td><td>22.376339</td><td>922.6234</td><td>304.57104</td><td>110.66815</td><td>2.5663438</td><td>0.54349154</td><td>0.9324540545701842</td><td>0.9324540545701842</td><td>0.9324540545701842</td><td>0.9324540545701842</td><td>0.9324540545701842</td><td>0.9982021014690399</td><td>2048</td><td>4620975517292573446</td><td>34359869440</td><td>0</td><td>9</td><td>8625.945</td><td>0</td><td>0</td><td>0</td><td>0</td><td>0</td><td>0</td><td>118.204506</td><td>43.991867</td><td>38.879086</td><td>0.6932314</td><td>-38.575645</td><td>1.8141942</td><td>0.0030586603</td><td>19.488232</td><td>0.0018291065</td><td>1.1823075</td><td>1.1845007</td><td>1.2141419e-05</td><td>3.1612087e-06</td><td>0.9999999</td><td>0.9999996</td><td>1.73218e-05</td><td>6.535202e-07</td><td>7.085756</td><td>2.3247955</td><td>1.1845007</td><td>1.1819451</td><td>0.3708294</td><td>0.15397897</td><td>14</td><td>27649</td><td>sv1</td><td>dark</td><td>0.0 .. 0.0</td><td>0.0</td><td>-99.0</td><td>0.0</td><td>0.0</td><td>0</td><td>0.0 .. 0.0</td><td>0.0 .. 0.0</td><td>0.0 .. 0.0</td><td>0.0 .. 0.0</td><td>0.0</td><td>0.0</td><td>0</td><td>0.0 .. 0.0</td><td>0.0 .. 0.0</td><td>0.0 .. 0.0</td><td>0.0 .. 0.0</td><td>0.0</td><td>0.0</td><td>0</td><td>0.0 .. 0.0</td><td>0.0 .. 0.0</td><td>0.0 .. 0.0</td><td>0.0 .. 0.0</td><td>0.0</td><td>0.0</td><td>0</td><td>0.0 .. 0.0</td><td>0.0 .. 0.0</td><td>0.0 .. 0.0</td><td>0.0 .. 0.0</td><td>5</td><td>-1.0</td><td>-1.0</td><td>-1</td><td>-1.0</td><td>-1.0</td><td>-1</td><td>-1.0</td></tr>\n",
       "<tr><td>39627811912156933</td><td>1.3801214434206295</td><td>0.00030262531883072316</td><td>0</td><td>QSO</td><td>0</td><td>180.35817347024556</td><td>0.9733497145360158</td><td>PSF</td><td>0.0197429</td><td>0.9115801</td><td>1.710426</td><td>2.973615</td><td>16.916958</td><td>20.246698</td><td>1069.5631</td><td>284.5512</td><td>66.37009</td><td>2.7049468</td><td>0.5758541</td><td>0.9360427664535761</td><td>0.9360427664535761</td><td>0.9360427664535761</td><td>0.9360427664535761</td><td>0.9360427664535761</td><td>0.9495583441257477</td><td>0</td><td>4620974692658851844</td><td>2097152</td><td>0</td><td>9</td><td>8625.945</td><td>0</td><td>0</td><td>0</td><td>0</td><td>0</td><td>0</td><td>118.50682</td><td>43.640175</td><td>100.52615</td><td>221.78986</td><td>5631.2144</td><td>-221.21793</td><td>876618500000.0</td><td>144234430000000.0</td><td>876618500000.0</td><td>1.3801215</td><td>1.359173</td><td>0.0019722148</td><td>0.7887901</td><td>0.6047818</td><td>0.99834913</td><td>5.8518985e-06</td><td>2.051389e-05</td><td>2.621086</td><td>1.4006786</td><td>1.3616164</td><td>1.359173</td><td>0.4292478</td><td>0.30833545</td><td>10</td><td>27649</td><td>sv1</td><td>dark</td><td>0.0 .. 0.0</td><td>0.0</td><td>-99.0</td><td>0.0</td><td>0.0</td><td>0</td><td>0.0 .. 0.0</td><td>0.0 .. 0.0</td><td>0.0 .. 0.0</td><td>0.0 .. 0.0</td><td>0.0</td><td>0.0</td><td>0</td><td>0.0 .. 0.0</td><td>0.0 .. 0.0</td><td>0.0 .. 0.0</td><td>0.0 .. 0.0</td><td>0.0</td><td>0.0</td><td>0</td><td>0.0 .. 0.0</td><td>0.0 .. 0.0</td><td>0.0 .. 0.0</td><td>0.0 .. 0.0</td><td>0.0</td><td>0.0</td><td>0</td><td>0.0 .. 0.0</td><td>0.0 .. 0.0</td><td>0.0 .. 0.0</td><td>0.0 .. 0.0</td><td>5</td><td>-1.0</td><td>-1.0</td><td>-1</td><td>-1.0</td><td>-1.0</td><td>-1</td><td>0.5826250481495366</td></tr>\n",
       "<tr><td>39627805880749756</td><td>0.5812115418531152</td><td>0.00017558679272489062</td><td>4</td><td>QSO</td><td>0</td><td>180.90912942325852</td><td>0.7942198692180471</td><td>REX</td><td>0.02239574</td><td>0.383325</td><td>1.1038135</td><td>4.579236</td><td>22.26298</td><td>12.075168</td><td>1423.7365</td><td>337.64148</td><td>65.86611</td><td>2.5280797</td><td>0.59274274</td><td>0.9277665599847219</td><td>0.9277665599847219</td><td>0.9277665599847219</td><td>0.9277665599847219</td><td>0.9277665599847219</td><td>0.01263415791522857</td><td>0</td><td>4611686018494496833</td><td>1048576</td><td>0</td><td>9</td><td>8625.945</td><td>0</td><td>0</td><td>0</td><td>0</td><td>0</td><td>0</td><td>111.31452</td><td>45.51255</td><td>4.228241</td><td>76.48752</td><td>2996.9775</td><td>-76.36744</td><td>1253640900000.0</td><td>506169040000000.0</td><td>1253640900000.0</td><td>0.58121157</td><td>2.3134508</td><td>1.1296674e-05</td><td>0.0011886072</td><td>2.3206942e-06</td><td>5.931172e-05</td><td>1.0716452e-06</td><td>3.004886e-08</td><td>2.2955046</td><td>2.3134508</td><td>1.6459934</td><td>1.6665975</td><td>0.7094661</td><td>-0.41493553</td><td>2</td><td>27649</td><td>sv1</td><td>dark</td><td>0.0 .. 0.0</td><td>0.0</td><td>-99.0</td><td>0.0</td><td>0.0</td><td>0</td><td>0.0 .. 0.0</td><td>0.0 .. 0.0</td><td>0.0 .. 0.0</td><td>0.0 .. 0.0</td><td>0.0</td><td>0.0</td><td>0</td><td>0.0 .. 0.0</td><td>0.0 .. 0.0</td><td>0.0 .. 0.0</td><td>0.0 .. 0.0</td><td>0.0</td><td>0.0</td><td>0</td><td>0.0 .. 0.0</td><td>0.0 .. 0.0</td><td>0.0 .. 0.0</td><td>0.0 .. 0.0</td><td>0.0</td><td>0.0</td><td>0</td><td>0.0 .. 0.0</td><td>0.0 .. 0.0</td><td>0.0 .. 0.0</td><td>0.0 .. 0.0</td><td>5</td><td>-1.0</td><td>-1.0</td><td>-1</td><td>-1.0</td><td>-1.0</td><td>-1</td><td>-1.0</td></tr>\n",
       "<tr><td>39627805880748370</td><td>2.296786766451817</td><td>0.0003570530971046537</td><td>0</td><td>GALAXY</td><td>0</td><td>180.84301674790842</td><td>0.7747305581962934</td><td>PSF</td><td>0.02273819</td><td>0.7023263</td><td>1.3009644</td><td>2.218703</td><td>6.3017044</td><td>8.302519</td><td>1999.8795</td><td>507.01382</td><td>121.36569</td><td>2.8532352</td><td>0.6105791</td><td>0.9267035432576369</td><td>0.9267035432576369</td><td>0.9267035432576369</td><td>0.9267035432576369</td><td>0.9267035432576369</td><td>0.7991805018819869</td><td>0</td><td>9288674231463940</td><td>0</td><td>0</td><td>9</td><td>8625.945</td><td>0</td><td>0</td><td>0</td><td>0</td><td>0</td><td>0</td><td>110.02675</td><td>44.75011</td><td>28.047901</td><td>0.1711653</td><td>30.48896</td><td>0.43122506</td><td>0.0020490806</td><td>107.676056</td><td>0.00058613264</td><td>1.2468716</td><td>2.2931592</td><td>0.99853706</td><td>0.84984297</td><td>0.995251</td><td>0.0036840704</td><td>7.055253e-05</td><td>7.380878e-05</td><td>2.2931592</td><td>2.288949</td><td>2.2837896</td><td>1.2449191</td><td>0.691312</td><td>0.47635475</td><td>28</td><td>27649</td><td>sv1</td><td>dark</td><td>20.503815 .. 0.77144295</td><td>1.095347</td><td>0.0</td><td>0.0</td><td>0.0</td><td>0</td><td>-1.0 .. -1.0</td><td>-1.0 .. -1.0</td><td>-1.0 .. -1.0</td><td>-1.0 .. -1.0</td><td>0.0</td><td>0.0</td><td>0</td><td>-1.0 .. -1.0</td><td>-1.0 .. -1.0</td><td>-1.0 .. -1.0</td><td>-1.0 .. -1.0</td><td>0.0</td><td>0.0</td><td>0</td><td>-1.0 .. -1.0</td><td>-1.0 .. -1.0</td><td>-1.0 .. -1.0</td><td>-1.0 .. -1.0</td><td>0.0</td><td>0.0</td><td>0</td><td>-1.0 .. -1.0</td><td>-1.0 .. -1.0</td><td>-1.0 .. -1.0</td><td>-1.0 .. -1.0</td><td>0</td><td>-1.0</td><td>-1.0</td><td>-1</td><td>-1.0</td><td>-1.0</td><td>-1</td><td>1.1198224262815926</td></tr>\n",
       "<tr><td>39627805880748763</td><td>0.979043850443031</td><td>6.474682389492988e-05</td><td>0</td><td>QSO</td><td>0</td><td>180.8622183341586</td><td>0.813652894181664</td><td>PSF</td><td>0.020942839</td><td>6.0571284</td><td>7.2454877</td><td>9.509787</td><td>31.792456</td><td>33.625248</td><td>786.92255</td><td>255.63837</td><td>109.60051</td><td>2.475284</td><td>0.55091834</td><td>0.9322901477208396</td><td>0.9322901477208396</td><td>0.9322901477208396</td><td>0.9322901477208396</td><td>0.9322901477208396</td><td>0.9981401687860489</td><td>0</td><td>4620975517292573446</td><td>131072</td><td>0</td><td>9</td><td>8625.945</td><td>0</td><td>0</td><td>0</td><td>0</td><td>0</td><td>0</td><td>118.28458</td><td>46.653553</td><td>244.01204</td><td>2.1781495</td><td>26.943045</td><td>2.668653</td><td>0.0054333634</td><td>1.39446</td><td>0.0012617634</td><td>0.97904384</td><td>0.9858515</td><td>3.3039587e-06</td><td>0.00018780222</td><td>0.99996126</td><td>0.99999774</td><td>0.9999831</td><td>1.1478707e-05</td><td>2.5405152</td><td>1.391414</td><td>0.9889106</td><td>0.9858515</td><td>0.98687065</td><td>0.36038753</td><td>14</td><td>27649</td><td>sv1</td><td>dark</td><td>0.0 .. 0.0</td><td>0.0</td><td>-99.0</td><td>0.0</td><td>0.0</td><td>0</td><td>0.0 .. 0.0</td><td>0.0 .. 0.0</td><td>0.0 .. 0.0</td><td>0.0 .. 0.0</td><td>0.0</td><td>0.0</td><td>0</td><td>0.0 .. 0.0</td><td>0.0 .. 0.0</td><td>0.0 .. 0.0</td><td>0.0 .. 0.0</td><td>0.0</td><td>0.0</td><td>0</td><td>0.0 .. 0.0</td><td>0.0 .. 0.0</td><td>0.0 .. 0.0</td><td>0.0 .. 0.0</td><td>0.0</td><td>0.0</td><td>0</td><td>0.0 .. 0.0</td><td>0.0 .. 0.0</td><td>0.0 .. 0.0</td><td>0.0 .. 0.0</td><td>5</td><td>-1.0</td><td>-1.0</td><td>-1</td><td>-1.0</td><td>-1.0</td><td>-1</td><td>-1.0</td></tr>\n",
       "<tr><td>39627805880750562</td><td>1.5104796052216733</td><td>0.00045059913092119493</td><td>0</td><td>QSO</td><td>0</td><td>180.94724809542623</td><td>0.8256882730671514</td><td>PSF</td><td>0.021814328</td><td>0.47974</td><td>0.8292105</td><td>1.0571468</td><td>7.0891333</td><td>6.952614</td><td>1445.7766</td><td>415.3067</td><td>134.0809</td><td>2.8954942</td><td>0.59666073</td><td>0.9295741377439778</td><td>0.9295741377439778</td><td>0.9295741377439778</td><td>0.9295741377439778</td><td>0.9295741377439778</td><td>0.9083376663029193</td><td>0</td><td>9007199254749188</td><td>0</td><td>0</td><td>9</td><td>8625.945</td><td>0</td><td>0</td><td>0</td><td>0</td><td>0</td><td>0</td><td>110.57373</td><td>45.738735</td><td>64.187805</td><td>0.47443524</td><td>102.924866</td><td>0.15773362</td><td>0.34123808</td><td>7558.989</td><td>0.35507786</td><td>1.5104796</td><td>1.5092914</td><td>4.9543385e-05</td><td>0.99940544</td><td>0.99999535</td><td>0.99998796</td><td>1.14628e-05</td><td>6.1200462e-06</td><td>2.9133618</td><td>1.5069273</td><td>1.5092914</td><td>1.5097877</td><td>0.43354455</td><td>-0.37889948</td><td>10</td><td>27649</td><td>sv1</td><td>dark</td><td>0.0 .. 0.0</td><td>0.0</td><td>-99.0</td><td>0.0</td><td>0.0</td><td>0</td><td>0.0 .. 0.0</td><td>0.0 .. 0.0</td><td>0.0 .. 0.0</td><td>0.0 .. 0.0</td><td>0.0</td><td>0.0</td><td>0</td><td>0.0 .. 0.0</td><td>0.0 .. 0.0</td><td>0.0 .. 0.0</td><td>0.0 .. 0.0</td><td>0.0</td><td>0.0</td><td>0</td><td>0.0 .. 0.0</td><td>0.0 .. 0.0</td><td>0.0 .. 0.0</td><td>0.0 .. 0.0</td><td>0.0</td><td>0.0</td><td>0</td><td>0.0 .. 0.0</td><td>0.0 .. 0.0</td><td>0.0 .. 0.0</td><td>0.0 .. 0.0</td><td>5</td><td>-1.0</td><td>-1.0</td><td>-1</td><td>-1.0</td><td>-1.0</td><td>-1</td><td>0.8819924424667612</td></tr>\n",
       "</table></div>"
      ],
      "text/plain": [
       "<Table length=729>\n",
       "     TARGETID             Z          ... SPECTYPE_MASK      SNR_CIV      \n",
       "      int64            float64       ...      str6          float64      \n",
       "----------------- ------------------ ... ------------- ------------------\n",
       "39627757553979562 3.3473258930612366 ...            -1  1.011263550896888\n",
       "39627763597970732  2.740095790974837 ...            -1 3.3826830271343167\n",
       "39627763597969444  1.558093569636883 ...            -1  0.565849519774512\n",
       "39627763597970259  1.613692965996875 ...            -1  4.402325942860653\n",
       "39627763597972521 1.0135206491052793 ...            -1               -1.0\n",
       "39627763602161707 1.3121458231100929 ...            -1               -1.0\n",
       "39627763597972246 1.4371074350506048 ...            -1 0.5439328547859432\n",
       "39627763597972230 3.0193302445166403 ...            -1  5.372861186141128\n",
       "39627763597968759  1.211495838673686 ...            -1               -1.0\n",
       "39627763597971711 1.4393413006023053 ...            -1 1.4265504165432004\n",
       "              ...                ... ...           ...                ...\n",
       "39627805876556639 1.7849116596995425 ...            -1  2.247061446641644\n",
       "39627805880747523  2.660174502914148 ...            -1   1.07704735898276\n",
       "39627811912156257  0.923912613386332 ...            -1               -1.0\n",
       "39627811912157927  3.857457147447174 ...            -1  9.265016916825424\n",
       "39627811912158157 1.1823075100431326 ...            -1               -1.0\n",
       "39627811912156933 1.3801214434206295 ...            -1 0.5826250481495366\n",
       "39627805880749756 0.5812115418531152 ...            -1               -1.0\n",
       "39627805880748370  2.296786766451817 ...            -1 1.1198224262815926\n",
       "39627805880748763  0.979043850443031 ...            -1               -1.0\n",
       "39627805880750562 1.5104796052216733 ...            -1 0.8819924424667612"
      ]
     },
     "execution_count": 23,
     "metadata": {},
     "output_type": "execute_result"
    }
   ],
   "source": [
    "DesiQ_Stripe_table"
   ]
  },
  {
   "cell_type": "code",
   "execution_count": null,
   "id": "bbc5de5f",
   "metadata": {
    "papermill": {
     "duration": 0.01514,
     "end_time": "2023-11-29T16:15:54.175197",
     "exception": false,
     "start_time": "2023-11-29T16:15:54.160057",
     "status": "completed"
    },
    "tags": []
   },
   "outputs": [],
   "source": []
  }
 ],
 "metadata": {
  "kaggle": {
   "accelerator": "none",
   "dataSources": [
    {
     "datasetId": 4070149,
     "sourceId": 7068151,
     "sourceType": "datasetVersion"
    },
    {
     "datasetId": 4070618,
     "sourceId": 7068860,
     "sourceType": "datasetVersion"
    },
    {
     "datasetId": 4070623,
     "sourceId": 7068866,
     "sourceType": "datasetVersion"
    }
   ],
   "dockerImageVersionId": 30587,
   "isGpuEnabled": false,
   "isInternetEnabled": true,
   "language": "python",
   "sourceType": "notebook"
  },
  "kernelspec": {
   "display_name": "Python 3",
   "language": "python",
   "name": "python3"
  },
  "language_info": {
   "codemirror_mode": {
    "name": "ipython",
    "version": 3
   },
   "file_extension": ".py",
   "mimetype": "text/x-python",
   "name": "python",
   "nbconvert_exporter": "python",
   "pygments_lexer": "ipython3",
   "version": "3.10.12"
  },
  "papermill": {
   "default_parameters": {},
   "duration": 97.850141,
   "end_time": "2023-11-29T16:15:56.914534",
   "environment_variables": {},
   "exception": null,
   "input_path": "__notebook__.ipynb",
   "output_path": "__notebook__.ipynb",
   "parameters": {},
   "start_time": "2023-11-29T16:14:19.064393",
   "version": "2.4.0"
  }
 },
 "nbformat": 4,
 "nbformat_minor": 5
}
